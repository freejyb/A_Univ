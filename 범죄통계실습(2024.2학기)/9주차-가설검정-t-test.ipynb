{
 "cells": [
  {
   "cell_type": "markdown",
   "id": "18c61583",
   "metadata": {},
   "source": [
    "# 가설검정(Hypothesis Testing)"
   ]
  },
  {
   "cell_type": "markdown",
   "id": "e9ed9441",
   "metadata": {},
   "source": [
    "## 가설검정이란?"
   ]
  },
  {
   "cell_type": "code",
   "execution_count": null,
   "id": "26f1ddb4",
   "metadata": {},
   "outputs": [],
   "source": [
    "# 통계적으로 데이터를 분석하여, 주어진 데이터가 어떤 가설을 지지하는지를 검토하는 과정입니다. \n",
    "# 가설검정은 주로 두 가지 가설, 즉 **귀무가설(H₀)**과 **대립가설(H₁)**을 설정하고, 표본 데이터를 통해 이 가설들 중 어느 것이 더 타당한지 판단하는 방식으로 이루어집니다.\n"
   ]
  },
  {
   "cell_type": "code",
   "execution_count": null,
   "id": "a1e953ce",
   "metadata": {},
   "outputs": [],
   "source": [
    "# 1. 가설검정의 개념\n",
    "# 귀무가설(H₀): 검정하고자 하는 기본 가설로, 보통 '차이가 없다'거나 '효과가 없다'는 가정을 나타냅니다.\n",
    "# 예: 두 그룹의 평균이 동일하다, 특정 변수와 결과 간의 관계가 없다.\n",
    "# 대립가설(H₁): 귀무가설에 반대되는 가설로, 보통 '차이가 있다'거나 '효과가 있다'는 가정을 나타냅니다.-> 연구가설\n",
    "# 예: 두 그룹의 평균이 다르다, 특정 변수와 결과 간의 관계가 있다.\n",
    "# 가설검정의 목적은 표본 데이터에 기반하여 귀무가설을 기각할 충분한 증거가 있는지를 확인하는 것입니다.\n"
   ]
  },
  {
   "cell_type": "markdown",
   "id": "e6cb8390",
   "metadata": {},
   "source": [
    "## 가설검정 절차"
   ]
  },
  {
   "cell_type": "code",
   "execution_count": null,
   "id": "bb259582",
   "metadata": {},
   "outputs": [],
   "source": [
    "# 1. 가설 설정: 귀무가설(H₀)과 대립가설(H₁)을 명확히 정의합니다. 예를 들어, 두 그룹의 평균이 같은지 다른지를 확인하고자 할 때 귀무가설은 \"두 그룹의 평균이 같다\", 대립가설은 \"두 그룹의 평균이 다르다\"입니다.\n",
    "\n",
    "# 2. 유의수준(α) 설정: 통상적으로 유의수준을 0.05로 설정합니다. 이는 귀무가설이 참일 때, 검정 결과가 우연에 의해 나타날 확률이 5% 이하일 때만 귀무가설을 기각하는 기준입니다.\n",
    "\n",
    "# 3.검정 통계량 계산: 데이터로부터 적절한 통계량(예: t-검정 통계량, z-값, F-값, 카이제곱 통계량 등)을 계산합니다. 이 통계량은 표본이 귀무가설을 얼마나 잘 따르는지 또는 벗어나는지를 보여줍니다.\n",
    "\n",
    "# 4.p값 계산: 검정 통계량을 사용하여 p값(유의확률)을 계산합니다. p값은 귀무가설이 참일 때, 현재의 데이터와 같은 결과가 나타날 확률입니다.\n",
    "\n",
    "# 5. 결론 도출:\n",
    "\n",
    "# p값 ≤ α: p값이 유의수준보다 작으면 귀무가설을 기각하고, 대립가설을 채택합니다. 즉, 데이터가 귀무가설을 뒷받침할 충분한 증거가 없다고 해석합니다.\n",
    "# p값 > α: p값이 유의수준보다 크면 귀무가설을 기각하지 않습니다. 즉, 데이터가 귀무가설을 지지한다고 봅니다."
   ]
  },
  {
   "cell_type": "markdown",
   "id": "57ef32de",
   "metadata": {},
   "source": [
    "## 가설검정 예시"
   ]
  },
  {
   "cell_type": "code",
   "execution_count": null,
   "id": "a98ff538",
   "metadata": {},
   "outputs": [],
   "source": [
    "# 예시 1: 평균 비교 (t-검정)\n",
    "# 한 회사가 신제품 A와 기존 제품 B의 판매량 차이를 비교하려고 합니다. 두 제품의 평균 판매량이 같다고 가정하는 귀무가설을 세우고, 표본 데이터를 바탕으로 t-검정을 수행합니다.\n",
    "\n",
    "# H₀: 두 제품(그룹)의 평균 판매량은 같다.(차이가 없다)\n",
    "# H₁: 두 제품(그룹)의 평균 판매량은 다르다.(차이가 있다)\n",
    "# 검정 결과 p값이 0.03으로 나왔다면, 이는 유의수준 0.05보다 작으므로 귀무가설을 기각하고, 두 제품의 평균 판매량이 통계적으로 유의미하게 다르다고 결론 내립니다.\n",
    "\n",
    "# 예시 2: 카이제곱 검정\n",
    "# 한 연구자가 흡연 여부와 질병 발생 간의 연관성을 분석하기 위해 교차표를 사용해 카이제곱 독립성 검정을 수행한다고 가정합니다.\n",
    "\n",
    "# H₀: 흡연 여부와 질병 발생 간에 관련이 없다.\n",
    "# H₁: 흡연 여부와 질병 발생 간에 관련이 있다.\n",
    "# p값이 0.01로 나왔다면, 이는 유의수준 0.05보다 작으므로 귀무가설을 기각하고, 흡연 여부와 질병 발생 간에 통계적으로 유의한 관련이 있다고 결론 내릴 수 있습니다.\n"
   ]
  },
  {
   "cell_type": "markdown",
   "id": "14d449dd",
   "metadata": {},
   "source": [
    "## 가설검정 오류"
   ]
  },
  {
   "cell_type": "code",
   "execution_count": null,
   "id": "35d49089",
   "metadata": {},
   "outputs": [],
   "source": [
    "# 가설검정에서는 두 가지 유형의 오류가 발생할 수 있습니다:\n",
    "\n",
    "# 1. 제1종 오류(Type I Error): 귀무가설이 참인데도 불구하고 이를 잘못 기각하는 오류. 이는 유의수준(α)과 관련되며, 유의수준이 낮을수록 1종 오류를 저지르는 확률이 줄어듭니다.\n",
    "# 예: 두 그룹의 평균이 같은데도 평균이 다르다고 결론 내리는 경우.\n",
    "\n",
    "# 2. 제2종 오류(Type II Error): 귀무가설이 거짓인데도 이를 기각하지 않는 오류. 이는 검정력과 관련이 있으며, 표본 크기가 클수록 2종 오류의 가능성이 낮아집니다.\n",
    "# 예: 두 그룹의 평균이 다른데도 평균이 같다고 결론 내리는 경우.\n",
    "\n",
    "# 제1종 오류와 제2종 오류 간에는 TRADE - OFF 관계"
   ]
  },
  {
   "cell_type": "markdown",
   "id": "472fabcd",
   "metadata": {},
   "source": [
    "## 가설검정 종류"
   ]
  },
  {
   "cell_type": "code",
   "execution_count": null,
   "id": "0d8a240c",
   "metadata": {},
   "outputs": [],
   "source": [
    "# 가설검정은 사용하는 데이터와 분석 목적에 따라 다양한 방법이 있습니다:\n",
    "\n",
    "# 1. t-검정: 두 집단 간에 평균 값을 비교할 때 사용. --> 차이검정\n",
    "# 독립표본 t-검정, 대응표본 t-검정 등\n",
    "# 2. ANOVA(분산분석): 세 개 이상의 집단 평균을 비교할 때 사용.\n",
    "# 3. 카이제곱 검정: 범주형 데이터의 독립성이나 적합성을 검정할 때 사용.\n",
    "# 4. z-검정: 큰 표본을 사용할 때 평균이나 비율을 검정하는 데 사용.\n",
    "# 5. 회귀분석: 변수 간의 관계를 분석할 때 사용.(관계 검정)\n"
   ]
  },
  {
   "cell_type": "markdown",
   "id": "b70e3f30",
   "metadata": {},
   "source": [
    "# 모수에 대한 가설 검정"
   ]
  },
  {
   "cell_type": "markdown",
   "id": "3753f84b",
   "metadata": {},
   "source": [
    "## 두 집단 평균 값의 차이 : t- test --> 차이 검정"
   ]
  },
  {
   "cell_type": "code",
   "execution_count": 2,
   "id": "a6835583",
   "metadata": {},
   "outputs": [],
   "source": [
    "# t-test\n",
    "# 정규분포를 표준화하면, 표준정규분포를 따르는 것으로 변환됨 : 정규분포 (평균, 분산) --> 표준정규분포 (평균=0, 분산=1)\n",
    "# 표준정규분포: 평균이 0이고 표준편차가 1인 정규분포\n",
    "# 보통 모집단의 표준편차를 모른다.--> 모집단의 표준편차 대신 표본의 표준편차를 이용하면 됨\n",
    "# 표본의 표준편차로 표준화를 하면, 변환된 변수는 표준정규분포를 따르지 않고 t 분포를 따름\n",
    "# t 분포: 표준정규분포와 매우 유사하게 생긴 분포 (똑같지는 않음)\n",
    "# 따라서, 표본에서 구한 분산/표준편차로 어떤 변수를 표준화를 하면 z값이 아닌 t값이 되고, 이를 이용하여 검증하기 때문에 t-test 라고 함"
   ]
  },
  {
   "cell_type": "code",
   "execution_count": null,
   "id": "de0dbb89",
   "metadata": {},
   "outputs": [],
   "source": [
    "# t 분포 특성\n",
    "# t 분포 –정규분포를 갖는 모집단으로부터 무작위로 추출된 표본 평균의 분포 \n",
    "# –분포 형태는 추출된 표본의 크기와 자유도에 따라 좌우됨 \n",
    "# –모든 t분포는 모집단의 평균과 동일한 정규분포를 가짐 \n",
    "# –표본의 크기가 충분히 크면, 표본 분포의 형태는 정규 분포 곡선에 근접할 것임 "
   ]
  },
  {
   "cell_type": "code",
   "execution_count": 3,
   "id": "d3006764",
   "metadata": {},
   "outputs": [],
   "source": [
    "# 독립표본 t-test  , 단일표본 대응표본\n",
    "# 두 독립표본의 평균 값을 통계적으로 비교하는 기법 \n",
    "# ==> 두 집단에 대하여 평균 값의 차이를 보고 두잔단 차이가 있는지? 없는지? 판단 ==> 통계적 유의성?\n"
   ]
  },
  {
   "cell_type": "code",
   "execution_count": null,
   "id": "20e864fe",
   "metadata": {},
   "outputs": [],
   "source": [
    "# 독립표본\n",
    "# 두 표본집단을 구성(표집/수집)할 때 독립이면 독립표본\n",
    "\n",
    "# 통계적 독립성 (Statistical Independence)\n",
    "#==>: 두 변수가 서로 독립적이라는 것은, 하나의 변수가 다른 변수에 대해 아무런 영향을 미치지 않는다는 의미입니다.\n",
    "# 독립표본 (Independent Samples): \n",
    "# ==> 통계 분석에서 표본이 독립적이라는 것은, 각 표본 간에 상호 의존성이 없다는 것을 의미합니다.\n",
    "\n",
    "# 통계에서 '독립적'이라는 개념은 변수 간 또는 사건 간에 상관관계가 없고, 서로 영향을 미치지 않는 상태를 설명할 때 사용됩니다.\n",
    "\n",
    "# 독립표본: 무작위로 남자 100명과 여자 100명을 뽑아 두 집단을 비교하는 경우"
   ]
  },
  {
   "cell_type": "code",
   "execution_count": 4,
   "id": "cb375831",
   "metadata": {},
   "outputs": [],
   "source": []
  },
  {
   "cell_type": "code",
   "execution_count": 5,
   "id": "72354a17",
   "metadata": {},
   "outputs": [],
   "source": [
    "# 독립표본 t-test의 논리\n",
    "# 두 집단의 모평균(모집단의 평균)은 동일하다는 가설\n",
    "# 두 집단의 모평균 차이는 0\n",
    "# 표본평균들은 모집단 평균과 다를 수 있지만 차이가 크지 않을 것"
   ]
  },
  {
   "cell_type": "code",
   "execution_count": 6,
   "id": "a1c4e24a",
   "metadata": {},
   "outputs": [],
   "source": [
    "# t 검정 ( t- test) 전제조건 (가정)\n",
    "\n",
    "# 1. 종속변수들의 관찰치는 정규분포를 따라야 한다.==> 정규성 (데이터가 편형적이 지 않다.)\n",
    "# 2. 각 집단들의 분산(variance)은 비슷해야 한다(homogeneity of variance) ==> 등분산성\n",
    "# 3. 두 집단은 서로 독립적이어야 한다. 독립적이라는 것은 두개의 집단을 구성하는 구성원이나 구성들이 서로 관계가 없다는 것을 의미한다. \n"
   ]
  },
  {
   "cell_type": "markdown",
   "id": "c14e0c5c",
   "metadata": {},
   "source": [
    "## 독립표본의 평균 차이가 통계적으로 유의미한지 t-test"
   ]
  },
  {
   "cell_type": "code",
   "execution_count": 59,
   "id": "e85efc8f",
   "metadata": {},
   "outputs": [],
   "source": [
    "# 라이브러리 불러오기\n",
    "import pandas as pd\n",
    "import matplotlib.pyplot as plt\n",
    "import numpy as np\n",
    "import seaborn as sns\n",
    "import scipy as sp"
   ]
  },
  {
   "cell_type": "code",
   "execution_count": 60,
   "id": "1c43351e",
   "metadata": {},
   "outputs": [],
   "source": [
    "data_a = [107, 109, 105, 90, 101, 93, 96, 108, 108, 94, 93, 112, 92, 90, 100, 95, 120, 86, 96, 105]\n",
    "data_b = [111, 101, 102, 110, 103, 99, 101, 131, 90, 109, 110, 112, 115, 90, 108, 96, 110, 112, 120, 110]"
   ]
  },
  {
   "cell_type": "code",
   "execution_count": 61,
   "id": "f3f7fd0b",
   "metadata": {},
   "outputs": [
    {
     "data": {
      "text/plain": [
       "100.0"
      ]
     },
     "execution_count": 61,
     "metadata": {},
     "output_type": "execute_result"
    }
   ],
   "source": [
    "# a집단 평균(mean)\n",
    "import numpy as np\n",
    "\n",
    "np.mean(data_a)"
   ]
  },
  {
   "cell_type": "code",
   "execution_count": 62,
   "id": "fc12aee7",
   "metadata": {},
   "outputs": [
    {
     "data": {
      "text/plain": [
       "107.0"
      ]
     },
     "execution_count": 62,
     "metadata": {},
     "output_type": "execute_result"
    }
   ],
   "source": [
    "# b집단 평균(mean)\n",
    "np.mean(data_b)"
   ]
  },
  {
   "cell_type": "code",
   "execution_count": 10,
   "id": "d20f024a",
   "metadata": {},
   "outputs": [],
   "source": [
    " # t-test :  두 집단 간의 평균에 유의미한 차이가 있는지 비교하는 분석\n",
    "\n",
    "# 독립 표본 t-검정에서는 두 개의 독립된 그룹 간 평균의 차이를 비교하기 위해 t-검정통계량을 계산합니다. "
   ]
  },
  {
   "cell_type": "code",
   "execution_count": null,
   "id": "9123108c",
   "metadata": {},
   "outputs": [],
   "source": []
  },
  {
   "cell_type": "code",
   "execution_count": 63,
   "id": "d8cb1e17",
   "metadata": {},
   "outputs": [
    {
     "data": {
      "text/plain": [
       "TtestResult(statistic=-2.3768196912387345, pvalue=0.022643587549291834, df=37.71206735266605)"
      ]
     },
     "execution_count": 63,
     "metadata": {},
     "output_type": "execute_result"
    }
   ],
   "source": [
    "import scipy.stats\n",
    "\n",
    "scipy.stats.ttest_ind(data_a, data_b, equal_var=False)"
   ]
  },
  {
   "cell_type": "code",
   "execution_count": 64,
   "id": "9a6efcf8",
   "metadata": {},
   "outputs": [
    {
     "data": {
      "text/plain": [
       "TtestResult(statistic=-2.3768196912387345, pvalue=0.02260276980215667, df=38.0)"
      ]
     },
     "execution_count": 64,
     "metadata": {},
     "output_type": "execute_result"
    }
   ],
   "source": [
    "import scipy.stats\n",
    "\n",
    "scipy.stats.ttest_ind(data_a, data_b)"
   ]
  },
  {
   "cell_type": "code",
   "execution_count": 12,
   "id": "59b4f84f",
   "metadata": {},
   "outputs": [],
   "source": [
    "# 귀무가설 : 두집단 평균차이가 없다.\n",
    "# 대립가설 : 두집단 평균 차이가 있다.\n",
    "    \n",
    "# 검증 결과, 두 집단의 평균 차이는 통계적으로 유의미하다. (p<0.05)--> 귀무가설 기각-> 대립가설 채택\n",
    "\n",
    "# p- value : 통계적 유의성???"
   ]
  },
  {
   "cell_type": "code",
   "execution_count": 13,
   "id": "847d489d",
   "metadata": {},
   "outputs": [],
   "source": [
    "# 효과크기\n",
    "# t-test에서 효과 크기(effect size)란 두 집단의 평균 차이를 일정한 기준으로 표현한 것 --> 실질적 차이????\n",
    "# 효과 크기의 표현 방법에는 Cohen's d, Pearson's r 등 여러가지가 있음\n",
    "# 다른 실험의 효과 크기와 비교하여 상대적으로 판단한다.\n",
    "#  Cohen's d, : 절대적인 것은 아니나 보통 0.2 정도면 작은 편, 0.5 정도면 중간, 0.8이면 큰 편"
   ]
  },
  {
   "cell_type": "code",
   "execution_count": 65,
   "id": "ec1e57b3",
   "metadata": {},
   "outputs": [],
   "source": [
    "# t-test를 수행한다.\n",
    "import scipy.stats\n",
    "\n",
    "m = scipy.stats.ttest_ind(data_a, data_b, equal_var=False)"
   ]
  },
  {
   "cell_type": "code",
   "execution_count": 15,
   "id": "69a465fb",
   "metadata": {},
   "outputs": [],
   "source": [
    "# Cohen's d: 효과크기"
   ]
  },
  {
   "cell_type": "code",
   "execution_count": 16,
   "id": "c7457d75",
   "metadata": {},
   "outputs": [],
   "source": [
    "# 비교하려는 집단들 사이의 차이를 나타내는 표준화 된 지표\n",
    "# 두 모집단에서 각각 표본을 추출하여 평균을 구하고, 이에 대한 분포\n",
    "# 효과 크기 (d) = 두 표본 집단 평균 차이 / 추정된 표준편차\n",
    "# 효과 크기 값이 클수록( d=1에 가까울수록) 두 집단은 많이 다른 것이다.(차이가 있다)"
   ]
  },
  {
   "cell_type": "code",
   "execution_count": 66,
   "id": "b2e9096d",
   "metadata": {},
   "outputs": [
    {
     "data": {
      "text/plain": [
       "0.3855710680843278"
      ]
     },
     "execution_count": 66,
     "metadata": {},
     "output_type": "execute_result"
    }
   ],
   "source": [
    "import numpy as np\n",
    "\n",
    "t = m.statistic\n",
    "df = len(data_a) + len(data_b) - 2\n",
    "\n",
    "abs(t) / np.sqrt(df)"
   ]
  },
  {
   "cell_type": "code",
   "execution_count": 18,
   "id": "79dbdb82",
   "metadata": {},
   "outputs": [],
   "source": [
    "# Pearson's r: 상관계수 (13주차에서 실습)\n",
    "# 두 변수의 공분산을 각각의 표준편차의 곱으로 나누어 표준화 한 값\n",
    "# 값의 범위 :  -1에서 1사이의 값 \n",
    "# 1 또는 -1에 가까울수록 상관관계는 높아짐. 0 이면 선형상관관계가 없다."
   ]
  },
  {
   "cell_type": "code",
   "execution_count": 19,
   "id": "0ee34248",
   "metadata": {},
   "outputs": [
    {
     "data": {
      "text/plain": [
       "0.35975574269276456"
      ]
     },
     "execution_count": 19,
     "metadata": {},
     "output_type": "execute_result"
    }
   ],
   "source": [
    "t2 = t ** 2\n",
    "\n",
    "np.sqrt(t2 / (t2 + df))"
   ]
  },
  {
   "cell_type": "code",
   "execution_count": 20,
   "id": "54f4661e",
   "metadata": {},
   "outputs": [],
   "source": [
    "# 효과크기(주로 Cohen's d나 Pearson's r)와 그에 대한 해석\n",
    "# 통상적으로 , 효과크기(d) :  0.2 보다 작으면 작은 크기, 0.5이면 중간 크기, 0.8 이상은 큰 효과라고  평가함\n",
    "# 상관계수 : 0과 0.3(-0.3) 내에있으면 차이가 작고, 0.5(-0.5) 보다 크면 크다고 본다.\n",
    "# 집단 a와 집단 b 에 대하여 독립표본 t 검증을 실시한 결과, 집단 a의 측정값은 집단 b의 측정값보다 통계적으로 유의미하게 낮았다. \n",
    "# 효과크기는 중간 수준이었다(Cohen's d = 0.385, r = 0.359)."
   ]
  },
  {
   "cell_type": "markdown",
   "id": "26b81336",
   "metadata": {},
   "source": [
    "###### 실습 1. 사례"
   ]
  },
  {
   "cell_type": "code",
   "execution_count": 21,
   "id": "b7ca5169",
   "metadata": {},
   "outputs": [],
   "source": [
    "# 두집단 간 소득 차이를 비교\n",
    "# noncriminal = 비범죄자 \n",
    "# criminal = 범죄자\n",
    "\n",
    "# t- test : (집단간) (평균)  차이 검정\n",
    "\n",
    "# 귀무가설 : 두 집단 간 소득 차이가 없다.\n",
    "# 대립가설 : 두 집단 간 소득 차이가 있다. --> 연구가설, 연구자의 주장"
   ]
  },
  {
   "cell_type": "code",
   "execution_count": 22,
   "id": "7c6228b4",
   "metadata": {},
   "outputs": [],
   "source": [
    "# 라이브러리 불러오기\n",
    "\n",
    "from scipy import stats\n",
    "\n",
    "# 집단별 소득 현황\n",
    "\n",
    "noncriminal = [180, 220, 210, 170, 200, 180, 230, 200, 220, 210]\n",
    "criminal = [160, 200, 140, 170, 150, 180, 130, 150, 170, 180]\n"
   ]
  },
  {
   "cell_type": "markdown",
   "id": "f8b4d35e",
   "metadata": {},
   "source": [
    "## t - test 시행 하기 전 점검사항"
   ]
  },
  {
   "cell_type": "markdown",
   "id": "3ab5e290",
   "metadata": {},
   "source": [
    "###### 정규성 검정 (Shapiro-Wilk normality test)"
   ]
  },
  {
   "cell_type": "code",
   "execution_count": 23,
   "id": "aa71b3d7",
   "metadata": {},
   "outputs": [
    {
     "name": "stdout",
     "output_type": "stream",
     "text": [
      "ShapiroResult(statistic=0.9379329532219631, pvalue=0.5302505313121304)\n",
      "ShapiroResult(statistic=0.9774342695461291, pvalue=0.9499727589825828)\n"
     ]
    }
   ],
   "source": [
    "# 귀무가설 : 정규성이다.  \n",
    "# 대립가설: 정규성이 아니다.\n",
    "\n",
    "normal1 = stats.shapiro(noncriminal)\n",
    "normal2 = stats.shapiro(criminal)\n",
    "print(normal1)\n",
    "print(normal2)"
   ]
  },
  {
   "cell_type": "code",
   "execution_count": 24,
   "id": "bfa7688e",
   "metadata": {},
   "outputs": [],
   "source": [
    "# 해석: pvalue > 0,05 이므로 귀무가설을 기각 할 수 없다. 정규성을 이룬다고 할 수 있다."
   ]
  },
  {
   "cell_type": "markdown",
   "id": "c5cd4d89",
   "metadata": {},
   "source": [
    "###### 등분산성 검정 1. levene test"
   ]
  },
  {
   "cell_type": "code",
   "execution_count": 25,
   "id": "fa722cc8",
   "metadata": {},
   "outputs": [
    {
     "name": "stdout",
     "output_type": "stream",
     "text": [
      "LeveneResult(statistic=0.04, pvalue=0.8437227557772176)\n"
     ]
    }
   ],
   "source": [
    "# 귀무가설 : 등분산성이다.(두집단 분산차이가 없다)   \n",
    "# 대립가설: 등분산성이 아니다.(두집단 분산차이가 있다.--> 이분산성)\n",
    "\n",
    "levene = stats.levene(noncriminal, criminal)\n",
    "print(levene)"
   ]
  },
  {
   "cell_type": "code",
   "execution_count": 26,
   "id": "fe14e3e4",
   "metadata": {},
   "outputs": [],
   "source": [
    "# 결과 해석 : pvalue > 0.05 이므로 귀무가설을 기각할 수 없다. 등분산성 만족.."
   ]
  },
  {
   "cell_type": "markdown",
   "id": "a02cc0c0",
   "metadata": {},
   "source": [
    "###### 등분산성 검정 2. bartlett test"
   ]
  },
  {
   "cell_type": "code",
   "execution_count": 27,
   "id": "2f41f7f7",
   "metadata": {},
   "outputs": [
    {
     "name": "stdout",
     "output_type": "stream",
     "text": [
      "BartlettResult(statistic=0.030183052137785854, pvalue=0.8620755349584098)\n"
     ]
    }
   ],
   "source": [
    "# 등분산성 검정 2. bartlett test\n",
    "\n",
    "bartlett = stats.bartlett(noncriminal, criminal)\n",
    "print(bartlett)"
   ]
  },
  {
   "cell_type": "code",
   "execution_count": 28,
   "id": "40cd2c81",
   "metadata": {},
   "outputs": [],
   "source": [
    "# 결과 해석 : pvalue > 0.05 이므로 귀무가설을 기각할 수 없다. 등분산성 만족"
   ]
  },
  {
   "cell_type": "markdown",
   "id": "5a17ebff",
   "metadata": {},
   "source": [
    "##### t-test 시행"
   ]
  },
  {
   "cell_type": "code",
   "execution_count": 52,
   "id": "f39da798",
   "metadata": {},
   "outputs": [
    {
     "data": {
      "text/plain": [
       "TtestResult(statistic=4.252437330481161, pvalue=0.0004824396611482678, df=17.93661685278764)"
      ]
     },
     "execution_count": 52,
     "metadata": {},
     "output_type": "execute_result"
    }
   ],
   "source": [
    "# equal_var=False를 입력하면 pooling된 분산을 이용하게 된다.\n",
    "# 구분자에 따른 값들의 평균이 같은지를 검정한다.\n",
    "\n",
    "# equal_var=False는 두 그룹의 분산이 동일하지 않다고 가정하는 경우 사용하는 옵션이며, 이분산 t-검정(Welch's t-test)을 수행하게 됩니다.\n",
    "\n",
    "# 독립표본 t-검정은 두 집단의 분산이 같다는 가정 하에 수행되는데, 이는 equal_var=True로 설정됩니다.\n",
    "\n",
    "import scipy.stats\n",
    "\n",
    "scipy.stats.ttest_ind(noncriminal, criminal, equal_var=False)"
   ]
  },
  {
   "cell_type": "code",
   "execution_count": 30,
   "id": "0e6d57ae",
   "metadata": {},
   "outputs": [],
   "source": [
    "# 결과 해석 : p< 0.05 이므로 귀무가설을 기각하고 대립가설 채택할 수 있다.\n",
    "\n",
    "# 귀무가설 : 두 집단 간 소득 차이가 없다.\n",
    "# 대립가설 : 두 집단 간 소득 차이가 있다. --> 연구가설, 연구자의 주장\n",
    "\n",
    "# 즉 비범죄자와 범죄자 집단 간에는 소득 차이가 있다."
   ]
  },
  {
   "cell_type": "code",
   "execution_count": 53,
   "id": "9ea528cd",
   "metadata": {},
   "outputs": [
    {
     "data": {
      "text/plain": [
       "TtestResult(statistic=4.252437330481161, pvalue=0.0004790644084937079, df=18.0)"
      ]
     },
     "execution_count": 53,
     "metadata": {},
     "output_type": "execute_result"
    }
   ],
   "source": [
    "# 독립표본 t-검정은 두 집단의 분산이 같다는 가정 하에 수행되는데, 이는 equal_var=True로 설정됩니다.\n",
    "import scipy.stats\n",
    "\n",
    "scipy.stats.ttest_ind(noncriminal, criminal, equal_var=True)"
   ]
  },
  {
   "cell_type": "code",
   "execution_count": 54,
   "id": "30fcf648",
   "metadata": {},
   "outputs": [
    {
     "data": {
      "text/plain": [
       "TtestResult(statistic=4.252437330481161, pvalue=0.0004790644084937079, df=18.0)"
      ]
     },
     "execution_count": 54,
     "metadata": {},
     "output_type": "execute_result"
    }
   ],
   "source": [
    "# 옵션을 적용하지 않은 경우\n",
    "import scipy.stats\n",
    "\n",
    "scipy.stats.ttest_ind(noncriminal, criminal)"
   ]
  },
  {
   "cell_type": "markdown",
   "id": "d800652a",
   "metadata": {},
   "source": [
    "##### 실습 2. 외부 데이터  test.csv"
   ]
  },
  {
   "cell_type": "code",
   "execution_count": 31,
   "id": "2611c7ce",
   "metadata": {},
   "outputs": [
    {
     "data": {
      "text/html": [
       "<div>\n",
       "<style scoped>\n",
       "    .dataframe tbody tr th:only-of-type {\n",
       "        vertical-align: middle;\n",
       "    }\n",
       "\n",
       "    .dataframe tbody tr th {\n",
       "        vertical-align: top;\n",
       "    }\n",
       "\n",
       "    .dataframe thead th {\n",
       "        text-align: right;\n",
       "    }\n",
       "</style>\n",
       "<table border=\"1\" class=\"dataframe\">\n",
       "  <thead>\n",
       "    <tr style=\"text-align: right;\">\n",
       "      <th></th>\n",
       "      <th>Student_ID</th>\n",
       "      <th>Class</th>\n",
       "      <th>Score</th>\n",
       "    </tr>\n",
       "  </thead>\n",
       "  <tbody>\n",
       "    <tr>\n",
       "      <th>0</th>\n",
       "      <td>ID_1</td>\n",
       "      <td>A</td>\n",
       "      <td>79</td>\n",
       "    </tr>\n",
       "    <tr>\n",
       "      <th>1</th>\n",
       "      <td>ID_2</td>\n",
       "      <td>A</td>\n",
       "      <td>85</td>\n",
       "    </tr>\n",
       "    <tr>\n",
       "      <th>2</th>\n",
       "      <td>ID_3</td>\n",
       "      <td>A</td>\n",
       "      <td>77</td>\n",
       "    </tr>\n",
       "    <tr>\n",
       "      <th>3</th>\n",
       "      <td>ID_4</td>\n",
       "      <td>A</td>\n",
       "      <td>83</td>\n",
       "    </tr>\n",
       "    <tr>\n",
       "      <th>4</th>\n",
       "      <td>ID_5</td>\n",
       "      <td>A</td>\n",
       "      <td>70</td>\n",
       "    </tr>\n",
       "  </tbody>\n",
       "</table>\n",
       "</div>"
      ],
      "text/plain": [
       "  Student_ID Class  Score\n",
       "0       ID_1     A     79\n",
       "1       ID_2     A     85\n",
       "2       ID_3     A     77\n",
       "3       ID_4     A     83\n",
       "4       ID_5     A     70"
      ]
     },
     "execution_count": 31,
     "metadata": {},
     "output_type": "execute_result"
    }
   ],
   "source": [
    "# 깃허브 : 데이터 불러오기 : test.csv\n",
    "\n",
    "# A동 수용자와 B동 수용자 수용 교정설적 비교\n",
    "\n",
    "import pandas as pd\n",
    "\n",
    "df = pd.read_csv(\"test.csv\")\n",
    "df.head()  # 기본 5개"
   ]
  },
  {
   "cell_type": "code",
   "execution_count": 32,
   "id": "97cf6fde",
   "metadata": {},
   "outputs": [
    {
     "data": {
      "text/html": [
       "<div>\n",
       "<style scoped>\n",
       "    .dataframe tbody tr th:only-of-type {\n",
       "        vertical-align: middle;\n",
       "    }\n",
       "\n",
       "    .dataframe tbody tr th {\n",
       "        vertical-align: top;\n",
       "    }\n",
       "\n",
       "    .dataframe thead th {\n",
       "        text-align: right;\n",
       "    }\n",
       "</style>\n",
       "<table border=\"1\" class=\"dataframe\">\n",
       "  <thead>\n",
       "    <tr style=\"text-align: right;\">\n",
       "      <th></th>\n",
       "      <th>Student_ID</th>\n",
       "      <th>Class</th>\n",
       "      <th>Score</th>\n",
       "    </tr>\n",
       "  </thead>\n",
       "  <tbody>\n",
       "    <tr>\n",
       "      <th>0</th>\n",
       "      <td>ID_1</td>\n",
       "      <td>A</td>\n",
       "      <td>79</td>\n",
       "    </tr>\n",
       "    <tr>\n",
       "      <th>1</th>\n",
       "      <td>ID_2</td>\n",
       "      <td>A</td>\n",
       "      <td>85</td>\n",
       "    </tr>\n",
       "    <tr>\n",
       "      <th>2</th>\n",
       "      <td>ID_3</td>\n",
       "      <td>A</td>\n",
       "      <td>77</td>\n",
       "    </tr>\n",
       "    <tr>\n",
       "      <th>3</th>\n",
       "      <td>ID_4</td>\n",
       "      <td>A</td>\n",
       "      <td>83</td>\n",
       "    </tr>\n",
       "    <tr>\n",
       "      <th>4</th>\n",
       "      <td>ID_5</td>\n",
       "      <td>A</td>\n",
       "      <td>70</td>\n",
       "    </tr>\n",
       "    <tr>\n",
       "      <th>5</th>\n",
       "      <td>ID_6</td>\n",
       "      <td>A</td>\n",
       "      <td>70</td>\n",
       "    </tr>\n",
       "    <tr>\n",
       "      <th>6</th>\n",
       "      <td>ID_7</td>\n",
       "      <td>A</td>\n",
       "      <td>72</td>\n",
       "    </tr>\n",
       "    <tr>\n",
       "      <th>7</th>\n",
       "      <td>ID_8</td>\n",
       "      <td>A</td>\n",
       "      <td>66</td>\n",
       "    </tr>\n",
       "    <tr>\n",
       "      <th>8</th>\n",
       "      <td>ID_9</td>\n",
       "      <td>A</td>\n",
       "      <td>69</td>\n",
       "    </tr>\n",
       "    <tr>\n",
       "      <th>9</th>\n",
       "      <td>ID_10</td>\n",
       "      <td>A</td>\n",
       "      <td>78</td>\n",
       "    </tr>\n",
       "  </tbody>\n",
       "</table>\n",
       "</div>"
      ],
      "text/plain": [
       "  Student_ID Class  Score\n",
       "0       ID_1     A     79\n",
       "1       ID_2     A     85\n",
       "2       ID_3     A     77\n",
       "3       ID_4     A     83\n",
       "4       ID_5     A     70\n",
       "5       ID_6     A     70\n",
       "6       ID_7     A     72\n",
       "7       ID_8     A     66\n",
       "8       ID_9     A     69\n",
       "9      ID_10     A     78"
      ]
     },
     "execution_count": 32,
     "metadata": {},
     "output_type": "execute_result"
    }
   ],
   "source": [
    "import pandas as pd\n",
    "\n",
    "df = pd.read_csv(\"test.csv\")\n",
    "df.head(10)"
   ]
  },
  {
   "cell_type": "code",
   "execution_count": 67,
   "id": "66bb7160",
   "metadata": {},
   "outputs": [
    {
     "data": {
      "text/html": [
       "<div>\n",
       "<style scoped>\n",
       "    .dataframe tbody tr th:only-of-type {\n",
       "        vertical-align: middle;\n",
       "    }\n",
       "\n",
       "    .dataframe tbody tr th {\n",
       "        vertical-align: top;\n",
       "    }\n",
       "\n",
       "    .dataframe thead th {\n",
       "        text-align: right;\n",
       "    }\n",
       "</style>\n",
       "<table border=\"1\" class=\"dataframe\">\n",
       "  <thead>\n",
       "    <tr style=\"text-align: right;\">\n",
       "      <th></th>\n",
       "      <th>Student_ID</th>\n",
       "      <th>Class</th>\n",
       "      <th>Score</th>\n",
       "    </tr>\n",
       "  </thead>\n",
       "  <tbody>\n",
       "    <tr>\n",
       "      <th>40</th>\n",
       "      <td>ID_41</td>\n",
       "      <td>B</td>\n",
       "      <td>75</td>\n",
       "    </tr>\n",
       "    <tr>\n",
       "      <th>41</th>\n",
       "      <td>ID_42</td>\n",
       "      <td>B</td>\n",
       "      <td>83</td>\n",
       "    </tr>\n",
       "    <tr>\n",
       "      <th>42</th>\n",
       "      <td>ID_43</td>\n",
       "      <td>B</td>\n",
       "      <td>83</td>\n",
       "    </tr>\n",
       "    <tr>\n",
       "      <th>43</th>\n",
       "      <td>ID_44</td>\n",
       "      <td>B</td>\n",
       "      <td>94</td>\n",
       "    </tr>\n",
       "    <tr>\n",
       "      <th>44</th>\n",
       "      <td>ID_45</td>\n",
       "      <td>B</td>\n",
       "      <td>84</td>\n",
       "    </tr>\n",
       "    <tr>\n",
       "      <th>45</th>\n",
       "      <td>ID_46</td>\n",
       "      <td>B</td>\n",
       "      <td>93</td>\n",
       "    </tr>\n",
       "    <tr>\n",
       "      <th>46</th>\n",
       "      <td>ID_47</td>\n",
       "      <td>B</td>\n",
       "      <td>72</td>\n",
       "    </tr>\n",
       "    <tr>\n",
       "      <th>47</th>\n",
       "      <td>ID_48</td>\n",
       "      <td>B</td>\n",
       "      <td>74</td>\n",
       "    </tr>\n",
       "    <tr>\n",
       "      <th>48</th>\n",
       "      <td>ID_49</td>\n",
       "      <td>B</td>\n",
       "      <td>77</td>\n",
       "    </tr>\n",
       "    <tr>\n",
       "      <th>49</th>\n",
       "      <td>ID_50</td>\n",
       "      <td>B</td>\n",
       "      <td>73</td>\n",
       "    </tr>\n",
       "  </tbody>\n",
       "</table>\n",
       "</div>"
      ],
      "text/plain": [
       "   Student_ID Class  Score\n",
       "40      ID_41     B     75\n",
       "41      ID_42     B     83\n",
       "42      ID_43     B     83\n",
       "43      ID_44     B     94\n",
       "44      ID_45     B     84\n",
       "45      ID_46     B     93\n",
       "46      ID_47     B     72\n",
       "47      ID_48     B     74\n",
       "48      ID_49     B     77\n",
       "49      ID_50     B     73"
      ]
     },
     "execution_count": 67,
     "metadata": {},
     "output_type": "execute_result"
    }
   ],
   "source": [
    "import pandas as pd\n",
    "\n",
    "df = pd.read_csv(\"test.csv\")\n",
    "df.tail(10)"
   ]
  },
  {
   "cell_type": "code",
   "execution_count": 34,
   "id": "97d28d33",
   "metadata": {},
   "outputs": [
    {
     "name": "stdout",
     "output_type": "stream",
     "text": [
      "(50, 3)\n"
     ]
    }
   ],
   "source": [
    "# dataframe의 크기 확인\n",
    "print(df.shape)"
   ]
  },
  {
   "cell_type": "code",
   "execution_count": 35,
   "id": "000b9700",
   "metadata": {},
   "outputs": [
    {
     "name": "stdout",
     "output_type": "stream",
     "text": [
      "data의 크기: (50, 3)\n"
     ]
    }
   ],
   "source": [
    "print('data의 크기:', df.shape)  "
   ]
  },
  {
   "cell_type": "code",
   "execution_count": 36,
   "id": "14cf8adf",
   "metadata": {},
   "outputs": [],
   "source": [
    "# 그룹별 기술통계값 확인(평균, 표준편차)\n",
    "# describe() 함수를 통해 A/B 집단평균, 표준편차 값을 확인 "
   ]
  },
  {
   "cell_type": "code",
   "execution_count": 37,
   "id": "909060ec",
   "metadata": {},
   "outputs": [
    {
     "name": "stdout",
     "output_type": "stream",
     "text": [
      "A동 수용자 수치 확인\n",
      "           Score\n",
      "count  25.000000\n",
      "mean   75.560000\n",
      "std     6.988562\n",
      "min    66.000000\n",
      "25%    70.000000\n",
      "50%    76.000000\n",
      "75%    79.000000\n",
      "max    88.000000\n",
      "B동 수용자 수치 확인\n",
      "           Score\n",
      "count  25.000000\n",
      "mean   81.360000\n",
      "std     7.393015\n",
      "min    70.000000\n",
      "25%    74.000000\n",
      "50%    83.000000\n",
      "75%    85.000000\n",
      "max    94.000000\n"
     ]
    }
   ],
   "source": [
    "# 필터링 기능으로 데이터셋 분리 후 인덱스 정리\n",
    "class_A = df[df.Class=='A'].reset_index(drop=True)\n",
    "class_B = df[df.Class=='B'].reset_index(drop=True)\n",
    "\n",
    "print('A동 수용자 수치 확인')\n",
    "print(class_A.describe())\n",
    "print('B동 수용자 수치 확인')\n",
    "print(class_B.describe())"
   ]
  },
  {
   "cell_type": "markdown",
   "id": "32ef2de5",
   "metadata": {},
   "source": [
    "## 대응표본에 대한 t-test"
   ]
  },
  {
   "cell_type": "code",
   "execution_count": null,
   "id": "bf2e2864",
   "metadata": {},
   "outputs": [],
   "source": [
    "# 대응표본이란?\n",
    "\n",
    "# 예)동일집단에 대한 일정 실험 before(전) & after(후) 차이 비교"
   ]
  },
  {
   "cell_type": "code",
   "execution_count": 55,
   "id": "06c1c783",
   "metadata": {},
   "outputs": [],
   "source": [
    "# 음주 운전 예방교욱 전과 후 자동차 속도 비교\n",
    "\n",
    "before_c = [90, 80, 95, 105, 101, 93, 96, 108, 108, 94, 93, 112, 92, 91, 100, 96, 120, 86, 96, 95] # 교육 전 운전 속도\n",
    "after_d = [80, 75, 90, 100, 100, 90, 85, 100, 96, 109, 89, 113, 90, 94, 108, 90, 110, 80, 90, 95] # 교육 후 운전 속도"
   ]
  },
  {
   "cell_type": "code",
   "execution_count": 56,
   "id": "d1a9b847",
   "metadata": {},
   "outputs": [],
   "source": [
    "# 대응표본 t-test:"
   ]
  },
  {
   "cell_type": "code",
   "execution_count": 58,
   "id": "ebc62402",
   "metadata": {},
   "outputs": [
    {
     "data": {
      "text/plain": [
       "TtestResult(statistic=2.285310493388368, pvalue=0.03395845696567065, df=19)"
      ]
     },
     "execution_count": 58,
     "metadata": {},
     "output_type": "execute_result"
    }
   ],
   "source": [
    "import scipy.stats\n",
    "\n",
    "scipy.stats.ttest_rel(before_c, after_d)"
   ]
  },
  {
   "cell_type": "code",
   "execution_count": null,
   "id": "b4df8fa6",
   "metadata": {},
   "outputs": [],
   "source": [
    "# 결과\n",
    "# 귀무가설 : 실험(음주운전 예방교육) 전과 후 에 차이가 없다.\n",
    "# 대립가설 : 실험(음주운전 예방교육) 전과 후 에 차이가 있다\n",
    "# (p < 0.05) 이므로  귀무가설을 기각하고 대립가설을 채택 : 통계적으로 유의미한 차이가 있음\n",
    "# 음주 운전 예방교육이 효과가 있는 것으로 판단"
   ]
  },
  {
   "cell_type": "markdown",
   "id": "3293d944",
   "metadata": {},
   "source": [
    "# 범죄데이터 실습"
   ]
  },
  {
   "cell_type": "code",
   "execution_count": 68,
   "id": "36b362c4",
   "metadata": {},
   "outputs": [
    {
     "data": {
      "text/html": [
       "<div>\n",
       "<style scoped>\n",
       "    .dataframe tbody tr th:only-of-type {\n",
       "        vertical-align: middle;\n",
       "    }\n",
       "\n",
       "    .dataframe tbody tr th {\n",
       "        vertical-align: top;\n",
       "    }\n",
       "\n",
       "    .dataframe thead th {\n",
       "        text-align: right;\n",
       "    }\n",
       "</style>\n",
       "<table border=\"1\" class=\"dataframe\">\n",
       "  <thead>\n",
       "    <tr style=\"text-align: right;\">\n",
       "      <th></th>\n",
       "      <th>연도</th>\n",
       "      <th>발생</th>\n",
       "      <th>검거</th>\n",
       "      <th>검거율</th>\n",
       "      <th>살인 발생</th>\n",
       "      <th>살인 검거</th>\n",
       "      <th>강도 발생</th>\n",
       "      <th>강도 검거</th>\n",
       "      <th>강간 발생</th>\n",
       "      <th>강간 검거</th>\n",
       "      <th>절도 발생</th>\n",
       "      <th>절도 검거</th>\n",
       "      <th>폭력 발생</th>\n",
       "      <th>폭력 검거</th>\n",
       "    </tr>\n",
       "  </thead>\n",
       "  <tbody>\n",
       "    <tr>\n",
       "      <th>0</th>\n",
       "      <td>2021</td>\n",
       "      <td>11833</td>\n",
       "      <td>9693</td>\n",
       "      <td>81.9</td>\n",
       "      <td>15</td>\n",
       "      <td>16</td>\n",
       "      <td>11</td>\n",
       "      <td>10</td>\n",
       "      <td>562</td>\n",
       "      <td>518</td>\n",
       "      <td>4194</td>\n",
       "      <td>2837</td>\n",
       "      <td>7051</td>\n",
       "      <td>6312</td>\n",
       "    </tr>\n",
       "    <tr>\n",
       "      <th>1</th>\n",
       "      <td>2020</td>\n",
       "      <td>12774</td>\n",
       "      <td>10847</td>\n",
       "      <td>84.9</td>\n",
       "      <td>35</td>\n",
       "      <td>37</td>\n",
       "      <td>21</td>\n",
       "      <td>21</td>\n",
       "      <td>585</td>\n",
       "      <td>565</td>\n",
       "      <td>4327</td>\n",
       "      <td>3091</td>\n",
       "      <td>7806</td>\n",
       "      <td>7133</td>\n",
       "    </tr>\n",
       "    <tr>\n",
       "      <th>2</th>\n",
       "      <td>2019</td>\n",
       "      <td>13859</td>\n",
       "      <td>11597</td>\n",
       "      <td>83.7</td>\n",
       "      <td>22</td>\n",
       "      <td>21</td>\n",
       "      <td>25</td>\n",
       "      <td>26</td>\n",
       "      <td>689</td>\n",
       "      <td>650</td>\n",
       "      <td>4675</td>\n",
       "      <td>3155</td>\n",
       "      <td>8448</td>\n",
       "      <td>7745</td>\n",
       "    </tr>\n",
       "    <tr>\n",
       "      <th>3</th>\n",
       "      <td>2018</td>\n",
       "      <td>14094</td>\n",
       "      <td>11980</td>\n",
       "      <td>85.0</td>\n",
       "      <td>25</td>\n",
       "      <td>24</td>\n",
       "      <td>16</td>\n",
       "      <td>16</td>\n",
       "      <td>699</td>\n",
       "      <td>665</td>\n",
       "      <td>4300</td>\n",
       "      <td>3048</td>\n",
       "      <td>9054</td>\n",
       "      <td>8227</td>\n",
       "    </tr>\n",
       "    <tr>\n",
       "      <th>4</th>\n",
       "      <td>2017</td>\n",
       "      <td>16187</td>\n",
       "      <td>13540</td>\n",
       "      <td>83.6</td>\n",
       "      <td>32</td>\n",
       "      <td>32</td>\n",
       "      <td>27</td>\n",
       "      <td>26</td>\n",
       "      <td>627</td>\n",
       "      <td>591</td>\n",
       "      <td>5248</td>\n",
       "      <td>3628</td>\n",
       "      <td>10253</td>\n",
       "      <td>9263</td>\n",
       "    </tr>\n",
       "    <tr>\n",
       "      <th>5</th>\n",
       "      <td>2016</td>\n",
       "      <td>16678</td>\n",
       "      <td>14037</td>\n",
       "      <td>84.2</td>\n",
       "      <td>28</td>\n",
       "      <td>29</td>\n",
       "      <td>28</td>\n",
       "      <td>29</td>\n",
       "      <td>603</td>\n",
       "      <td>570</td>\n",
       "      <td>5166</td>\n",
       "      <td>3568</td>\n",
       "      <td>10853</td>\n",
       "      <td>9841</td>\n",
       "    </tr>\n",
       "    <tr>\n",
       "      <th>6</th>\n",
       "      <td>2015</td>\n",
       "      <td>16441</td>\n",
       "      <td>13020</td>\n",
       "      <td>79.2</td>\n",
       "      <td>33</td>\n",
       "      <td>31</td>\n",
       "      <td>35</td>\n",
       "      <td>35</td>\n",
       "      <td>577</td>\n",
       "      <td>544</td>\n",
       "      <td>5966</td>\n",
       "      <td>3740</td>\n",
       "      <td>9830</td>\n",
       "      <td>8670</td>\n",
       "    </tr>\n",
       "    <tr>\n",
       "      <th>7</th>\n",
       "      <td>2014</td>\n",
       "      <td>16487</td>\n",
       "      <td>12004</td>\n",
       "      <td>72.8</td>\n",
       "      <td>25</td>\n",
       "      <td>24</td>\n",
       "      <td>56</td>\n",
       "      <td>55</td>\n",
       "      <td>582</td>\n",
       "      <td>560</td>\n",
       "      <td>6203</td>\n",
       "      <td>2988</td>\n",
       "      <td>9621</td>\n",
       "      <td>8377</td>\n",
       "    </tr>\n",
       "  </tbody>\n",
       "</table>\n",
       "</div>"
      ],
      "text/plain": [
       "     연도     발생     검거   검거율  살인 발생  살인 검거  강도 발생  강도 검거  강간 발생  강간 검거  절도 발생  \\\n",
       "0  2021  11833   9693  81.9     15     16     11     10    562    518   4194   \n",
       "1  2020  12774  10847  84.9     35     37     21     21    585    565   4327   \n",
       "2  2019  13859  11597  83.7     22     21     25     26    689    650   4675   \n",
       "3  2018  14094  11980  85.0     25     24     16     16    699    665   4300   \n",
       "4  2017  16187  13540  83.6     32     32     27     26    627    591   5248   \n",
       "5  2016  16678  14037  84.2     28     29     28     29    603    570   5166   \n",
       "6  2015  16441  13020  79.2     33     31     35     35    577    544   5966   \n",
       "7  2014  16487  12004  72.8     25     24     56     55    582    560   6203   \n",
       "\n",
       "   절도 검거  폭력 발생  폭력 검거  \n",
       "0   2837   7051   6312  \n",
       "1   3091   7806   7133  \n",
       "2   3155   8448   7745  \n",
       "3   3048   9054   8227  \n",
       "4   3628  10253   9263  \n",
       "5   3568  10853   9841  \n",
       "6   3740   9830   8670  \n",
       "7   2988   9621   8377  "
      ]
     },
     "execution_count": 68,
     "metadata": {},
     "output_type": "execute_result"
    }
   ],
   "source": [
    "# CSV 파일로 불러오기\n",
    "data = pd.read_csv('경찰청 강원도경찰청_5대범죄 발생 및 검거 현황_20211231.csv', encoding='cp949')\n",
    "data"
   ]
  },
  {
   "cell_type": "code",
   "execution_count": 69,
   "id": "ad0bc858",
   "metadata": {},
   "outputs": [
    {
     "data": {
      "text/html": [
       "<div>\n",
       "<style scoped>\n",
       "    .dataframe tbody tr th:only-of-type {\n",
       "        vertical-align: middle;\n",
       "    }\n",
       "\n",
       "    .dataframe tbody tr th {\n",
       "        vertical-align: top;\n",
       "    }\n",
       "\n",
       "    .dataframe thead th {\n",
       "        text-align: right;\n",
       "    }\n",
       "</style>\n",
       "<table border=\"1\" class=\"dataframe\">\n",
       "  <thead>\n",
       "    <tr style=\"text-align: right;\">\n",
       "      <th></th>\n",
       "      <th>연도</th>\n",
       "      <th>발생</th>\n",
       "      <th>검거</th>\n",
       "      <th>검거율</th>\n",
       "      <th>살인 발생</th>\n",
       "      <th>살인 검거</th>\n",
       "      <th>강도 발생</th>\n",
       "      <th>강도 검거</th>\n",
       "      <th>강간 발생</th>\n",
       "      <th>강간 검거</th>\n",
       "      <th>절도 발생</th>\n",
       "      <th>절도 검거</th>\n",
       "      <th>폭력 발생</th>\n",
       "      <th>폭력 검거</th>\n",
       "      <th>살인 검거율</th>\n",
       "      <th>강도 검거율</th>\n",
       "      <th>강간 검거율</th>\n",
       "      <th>절도 검거율</th>\n",
       "      <th>폭력 검거율</th>\n",
       "    </tr>\n",
       "  </thead>\n",
       "  <tbody>\n",
       "    <tr>\n",
       "      <th>0</th>\n",
       "      <td>2021</td>\n",
       "      <td>11833</td>\n",
       "      <td>9693</td>\n",
       "      <td>81.9</td>\n",
       "      <td>15</td>\n",
       "      <td>16</td>\n",
       "      <td>11</td>\n",
       "      <td>10</td>\n",
       "      <td>562</td>\n",
       "      <td>518</td>\n",
       "      <td>4194</td>\n",
       "      <td>2837</td>\n",
       "      <td>7051</td>\n",
       "      <td>6312</td>\n",
       "      <td>106.7</td>\n",
       "      <td>90.9</td>\n",
       "      <td>92.2</td>\n",
       "      <td>67.6</td>\n",
       "      <td>89.5</td>\n",
       "    </tr>\n",
       "    <tr>\n",
       "      <th>1</th>\n",
       "      <td>2020</td>\n",
       "      <td>12774</td>\n",
       "      <td>10847</td>\n",
       "      <td>84.9</td>\n",
       "      <td>35</td>\n",
       "      <td>37</td>\n",
       "      <td>21</td>\n",
       "      <td>21</td>\n",
       "      <td>585</td>\n",
       "      <td>565</td>\n",
       "      <td>4327</td>\n",
       "      <td>3091</td>\n",
       "      <td>7806</td>\n",
       "      <td>7133</td>\n",
       "      <td>105.7</td>\n",
       "      <td>100.0</td>\n",
       "      <td>96.6</td>\n",
       "      <td>71.4</td>\n",
       "      <td>91.4</td>\n",
       "    </tr>\n",
       "    <tr>\n",
       "      <th>2</th>\n",
       "      <td>2019</td>\n",
       "      <td>13859</td>\n",
       "      <td>11597</td>\n",
       "      <td>83.7</td>\n",
       "      <td>22</td>\n",
       "      <td>21</td>\n",
       "      <td>25</td>\n",
       "      <td>26</td>\n",
       "      <td>689</td>\n",
       "      <td>650</td>\n",
       "      <td>4675</td>\n",
       "      <td>3155</td>\n",
       "      <td>8448</td>\n",
       "      <td>7745</td>\n",
       "      <td>95.5</td>\n",
       "      <td>104.0</td>\n",
       "      <td>94.3</td>\n",
       "      <td>67.5</td>\n",
       "      <td>91.7</td>\n",
       "    </tr>\n",
       "    <tr>\n",
       "      <th>3</th>\n",
       "      <td>2018</td>\n",
       "      <td>14094</td>\n",
       "      <td>11980</td>\n",
       "      <td>85.0</td>\n",
       "      <td>25</td>\n",
       "      <td>24</td>\n",
       "      <td>16</td>\n",
       "      <td>16</td>\n",
       "      <td>699</td>\n",
       "      <td>665</td>\n",
       "      <td>4300</td>\n",
       "      <td>3048</td>\n",
       "      <td>9054</td>\n",
       "      <td>8227</td>\n",
       "      <td>96.0</td>\n",
       "      <td>100.0</td>\n",
       "      <td>95.1</td>\n",
       "      <td>70.9</td>\n",
       "      <td>90.9</td>\n",
       "    </tr>\n",
       "    <tr>\n",
       "      <th>4</th>\n",
       "      <td>2017</td>\n",
       "      <td>16187</td>\n",
       "      <td>13540</td>\n",
       "      <td>83.6</td>\n",
       "      <td>32</td>\n",
       "      <td>32</td>\n",
       "      <td>27</td>\n",
       "      <td>26</td>\n",
       "      <td>627</td>\n",
       "      <td>591</td>\n",
       "      <td>5248</td>\n",
       "      <td>3628</td>\n",
       "      <td>10253</td>\n",
       "      <td>9263</td>\n",
       "      <td>100.0</td>\n",
       "      <td>96.3</td>\n",
       "      <td>94.3</td>\n",
       "      <td>69.1</td>\n",
       "      <td>90.3</td>\n",
       "    </tr>\n",
       "    <tr>\n",
       "      <th>5</th>\n",
       "      <td>2016</td>\n",
       "      <td>16678</td>\n",
       "      <td>14037</td>\n",
       "      <td>84.2</td>\n",
       "      <td>28</td>\n",
       "      <td>29</td>\n",
       "      <td>28</td>\n",
       "      <td>29</td>\n",
       "      <td>603</td>\n",
       "      <td>570</td>\n",
       "      <td>5166</td>\n",
       "      <td>3568</td>\n",
       "      <td>10853</td>\n",
       "      <td>9841</td>\n",
       "      <td>103.6</td>\n",
       "      <td>103.6</td>\n",
       "      <td>94.5</td>\n",
       "      <td>69.1</td>\n",
       "      <td>90.7</td>\n",
       "    </tr>\n",
       "    <tr>\n",
       "      <th>6</th>\n",
       "      <td>2015</td>\n",
       "      <td>16441</td>\n",
       "      <td>13020</td>\n",
       "      <td>79.2</td>\n",
       "      <td>33</td>\n",
       "      <td>31</td>\n",
       "      <td>35</td>\n",
       "      <td>35</td>\n",
       "      <td>577</td>\n",
       "      <td>544</td>\n",
       "      <td>5966</td>\n",
       "      <td>3740</td>\n",
       "      <td>9830</td>\n",
       "      <td>8670</td>\n",
       "      <td>93.9</td>\n",
       "      <td>100.0</td>\n",
       "      <td>94.3</td>\n",
       "      <td>62.7</td>\n",
       "      <td>88.2</td>\n",
       "    </tr>\n",
       "    <tr>\n",
       "      <th>7</th>\n",
       "      <td>2014</td>\n",
       "      <td>16487</td>\n",
       "      <td>12004</td>\n",
       "      <td>72.8</td>\n",
       "      <td>25</td>\n",
       "      <td>24</td>\n",
       "      <td>56</td>\n",
       "      <td>55</td>\n",
       "      <td>582</td>\n",
       "      <td>560</td>\n",
       "      <td>6203</td>\n",
       "      <td>2988</td>\n",
       "      <td>9621</td>\n",
       "      <td>8377</td>\n",
       "      <td>96.0</td>\n",
       "      <td>98.2</td>\n",
       "      <td>96.2</td>\n",
       "      <td>48.2</td>\n",
       "      <td>87.1</td>\n",
       "    </tr>\n",
       "  </tbody>\n",
       "</table>\n",
       "</div>"
      ],
      "text/plain": [
       "     연도     발생     검거   검거율  살인 발생  살인 검거  강도 발생  강도 검거  강간 발생  강간 검거  절도 발생  \\\n",
       "0  2021  11833   9693  81.9     15     16     11     10    562    518   4194   \n",
       "1  2020  12774  10847  84.9     35     37     21     21    585    565   4327   \n",
       "2  2019  13859  11597  83.7     22     21     25     26    689    650   4675   \n",
       "3  2018  14094  11980  85.0     25     24     16     16    699    665   4300   \n",
       "4  2017  16187  13540  83.6     32     32     27     26    627    591   5248   \n",
       "5  2016  16678  14037  84.2     28     29     28     29    603    570   5166   \n",
       "6  2015  16441  13020  79.2     33     31     35     35    577    544   5966   \n",
       "7  2014  16487  12004  72.8     25     24     56     55    582    560   6203   \n",
       "\n",
       "   절도 검거  폭력 발생  폭력 검거  살인 검거율  강도 검거율  강간 검거율  절도 검거율  폭력 검거율  \n",
       "0   2837   7051   6312   106.7    90.9    92.2    67.6    89.5  \n",
       "1   3091   7806   7133   105.7   100.0    96.6    71.4    91.4  \n",
       "2   3155   8448   7745    95.5   104.0    94.3    67.5    91.7  \n",
       "3   3048   9054   8227    96.0   100.0    95.1    70.9    90.9  \n",
       "4   3628  10253   9263   100.0    96.3    94.3    69.1    90.3  \n",
       "5   3568  10853   9841   103.6   103.6    94.5    69.1    90.7  \n",
       "6   3740   9830   8670    93.9   100.0    94.3    62.7    88.2  \n",
       "7   2988   9621   8377    96.0    98.2    96.2    48.2    87.1  "
      ]
     },
     "execution_count": 69,
     "metadata": {},
     "output_type": "execute_result"
    }
   ],
   "source": [
    "# 데이터의 컬럼 명칭을 리스트로 전환\n",
    "\n",
    "col_list = data.columns.tolist()[4:]\n",
    "\n",
    "# 리스트로 전환한 컬럼의 홀수번은 발생이며, 짝수번은 검거임.\n",
    "# 따라서, 5대 범죄의 검거율 데이터를 형성하기 위해서는 홀수번째 컬럼 / 짝수번째 컬럼으로 계산하면 됨.\n",
    "crime_5 = ['살인 검거율', '강도 검거율', '강간 검거율', '절도 검거율', '폭력 검거율'] \n",
    "for i in range(5):\n",
    "    data[crime_5[i]] = round(data[col_list[i * 2 + 1]] / data[col_list[i * 2]] * 100, 1)\n",
    "\n",
    "# 데이터가 잘 입력되었는지 확인하는 부분\n",
    "data"
   ]
  },
  {
   "cell_type": "markdown",
   "id": "632de7ce",
   "metadata": {},
   "source": [
    "## 모평균에 대한 가설검정"
   ]
  },
  {
   "cell_type": "code",
   "execution_count": 70,
   "id": "9ac0a22d",
   "metadata": {},
   "outputs": [],
   "source": [
    "# 정규분포 그리는 함수 (week_5 distribution 파일에 포함)\n",
    "def normal_df(N, sigma, mu):\n",
    "    import numpy as np\n",
    "    import scipy as sp\n",
    "    import matplotlib.pyplot as plt\n",
    "    import seaborn as sns"
   ]
  },
  {
   "cell_type": "code",
   "execution_count": 71,
   "id": "6268749a",
   "metadata": {},
   "outputs": [],
   "source": [
    "# 정규분포 그리는 함수 (week_5 distribution 파일에 포함)\n",
    "def normal_df(N, sigma, mu):\n",
    "    import numpy as np\n",
    "    import scipy as sp\n",
    "    import matplotlib.pyplot as plt\n",
    "    import seaborn as sns\n",
    "\n",
    "    np.random.seed(0)\n",
    "    x = sp.stats.norm(mu, sigma).rvs(N)\n",
    "\n",
    "    # 시각화하는 부분은 주석처리하여 따로 출력하지 않고, 대신 데이터의 형성 후 return 해줌.\n",
    "    # ax = sns.distplot(x, kde=False, fit=sp.stats.norm, label=f\"normal df (Variance :{np.round(x.std(),3)})\")\n",
    "    # plt.legend(bbox_to_anchor=(1.0, .2))\n",
    "    # plt.show()\n",
    "\n",
    "    return x"
   ]
  },
  {
   "cell_type": "code",
   "execution_count": 72,
   "id": "1fd1016e",
   "metadata": {},
   "outputs": [],
   "source": [
    "def t_test(x1, x2, sig_level = 0.05):\n",
    "    from scipy.stats import ttest_ind\n",
    "\n",
    "    print(f't-test 검정통계치 : {ttest_ind(x1, x2)[0]}')\n",
    "    print(f't-test p-value : {round(ttest_ind(x1, x2)[1], 3)}')\n",
    "    \n",
    "    # t-test로 도출한 p값을 기존에 설정한 유의수준과 비교하여 귀무가설을 기각할 수 있는지 여부를 표시해줌.\n",
    "    if ttest_ind(x1,x2)[1] < sig_level:\n",
    "        print(f't-test 결과, {sig_level*100}%의 유의수준으로 두 데이터의 모평균이 같다는 귀무가설을 기각할 수 있습니다.')\n",
    "    else:\n",
    "        print(f't-test 결과, {sig_level*100}%의 유의수준으로 두 데이터의 모평균이 같다는 귀무가설을 기각할 수 없습니다.')"
   ]
  },
  {
   "cell_type": "code",
   "execution_count": 73,
   "id": "7516a842",
   "metadata": {},
   "outputs": [
    {
     "name": "stderr",
     "output_type": "stream",
     "text": [
      "c:\\users\\jyb\\appdata\\local\\programs\\python\\python39\\lib\\site-packages\\seaborn\\distributions.py:2557: FutureWarning: `distplot` is a deprecated function and will be removed in a future version. Please adapt your code to use either `displot` (a figure-level function with similar flexibility) or `histplot` (an axes-level function for histograms).\n",
      "  warnings.warn(msg, FutureWarning)\n"
     ]
    },
    {
     "data": {
      "image/png": "[encoded data removed]",
      "text/plain": [
       "<Figure size 640x480 with 1 Axes>"
      ]
     },
     "metadata": {},
     "output_type": "display_data"
    },
    {
     "name": "stdout",
     "output_type": "stream",
     "text": [
      "t-test 검정통계치 : -203.78795583613373\n",
      "t-test p-value : 0.0\n",
      "t-test 결과, 5.0%의 유의수준으로 두 데이터의 모평균이 같다는 귀무가설을 기각할 수 있습니다.\n"
     ]
    }
   ],
   "source": [
    "# 정규분포의 특성을 가지는 임의의 데이터 2개 형성\n",
    "x1 = normal_df(1000, 1, 1)  # 평균 1, 표준편차 1\n",
    "x2 = normal_df(1000, 1, 10) # 평균 10, 표준편차 1\n",
    "\n",
    "# 시각화\n",
    "sns.distplot(x1, kde=False, fit=sp.stats.norm, label=f\"normal df (Variance :{np.round(x1.std(),3)})\")\n",
    "sns.distplot(x2, kde=False, fit=sp.stats.norm, label=f\"normal df (Variance :{np.round(x2.std(),3)})\")\n",
    "plt.legend(bbox_to_anchor=(1.0, .2))\n",
    "plt.show()\n",
    "\n",
    "# t-test 진행\n",
    "t_test(x1, x2, 0.05)"
   ]
  },
  {
   "cell_type": "code",
   "execution_count": 74,
   "id": "15cd7fad",
   "metadata": {},
   "outputs": [
    {
     "data": {
      "image/png": "[encoded data removed]",
      "text/plain": [
       "<Figure size 640x480 with 1 Axes>"
      ]
     },
     "metadata": {},
     "output_type": "display_data"
    },
    {
     "name": "stdout",
     "output_type": "stream",
     "text": [
      "t-test 검정통계치 : -1.3973555186452973\n",
      "t-test p-value : 0.162\n",
      "t-test 결과, 5.0%의 유의수준으로 두 데이터의 모평균이 같다는 귀무가설을 기각할 수 없습니다.\n"
     ]
    }
   ],
   "source": [
    "# 표준정규분포 형성 (평균이 동일하지만, 표준편차와 데이터 개수가 다른 데이터 형성)\n",
    "x1 = normal_df(1000, 3, 0) # (평균 = 0, 표준편차 = 3)\n",
    "x2 = normal_df(1500, 1, 0) # (평균 = 0, 표준편차 = 1)\n",
    "\n",
    "# 시각화\n",
    "sns.distplot(x1, kde=False, fit=sp.stats.norm, label=f\"normal df (Variance :{np.round(x1.std(),3)})\")\n",
    "sns.distplot(x2, kde=False, fit=sp.stats.norm, label=f\"normal df (Variance :{np.round(x2.std(),3)})\")\n",
    "plt.legend(bbox_to_anchor=(1.0, .2))\n",
    "plt.show()\n",
    "\n",
    "t_test(x1, x2, 0.05)"
   ]
  },
  {
   "cell_type": "markdown",
   "id": "86451c33",
   "metadata": {},
   "source": [
    "## 모비율에 대한 가설검정\n"
   ]
  },
  {
   "cell_type": "code",
   "execution_count": 75,
   "id": "5e827c66",
   "metadata": {},
   "outputs": [
    {
     "name": "stdout",
     "output_type": "stream",
     "text": [
      "[11833, 9693] [12774, 10847]\n"
     ]
    }
   ],
   "source": [
    "# 강원도 경찰청 5대 범죄 데이터로 진행해봅니다.\n",
    "\n",
    "# 모비율 데이터를 형성하기 위해 새로운 리스트 형성\n",
    "arrest_1 = []\n",
    "arrest_2 = []\n",
    "\n",
    "# for 문을 활용하여 범죄 발생, 검거 데이터를 리스트에 append하는 작업\n",
    "for i, j in zip(range(2), [arrest_1,arrest_2]):\n",
    "    j.append(data['발생'].tolist()[i])\n",
    "    j.append(data['검거'].tolist()[i])\n",
    "\n",
    "# 잘 입력되었는지 확인해보는 부분\n",
    "print(arrest_1, arrest_2)"
   ]
  },
  {
   "cell_type": "code",
   "execution_count": 76,
   "id": "14ded0cf",
   "metadata": {},
   "outputs": [
    {
     "name": "stdout",
     "output_type": "stream",
     "text": [
      "arrest_1 : 발생 = 11833, 검거 = 9693, 검거율 = 81.89999999999999%\n",
      "arrest_2 : 발생 = 12774, 검거 = 10847, 검거율 = 84.89999999999999%\n"
     ]
    },
    {
     "data": {
      "image/png": "[encoded data removed]",
      "text/plain": [
       "<Figure size 1000x300 with 1 Axes>"
      ]
     },
     "metadata": {},
     "output_type": "display_data"
    }
   ],
   "source": [
    "import matplotlib.pyplot as plt\n",
    "from scipy.stats import norm\n",
    " \n",
    "print(f'arrest_1 : 발생 = {arrest_1[0]}, 검거 = {arrest_1[1]}, 검거율 = {round(arrest_1[1]/arrest_1[0], 3) * 100}%')\n",
    "print(f'arrest_2 : 발생 = {arrest_2[0]}, 검거 = {arrest_2[1]}, 검거율 = {round(arrest_2[1]/arrest_2[0], 3) * 100}%')\n",
    " \n",
    "# plot으로 그리기 위해 x축 데이터 형성\n",
    "x = np.linspace(0.5, 1, 100)\n",
    " \n",
    "# arrest_1 데이터에 대한 정보\n",
    "n = arrest_1[0]\n",
    "p = arrest_1[1]/arrest_1[0]\n",
    "std = np.sqrt(p*(1-p)/n)    \n",
    "y_a = norm.pdf(x, p, std) # 확률 누적 분포로 데이터 형성\n",
    " \n",
    "# arrest_2 데이터에 대한 정보\n",
    "n = arrest_2[0]\n",
    "p = arrest_2[1]/arrest_2[0]\n",
    "std = np.sqrt(p*(1-p)/n)\n",
    "y_b = norm.pdf(x, p, std) # 확률 누적 분포로 데이터 형성\n",
    "\n",
    "plt.figure(figsize=(10, 3))\n",
    "plt.plot(x, y_a, label='arrest_1')\n",
    "plt.plot(x, y_b, label='arrest_2')\n",
    "plt.legend(loc='best')\n",
    "plt.show()\n"
   ]
  },
  {
   "cell_type": "code",
   "execution_count": 77,
   "id": "1a2e494d",
   "metadata": {},
   "outputs": [
    {
     "name": "stdout",
     "output_type": "stream",
     "text": [
      "카이제곱 검정통계치 : 3.575760992895253\n",
      "카이제곱 P-value : 0.059\n",
      "자유도 : 1\n",
      "카이제곱 검정 결과, 두 데이터 집단의 모비율이 같다는 귀무가설을 유의수준 5.0%로 기각할 수 없습니다.\n"
     ]
    }
   ],
   "source": [
    "def chi2(x1, x2, sig_level=0.05):\n",
    "    from scipy.stats import chi2_contingency\n",
    "\n",
    "    print(f'카이제곱 검정통계치 : {chi2_contingency([x1, x2])[0]}')\n",
    "    print(f'카이제곱 P-value : {round(chi2_contingency([x1, x2])[1], 3)}')\n",
    "    print(f'자유도 : {chi2_contingency([x1, x2])[2]}')\n",
    "    \n",
    "    # 귀무가설을 기각할 지 여부를 p 값으로 판단하고 출력해주는 부분\n",
    "    if chi2_contingency([x1, x2])[1] < sig_level:\n",
    "        print(f'카이제곱 검정 결과, 두 데이터 집단의 모비율이 같다는 귀무가설을 유의수준 {sig_level * 100}%로 기각할 수 있습니다.')\n",
    "    else:\n",
    "        print(f'카이제곱 검정 결과, 두 데이터 집단의 모비율이 같다는 귀무가설을 유의수준 {sig_level * 100}%로 기각할 수 없습니다.')\n",
    "        \n",
    "# arrest_1, 2 데이터에 대한 카이제곱 검정 시행\n",
    "chi2(arrest_1,arrest_2, 0.05)"
   ]
  },
  {
   "cell_type": "markdown",
   "id": "881b7442",
   "metadata": {},
   "source": [
    "## 모분산에 대한 가설검정"
   ]
  },
  {
   "cell_type": "code",
   "execution_count": 78,
   "id": "c763b18e",
   "metadata": {},
   "outputs": [
    {
     "data": {
      "image/png": "[encoded data removed]",
      "text/plain": [
       "<Figure size 640x480 with 2 Axes>"
      ]
     },
     "metadata": {},
     "output_type": "display_data"
    }
   ],
   "source": [
    "# 강원도 경찰청 5대 범죄 데이터로 진행\n",
    "\n",
    "# 검거와 발생 데이터를 리스트 형태로 새롭게 지정함.\n",
    "arrest = data['검거'].tolist()\n",
    "occur = data['발생'].tolist()\n",
    "\n",
    "# 데이터 보기\n",
    "plt.subplot(2,1,1)\n",
    "plt.bar(x = data['연도'], height = data['검거'])\n",
    "plt.ylabel('arrest')\n",
    "plt.subplot(2,1,2)\n",
    "plt.bar(x = data['연도'], height = data['발생'])\n",
    "plt.ylabel('occur')\n",
    "plt.show()"
   ]
  },
  {
   "cell_type": "code",
   "execution_count": 79,
   "id": "80a87f22",
   "metadata": {},
   "outputs": [
    {
     "name": "stdout",
     "output_type": "stream",
     "text": [
      "F-test 검정통계치 : 10.345\n",
      "F-test P-value : 0.006\n",
      "F 검정 결과, 두 데이터 집단의 모분산이 같다는 귀무가설을 유의수준 5.0%로 기각할 수 있습니다.\n"
     ]
    }
   ],
   "source": [
    "def f_test(x1,x2,sig_level=0.05):\n",
    "    # 라이브러리 호출\n",
    "    from scipy.stats import f_oneway\n",
    "\n",
    "    # 검정통계치. p값을 출력하는 부분 (소수점 3째 자리까지)\n",
    "    print(f'F-test 검정통계치 : {round(f_oneway(x1, x2)[0], 3)}')\n",
    "    print(f'F-test P-value : {round(f_oneway(x1, x2)[1], 3)}')\n",
    "\n",
    "    # 귀무가설을 기각할 지 여부를 p 값으로 판단하고 출력해주는 부분    \n",
    "    if f_oneway(x1, x2)[1] < sig_level:\n",
    "        print(f'F 검정 결과, 두 데이터 집단의 모분산이 같다는 귀무가설을 유의수준 {sig_level * 100}%로 기각할 수 있습니다.')\n",
    "    else:\n",
    "        print(f'F 검정 결과, 두 데이터 집단의 모분산이 같다는 귀무가설을 유의수준 {sig_level * 100}%로 기각할 수 없습니다.')\n",
    "        \n",
    "f_test(arrest, occur, sig_level=0.05)"
   ]
  },
  {
   "cell_type": "markdown",
   "id": "54ee7bc6",
   "metadata": {},
   "source": [
    "## 단일표본 t 검정 (1-sample T-test)"
   ]
  },
  {
   "cell_type": "code",
   "execution_count": 45,
   "id": "bdb7a50c",
   "metadata": {},
   "outputs": [
    {
     "name": "stdout",
     "output_type": "stream",
     "text": [
      "T 검정 검정통계량 : -30.2692\n",
      "T 검정 p-value :  0.0000\n",
      "평균이 10이 아니라는 귀무가설을 5%의 유의수준으로 기각할 수 있습니다.\n"
     ]
    }
   ],
   "source": [
    "import numpy as np\n",
    "from scipy.stats import ttest_1samp\n",
    "\n",
    "# 정규분포 형성 함수를 이용하여 정규분포 데이터 형성 \n",
    "x = normal_df(1000, 10, 1)  # 평균 10, 표준편차 1\n",
    "test = 10\n",
    "# 1-sample t-test 시행 (평균이 10이 맞는지)\n",
    "result= ttest_1samp(x,test)\n",
    "\n",
    "print(f'T 검정 검정통계량 : {result[0] : .4f}')\n",
    "print(f'T 검정 p-value : {result[1] : .4f}')\n",
    "\n",
    "if result[1] < 0.05:\n",
    "    print(f'평균이 {test}이 아니라는 귀무가설을 5%의 유의수준으로 기각할 수 있습니다.')\n",
    "else:\n",
    "    print(f'평균이 {test}이 아니라는 귀무가설을 5%의 유의수준으로 기각할 수 없습니다.')"
   ]
  },
  {
   "cell_type": "markdown",
   "id": "5885054a",
   "metadata": {},
   "source": [
    "## 독립 표본 t 검정 (Unpaired T-test)"
   ]
  },
  {
   "cell_type": "code",
   "execution_count": 46,
   "id": "d2311212",
   "metadata": {},
   "outputs": [],
   "source": [
    "# 두 개의 독립적인 그룹 간의 평균 차이를 비교하는 데 사용됩니다. \n",
    "# 범죄 통계를 사용하여 사례를 보여드리겠습니다.\n",
    "# 예를 들어, 특정 도시의 두 다른 지역에서 발생한 범죄율을 비교하고자 합니다."
   ]
  },
  {
   "cell_type": "code",
   "execution_count": null,
   "id": "ed9da81f",
   "metadata": {},
   "outputs": [],
   "source": [
    "# 두 지역(서울지역과 지방지역)의 범죄율을 비교하고, \n",
    "# 두 지역 간의 범죄율에 유의미한 차이가 있는지 알아보겠습니다. 가상의 데이터는 다음과 같습니다:"
   ]
  },
  {
   "cell_type": "code",
   "execution_count": null,
   "id": "807a1ab3",
   "metadata": {},
   "outputs": [],
   "source": [
    "# 서울지역의 범죄율 데이터 (범죄 발생 수): [20, 22, 19, 24, 21, 23, 20, 22, 18, 25]\n",
    "# 부산지역의 범죄율 데이터 (범죄 발생 수): [30, 28, 35, 33, 32, 31, 29, 34, 30, 32]"
   ]
  },
  {
   "cell_type": "code",
   "execution_count": 80,
   "id": "e7944c40",
   "metadata": {},
   "outputs": [
    {
     "data": {
      "text/plain": [
       "(-10.067340828210366, 8.053738934890404e-09)"
      ]
     },
     "execution_count": 80,
     "metadata": {},
     "output_type": "execute_result"
    }
   ],
   "source": [
    "import scipy.stats as stats\n",
    "\n",
    "# 데이터\n",
    "crime_rate_seoul = [20, 22, 19, 24, 21, 23, 20, 22, 18, 25]\n",
    "crime_rate_busan = [30, 28, 35, 33, 32, 31, 29, 34, 30, 32]\n",
    "\n",
    "# 독립표본 T 검정 수행\n",
    "t_stat, p_value = stats.ttest_ind(crime_rate_seoul, crime_rate_busan)\n",
    "\n",
    "t_stat, p_value"
   ]
  },
  {
   "cell_type": "code",
   "execution_count": null,
   "id": "f7f505ca",
   "metadata": {},
   "outputs": [],
   "source": [
    "# 결과 해석\n",
    "# t_stat: T 검정 통계량\n",
    "# p_value: 유의 확률\n",
    "# p-value가 일반적으로 설정된 유의수준(예: 0.05)보다 작으므로 \n",
    "# 두 지역(서울, ㅂ산) 의 범죄율에 유의미한 차이가 있다고 결론지을 수 있습니다."
   ]
  },
  {
   "cell_type": "code",
   "execution_count": null,
   "id": "68162162",
   "metadata": {},
   "outputs": [],
   "source": []
  },
  {
   "cell_type": "code",
   "execution_count": null,
   "id": "738fe303",
   "metadata": {},
   "outputs": [],
   "source": []
  }
 ],
 "metadata": {
  "kernelspec": {
   "display_name": "Python 3 (ipykernel)",
   "language": "python",
   "name": "python3"
  },
  "language_info": {
   "codemirror_mode": {
    "name": "ipython",
    "version": 3
   },
   "file_extension": ".py",
   "mimetype": "text/x-python",
   "name": "python",
   "nbconvert_exporter": "python",
   "pygments_lexer": "ipython3",
   "version": "3.9.11"
  },
  "toc": {
   "base_numbering": 1,
   "nav_menu": {},
   "number_sections": true,
   "sideBar": true,
   "skip_h1_title": false,
   "title_cell": "Table of Contents",
   "title_sidebar": "Contents",
   "toc_cell": false,
   "toc_position": {
    "height": "calc(100% - 180px)",
    "left": "10px",
    "top": "150px",
    "width": "279.273px"
   },
   "toc_section_display": true,
   "toc_window_display": true
  }
 },
 "nbformat": 4,
 "nbformat_minor": 5
}
