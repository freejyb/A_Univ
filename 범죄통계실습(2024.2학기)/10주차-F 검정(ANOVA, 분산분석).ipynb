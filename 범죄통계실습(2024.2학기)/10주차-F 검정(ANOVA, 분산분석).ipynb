{
 "cells": [
  {
   "cell_type": "markdown",
   "id": "0dce13f0",
   "metadata": {},
   "source": [
    "## F 검정(ANOVA, 분산분석)"
   ]
  },
  {
   "cell_type": "code",
   "execution_count": null,
   "id": "941d578e",
   "metadata": {},
   "outputs": [],
   "source": [
    "F 검정(ANOVA, 분산분석)은 세 개 이상의 그룹 간의 평균 차이를 비교하는 데 사용됩니다. \n",
    "범죄 통계를 사용하여 사례를 보여드리겠습니다. \n",
    "예를 들어, 특정 도시의 세 다른 지역에서 발생한 범죄율을 비교하고자 합니다."
   ]
  },
  {
   "cell_type": "code",
   "execution_count": null,
   "id": "dbfdc586",
   "metadata": {},
   "outputs": [],
   "source": [
    "# 사례 설명\n",
    "# 세 지역(A지역, B지역, C지역)의 범죄율을 비교하고, 세 지역 간의 범죄율에 유의미한 차이가 있는지 알아보겠습니다. \n",
    "# 가상의 데이터는 다음과 같습니다:\n",
    "\n",
    "# 서울지역(A)의 범죄율 데이터 (범죄 발생 수): [20, 22, 19, 24, 21, 23, 20, 22, 18, 25]\n",
    "# 경기지역(B)의 범죄율 데이터 (범죄 발생 수): [30, 28, 35, 33, 32, 31, 29, 34, 30, 32]\n",
    "# 인천지역(C)의 범죄율 데이터 (범죄 발생 수): [27, 25, 30, 28, 26, 29, 27, 28, 29, 30]"
   ]
  },
  {
   "cell_type": "code",
   "execution_count": 1,
   "id": "f70f7682",
   "metadata": {},
   "outputs": [
    {
     "data": {
      "text/plain": [
       "(61.14775725593671, 9.414116286366731e-11)"
      ]
     },
     "execution_count": 1,
     "metadata": {},
     "output_type": "execute_result"
    }
   ],
   "source": [
    "import scipy.stats as stats\n",
    "\n",
    "# 데이터\n",
    "crime_rate_A = [20, 22, 19, 24, 21, 23, 20, 22, 18, 25]\n",
    "crime_rate_B = [30, 28, 35, 33, 32, 31, 29, 34, 30, 32]\n",
    "crime_rate_C = [27, 25, 30, 28, 26, 29, 27, 28, 29, 30]\n",
    "\n",
    "# F 검정 수행 (ANOVA)\n",
    "f_stat, p_value = stats.f_oneway(crime_rate_A, crime_rate_B, crime_rate_C)\n",
    "\n",
    "f_stat, p_value\n"
   ]
  },
  {
   "cell_type": "code",
   "execution_count": null,
   "id": "8cb22126",
   "metadata": {},
   "outputs": [],
   "source": [
    "# 결과 해석\n",
    "# f_stat: F 검정 통계량\n",
    "# p_value: 유의 확률\n",
    "# p-value가 일반적으로 설정된 유의수준(예: 0.05)보다 작다면, 세 지역의 범죄율에 유의미한 차이가 있다고 결론지을 수 있습니다."
   ]
  },
  {
   "cell_type": "markdown",
   "id": "87b08e0c",
   "metadata": {},
   "source": [
    "## 사후 검정(Post hoc test)"
   ]
  },
  {
   "cell_type": "code",
   "execution_count": null,
   "id": "fa04dbc8",
   "metadata": {},
   "outputs": [],
   "source": [
    "# ANOVA 결과에서 그룹 간 차이가 유의미하다고 결론지어진 경우, 구체적으로 어떤 그룹 간에 차이가 있는지 확인하는 데 사용됩니다. \n",
    "# 사후 검정을 위해 Tukey's HSD (Honestly Significant Difference) 검정을 수행하겠습니다."
   ]
  },
  {
   "cell_type": "code",
   "execution_count": null,
   "id": "f84d533b",
   "metadata": {},
   "outputs": [],
   "source": [
    "# 사후 검정 수행\n",
    "# Python의 statsmodels 라이브러리를 사용하여 Tukey's HSD 검정을 수행하겠습니다."
   ]
  },
  {
   "cell_type": "code",
   "execution_count": 2,
   "id": "4644c34c",
   "metadata": {},
   "outputs": [
    {
     "data": {
      "text/html": [
       "<table class=\"simpletable\">\n",
       "<caption>Multiple Comparison of Means - Tukey HSD, FWER=0.05</caption>\n",
       "<tr>\n",
       "  <th>group1</th> <th>group2</th> <th>meandiff</th> <th>p-adj</th>  <th>lower</th>   <th>upper</th>  <th>reject</th>\n",
       "</tr>\n",
       "<tr>\n",
       "     <td>A</td>      <td>B</td>     <td>10.0</td>    <td>0.0</td>  <td>7.7246</td>  <td>12.2754</td>  <td>True</td> \n",
       "</tr>\n",
       "<tr>\n",
       "     <td>A</td>      <td>C</td>      <td>6.5</td>    <td>0.0</td>  <td>4.2246</td>  <td>8.7754</td>   <td>True</td> \n",
       "</tr>\n",
       "<tr>\n",
       "     <td>B</td>      <td>C</td>     <td>-3.5</td>   <td>0.002</td> <td>-5.7754</td> <td>-1.2246</td>  <td>True</td> \n",
       "</tr>\n",
       "</table>"
      ],
      "text/latex": [
       "\\begin{center}\n",
       "\\begin{tabular}{ccccccc}\n",
       "\\toprule\n",
       "\\textbf{group1} & \\textbf{group2} & \\textbf{meandiff} & \\textbf{p-adj} & \\textbf{lower} & \\textbf{upper} & \\textbf{reject}  \\\\\n",
       "\\midrule\n",
       "       A        &        B        &        10.0       &      0.0       &     7.7246     &    12.2754     &       True       \\\\\n",
       "       A        &        C        &        6.5        &      0.0       &     4.2246     &     8.7754     &       True       \\\\\n",
       "       B        &        C        &        -3.5       &     0.002      &    -5.7754     &    -1.2246     &       True       \\\\\n",
       "\\bottomrule\n",
       "\\end{tabular}\n",
       "%\\caption{Multiple Comparison of Means - Tukey HSD, FWER=0.05}\n",
       "\\end{center}"
      ],
      "text/plain": [
       "<class 'statsmodels.iolib.table.SimpleTable'>"
      ]
     },
     "execution_count": 2,
     "metadata": {},
     "output_type": "execute_result"
    }
   ],
   "source": [
    "import pandas as pd\n",
    "import numpy as np\n",
    "from statsmodels.stats.multicomp import pairwise_tukeyhsd\n",
    "\n",
    "# 데이터\n",
    "data = {\n",
    "    'crime_rate': [20, 22, 19, 24, 21, 23, 20, 22, 18, 25,\n",
    "                   30, 28, 35, 33, 32, 31, 29, 34, 30, 32,\n",
    "                   27, 25, 30, 28, 26, 29, 27, 28, 29, 30],\n",
    "    'region': ['A'] * 10 + ['B'] * 10 + ['C'] * 10\n",
    "}\n",
    "\n",
    "df = pd.DataFrame(data)\n",
    "\n",
    "# Tukey's HSD 검정 수행\n",
    "tukey_result = pairwise_tukeyhsd(endog=df['crime_rate'], groups=df['region'], alpha=0.05)\n",
    "\n",
    "tukey_result.summary()\n"
   ]
  },
  {
   "cell_type": "code",
   "execution_count": null,
   "id": "a98c8c5a",
   "metadata": {},
   "outputs": [],
   "source": [
    "# 결론\n",
    "# 서울(A)지역과 경기(B)지역 간의 범죄율 차이는 유의미합니다 (p-adj < 0.05).\n",
    "# 서울(A)지역과 인천(C)지역 간의 범죄율 차이는 유의미합니다 (p-adj < 0.05).\n",
    "# 경기(B)지역과 인천(C)지역 간의 범죄율 차이는 유의미합니다 (p-adj < 0.05).\n",
    "# 따라서, 모든 지역 간의 범죄율에 유의미한 차이가 있음을 알 수 있습니다."
   ]
  }
 ],
 "metadata": {
  "kernelspec": {
   "display_name": "Python 3 (ipykernel)",
   "language": "python",
   "name": "python3"
  },
  "language_info": {
   "codemirror_mode": {
    "name": "ipython",
    "version": 3
   },
   "file_extension": ".py",
   "mimetype": "text/x-python",
   "name": "python",
   "nbconvert_exporter": "python",
   "pygments_lexer": "ipython3",
   "version": "3.9.11"
  },
  "toc": {
   "base_numbering": 1,
   "nav_menu": {},
   "number_sections": true,
   "sideBar": true,
   "skip_h1_title": false,
   "title_cell": "Table of Contents",
   "title_sidebar": "Contents",
   "toc_cell": false,
   "toc_position": {},
   "toc_section_display": true,
   "toc_window_display": false
  }
 },
 "nbformat": 4,
 "nbformat_minor": 5
}
