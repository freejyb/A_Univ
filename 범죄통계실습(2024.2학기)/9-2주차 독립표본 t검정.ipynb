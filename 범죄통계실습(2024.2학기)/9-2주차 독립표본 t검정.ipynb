{
 "cells": [
  {
   "cell_type": "markdown",
   "id": "9a4df058",
   "metadata": {},
   "source": [
    "### 독립표본 T 검정(Independent Samples T-test)"
   ]
  },
  {
   "cell_type": "code",
   "execution_count": null,
   "id": "aa54fc24",
   "metadata": {},
   "outputs": [],
   "source": [
    "두 개의 독립적인 그룹 간의 평균 차이를 비교하는 데 사용됩니다. \n",
    "범죄 통계를 사용하여 사례를 보여드리겠습니다.\n",
    "예를 들어, 특정 도시의 두 다른 지역에서 발생한 범죄율을 비교하고자 합니다."
   ]
  },
  {
   "cell_type": "code",
   "execution_count": null,
   "id": "c58181d9",
   "metadata": {},
   "outputs": [],
   "source": [
    "# 두 지역(서울지역과 지방지역)의 범죄율을 비교하고, \n",
    "# 두 지역 간의 범죄율에 유의미한 차이가 있는지 알아보겠습니다. 가상의 데이터는 다음과 같습니다:\n",
    "\n",
    "# 서울지역의 범죄율 데이터 (범죄 발생 수): [20, 22, 19, 24, 21, 23, 20, 22, 18, 25]\n",
    "# 부산지역의 범죄율 데이터 (범죄 발생 수): [30, 28, 35, 33, 32, 31, 29, 34, 30, 32]"
   ]
  },
  {
   "cell_type": "code",
   "execution_count": 1,
   "id": "181f56c0",
   "metadata": {},
   "outputs": [
    {
     "data": {
      "text/plain": [
       "(-10.067340828210366, 8.053738934890404e-09)"
      ]
     },
     "execution_count": 1,
     "metadata": {},
     "output_type": "execute_result"
    }
   ],
   "source": [
    "import scipy.stats as stats\n",
    "\n",
    "# 데이터\n",
    "crime_rate_seoul = [20, 22, 19, 24, 21, 23, 20, 22, 18, 25]\n",
    "crime_rate_busan = [30, 28, 35, 33, 32, 31, 29, 34, 30, 32]\n",
    "\n",
    "# 독립표본 T 검정 수행\n",
    "t_stat, p_value = stats.ttest_ind(crime_rate_seoul, crime_rate_busan)\n",
    "\n",
    "t_stat, p_value\n"
   ]
  },
  {
   "cell_type": "code",
   "execution_count": null,
   "id": "997fafff",
   "metadata": {},
   "outputs": [],
   "source": [
    "# 결과 해석\n",
    "# t_stat: T 검정 통계량\n",
    "# p_value: 유의 확률\n",
    "# p-value가 일반적으로 설정된 유의수준(예: 0.05)보다 작다면, 두 지역의 범죄율에 유의미한 차이가 있다고 결론지을 수 있습니다."
   ]
  }
 ],
 "metadata": {
  "kernelspec": {
   "display_name": "Python 3 (ipykernel)",
   "language": "python",
   "name": "python3"
  },
  "language_info": {
   "codemirror_mode": {
    "name": "ipython",
    "version": 3
   },
   "file_extension": ".py",
   "mimetype": "text/x-python",
   "name": "python",
   "nbconvert_exporter": "python",
   "pygments_lexer": "ipython3",
   "version": "3.9.11"
  },
  "toc": {
   "base_numbering": 1,
   "nav_menu": {},
   "number_sections": true,
   "sideBar": true,
   "skip_h1_title": false,
   "title_cell": "Table of Contents",
   "title_sidebar": "Contents",
   "toc_cell": false,
   "toc_position": {},
   "toc_section_display": true,
   "toc_window_display": false
  }
 },
 "nbformat": 4,
 "nbformat_minor": 5
}
