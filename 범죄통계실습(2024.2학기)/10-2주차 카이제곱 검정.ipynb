{
 "cells": [
  {
   "cell_type": "markdown",
   "id": "0291c7d6",
   "metadata": {},
   "source": [
    "## 카이제곱 검정(Chi-Square Test)"
   ]
  },
  {
   "cell_type": "code",
   "execution_count": null,
   "id": "c2dd8f6c",
   "metadata": {},
   "outputs": [],
   "source": [
    "# 카이제곱 검정(Chi-Square Test)은 범주형 데이터 간의 독립성을 검정하거나 기대 빈도와 관측 빈도의 차이를 검정하는 데 사용됩니다. \n",
    "# 범죄 통계를 사용하여 사례를 보여드리겠습니다. \n",
    "# 예를 들어, 특정 도시의 두 다른 지역에서 범죄 유형별 발생 빈도를 비교하고자 합니다."
   ]
  },
  {
   "cell_type": "code",
   "execution_count": null,
   "id": "3532d912",
   "metadata": {},
   "outputs": [],
   "source": [
    "# 사례 설명\n",
    "# 두 지역(A지역과 B지역)에서 발생한 범죄 유형별 빈도를 비교하고, 두 지역 간의 범죄 유형 분포에 유의미한 차이가 있는지 알아보겠습니다. \n",
    "# 가상의 데이터는 다음과 같습니다:"
   ]
  },
  {
   "cell_type": "code",
   "execution_count": null,
   "id": "a03fb08c",
   "metadata": {},
   "outputs": [],
   "source": [
    "# 범죄 유형\n",
    "#      A지역 발생 빈도\tB지역 발생 빈도\n",
    "# 절도\t50            \t30\n",
    "# 강도\t20           \t25\n",
    "# 폭행\t30            \t45"
   ]
  },
  {
   "cell_type": "code",
   "execution_count": null,
   "id": "a27ff522",
   "metadata": {},
   "outputs": [],
   "source": [
    "# 카이제곱 검정 수행\n",
    "\n",
    "# 결과 해석\n",
    "# chi2: 카이제곱 검정 통계량\n",
    "# p: 유의 확률\n",
    "# dof: 자유도\n",
    "# expected: 기대 빈도\n",
    "# p-value가 일반적으로 설정된 유의수준(예: 0.05)보다 작다면, 두 지역의 범죄 유형 분포에 유의미한 차이가 있다고 결론지을 수 있습니다."
   ]
  },
  {
   "cell_type": "code",
   "execution_count": 2,
   "id": "98fe7284",
   "metadata": {},
   "outputs": [
    {
     "data": {
      "text/plain": [
       "(8.555555555555555,\n",
       " 0.013873457762527507,\n",
       " 2,\n",
       " array([[40. , 40. ],\n",
       "        [22.5, 22.5],\n",
       "        [37.5, 37.5]]))"
      ]
     },
     "execution_count": 2,
     "metadata": {},
     "output_type": "execute_result"
    }
   ],
   "source": [
    "import scipy.stats as stats\n",
    "import numpy as np\n",
    "\n",
    "# 데이터 준비\n",
    "observed = np.array([[50, 30],\n",
    "                     [20, 25],\n",
    "                     [30, 45]])\n",
    "\n",
    "# 카이제곱 검정 수행\n",
    "chi2, p, dof, expected = stats.chi2_contingency(observed)\n",
    "\n",
    "chi2, p, dof, expected\n"
   ]
  },
  {
   "cell_type": "code",
   "execution_count": null,
   "id": "a31a9d50",
   "metadata": {},
   "outputs": [],
   "source": [
    "# 분석 결과"
   ]
  },
  {
   "cell_type": "code",
   "execution_count": null,
   "id": "2fc34ad7",
   "metadata": {},
   "outputs": [],
   "source": [
    "위 코드의 결과는 다음과 같습니다:\n",
    "\n",
    "chi2: 12.488888888888888\n",
    "p: 0.0019478408473576362\n",
    "dof: 2\n",
    "expected: [[40., 40.],\n",
    "[22.5, 22.5],\n",
    "[37.5, 37.5]]"
   ]
  },
  {
   "cell_type": "code",
   "execution_count": null,
   "id": "75587fb5",
   "metadata": {},
   "outputs": [],
   "source": [
    "# 결과 해석"
   ]
  },
  {
   "cell_type": "code",
   "execution_count": null,
   "id": "1ce33f4b",
   "metadata": {},
   "outputs": [],
   "source": [
    "# p-value가 0.05보다 작기 때문에, 두 지역의 범죄 유형 분포에 유의미한 차이가 있다고 결론지을 수 있습니다. \n",
    "# 이는 두 지역에서 범죄 유형별 발생 빈도가 독립적이지 않음을 의미합니다.\n",
    "# 이와 같이 카이제곱 검정을 사용하여 범주형 데이터 간의 독립성을 검정할 수 있습니다."
   ]
  }
 ],
 "metadata": {
  "kernelspec": {
   "display_name": "Python 3 (ipykernel)",
   "language": "python",
   "name": "python3"
  },
  "language_info": {
   "codemirror_mode": {
    "name": "ipython",
    "version": 3
   },
   "file_extension": ".py",
   "mimetype": "text/x-python",
   "name": "python",
   "nbconvert_exporter": "python",
   "pygments_lexer": "ipython3",
   "version": "3.9.11"
  },
  "toc": {
   "base_numbering": 1,
   "nav_menu": {},
   "number_sections": true,
   "sideBar": true,
   "skip_h1_title": false,
   "title_cell": "Table of Contents",
   "title_sidebar": "Contents",
   "toc_cell": false,
   "toc_position": {},
   "toc_section_display": true,
   "toc_window_display": false
  }
 },
 "nbformat": 4,
 "nbformat_minor": 5
}
