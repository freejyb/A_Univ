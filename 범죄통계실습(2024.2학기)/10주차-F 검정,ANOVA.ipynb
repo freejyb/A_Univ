{
 "cells": [
  {
   "cell_type": "markdown",
   "id": "0dce13f0",
   "metadata": {},
   "source": [
    "## F 검정"
   ]
  },
  {
   "cell_type": "markdown",
   "id": "d2a26c2b",
   "metadata": {},
   "source": [
    "### F 검정 이해"
   ]
  },
  {
   "cell_type": "code",
   "execution_count": null,
   "id": "941d578e",
   "metadata": {},
   "outputs": [],
   "source": [
    "# F-test :  두 집단의 분산이 같은지 여부를 검정하기 위해 사용하는 통계적 방법입니다. \n",
    "# 분산분석(ANOVA)에서 그룹 간 평균 차이를 검정할 때 사용됩니다.\n",
    "\n",
    "# F-검정의 기본 아이디어는 두 표본 분산 간의 비율을 계산하여 그 비율이 1에 가까운지, 즉 두 분산이 비슷한지를 확인하는 것입니다.\n",
    "\n",
    "# F-검정에서 구한 F값은 F-분포를 따릅니다. \n",
    "# F값이 클수록 두 분산 간에 차이가 있을 가능성이 높습니다. \n",
    "# F값을 통해 p값을 계산하여, 그 p값이 유의수준(보통 0.05)보다 작으면 두 집단의 분산이 같지 않다는 귀무가설을 기각합니다.\n",
    "\n",
    "# 귀무가설(H₀): 두 집단의 분산이 같다. (차이가 없다)\n",
    "# 대립가설(H): 두 집단의 분산이 다르다.(분산 차이가 있다)\n",
    "# p값이 유의수준보다 작으면 두 집단의 분산이 유의하게 다르다는 결론(차이가 있다.)을 내립니다.\n"
   ]
  },
  {
   "cell_type": "code",
   "execution_count": null,
   "id": "f6bf553a",
   "metadata": {},
   "outputs": [],
   "source": [
    "# F-검정의 사용 예시\n",
    "# 독립표본 t-검정 전에 분산 비교: t-검정에서 두 집단의 분산이 같은지 여부를 판단하기 위해 F-검정을 사용합니다. \n",
    "# 만약 분산이 같으면 equal_var=True로 독립표본 t-검정을 수행하고, 분산이 다르면 equal_var=False로 Welch's t-test를 수행합니다.\n"
   ]
  },
  {
   "cell_type": "markdown",
   "id": "b949e775",
   "metadata": {},
   "source": [
    "### F검정(F-test)과 분산분석(ANOVA)"
   ]
  },
  {
   "cell_type": "code",
   "execution_count": null,
   "id": "1f2d8186",
   "metadata": {},
   "outputs": [],
   "source": [
    "# F검정(F-test)과 분산분석(ANOVA)은 모두 두 개 이상의 집단 간 차이를 비교하는 통계적 방법이지만,(차이검정)\n",
    "# 그 범위와 적용되는 상황이 다릅니다.\n"
   ]
  },
  {
   "cell_type": "markdown",
   "id": "d5d704cd",
   "metadata": {},
   "source": [
    "####  F검정 (F-test)"
   ]
  },
  {
   "cell_type": "code",
   "execution_count": null,
   "id": "b5d18866",
   "metadata": {},
   "outputs": [],
   "source": [
    "# F검정은 두 개 이상의 집단 간 분산을 비교하는 데 사용되는 통계적 검정 방법입니다.\n",
    "# F검정의 핵심은 두 분산의 비율을 구하고, 이 비율이 우연히 나타날 확률(F분포)를 통해 가설을 검정하는 것입니다.\n",
    "\n",
    "# 목적: 집단 간 분산이 동일한지를 확인하는 데 주로 사용됩니다.\n",
    "# 활용:\n",
    "# 이원 분산분석에서 각 요인의 효과를 분석하기 위해 F검정이 사용됩니다.\n",
    "# 두 개 이상의 그룹에서 분산을 비교하는 데 사용됩니다.\n",
    "\n",
    "# 예시: A와 B 두 집단의 성적 분포가 동일한지 검정하고자 할 때, F검정을 사용할 수 있습니다.\n",
    "\n",
    "# F검정의 일반적 가설:\n",
    "# 귀무가설(H0): 두 집단의 분산이 동일하다. (차이가 없다)\n",
    "# 대립가설(H1): 두 집단의 분산이 다르다. (차이가 있다)"
   ]
  },
  {
   "cell_type": "markdown",
   "id": "4366822b",
   "metadata": {},
   "source": [
    "#### 분산분석 (ANOVA: Analysis of Variance)"
   ]
  },
  {
   "cell_type": "code",
   "execution_count": null,
   "id": "cb9378f6",
   "metadata": {},
   "outputs": [],
   "source": [
    "# 분산분석은 여러 집단 간 평균이 서로 유의미하게 차이가 나는지 검정하는 통계적 방법입니다. \n",
    "# 여러 집단의 데이터를 분석하여 집단 간 차이가 단순히 우연에 의한 것인지, 아니면 실제로 유의미한 차이가 있는지를 판단합니다.\n",
    "\n",
    "# 목적: 여러 그룹 간의 평균 차이를 비교하여 차이가 있는지 검정합니다.\n",
    "# 활용: 3개 이상의 그룹에서 평균이 서로 다른지 검토할 때 사용됩니다.\n",
    "\n",
    "# 예시: 세 가지 다른 교육 방법(A, B, C)이 학생들의 시험 성적에 미치는 영향을 비교하고자 할 때, 각 교육 방법의 평균 성적 차이가 있는지를 분석하기 위해 ANOVA를 사용할 수 있습니다.\n",
    "\n",
    "# 분산분석의 일반적 가설:\n",
    "# 귀무가설(H0): 모든 그룹의 평균이 동일하다.\n",
    "# 대립가설(H1): 적어도 하나의 그룹 평균은 다른 그룹과 다르다.\n"
   ]
  },
  {
   "cell_type": "markdown",
   "id": "6300c3e9",
   "metadata": {},
   "source": [
    "#### 주요 차이점"
   ]
  },
  {
   "cell_type": "code",
   "execution_count": null,
   "id": "4d6e2dde",
   "metadata": {},
   "outputs": [],
   "source": [
    "# 1. 비교 대상:\n",
    "\n",
    "# F검정 :  분산(variances)을 비교하는 데 중점을 둡니다.\n",
    "# ANOVA :  평균(means)을 비교하는 데 중점을 둡니다.\n",
    "\n",
    "# 2. 적용 범위:\n",
    "\n",
    "# F검정은 두 개 이상의 그룹에서 분산이 같은지를 검정하는 데 사용됩니다.\n",
    "# ANOVA는 세 개 이상의 그룹에서 평균이 같은지를 검정하는 데 사용됩니다.\n",
    "\n",
    "# F검정이 ANOVA의 일부: 분산분석에서 F통계량은 그룹 간 평균 차이가 있는지를 평가하는 데 사용됩니다. 즉, ANOVA의 결과는 F값으로 나타나며, 이 F값이 특정 임계값보다 큰지 여부로 유의미한 차이를 판단합니다. 따라서 ANOVA는 F검정을 이용한 분석 방법이라고 볼 수 있습니다.\n",
    "\n",
    "# 3. 결론\n",
    "# F검정은 집단 간 분산의 차이를 검정하고, ANOVA는 집단 간 평균의 차이를 검정합니다.\n",
    "# ANOVA는 여러 집단 간의 차이를 분석하는 데 F검정을 사용하므로, F검정은 ANOVA의 구성 요소로서 사용됩니다."
   ]
  },
  {
   "cell_type": "markdown",
   "id": "cc222e17",
   "metadata": {},
   "source": [
    "## 분산분석(ANOVA, Analysis of Variance)"
   ]
  },
  {
   "cell_type": "markdown",
   "id": "111e3b78",
   "metadata": {},
   "source": [
    "### 기본 이해 "
   ]
  },
  {
   "cell_type": "code",
   "execution_count": null,
   "id": "fd22c914",
   "metadata": {},
   "outputs": [],
   "source": [
    "# 분산분석(ANOVA, Analysis of Variance)\n",
    "# 두 개 이상의 그룹 간 평균의 차이를 검정하는 통계적 방법입니다.\n",
    "# t-검정이 두 그룹 간 평균 차이를 비교할 때 사용되는 반면, 분산분석은 세 개 이상의 그룹을 비교할 때 사용됩니다. \n",
    "# 주로 여러 그룹의 평균이 모두 동일한지, 아니면 어떤 그룹의 평균이 유의하게 다른지를 검증하기 위한 목적으로 사용됩니다."
   ]
  },
  {
   "cell_type": "code",
   "execution_count": null,
   "id": "eb5067aa",
   "metadata": {},
   "outputs": [],
   "source": [
    "# 분산분석의 기본 개념\n",
    "# 분산분석의 핵심은 *총 변동량(variance)*을 두 부분(집단간 변동, 집단내 변동)으로 나누는 것입니다:\n",
    "\n",
    "# 집단 간 변동(between-group variance): 그룹 간 평균의 차이로 인한 변동.\n",
    "# 집단 내 변동(within-group variance): 같은 그룹 내의 개별 데이터들 간의 차이로 인한 변동.\n",
    "# 분산분석에서는 이러한 변동을 비교하여 집단 간 평균 차이가 통계적으로 유의미한지 검정합니다.\n"
   ]
  },
  {
   "cell_type": "markdown",
   "id": "971b0737",
   "metadata": {},
   "source": [
    "### 기본가정 "
   ]
  },
  {
   "cell_type": "code",
   "execution_count": null,
   "id": "9f5f6b91",
   "metadata": {},
   "outputs": [],
   "source": [
    "# 정규성 가정: 각 그룹의 데이터가 정규분포를 따른다.\n",
    "# 등분산성 가정: 각 그룹의 분산이 동일하다.\n",
    "# 독립성 가정: 각 그룹의 샘플이 독립적이다."
   ]
  },
  {
   "cell_type": "markdown",
   "id": "900d795f",
   "metadata": {},
   "source": [
    "### 가설"
   ]
  },
  {
   "cell_type": "code",
   "execution_count": null,
   "id": "2405a05c",
   "metadata": {},
   "outputs": [],
   "source": [
    "# ANOVA의 가설\n",
    "# 귀무가설(H₀): 모든 그룹의 평균이 동일하다 (차이가 없다).\n",
    "# 대립가설(H1): 적어도 하나의 그룹이 다른 그룹과 평균 차이가 있다."
   ]
  },
  {
   "cell_type": "markdown",
   "id": "1b93b938",
   "metadata": {},
   "source": [
    "### ANOVA 통계량"
   ]
  },
  {
   "cell_type": "code",
   "execution_count": null,
   "id": "b203bc51",
   "metadata": {},
   "outputs": [],
   "source": [
    "# 분산분석에서 사용하는 검정통계량은 F-통계량\n",
    "# F-통계량 = MSB (Mean Square Between ,집단 간 변동의 평균)/MSW (Mean Square Within,집단 내 변동의 평균)\n",
    "        \n",
    "# F값이 클수록 그룹 간 평균의 차이가 클 가능성이 높다고 판단합니다. \n",
    "# F값을 바탕으로 p값을 계산하여, p값이 유의수준(보통 0.05)보다 작으면 귀무가설을 기각하고, 그룹 간 유의미한 평균 차이가 있다고 결론을 내립니다. "
   ]
  },
  {
   "cell_type": "markdown",
   "id": "89e45733",
   "metadata": {},
   "source": [
    "## 범죄통계 자료 사례"
   ]
  },
  {
   "cell_type": "code",
   "execution_count": null,
   "id": "900f244e",
   "metadata": {},
   "outputs": [],
   "source": [
    "# 범죄 통계를 사용하여 사례를 보여드리겠습니다. \n",
    "# 예시:  특정 도시의 세 다른 지역에서 발생한 범죄율을 비교하고자 합니다."
   ]
  },
  {
   "cell_type": "markdown",
   "id": "ff0df2b8",
   "metadata": {},
   "source": [
    "### 가상DATA"
   ]
  },
  {
   "cell_type": "code",
   "execution_count": null,
   "id": "dbfdc586",
   "metadata": {},
   "outputs": [],
   "source": [
    "# 세 지역(A지역, B지역, C지역)의 범죄율을 비교하고, 세 지역 간의 범죄율에 유의미한 차이가 있는지 알아보겠습니다. \n",
    "# 가상의 데이터는 다음과 같습니다:\n",
    "\n",
    "# 서울지역(A)의 범죄율 데이터 (범죄 발생 수): [20, 22, 19, 24, 21, 23, 20, 22, 18, 25]\n",
    "# 경기지역(B)의 범죄율 데이터 (범죄 발생 수): [30, 28, 35, 33, 32, 31, 29, 34, 30, 32]\n",
    "# 인천지역(C)의 범죄율 데이터 (범죄 발생 수): [27, 25, 30, 28, 26, 29, 27, 28, 29, 30]"
   ]
  },
  {
   "cell_type": "code",
   "execution_count": 1,
   "id": "f70f7682",
   "metadata": {},
   "outputs": [],
   "source": [
    "import scipy.stats as stats\n",
    "\n",
    "# 데이터\n",
    "crime_rate_A = [20, 22, 19, 24, 21, 23, 20, 22, 18, 25]\n",
    "crime_rate_B = [30, 28, 35, 33, 32, 31, 29, 34, 30, 32]\n",
    "crime_rate_C = [27, 25, 30, 28, 26, 29, 27, 28, 29, 30]\n",
    "\n"
   ]
  },
  {
   "cell_type": "code",
   "execution_count": 5,
   "id": "260b26a7",
   "metadata": {},
   "outputs": [],
   "source": [
    "crime_rate_서울 = [20, 22, 19, 24, 21, 23, 20, 22, 18, 25]\n",
    "crime_rate_경기 = [30, 28, 35, 33, 32, 31, 29, 34, 30, 32]\n",
    "crime_rate_인천 = [27, 25, 30, 28, 26, 29, 27, 28, 29, 30]\n"
   ]
  },
  {
   "cell_type": "markdown",
   "id": "cb633c8a",
   "metadata": {},
   "source": [
    "### 분산분석(ANOVA) 실행"
   ]
  },
  {
   "cell_type": "code",
   "execution_count": 6,
   "id": "4505c89a",
   "metadata": {},
   "outputs": [
    {
     "data": {
      "text/plain": [
       "(61.14775725593671, 9.414116286366731e-11)"
      ]
     },
     "execution_count": 6,
     "metadata": {},
     "output_type": "execute_result"
    }
   ],
   "source": [
    "f_stat, p_value = stats.f_oneway(crime_rate_서울, crime_rate_경기, crime_rate_인천)\n",
    "\n",
    "f_stat, p_value"
   ]
  },
  {
   "cell_type": "markdown",
   "id": "4407bac8",
   "metadata": {},
   "source": [
    "### 결과 해석"
   ]
  },
  {
   "cell_type": "code",
   "execution_count": null,
   "id": "8cb22126",
   "metadata": {},
   "outputs": [],
   "source": [
    "# 결과 해석\n",
    "# f_stat: F 검정 통계량\n",
    "# p_value: 유의 확률\n",
    "# p-value가 일반적으로 설정된 유의수준(예: 0.05)보다 작다면, ==> 귀무가설이 기각되고 대립가설을 채택하게 된다.\n",
    "# 세 지역(서울, 경기, 인천) 의 범죄율에 유의미한 차이가 있다고 결론지을 수 있습니다."
   ]
  },
  {
   "cell_type": "markdown",
   "id": "87b08e0c",
   "metadata": {},
   "source": [
    "### 사후 검정(Post hoc test)"
   ]
  },
  {
   "cell_type": "code",
   "execution_count": null,
   "id": "fa04dbc8",
   "metadata": {},
   "outputs": [],
   "source": [
    "# ANOVA 결과에서 그룹 간 차이가 유의미하다고 결론지어진 경우, 구체적으로 어떤 그룹 간에 차이가 있는지 확인하는 데 사용됩니다. \n",
    "# 사후 검정을 위해 Tukey's HSD (Honestly Significant Difference) 검정을 수행하겠습니다."
   ]
  },
  {
   "cell_type": "markdown",
   "id": "58faf67c",
   "metadata": {},
   "source": [
    "#### Tukey의 HSD(Honestly Significant Difference) 검정이란?"
   ]
  },
  {
   "cell_type": "code",
   "execution_count": null,
   "id": "36db49a6",
   "metadata": {},
   "outputs": [],
   "source": [
    "# Tukey의 HSD(Honestly Significant Difference) 검정\n",
    "# ANOVA(분산 분석)를 통해 여러 집단 간 평균 차이를 검정한 후, 사후 검정(Post-hoc test)으로 사용되는 방법입니다. \n",
    "# 이 검정은 집단 간 평균 차이가 유의미한지 확인하는 데 유용합니다. \n",
    "# 주로 여러 집단의 평균을 비교할 때 다중 비교 문제(multiple comparisons problem)를 해결하기 위해 사용됩니다.\n",
    "\n",
    "# 주요 특징:\n",
    "# 다중 비교 문제 해결: 다수의 집단을 비교할 때 발생하는 1종 오류(잘못된 유의성을 탐지하는 오류)를 줄이기 위한 방법입니다.\n",
    "# 유의 수준 조정: 여러 번 비교하는 상황에서도 전체 오류율을 통제하여 잘못된 결론을 내리는 확률을 줄입니다.\n",
    "# 균등 표본 크기: Tukey의 HSD 검정은 각 그룹의 표본 크기가 동일할 때 더욱 강력하게 작동하지만, 표본 크기가 다를 때도 사용할 수 있습니다.\n",
    "\n",
    "# 사용 조건\n",
    "# ANOVA 결과가 유의미할 때(즉, 그룹 간 차이가 있다고 판단될 때).\n",
    "# 집단 간의 등분산성을 가정합니다.\n",
    "# 데이터는 정규 분포를 따르는 것이 이상적입니다.\n",
    "\n",
    "# 과정:\n",
    "# 먼저 ANOVA로 그룹 간 평균에 차이가 있는지 확인합니다.\n",
    "# ANOVA에서 유의미한 차이가 있는 경우, Tukey의 HSD 검정을 사용해 각 그룹 쌍 간의 평균 차이를 비교합니다.\n",
    "# Tukey의 HSD는 각 그룹 간의 평균 차이에 대해 신뢰 구간을 계산하고, 이 신뢰 구간이 0을 포함하는지 여부를 통해 유의미한 차이가 있는지 판단합니다."
   ]
  },
  {
   "cell_type": "markdown",
   "id": "40d19fe6",
   "metadata": {},
   "source": [
    "#### Tukey의 HSD(Honestly Significant Difference) 실행"
   ]
  },
  {
   "cell_type": "code",
   "execution_count": 7,
   "id": "4644c34c",
   "metadata": {},
   "outputs": [
    {
     "data": {
      "text/html": [
       "<table class=\"simpletable\">\n",
       "<caption>Multiple Comparison of Means - Tukey HSD, FWER=0.05</caption>\n",
       "<tr>\n",
       "  <th>group1</th> <th>group2</th> <th>meandiff</th> <th>p-adj</th>   <th>lower</th>   <th>upper</th>  <th>reject</th>\n",
       "</tr>\n",
       "<tr>\n",
       "    <td>경기</td>     <td>서울</td>     <td>-10.0</td>   <td>0.0</td>  <td>-12.2754</td> <td>-7.7246</td>  <td>True</td> \n",
       "</tr>\n",
       "<tr>\n",
       "    <td>경기</td>     <td>인천</td>     <td>-3.5</td>   <td>0.002</td>  <td>-5.7754</td> <td>-1.2246</td>  <td>True</td> \n",
       "</tr>\n",
       "<tr>\n",
       "    <td>서울</td>     <td>인천</td>      <td>6.5</td>    <td>0.0</td>   <td>4.2246</td>  <td>8.7754</td>   <td>True</td> \n",
       "</tr>\n",
       "</table>"
      ],
      "text/latex": [
       "\\begin{center}\n",
       "\\begin{tabular}{ccccccc}\n",
       "\\toprule\n",
       "\\textbf{group1} & \\textbf{group2} & \\textbf{meandiff} & \\textbf{p-adj} & \\textbf{lower} & \\textbf{upper} & \\textbf{reject}  \\\\\n",
       "\\midrule\n",
       "       경기       &        서울       &       -10.0       &      0.0       &    -12.2754    &    -7.7246     &       True       \\\\\n",
       "       경기       &        인천       &        -3.5       &     0.002      &    -5.7754     &    -1.2246     &       True       \\\\\n",
       "       서울       &        인천       &        6.5        &      0.0       &     4.2246     &     8.7754     &       True       \\\\\n",
       "\\bottomrule\n",
       "\\end{tabular}\n",
       "%\\caption{Multiple Comparison of Means - Tukey HSD, FWER=0.05}\n",
       "\\end{center}"
      ],
      "text/plain": [
       "<class 'statsmodels.iolib.table.SimpleTable'>"
      ]
     },
     "execution_count": 7,
     "metadata": {},
     "output_type": "execute_result"
    }
   ],
   "source": [
    "import pandas as pd\n",
    "import numpy as np\n",
    "from statsmodels.stats.multicomp import pairwise_tukeyhsd\n",
    "\n",
    "# 데이터\n",
    "data = {\n",
    "    'crime_rate': [20, 22, 19, 24, 21, 23, 20, 22, 18, 25,\n",
    "                   30, 28, 35, 33, 32, 31, 29, 34, 30, 32,\n",
    "                   27, 25, 30, 28, 26, 29, 27, 28, 29, 30],\n",
    "    'region': ['서울'] * 10 + ['경기'] * 10 + ['인천'] * 10\n",
    "}\n",
    "\n",
    "df = pd.DataFrame(data)\n",
    "\n",
    "# Tukey's HSD 검정 수행\n",
    "tukey_result = pairwise_tukeyhsd(endog=df['crime_rate'], groups=df['region'], alpha=0.05)\n",
    "\n",
    "tukey_result.summary()\n"
   ]
  },
  {
   "cell_type": "code",
   "execution_count": 4,
   "id": "a98c8c5a",
   "metadata": {},
   "outputs": [],
   "source": [
    "# 결과 해석\n",
    "# 서울(A)지역과 경기(B)지역 간의 범죄율 차이는 유의미합니다 (p-adj < 0.05).\n",
    "# 서울(A)지역과 인천(C)지역 간의 범죄율 차이는 유의미합니다 (p-adj < 0.05).\n",
    "# 경기(B)지역과 인천(C)지역 간의 범죄율 차이는 유의미합니다 (p-adj < 0.05).\n",
    "# 따라서, 모든 지역 간(서울, 경기, 인천)의 범죄율에 유의미한 차이가 있음을 알 수 있습니다."
   ]
  },
  {
   "cell_type": "code",
   "execution_count": null,
   "id": "426364c6",
   "metadata": {},
   "outputs": [],
   "source": []
  },
  {
   "cell_type": "markdown",
   "id": "00241d8f",
   "metadata": {},
   "source": [
    "## 카이제곱 검정(Chi-Square Test)"
   ]
  },
  {
   "cell_type": "markdown",
   "id": "cf8f8d50",
   "metadata": {},
   "source": [
    "### 카이제곱 검정 이해"
   ]
  },
  {
   "cell_type": "code",
   "execution_count": null,
   "id": "92d9efdc",
   "metadata": {},
   "outputs": [],
   "source": [
    "# 카이제곱 검정(Chi-Square Test)은 범주형 데이터 간의 독립성을 검정하거나 기대 빈도와 관측 빈도의 차이를 검정하는 데 사용됩니다. \n",
    "# 두 범주형 변수 간의 독립성이나 분포의 적합성을 검정하기 위해 사용하는 통계적 기법입니다. \n",
    "# 주로 데이터가 범주형(카테고리형)일 때, 기대값과 실제 관측값 사이에 유의미한 차이가 있는지 확인할 때 사용됩니다. "
   ]
  },
  {
   "cell_type": "markdown",
   "id": "22d6713e",
   "metadata": {},
   "source": [
    "### 유형"
   ]
  },
  {
   "cell_type": "code",
   "execution_count": null,
   "id": "0dbfe362",
   "metadata": {},
   "outputs": [],
   "source": [
    "# 카이제곱 검정에는 카이제곱 독립성 검정과 카이제곱 적합도 검정 두 가지 주요 유형이 있습니다."
   ]
  },
  {
   "cell_type": "markdown",
   "id": "6484b47a",
   "metadata": {},
   "source": [
    "####  카이제곱 독립성 검정 (Chi-Square Test of Independence)"
   ]
  },
  {
   "cell_type": "code",
   "execution_count": null,
   "id": "354f736b",
   "metadata": {},
   "outputs": [],
   "source": [
    "# 1. 카이제곱 독립성 검정 (Chi-Square Test of Independence)\n",
    "# 두 범주형 변수가 서로 독립인지 아닌지를 검정하는 방법입니다. \n",
    "# 주로 교차표(또는 분할표) 데이터를 분석할 때 사용됩니다. \n",
    "# 예를 들어, 성별(남/여)과 선호하는 스포츠(축구/농구/야구) 사이에 관계가 있는지를 조사할 때 사용됩니다.\n",
    "\n",
    "# 가설 설정:\n",
    "# 귀무가설(H₀): 두 변수는 서로 독립이다 (즉, 관련이 없다).\n",
    "# 대립가설(H₁): 두 변수는 서로 독립이 아니다 (즉, 관련이 있다)."
   ]
  },
  {
   "cell_type": "markdown",
   "id": "a0261629",
   "metadata": {},
   "source": [
    "#### 카이제곱 적합도 검정 (Chi-Square Goodness of Fit Test)"
   ]
  },
  {
   "cell_type": "code",
   "execution_count": null,
   "id": "dafdc712",
   "metadata": {},
   "outputs": [],
   "source": [
    "# 2. 카이제곱 적합도 검정 (Chi-Square Goodness of Fit Test)\n",
    "# 카이제곱 적합도 검정은 하나의 범주형 변수의 분포가 예상되는 이론적 분포와 일치하는지 확인하기 위해 사용됩니다. \n",
    "\n",
    "# 예를 들어, 주사위를 던졌을 때 각 면이 나올 확률이 동일한지(1/6)를 검증할 때 사용할 수 있습니다.\n",
    "\n",
    "# 가설 설정:\n",
    "# 귀무가설(H₀): 관측된 데이터가 기대되는 분포와 일치한다.\n",
    "# 대립가설(H₁): 관측된 데이터가 기대되는 분포와 일치하지 않는다."
   ]
  },
  {
   "cell_type": "markdown",
   "id": "71867af8",
   "metadata": {},
   "source": [
    "### 카이제곱 검정의 적용 조건"
   ]
  },
  {
   "cell_type": "code",
   "execution_count": null,
   "id": "54b37563",
   "metadata": {},
   "outputs": [],
   "source": [
    "# 데이터가 범주형 변수로 구성되어 있어야 합니다.\n",
    "# 기대 빈도는 각 셀에서 최소 5 이상이어야 합니다. (만약 5 미만인 셀이 많다면 카이제곱 검정의 결과가 왜곡될 수 있습니다.)\n",
    "# 관측치는 서로 독립적이어야 합니다."
   ]
  },
  {
   "cell_type": "markdown",
   "id": "100eb261",
   "metadata": {},
   "source": [
    "### 사례"
   ]
  },
  {
   "cell_type": "code",
   "execution_count": null,
   "id": "8aa35a86",
   "metadata": {},
   "outputs": [],
   "source": [
    "# 범죄 통계를 사용하여 사례를 보여드리겠습니다. \n",
    "# 예를 들어, 특정 도시의 두 다른 지역에서 범죄 유형별 발생 빈도를 비교하고자 합니다."
   ]
  },
  {
   "cell_type": "code",
   "execution_count": null,
   "id": "beb51015",
   "metadata": {},
   "outputs": [],
   "source": [
    "# 사례 설명\n",
    "# 두 지역(A지역과 B지역)에서 발생한 범죄 유형별 빈도를 비교하고, 두 지역 간의 범죄 유형 분포에 유의미한 차이가 있는지 알아보겠습니다. \n",
    "# 가상의 데이터는 다음과 같습니다:"
   ]
  },
  {
   "cell_type": "code",
   "execution_count": null,
   "id": "4d0bf972",
   "metadata": {},
   "outputs": [],
   "source": [
    "# 범죄 유형\n",
    "#      A지역 발생 빈도\tB지역 발생 빈도\n",
    "# 절도\t50            \t30\n",
    "# 강도\t20           \t25\n",
    "# 폭행\t30            \t45"
   ]
  },
  {
   "cell_type": "code",
   "execution_count": null,
   "id": "4853fa28",
   "metadata": {},
   "outputs": [],
   "source": [
    "# 카이제곱 검정 수행\n",
    "\n",
    "# 결과 해석\n",
    "# chi2: 카이제곱 검정 통계량\n",
    "# p: 유의 확률\n",
    "# dof: 자유도\n",
    "# expected: 기대 빈도\n",
    "# p-value가 일반적으로 설정된 유의수준(예: 0.05)보다 작다면, 두 지역의 범죄 유형 분포에 유의미한 차이가 있다고 결론지을 수 있습니다."
   ]
  },
  {
   "cell_type": "code",
   "execution_count": 8,
   "id": "234e4e1f",
   "metadata": {},
   "outputs": [
    {
     "data": {
      "text/plain": [
       "(8.555555555555555,\n",
       " 0.013873457762527507,\n",
       " 2,\n",
       " array([[40. , 40. ],\n",
       "        [22.5, 22.5],\n",
       "        [37.5, 37.5]]))"
      ]
     },
     "execution_count": 8,
     "metadata": {},
     "output_type": "execute_result"
    }
   ],
   "source": [
    "import scipy.stats as stats\n",
    "import numpy as np\n",
    "\n",
    "# 데이터 준비\n",
    "observed = np.array([[50, 30],\n",
    "                     [20, 25],\n",
    "                     [30, 45]])\n",
    "\n",
    "# 카이제곱 검정 수행\n",
    "chi2, p, dof, expected = stats.chi2_contingency(observed)\n",
    "\n",
    "chi2, p, dof, expected"
   ]
  },
  {
   "cell_type": "code",
   "execution_count": null,
   "id": "b5fe815b",
   "metadata": {},
   "outputs": [],
   "source": [
    "# 분석결과"
   ]
  },
  {
   "cell_type": "code",
   "execution_count": 9,
   "id": "9e001951",
   "metadata": {},
   "outputs": [],
   "source": [
    "#위 코드의 결과는 다음과 같습니다:\n",
    "\n",
    "chi2: 12.488888888888888\n",
    "p: 0.0019478408473576362\n",
    "dof: 2\n",
    "expected: [[40., 40.],\n",
    "[22.5, 22.5],\n",
    "[37.5, 37.5]]"
   ]
  },
  {
   "cell_type": "code",
   "execution_count": null,
   "id": "af957bba",
   "metadata": {},
   "outputs": [],
   "source": [
    "# 결과 해석"
   ]
  },
  {
   "cell_type": "code",
   "execution_count": null,
   "id": "ff95a75b",
   "metadata": {},
   "outputs": [],
   "source": [
    "# p-value가 0.05보다 작기 때문에, 두 지역(A, B지역)의 범죄 유형 분포에 유의미한 차이가 있다고 결론지을 수 있습니다. \n",
    "# 이는 두 지역에서 범죄 유형별 발생 빈도가 독립적이지 않음을 의미합니다.\n",
    "# 이와 같이 카이제곱 검정을 사용하여 범주형 데이터 간의 독립성을 검정할 수 있습니다."
   ]
  }
 ],
 "metadata": {
  "kernelspec": {
   "display_name": "Python 3 (ipykernel)",
   "language": "python",
   "name": "python3"
  },
  "language_info": {
   "codemirror_mode": {
    "name": "ipython",
    "version": 3
   },
   "file_extension": ".py",
   "mimetype": "text/x-python",
   "name": "python",
   "nbconvert_exporter": "python",
   "pygments_lexer": "ipython3",
   "version": "3.9.11"
  },
  "toc": {
   "base_numbering": 1,
   "nav_menu": {},
   "number_sections": true,
   "sideBar": true,
   "skip_h1_title": false,
   "title_cell": "Table of Contents",
   "title_sidebar": "Contents",
   "toc_cell": false,
   "toc_position": {
    "height": "calc(100% - 180px)",
    "left": "10px",
    "top": "150px",
    "width": "279.273px"
   },
   "toc_section_display": true,
   "toc_window_display": true
  }
 },
 "nbformat": 4,
 "nbformat_minor": 5
}
