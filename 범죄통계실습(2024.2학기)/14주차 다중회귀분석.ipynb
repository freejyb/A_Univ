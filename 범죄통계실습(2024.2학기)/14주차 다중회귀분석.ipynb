{
 "cells": [
  {
   "cell_type": "markdown",
   "metadata": {
    "id": "xDGOzkFRwblC"
   },
   "source": [
    "# 다중회귀분석"
   ]
  },
  {
   "cell_type": "code",
   "execution_count": null,
   "metadata": {
    "id": "mVRxBQGvwblG"
   },
   "outputs": [],
   "source": [
    "# 다중회귀분석(Multiple Regression Analysis)은 여러 독립변수들이 종속변수에 미치는 영향을 분석하는 데 사용됩니다."
   ]
  },
  {
   "cell_type": "markdown",
   "metadata": {
    "id": "yk6CcdE6wblH"
   },
   "source": [
    "## 개괄 이해"
   ]
  },
  {
   "cell_type": "markdown",
   "metadata": {
    "id": "pIiSiLkywblI"
   },
   "source": [
    "* 독립변수(X)가 2개 이상인 경우  y = a1x1 + a2x2 + b\n",
    "* 가정 : 선형성, 독립성, 정규성, 등분산성\n",
    "* 다중공선성 점검이 필수 : 독립변수간 선형의 관련성을 가지는 경우\n",
    "* 회귀계수 --> 편회귀계수\n",
    "* 결정계수 (0 ~1 ) --> 수정결정계수 확인 필요"
   ]
  },
  {
   "cell_type": "markdown",
   "metadata": {
    "id": "1iTA_XtWwblI"
   },
   "source": [
    "## 외부데이터 사례"
   ]
  },
  {
   "cell_type": "markdown",
   "metadata": {
    "id": "HADvKiBDwblJ"
   },
   "source": [
    "### 라이브러리 불러오기"
   ]
  },
  {
   "cell_type": "code",
   "execution_count": 15,
   "metadata": {
    "executionInfo": {
     "elapsed": 495,
     "status": "ok",
     "timestamp": 1731254565930,
     "user": {
      "displayName": "전윤범",
      "userId": "16579588953913211126"
     },
     "user_tz": -540
    },
    "id": "TbCObd95wblJ"
   },
   "outputs": [],
   "source": [
    "import pandas as pd\n",
    "import numpy as np\n",
    "import matplotlib.pyplot as plt\n",
    "\n",
    "from sklearn.model_selection import train_test_split\n",
    "from sklearn.linear_model import LinearRegression\n",
    "from sklearn.metrics import mean_squared_error, r2_score"
   ]
  },
  {
   "cell_type": "code",
   "execution_count": 16,
   "metadata": {
    "id": "YmywMhKQwblJ"
   },
   "outputs": [],
   "source": [
    "# 1. train_test_split\n",
    "# from sklearn.model_selection import train_test_split\n",
    "# 데이터셋을 훈련 세트와 테스트 세트로 분할하는 함수입니다.\n",
    "# 일반적으로 머신러닝 모델은 데이터를 훈련과 테스트 두 가지로 나누어 학습과 평가를 합니다.\n",
    "\n",
    "# 2. LinearRegression\n",
    "# from sklearn.linear_model import LinearRegression\n",
    "# 선형 회귀 모델을 생성하기 위한 클래스입니다.\n",
    "# 선형 회귀는 데이터의 선형 관계를 모델링하여 예측을 수행하는 가장 기본적인 회귀 방법입니다.\n",
    "\n",
    "# 3. mean_squared_error 및 r2_score\n",
    "# from sklearn.metrics import mean_squared_error, r2_score\n",
    "# 모델의 성능을 평가하기 위한 평가 지표입니다.\n",
    "# mean_squared_error (MSE)\n",
    "# 평균 제곱 오차(MSE)는 예측값과 실제값의 차이를 제곱한 후 평균을 구한 값입니다.\n",
    "# 값이 작을수록 모델의 예측이 실제값에 더 가깝다는 것을 의미합니다.\n",
    "\n",
    "# r2_score (R² Score)\n",
    "# 결정 계수(R²)는 모델이 데이터를 얼마나 잘 설명하는지 나타내는 지표입니다.\n",
    "# 1에 가까울수록 모델이 데이터를 잘 설명합니다.\n",
    "# R² 값은 0에서 1 사이의 값을 가지며, 음수가 될 수도 있습니다 (모델이 형편없는 경우)."
   ]
  },
  {
   "cell_type": "code",
   "execution_count": 17,
   "metadata": {
    "executionInfo": {
     "elapsed": 573,
     "status": "ok",
     "timestamp": 1731254569533,
     "user": {
      "displayName": "전윤범",
      "userId": "16579588953913211126"
     },
     "user_tz": -540
    },
    "id": "G_uIPugSwblK"
   },
   "outputs": [],
   "source": [
    "# 오류 무시 코드\n",
    "import warnings\n",
    "warnings.filterwarnings(\"ignore\")\n",
    "\n",
    "# 한글폰트 출력 가능 코드\n",
    "plt.rcParams[\"font.family\"] = 'Malgun Gothic'\n",
    "plt.rcParams['axes.unicode_minus'] = False"
   ]
  },
  {
   "cell_type": "code",
   "execution_count": 18,
   "metadata": {
    "id": "Bu9TintuwblK"
   },
   "outputs": [],
   "source": [
    "# Python에서는 경고 메시지를 무시할 수 있도록 warnings 모듈을 제공합니다.\n",
    "# 경고는 코드의 실행에 영향을 주지 않지만, 출력이 많아지면 분석에 방해가 될 수 있습니다.\n",
    "# 특히 머신러닝이나 데이터 분석 작업에서는 경고가 많이 발생할 수 있습니다."
   ]
  },
  {
   "cell_type": "code",
   "execution_count": 19,
   "metadata": {},
   "outputs": [],
   "source": [
    "# 현재 작업 디렉토리 확인\n",
    "# Python에서는 현재 작업 디렉토리를 확인할 수 있습니다."
   ]
  },
  {
   "cell_type": "code",
   "execution_count": 20,
   "metadata": {},
   "outputs": [
    {
     "name": "stdout",
     "output_type": "stream",
     "text": [
      "현재 작업 디렉토리: C:\\finance_data\\안산대 수업\\범죄통계학 실습\n"
     ]
    }
   ],
   "source": [
    "import os\n",
    "\n",
    "print(\"현재 작업 디렉토리:\", os.getcwd())\n"
   ]
  },
  {
   "cell_type": "markdown",
   "metadata": {
    "id": "ZjfGdEvmwblL"
   },
   "source": [
    "### 외부데이터 불러오기"
   ]
  },
  {
   "cell_type": "code",
   "execution_count": 21,
   "metadata": {
    "colab": {
     "base_uri": "https://localhost:8080/",
     "height": 368
    },
    "executionInfo": {
     "elapsed": 502,
     "status": "error",
     "timestamp": 1731254581827,
     "user": {
      "displayName": "전윤범",
      "userId": "16579588953913211126"
     },
     "user_tz": -540
    },
    "id": "o1pcNDimwblL",
    "outputId": "85223666-65c4-4188-bc22-cd747b6c2d3a"
   },
   "outputs": [
    {
     "data": {
      "text/html": [
       "<div>\n",
       "<style scoped>\n",
       "    .dataframe tbody tr th:only-of-type {\n",
       "        vertical-align: middle;\n",
       "    }\n",
       "\n",
       "    .dataframe tbody tr th {\n",
       "        vertical-align: top;\n",
       "    }\n",
       "\n",
       "    .dataframe thead th {\n",
       "        text-align: right;\n",
       "    }\n",
       "</style>\n",
       "<table border=\"1\" class=\"dataframe\">\n",
       "  <thead>\n",
       "    <tr style=\"text-align: right;\">\n",
       "      <th></th>\n",
       "      <th>Unnamed: 0</th>\n",
       "      <th>날짜</th>\n",
       "      <th>ID</th>\n",
       "      <th>나이</th>\n",
       "      <th>성별</th>\n",
       "      <th>소득</th>\n",
       "      <th>범죄건수</th>\n",
       "    </tr>\n",
       "  </thead>\n",
       "  <tbody>\n",
       "    <tr>\n",
       "      <th>0</th>\n",
       "      <td>0</td>\n",
       "      <td>2022-11-24</td>\n",
       "      <td>1</td>\n",
       "      <td>71</td>\n",
       "      <td>여성</td>\n",
       "      <td>141440</td>\n",
       "      <td>5</td>\n",
       "    </tr>\n",
       "    <tr>\n",
       "      <th>1</th>\n",
       "      <td>1</td>\n",
       "      <td>2022-02-27</td>\n",
       "      <td>2</td>\n",
       "      <td>67</td>\n",
       "      <td>남성</td>\n",
       "      <td>122769</td>\n",
       "      <td>4</td>\n",
       "    </tr>\n",
       "    <tr>\n",
       "      <th>2</th>\n",
       "      <td>2</td>\n",
       "      <td>2022-01-13</td>\n",
       "      <td>3</td>\n",
       "      <td>67</td>\n",
       "      <td>남성</td>\n",
       "      <td>122908</td>\n",
       "      <td>2</td>\n",
       "    </tr>\n",
       "    <tr>\n",
       "      <th>3</th>\n",
       "      <td>3</td>\n",
       "      <td>2022-05-21</td>\n",
       "      <td>4</td>\n",
       "      <td>21</td>\n",
       "      <td>여성</td>\n",
       "      <td>79638</td>\n",
       "      <td>7</td>\n",
       "    </tr>\n",
       "    <tr>\n",
       "      <th>4</th>\n",
       "      <td>4</td>\n",
       "      <td>2022-05-06</td>\n",
       "      <td>5</td>\n",
       "      <td>32</td>\n",
       "      <td>남성</td>\n",
       "      <td>57388</td>\n",
       "      <td>8</td>\n",
       "    </tr>\n",
       "    <tr>\n",
       "      <th>...</th>\n",
       "      <td>...</td>\n",
       "      <td>...</td>\n",
       "      <td>...</td>\n",
       "      <td>...</td>\n",
       "      <td>...</td>\n",
       "      <td>...</td>\n",
       "      <td>...</td>\n",
       "    </tr>\n",
       "    <tr>\n",
       "      <th>95</th>\n",
       "      <td>95</td>\n",
       "      <td>2022-12-19</td>\n",
       "      <td>96</td>\n",
       "      <td>29</td>\n",
       "      <td>남성</td>\n",
       "      <td>65745</td>\n",
       "      <td>5</td>\n",
       "    </tr>\n",
       "    <tr>\n",
       "      <th>96</th>\n",
       "      <td>96</td>\n",
       "      <td>2022-10-13</td>\n",
       "      <td>97</td>\n",
       "      <td>50</td>\n",
       "      <td>여성</td>\n",
       "      <td>135456</td>\n",
       "      <td>4</td>\n",
       "    </tr>\n",
       "    <tr>\n",
       "      <th>97</th>\n",
       "      <td>97</td>\n",
       "      <td>2022-04-23</td>\n",
       "      <td>98</td>\n",
       "      <td>76</td>\n",
       "      <td>남성</td>\n",
       "      <td>29016</td>\n",
       "      <td>3</td>\n",
       "    </tr>\n",
       "    <tr>\n",
       "      <th>98</th>\n",
       "      <td>98</td>\n",
       "      <td>2022-12-17</td>\n",
       "      <td>99</td>\n",
       "      <td>24</td>\n",
       "      <td>여성</td>\n",
       "      <td>135247</td>\n",
       "      <td>3</td>\n",
       "    </tr>\n",
       "    <tr>\n",
       "      <th>99</th>\n",
       "      <td>99</td>\n",
       "      <td>2022-06-16</td>\n",
       "      <td>100</td>\n",
       "      <td>73</td>\n",
       "      <td>여성</td>\n",
       "      <td>52018</td>\n",
       "      <td>0</td>\n",
       "    </tr>\n",
       "  </tbody>\n",
       "</table>\n",
       "<p>100 rows × 7 columns</p>\n",
       "</div>"
      ],
      "text/plain": [
       "    Unnamed: 0          날짜   ID  나이  성별      소득  범죄건수\n",
       "0            0  2022-11-24    1  71  여성  141440     5\n",
       "1            1  2022-02-27    2  67  남성  122769     4\n",
       "2            2  2022-01-13    3  67  남성  122908     2\n",
       "3            3  2022-05-21    4  21  여성   79638     7\n",
       "4            4  2022-05-06    5  32  남성   57388     8\n",
       "..         ...         ...  ...  ..  ..     ...   ...\n",
       "95          95  2022-12-19   96  29  남성   65745     5\n",
       "96          96  2022-10-13   97  50  여성  135456     4\n",
       "97          97  2022-04-23   98  76  남성   29016     3\n",
       "98          98  2022-12-17   99  24  여성  135247     3\n",
       "99          99  2022-06-16  100  73  여성   52018     0\n",
       "\n",
       "[100 rows x 7 columns]"
      ]
     },
     "execution_count": 21,
     "metadata": {},
     "output_type": "execute_result"
    }
   ],
   "source": [
    "# 판다스 부분에서 했었던 데이터 불러오기 : \"crime_list.csv\"\n",
    "\n",
    "crime_list = pd.read_csv(\"crime_list.csv\")\n",
    "\n",
    "crime_list"
   ]
  },
  {
   "cell_type": "markdown",
   "metadata": {
    "id": "68OaDePZwblL"
   },
   "source": [
    "### 데이터 탐색"
   ]
  },
  {
   "cell_type": "code",
   "execution_count": 22,
   "metadata": {
    "id": "gaxbxXO0wblL"
   },
   "outputs": [
    {
     "name": "stdout",
     "output_type": "stream",
     "text": [
      "<class 'pandas.core.frame.DataFrame'>\n",
      "RangeIndex: 100 entries, 0 to 99\n",
      "Data columns (total 7 columns):\n",
      " #   Column      Non-Null Count  Dtype \n",
      "---  ------      --------------  ----- \n",
      " 0   Unnamed: 0  100 non-null    int64 \n",
      " 1   날짜          100 non-null    object\n",
      " 2   ID          100 non-null    int64 \n",
      " 3   나이          100 non-null    int64 \n",
      " 4   성별          100 non-null    object\n",
      " 5   소득          100 non-null    int64 \n",
      " 6   범죄건수        100 non-null    int64 \n",
      "dtypes: int64(5), object(2)\n",
      "memory usage: 5.6+ KB\n"
     ]
    }
   ],
   "source": [
    "crime_list.info()"
   ]
  },
  {
   "cell_type": "code",
   "execution_count": 23,
   "metadata": {
    "id": "TfFTbgmEwblL"
   },
   "outputs": [],
   "source": [
    "# crime_list.info()는 Pandas의 DataFrame 객체인 crime_list에 대해 기본적인 정보를 출력하는 메서드입니다.\n",
    "# 이 메서드는 데이터의 구조를 간단하게 확인할 수 있게 해줍니다."
   ]
  },
  {
   "cell_type": "code",
   "execution_count": 24,
   "metadata": {},
   "outputs": [],
   "source": [
    "# 데이터 설명\n",
    "# 열 이름\t설명\t데이터 타입\t결측치 여부\n",
    "# 날짜\t날짜 정보 (문자열)\tobject\t결측치 없음 (100 non-null)\n",
    "# ID\t식별자 (ID)\tint64\t결측치 없음 (100 non-null)\n",
    "# 나이\t나이 정보\tint64\t결측치 없음 (100 non-null)\n",
    "# 성별\t성별 정보 (남성, 여성 등)\tobject\t결측치 없음 (100 non-null)\n",
    "# 소득\t소득 정보\tint64\t결측치 없음 (100 non-null)\n",
    "# 범죄건수\t범죄 발생 건수\tint64\t결측치 없음 (100 non-null)"
   ]
  },
  {
   "cell_type": "markdown",
   "metadata": {
    "id": "9lxurpdqwblL"
   },
   "source": [
    "### 분석"
   ]
  },
  {
   "cell_type": "code",
   "execution_count": 25,
   "metadata": {
    "id": "B8a6m_q-wblL"
   },
   "outputs": [],
   "source": [
    "# 필요한 라이브러리\n",
    "\n",
    "import statsmodels.api as sm\n",
    "\n",
    "# target은 종속변수, feature는 독립변수와 같다.\n",
    "# target은 종속변수 : 범죄건수\n",
    "# feature는 독립변수 : 나이, 소득\n",
    "\n",
    "target = crime_list['범죄건수']\n",
    "feature1 = crime_list[\"나이\"]\n",
    "feature2 = crime_list[\"소득\"]\n",
    "feature = pd.concat([feature1, feature2], axis=1)\n",
    "\n",
    "# 상수항을 더해줘서 회귀식을 더 잘 적합할 수 있도록 만들어 준다.\n",
    "feature_add = sm.add_constant(feature, has_constant='add')\n",
    "# 상수항 더한 것 확인\n",
    "# feature_add"
   ]
  },
  {
   "cell_type": "code",
   "execution_count": 26,
   "metadata": {},
   "outputs": [],
   "source": [
    "# target:종속 변수로, 예측하고자 하는 값입니다. 여기서는 **범죄건수**를 예측 대상으로 설정합니다.\n",
    "# feature1, feature2:\n",
    "# 독립 변수로, 회귀 분석에서 예측에 사용되는 입력 변수입니다.\n",
    "# feature1은 나이, feature2는 **소득**입니다\n",
    "\n",
    "# pd.concat():\n",
    "# 두 독립 변수를 하나의 DataFrame으로 결합합니다. axis=1은 열 방향으로 결합한다는 의미입니다."
   ]
  },
  {
   "cell_type": "markdown",
   "metadata": {
    "id": "fP4QfHflwblM"
   },
   "source": [
    "### 결과"
   ]
  },
  {
   "cell_type": "code",
   "execution_count": 27,
   "metadata": {
    "id": "Gz49vk67wblM"
   },
   "outputs": [],
   "source": [
    "#  Statsmodels 라이브러리의 OLS (Ordinary Least Squares, 최소자승법) 회귀 모델을 사용하여 데이터를 적합(fit)하고, 회귀 분석 결과를 요약 출력하는 것입니다.\n",
    "#   sm.OLS(target, feature_add):\n",
    "\n",
    "# target: 종속 변수(y), 예측하고자 하는 값입니다.\n",
    "# feature_add: 독립 변수(X), 예측에 사용되는 입력 변수입니다.\n",
    "# OLS는 선형 회귀 모델을 생성합니다.\n",
    "# fit():\n",
    "# fit() 메서드는 데이터를 사용해 모델을 훈련시킵니다.\n",
    "# 적합된 모델 객체인 fitted_model을 반환합니다.\n",
    "# summary():\n",
    "# summary() 메서드는 회귀 분석 결과를 요약한 표를 출력합니다.\n",
    "# 다양한 통계 정보를 제공합니다."
   ]
  },
  {
   "cell_type": "code",
   "execution_count": 28,
   "metadata": {
    "id": "X2JBrEDEwblM"
   },
   "outputs": [
    {
     "data": {
      "text/html": [
       "<table class=\"simpletable\">\n",
       "<caption>OLS Regression Results</caption>\n",
       "<tr>\n",
       "  <th>Dep. Variable:</th>          <td>범죄건수</td>       <th>  R-squared:         </th> <td>   0.050</td>\n",
       "</tr>\n",
       "<tr>\n",
       "  <th>Model:</th>                   <td>OLS</td>       <th>  Adj. R-squared:    </th> <td>   0.030</td>\n",
       "</tr>\n",
       "<tr>\n",
       "  <th>Method:</th>             <td>Least Squares</td>  <th>  F-statistic:       </th> <td>   2.535</td>\n",
       "</tr>\n",
       "<tr>\n",
       "  <th>Date:</th>             <td>Mon, 11 Nov 2024</td> <th>  Prob (F-statistic):</th>  <td>0.0845</td> \n",
       "</tr>\n",
       "<tr>\n",
       "  <th>Time:</th>                 <td>01:17:59</td>     <th>  Log-Likelihood:    </th> <td> -253.61</td>\n",
       "</tr>\n",
       "<tr>\n",
       "  <th>No. Observations:</th>      <td>   100</td>      <th>  AIC:               </th> <td>   513.2</td>\n",
       "</tr>\n",
       "<tr>\n",
       "  <th>Df Residuals:</th>          <td>    97</td>      <th>  BIC:               </th> <td>   521.0</td>\n",
       "</tr>\n",
       "<tr>\n",
       "  <th>Df Model:</th>              <td>     2</td>      <th>                     </th>     <td> </td>   \n",
       "</tr>\n",
       "<tr>\n",
       "  <th>Covariance Type:</th>      <td>nonrobust</td>    <th>                     </th>     <td> </td>   \n",
       "</tr>\n",
       "</table>\n",
       "<table class=\"simpletable\">\n",
       "<tr>\n",
       "    <td></td>       <th>coef</th>     <th>std err</th>      <th>t</th>      <th>P>|t|</th>  <th>[0.025</th>    <th>0.975]</th>  \n",
       "</tr>\n",
       "<tr>\n",
       "  <th>const</th> <td>    6.7801</td> <td>    1.166</td> <td>    5.814</td> <td> 0.000</td> <td>    4.465</td> <td>    9.095</td>\n",
       "</tr>\n",
       "<tr>\n",
       "  <th>나이</th>    <td>   -0.0379</td> <td>    0.017</td> <td>   -2.222</td> <td> 0.029</td> <td>   -0.072</td> <td>   -0.004</td>\n",
       "</tr>\n",
       "<tr>\n",
       "  <th>소득</th>    <td>-4.277e-06</td> <td> 8.24e-06</td> <td>   -0.519</td> <td> 0.605</td> <td>-2.06e-05</td> <td> 1.21e-05</td>\n",
       "</tr>\n",
       "</table>\n",
       "<table class=\"simpletable\">\n",
       "<tr>\n",
       "  <th>Omnibus:</th>       <td>10.795</td> <th>  Durbin-Watson:     </th> <td>   1.979</td>\n",
       "</tr>\n",
       "<tr>\n",
       "  <th>Prob(Omnibus):</th> <td> 0.005</td> <th>  Jarque-Bera (JB):  </th> <td>   4.891</td>\n",
       "</tr>\n",
       "<tr>\n",
       "  <th>Skew:</th>          <td> 0.300</td> <th>  Prob(JB):          </th> <td>  0.0867</td>\n",
       "</tr>\n",
       "<tr>\n",
       "  <th>Kurtosis:</th>      <td> 2.098</td> <th>  Cond. No.          </th> <td>3.41e+05</td>\n",
       "</tr>\n",
       "</table><br/><br/>Notes:<br/>[1] Standard Errors assume that the covariance matrix of the errors is correctly specified.<br/>[2] The condition number is large, 3.41e+05. This might indicate that there are<br/>strong multicollinearity or other numerical problems."
      ],
      "text/latex": [
       "\\begin{center}\n",
       "\\begin{tabular}{lclc}\n",
       "\\toprule\n",
       "\\textbf{Dep. Variable:}    &       범죄건수       & \\textbf{  R-squared:         } &     0.050   \\\\\n",
       "\\textbf{Model:}            &       OLS        & \\textbf{  Adj. R-squared:    } &     0.030   \\\\\n",
       "\\textbf{Method:}           &  Least Squares   & \\textbf{  F-statistic:       } &     2.535   \\\\\n",
       "\\textbf{Date:}             & Mon, 11 Nov 2024 & \\textbf{  Prob (F-statistic):} &   0.0845    \\\\\n",
       "\\textbf{Time:}             &     01:17:59     & \\textbf{  Log-Likelihood:    } &   -253.61   \\\\\n",
       "\\textbf{No. Observations:} &         100      & \\textbf{  AIC:               } &     513.2   \\\\\n",
       "\\textbf{Df Residuals:}     &          97      & \\textbf{  BIC:               } &     521.0   \\\\\n",
       "\\textbf{Df Model:}         &           2      & \\textbf{                     } &             \\\\\n",
       "\\textbf{Covariance Type:}  &    nonrobust     & \\textbf{                     } &             \\\\\n",
       "\\bottomrule\n",
       "\\end{tabular}\n",
       "\\begin{tabular}{lcccccc}\n",
       "               & \\textbf{coef} & \\textbf{std err} & \\textbf{t} & \\textbf{P$> |$t$|$} & \\textbf{[0.025} & \\textbf{0.975]}  \\\\\n",
       "\\midrule\n",
       "\\textbf{const} &       6.7801  &        1.166     &     5.814  &         0.000        &        4.465    &        9.095     \\\\\n",
       "\\textbf{나이}    &      -0.0379  &        0.017     &    -2.222  &         0.029        &       -0.072    &       -0.004     \\\\\n",
       "\\textbf{소득}    &   -4.277e-06  &     8.24e-06     &    -0.519  &         0.605        &    -2.06e-05    &     1.21e-05     \\\\\n",
       "\\bottomrule\n",
       "\\end{tabular}\n",
       "\\begin{tabular}{lclc}\n",
       "\\textbf{Omnibus:}       & 10.795 & \\textbf{  Durbin-Watson:     } &    1.979  \\\\\n",
       "\\textbf{Prob(Omnibus):} &  0.005 & \\textbf{  Jarque-Bera (JB):  } &    4.891  \\\\\n",
       "\\textbf{Skew:}          &  0.300 & \\textbf{  Prob(JB):          } &   0.0867  \\\\\n",
       "\\textbf{Kurtosis:}      &  2.098 & \\textbf{  Cond. No.          } & 3.41e+05  \\\\\n",
       "\\bottomrule\n",
       "\\end{tabular}\n",
       "%\\caption{OLS Regression Results}\n",
       "\\end{center}\n",
       "\n",
       "Notes: \\newline\n",
       " [1] Standard Errors assume that the covariance matrix of the errors is correctly specified. \\newline\n",
       " [2] The condition number is large, 3.41e+05. This might indicate that there are \\newline\n",
       " strong multicollinearity or other numerical problems."
      ],
      "text/plain": [
       "<class 'statsmodels.iolib.summary.Summary'>\n",
       "\"\"\"\n",
       "                            OLS Regression Results                            \n",
       "==============================================================================\n",
       "Dep. Variable:                   범죄건수   R-squared:                       0.050\n",
       "Model:                            OLS   Adj. R-squared:                  0.030\n",
       "Method:                 Least Squares   F-statistic:                     2.535\n",
       "Date:                Mon, 11 Nov 2024   Prob (F-statistic):             0.0845\n",
       "Time:                        01:17:59   Log-Likelihood:                -253.61\n",
       "No. Observations:                 100   AIC:                             513.2\n",
       "Df Residuals:                      97   BIC:                             521.0\n",
       "Df Model:                           2                                         \n",
       "Covariance Type:            nonrobust                                         \n",
       "==============================================================================\n",
       "                 coef    std err          t      P>|t|      [0.025      0.975]\n",
       "------------------------------------------------------------------------------\n",
       "const          6.7801      1.166      5.814      0.000       4.465       9.095\n",
       "나이            -0.0379      0.017     -2.222      0.029      -0.072      -0.004\n",
       "소득         -4.277e-06   8.24e-06     -0.519      0.605   -2.06e-05    1.21e-05\n",
       "==============================================================================\n",
       "Omnibus:                       10.795   Durbin-Watson:                   1.979\n",
       "Prob(Omnibus):                  0.005   Jarque-Bera (JB):                4.891\n",
       "Skew:                           0.300   Prob(JB):                       0.0867\n",
       "Kurtosis:                       2.098   Cond. No.                     3.41e+05\n",
       "==============================================================================\n",
       "\n",
       "Notes:\n",
       "[1] Standard Errors assume that the covariance matrix of the errors is correctly specified.\n",
       "[2] The condition number is large, 3.41e+05. This might indicate that there are\n",
       "strong multicollinearity or other numerical problems.\n",
       "\"\"\""
      ]
     },
     "execution_count": 28,
     "metadata": {},
     "output_type": "execute_result"
    }
   ],
   "source": [
    "# sm OLS 적합\n",
    "model = sm.OLS(target, feature_add)\n",
    "fitted_model = model.fit()\n",
    "\n",
    "# summary 함수통해 결과출력\n",
    "\n",
    "fitted_model.summary()"
   ]
  },
  {
   "cell_type": "code",
   "execution_count": null,
   "metadata": {
    "id": "B88lVcrSwblM"
   },
   "outputs": [],
   "source": [
    "# 결과 해석\n",
    "\n",
    "# 통계적유의성 변수 : 나이 변수, 소득변수는 유의하지 않음\n",
    "# 결정계수 : 설명력이 매우 낮음"
   ]
  },
  {
   "cell_type": "markdown",
   "metadata": {
    "id": "p1eeyuCvwblO"
   },
   "source": [
    "# 다중공선성 측정"
   ]
  },
  {
   "cell_type": "markdown",
   "metadata": {
    "id": "v4rKexYvwblO"
   },
   "source": [
    "## 다중공선성 이해"
   ]
  },
  {
   "cell_type": "code",
   "execution_count": null,
   "metadata": {},
   "outputs": [],
   "source": [
    "# Variance Inflation Factor (VIF) 설명\n",
    "# **VIF (Variance Inflation Factor)**는 다중공선성 문제를 진단하는 데 사용되는 지표입니다. \n",
    "# 다중공선성이란 독립 변수들 간의 강한 상관 관계로 인해, 회귀 분석의 계수가 불안정해지고 해석이 어려워지는 문제를 의미합니다."
   ]
  },
  {
   "cell_type": "code",
   "execution_count": 29,
   "metadata": {
    "id": "W6SRpwDZwblO",
    "outputId": "adb11dd4-d6a7-418a-d42d-3fa17ced01af"
   },
   "outputs": [
    {
     "name": "stdout",
     "output_type": "stream",
     "text": [
      "feature Close_000660.KS의 VIF는 1.005037802594838입니다.\n"
     ]
    }
   ],
   "source": [
    "# 다중 공선성 : 여러 독립변수간 선형적 관계를 가지는 것  -> 가정에 위배\n",
    "# VIF  : 통상 10이상이면 공선성\n",
    "\n",
    "# feature 전체에 대해 VIF를 알고 싶은 특정 feature를 target으로 두고 나머지를 feature로 설정하여 OLS를 구한 뒤, 결정계수를 도출한다.\n",
    "calculate_vif = sm.OLS(feature_add['나이'], feature_add.drop(columns = '나이')).fit()\n",
    "\n",
    "# 다중공선성 계산 : 1 / (1 - R^2)\n",
    "\n",
    "print(f'feature Close_000660.KS의 VIF는 {1 / (1 - calculate_vif.rsquared)}입니다.')"
   ]
  },
  {
   "cell_type": "code",
   "execution_count": 30,
   "metadata": {
    "id": "AtyPkbd2wblP",
    "outputId": "6eb7e881-7f65-4a8a-d9bf-970cdf5b8594"
   },
   "outputs": [
    {
     "data": {
      "text/html": [
       "<div>\n",
       "<style scoped>\n",
       "    .dataframe tbody tr th:only-of-type {\n",
       "        vertical-align: middle;\n",
       "    }\n",
       "\n",
       "    .dataframe tbody tr th {\n",
       "        vertical-align: top;\n",
       "    }\n",
       "\n",
       "    .dataframe thead th {\n",
       "        text-align: right;\n",
       "    }\n",
       "</style>\n",
       "<table border=\"1\" class=\"dataframe\">\n",
       "  <thead>\n",
       "    <tr style=\"text-align: right;\">\n",
       "      <th></th>\n",
       "      <th>VIF Factor</th>\n",
       "      <th>features</th>\n",
       "    </tr>\n",
       "  </thead>\n",
       "  <tbody>\n",
       "    <tr>\n",
       "      <th>0</th>\n",
       "      <td>14.125411</td>\n",
       "      <td>const</td>\n",
       "    </tr>\n",
       "    <tr>\n",
       "      <th>1</th>\n",
       "      <td>1.005038</td>\n",
       "      <td>나이</td>\n",
       "    </tr>\n",
       "    <tr>\n",
       "      <th>2</th>\n",
       "      <td>1.005038</td>\n",
       "      <td>소득</td>\n",
       "    </tr>\n",
       "  </tbody>\n",
       "</table>\n",
       "</div>"
      ],
      "text/plain": [
       "   VIF Factor features\n",
       "0   14.125411    const\n",
       "1    1.005038       나이\n",
       "2    1.005038       소득"
      ]
     },
     "execution_count": 30,
     "metadata": {},
     "output_type": "execute_result"
    }
   ],
   "source": [
    "def vif(data):\n",
    "    import pandas as pd\n",
    "    from statsmodels.stats.outliers_influence import variance_inflation_factor\n",
    "\n",
    "    # VIF 출력을 위한 데이터 프레임 형성\n",
    "    vif = pd.DataFrame()\n",
    "\n",
    "    # VIF 값과 각 Feature 이름에 대해 설정\n",
    "    vif[\"VIF Factor\"] = [variance_inflation_factor(data.values, i) for i in range(len(data.columns))]\n",
    "    vif[\"features\"] = data.columns\n",
    "\n",
    "    # VIF 값이 높은 순으로 정렬\n",
    "    vif = vif.sort_values(by=\"VIF Factor\", ascending=False)\n",
    "    vif = vif.reset_index().drop(columns='index')\n",
    "\n",
    "    return vif\n",
    "\n",
    "vif(feature_add)"
   ]
  },
  {
   "cell_type": "code",
   "execution_count": 31,
   "metadata": {},
   "outputs": [],
   "source": [
    "# variance_inflation_factor(data.values, i):\n",
    "# variance_inflation_factor()는 주어진 독립 변수(i)에 대한 VIF 값을 계산합니다.\n",
    "# data.values는 DataFrame을 Numpy 배열 형식으로 변환합니다.\n",
    "# vif.sort_values(by=\"VIF Factor\", ascending=False):\n",
    "\n",
    "# VIF 값을 기준으로 내림차순 정렬합니다.\n",
    "# reset_index(drop=True):\n",
    "\n",
    "# 정렬 후 인덱스를 재설정하고, 기존 인덱스를 제거합니다.\n",
    "# VIF 값이 높을 때 해결 방법\n",
    "# 변수 제거:\n",
    "# VIF 값이 높은 독립 변수를 제거하거나, 중요한 변수를 제외한 나머지를 제거합니다."
   ]
  },
  {
   "cell_type": "code",
   "execution_count": 32,
   "metadata": {
    "id": "npjVEwvPwblP",
    "outputId": "9059f36a-6a24-4390-ac1d-e9ee83bc92bf"
   },
   "outputs": [
    {
     "name": "stdout",
     "output_type": "stream",
     "text": [
      "1번째 VIF 측정\n",
      "Max VIF feature & value : const,  14.1254\n",
      "2번째 VIF 측정\n",
      "Max VIF feature & value : const,  3.4655\n",
      "\n",
      "\n",
      "나이의 vif는  3.47입니다.\n",
      "소득의 vif는  3.47입니다.\n"
     ]
    }
   ],
   "source": [
    "# 다중공선성 측정\n",
    "def vif_drop(x, cut_off):\n",
    "    import pandas as pd\n",
    "    from statsmodels.stats.outliers_influence import variance_inflation_factor\n",
    "    # vif 10 초과시 drop을 위한 임계값 설정\n",
    "    thresh = cut_off\n",
    "    # Filter method로 feature selection 진행 후 최종 도출 될 데이터 프레임 형성\n",
    "    output = pd.DataFrame()\n",
    "    # 데이터의 컬럼 개수 설정\n",
    "    k = x.shape[1]\n",
    "    # VIF 측정\n",
    "    vif = [variance_inflation_factor(x.values, i) for i in range(x.shape[1])]\n",
    "    for i in range(1,k):\n",
    "        print(f'{i}번째 VIF 측정')\n",
    "        # VIF 최대 값 선정\n",
    "        a = np.argmax(vif)\n",
    "        print(f'Max VIF feature & value : {x.columns[a]}, {vif[a] : .4f}')\n",
    "        # VIF 최대 값이 임계치를 넘지 않는 경우 break\n",
    "        if (vif[a] <= thresh):\n",
    "            print('\\n')\n",
    "            for q in range(output.shape[1]):\n",
    "                print(f'{output.columns[q]}의 vif는 {vif[q] : .2f}입니다.')\n",
    "            break\n",
    "        # VIF 최대 값이 임계치를 넘는 경우, + 1번째 시도인 경우 : if 문으로 해당 feature 제거 후 다시 vif 측정\n",
    "        if (i == 1):\n",
    "            output = x.drop(x.columns[a], axis = 1)\n",
    "            vif = [variance_inflation_factor(output.values, j) for j in range(output.shape[1])]\n",
    "        # VIF 최대 값이 임계치를 넘는 경우, + 1번째 이후 시도인 경우 : if 문으로 해당 feature 제거 후 다시 vif 측정\n",
    "        elif (i > 1):\n",
    "            output = output.drop(output.columns[a], axis = 1)\n",
    "            vif = [variance_inflation_factor(output.values, j) for j in range(output.shape[1])]\n",
    "    return(output)\n",
    "\n",
    "feature_drop = vif_drop(feature_add, 10)"
   ]
  },
  {
   "cell_type": "markdown",
   "metadata": {
    "id": "gtj_HR3CwblP"
   },
   "source": [
    "## 다중공선성 독립변수 제거후 결과"
   ]
  },
  {
   "cell_type": "code",
   "execution_count": 33,
   "metadata": {
    "id": "7oquuoM3wblP",
    "outputId": "dc226137-88c7-483c-e31c-d5e923fe321d"
   },
   "outputs": [
    {
     "data": {
      "text/html": [
       "<table class=\"simpletable\">\n",
       "<caption>OLS Regression Results</caption>\n",
       "<tr>\n",
       "  <th>Dep. Variable:</th>          <td>범죄건수</td>       <th>  R-squared:         </th> <td>   0.050</td>\n",
       "</tr>\n",
       "<tr>\n",
       "  <th>Model:</th>                   <td>OLS</td>       <th>  Adj. R-squared:    </th> <td>   0.030</td>\n",
       "</tr>\n",
       "<tr>\n",
       "  <th>Method:</th>             <td>Least Squares</td>  <th>  F-statistic:       </th> <td>   2.535</td>\n",
       "</tr>\n",
       "<tr>\n",
       "  <th>Date:</th>             <td>Mon, 11 Nov 2024</td> <th>  Prob (F-statistic):</th>  <td>0.0845</td> \n",
       "</tr>\n",
       "<tr>\n",
       "  <th>Time:</th>                 <td>01:18:37</td>     <th>  Log-Likelihood:    </th> <td> -253.61</td>\n",
       "</tr>\n",
       "<tr>\n",
       "  <th>No. Observations:</th>      <td>   100</td>      <th>  AIC:               </th> <td>   513.2</td>\n",
       "</tr>\n",
       "<tr>\n",
       "  <th>Df Residuals:</th>          <td>    97</td>      <th>  BIC:               </th> <td>   521.0</td>\n",
       "</tr>\n",
       "<tr>\n",
       "  <th>Df Model:</th>              <td>     2</td>      <th>                     </th>     <td> </td>   \n",
       "</tr>\n",
       "<tr>\n",
       "  <th>Covariance Type:</th>      <td>nonrobust</td>    <th>                     </th>     <td> </td>   \n",
       "</tr>\n",
       "</table>\n",
       "<table class=\"simpletable\">\n",
       "<tr>\n",
       "    <td></td>       <th>coef</th>     <th>std err</th>      <th>t</th>      <th>P>|t|</th>  <th>[0.025</th>    <th>0.975]</th>  \n",
       "</tr>\n",
       "<tr>\n",
       "  <th>const</th> <td>    6.7801</td> <td>    1.166</td> <td>    5.814</td> <td> 0.000</td> <td>    4.465</td> <td>    9.095</td>\n",
       "</tr>\n",
       "<tr>\n",
       "  <th>나이</th>    <td>   -0.0379</td> <td>    0.017</td> <td>   -2.222</td> <td> 0.029</td> <td>   -0.072</td> <td>   -0.004</td>\n",
       "</tr>\n",
       "<tr>\n",
       "  <th>소득</th>    <td>-4.277e-06</td> <td> 8.24e-06</td> <td>   -0.519</td> <td> 0.605</td> <td>-2.06e-05</td> <td> 1.21e-05</td>\n",
       "</tr>\n",
       "</table>\n",
       "<table class=\"simpletable\">\n",
       "<tr>\n",
       "  <th>Omnibus:</th>       <td>10.795</td> <th>  Durbin-Watson:     </th> <td>   1.979</td>\n",
       "</tr>\n",
       "<tr>\n",
       "  <th>Prob(Omnibus):</th> <td> 0.005</td> <th>  Jarque-Bera (JB):  </th> <td>   4.891</td>\n",
       "</tr>\n",
       "<tr>\n",
       "  <th>Skew:</th>          <td> 0.300</td> <th>  Prob(JB):          </th> <td>  0.0867</td>\n",
       "</tr>\n",
       "<tr>\n",
       "  <th>Kurtosis:</th>      <td> 2.098</td> <th>  Cond. No.          </th> <td>3.41e+05</td>\n",
       "</tr>\n",
       "</table><br/><br/>Notes:<br/>[1] Standard Errors assume that the covariance matrix of the errors is correctly specified.<br/>[2] The condition number is large, 3.41e+05. This might indicate that there are<br/>strong multicollinearity or other numerical problems."
      ],
      "text/latex": [
       "\\begin{center}\n",
       "\\begin{tabular}{lclc}\n",
       "\\toprule\n",
       "\\textbf{Dep. Variable:}    &       범죄건수       & \\textbf{  R-squared:         } &     0.050   \\\\\n",
       "\\textbf{Model:}            &       OLS        & \\textbf{  Adj. R-squared:    } &     0.030   \\\\\n",
       "\\textbf{Method:}           &  Least Squares   & \\textbf{  F-statistic:       } &     2.535   \\\\\n",
       "\\textbf{Date:}             & Mon, 11 Nov 2024 & \\textbf{  Prob (F-statistic):} &   0.0845    \\\\\n",
       "\\textbf{Time:}             &     01:18:37     & \\textbf{  Log-Likelihood:    } &   -253.61   \\\\\n",
       "\\textbf{No. Observations:} &         100      & \\textbf{  AIC:               } &     513.2   \\\\\n",
       "\\textbf{Df Residuals:}     &          97      & \\textbf{  BIC:               } &     521.0   \\\\\n",
       "\\textbf{Df Model:}         &           2      & \\textbf{                     } &             \\\\\n",
       "\\textbf{Covariance Type:}  &    nonrobust     & \\textbf{                     } &             \\\\\n",
       "\\bottomrule\n",
       "\\end{tabular}\n",
       "\\begin{tabular}{lcccccc}\n",
       "               & \\textbf{coef} & \\textbf{std err} & \\textbf{t} & \\textbf{P$> |$t$|$} & \\textbf{[0.025} & \\textbf{0.975]}  \\\\\n",
       "\\midrule\n",
       "\\textbf{const} &       6.7801  &        1.166     &     5.814  &         0.000        &        4.465    &        9.095     \\\\\n",
       "\\textbf{나이}    &      -0.0379  &        0.017     &    -2.222  &         0.029        &       -0.072    &       -0.004     \\\\\n",
       "\\textbf{소득}    &   -4.277e-06  &     8.24e-06     &    -0.519  &         0.605        &    -2.06e-05    &     1.21e-05     \\\\\n",
       "\\bottomrule\n",
       "\\end{tabular}\n",
       "\\begin{tabular}{lclc}\n",
       "\\textbf{Omnibus:}       & 10.795 & \\textbf{  Durbin-Watson:     } &    1.979  \\\\\n",
       "\\textbf{Prob(Omnibus):} &  0.005 & \\textbf{  Jarque-Bera (JB):  } &    4.891  \\\\\n",
       "\\textbf{Skew:}          &  0.300 & \\textbf{  Prob(JB):          } &   0.0867  \\\\\n",
       "\\textbf{Kurtosis:}      &  2.098 & \\textbf{  Cond. No.          } & 3.41e+05  \\\\\n",
       "\\bottomrule\n",
       "\\end{tabular}\n",
       "%\\caption{OLS Regression Results}\n",
       "\\end{center}\n",
       "\n",
       "Notes: \\newline\n",
       " [1] Standard Errors assume that the covariance matrix of the errors is correctly specified. \\newline\n",
       " [2] The condition number is large, 3.41e+05. This might indicate that there are \\newline\n",
       " strong multicollinearity or other numerical problems."
      ],
      "text/plain": [
       "<class 'statsmodels.iolib.summary.Summary'>\n",
       "\"\"\"\n",
       "                            OLS Regression Results                            \n",
       "==============================================================================\n",
       "Dep. Variable:                   범죄건수   R-squared:                       0.050\n",
       "Model:                            OLS   Adj. R-squared:                  0.030\n",
       "Method:                 Least Squares   F-statistic:                     2.535\n",
       "Date:                Mon, 11 Nov 2024   Prob (F-statistic):             0.0845\n",
       "Time:                        01:18:37   Log-Likelihood:                -253.61\n",
       "No. Observations:                 100   AIC:                             513.2\n",
       "Df Residuals:                      97   BIC:                             521.0\n",
       "Df Model:                           2                                         \n",
       "Covariance Type:            nonrobust                                         \n",
       "==============================================================================\n",
       "                 coef    std err          t      P>|t|      [0.025      0.975]\n",
       "------------------------------------------------------------------------------\n",
       "const          6.7801      1.166      5.814      0.000       4.465       9.095\n",
       "나이            -0.0379      0.017     -2.222      0.029      -0.072      -0.004\n",
       "소득         -4.277e-06   8.24e-06     -0.519      0.605   -2.06e-05    1.21e-05\n",
       "==============================================================================\n",
       "Omnibus:                       10.795   Durbin-Watson:                   1.979\n",
       "Prob(Omnibus):                  0.005   Jarque-Bera (JB):                4.891\n",
       "Skew:                           0.300   Prob(JB):                       0.0867\n",
       "Kurtosis:                       2.098   Cond. No.                     3.41e+05\n",
       "==============================================================================\n",
       "\n",
       "Notes:\n",
       "[1] Standard Errors assume that the covariance matrix of the errors is correctly specified.\n",
       "[2] The condition number is large, 3.41e+05. This might indicate that there are\n",
       "strong multicollinearity or other numerical problems.\n",
       "\"\"\""
      ]
     },
     "execution_count": 33,
     "metadata": {},
     "output_type": "execute_result"
    }
   ],
   "source": [
    "import statsmodels.api as sm\n",
    "\n",
    "# 다중공선성 제거후 모델 형성\n",
    "\n",
    "feature = feature_drop\n",
    "\n",
    "# sm OLS 적합\n",
    "feature_add = sm.add_constant(feature, has_constant='add')\n",
    "\n",
    "model = sm.OLS(target, feature_add)\n",
    "fitted_model = model.fit()\n",
    "\n",
    "# summary 함수통해 결과출력\n",
    "fitted_model.summary()"
   ]
  },
  {
   "cell_type": "markdown",
   "metadata": {
    "id": "VgtzlMqLwblP"
   },
   "source": [
    "# 회귀 식의 적합성 검정 : 잔차분석\n",
    "\n",
    " 정규성, 자기상관성, 등분산성 검정"
   ]
  },
  {
   "cell_type": "markdown",
   "metadata": {
    "id": "e3_kjkXbwblQ"
   },
   "source": [
    "## 잔차 시각화 검토"
   ]
  },
  {
   "cell_type": "code",
   "execution_count": null,
   "metadata": {},
   "outputs": [],
   "source": [
    "# 회귀 분석의 잔차(residuals)**를 막대 그래프로 시각화하고, 기준선(y=0)을 표시하여 잔차의 분포를 확인하는 것입니다."
   ]
  },
  {
   "cell_type": "code",
   "execution_count": null,
   "metadata": {},
   "outputs": [],
   "source": [
    "# fitted_model.resid.plot(kind='bar'):\n",
    "# fitted_model.resid: 회귀 모델의 **잔차(residuals)**입니다.\n",
    "# 잔차는 실제값 - 예측값으로 계산되며, 모델의 예측 오차를 나타냅니다.\n",
    "# plot(kind='bar'):\n",
    "# kind='bar'는 막대 그래프를 생성합니다.\n",
    "# 각 잔차 값을 막대로 표시합니다.\n",
    "# 이 그래프를 통해 잔차의 크기와 분포를 쉽게 확인할 수 있습니다.\n",
    "\n",
    "# plt.hlines():\n",
    "# plt.hlines(y=0, xmin=0, xmax=42, colors='red')\n",
    "# **수평선(horizontal line)**을 그려줍니다.\n",
    "# y=0: 수평선의 위치를 y=0으로 설정합니다.\n",
    "# 잔차는 0을 기준으로 하기 때문에, 이 선이 기준선 역할을 합니다.\n",
    "# xmin=0, xmax=42:\n",
    "# xmin=0: 수평선의 시작점 (첫 번째 데이터)\n",
    "# xmax=42: 수평선의 끝점 (데이터 개수가 43개인 경우)\n",
    "# colors='red': 수평선의 색상을 빨간색으로 설정합니다.\n",
    "\n",
    "# plt.show():\n",
    "# 그래프를 화면에 출력합니다."
   ]
  },
  {
   "cell_type": "code",
   "execution_count": 34,
   "metadata": {
    "id": "dSTI5tmcwblQ",
    "outputId": "f9f944eb-ec0e-467a-d30c-679844f3ae97"
   },
   "outputs": [
    {
     "data": {
      "image/png": "[encoded data removed]",
      "text/plain": [
       "<Figure size 640x480 with 1 Axes>"
      ]
     },
     "metadata": {},
     "output_type": "display_data"
    }
   ],
   "source": [
    "# 잔차 시각화\n",
    "fitted_model.resid.plot(kind='bar')\n",
    "plt.hlines(y=0, xmin=0, xmax=42, colors='red') #잔차는 0을 기준으로 생성되기 때문에 y=0의 선을 그어준다. (기준선 역할)\n",
    "plt.show()"
   ]
  },
  {
   "cell_type": "markdown",
   "metadata": {
    "id": "zNKmeFxfwblQ"
   },
   "source": [
    "## 오차항의 등분산성"
   ]
  },
  {
   "cell_type": "code",
   "execution_count": null,
   "metadata": {},
   "outputs": [],
   "source": [
    "# 오차항의 등분산성 (Homoscedasticity)\n",
    "# **등분산성(homoscedasticity)**는 회귀 분석에서 중요한 가정 중 하나로, 오차 항의 분산이 일정하게 유지되는 것을 의미합니다. 즉, 독립 변수의 값이 변하더라도 오차 항의 분산이 일정해야 합니다. 이 가정이 충족되지 않으면, **이분산성(heteroscedasticity)**이 발생하게 됩니다.\n",
    "\n",
    "# 등분산성 (Homoscedasticity):\n",
    "# 오차 항의 분산이 독립 변수의 값과 무관하게 일정합니다.\n",
    "# 이상적인 회귀 모델에서는 오차가 무작위로 분포하며 일정한 분산을 가집니다.\n"
   ]
  },
  {
   "cell_type": "code",
   "execution_count": null,
   "metadata": {},
   "outputs": [],
   "source": [
    "# 등분산성 검정 방법\n",
    "# 잔차 플롯 (Residual Plot):\n",
    "\n",
    "# 잔차 플롯은 예측값과 잔차 간의 관계를 시각화하여 등분산성을 확인하는 데 사용됩니다.\n",
    "# 잔차 플롯에서 오차 항이 무작위로 분포하고 일정한 폭을 가지면 등분산성을 만족한다고 볼 수 있습니다.\n",
    "# 만약 잔차가 부채꼴 모양이나 원뿔 모양으로 나타난다면, 이분산성을 의심할 수 있습니다.\n",
    "\n",
    "# Breusch-Pagan 검정:\n",
    "# 잔차의 제곱을 독립 변수에 회귀 분석하여 이분산성을 검정하는 방법입니다.\n",
    "# 귀무가설: 등분산성이 있다.\n",
    "# 대립가설: 이분산성이 있다.\n",
    "\n",
    "#White Test를 통한 이분산 검정"
   ]
  },
  {
   "cell_type": "code",
   "execution_count": 41,
   "metadata": {},
   "outputs": [],
   "source": [
    "import seaborn as sns\n"
   ]
  },
  {
   "cell_type": "markdown",
   "metadata": {},
   "source": [
    "### 잔차 플롯 (Residual Plot)"
   ]
  },
  {
   "cell_type": "code",
   "execution_count": 42,
   "metadata": {
    "id": "s9OWRmp3wblQ"
   },
   "outputs": [],
   "source": [
    "# yhat은 model 형성을 하면서 feature를 넣고 도출된 회귀값들임\n",
    "yhat = fitted_model.fittedvalues\n",
    "subset = pd.concat([yhat, target, fitted_model.resid], axis=1)\n",
    "subset.columns = ['yhat', 'target', 'model_residual']\n",
    "\n",
    "# 따라서 yhat, 전체형법범죄 데이터의 차이는 잔차 값으로 남아있음. (컬럼 자체를 연산하지 않았지만, 연산 결과는 잔차와 동일함)\n",
    "# subset"
   ]
  },
  {
   "cell_type": "code",
   "execution_count": 43,
   "metadata": {
    "id": "iKlsqA5AwblQ",
    "outputId": "20d63509-39d5-473f-99a7-3cc365b68837"
   },
   "outputs": [
    {
     "data": {
      "image/png": "[encoded data removed]",
      "text/plain": [
       "<Figure size 1000x800 with 1 Axes>"
      ]
     },
     "metadata": {},
     "output_type": "display_data"
    }
   ],
   "source": [
    "# 오차항의 등분산성을 확인하기 위한 플롯 형성\n",
    "fig = plt.figure(figsize= (10,8))\n",
    "\n",
    "# yhat값의 변화에 따라 오차항이 어떻게 변화하는지 육안으로 확인하는 부분 (등분산성은 yhat값과 무관하게 일정한 분산을 유지하는 형태로 도출됨)\n",
    "sns.residplot(x = \"yhat\", y = \"target\",\n",
    "              data = subset, scatter_kws = {'edgecolor':\"white\"},\n",
    "              lowess = True, line_kws = {\"color\":\"green\"})\n",
    "plt.title(\"Residuals Diagram\", fontsize=15, y=1.02)\n",
    "plt.xlabel(\"Fitted Values\")\n",
    "plt.ylabel(\"Residuals\")\n",
    "plt.show()"
   ]
  },
  {
   "cell_type": "markdown",
   "metadata": {},
   "source": [
    "### Breusch-Pagan 검정"
   ]
  },
  {
   "cell_type": "code",
   "execution_count": null,
   "metadata": {},
   "outputs": [],
   "source": [
    "# Breusch-Pagan 검정을 통해 회귀 분석에서 오차 항의 등분산성 가정이 충족되는지 검정합니다. \n",
    "# statsmodels 라이브러리의 het_breuschpagan 함수를 사용하며, 검정 결과를 출력합니다."
   ]
  },
  {
   "cell_type": "code",
   "execution_count": 44,
   "metadata": {
    "id": "v6prpC_KwblR",
    "outputId": "6d119abb-3d44-49de-a99a-e9364f2dc747"
   },
   "outputs": [
    {
     "name": "stdout",
     "output_type": "stream",
     "text": [
      "Lag_range multiplier statistic :  2.298\n",
      "p-value :  0.317\n",
      "f-value :  1.141\n",
      "f p-value :  0.324\n"
     ]
    }
   ],
   "source": [
    "# 하나씩 시행해보기\n",
    "from statsmodels.compat import lzip\n",
    "import statsmodels.stats.api as sm\n",
    "\n",
    "#perform Bresuch-Pagan test\n",
    "names = ['Lag_range multiplier statistic', 'p-value','f-value', 'f p-value']\n",
    "test = sm.het_breuschpagan(fitted_model.resid, fitted_model.model.exog)\n",
    "\n",
    "# 독립변수, featue의 values (endog는 y값)\n",
    "# fitted_model.model.exog\n",
    "\n",
    "for i in lzip(names, test):\n",
    "    print(f'{i[0]} : {i[1] : .3f}')\n",
    "# which assumes independent and identically distributed\n",
    "# error terms, or the original Breusch-Pagan version which assumes\n",
    "# residuals are normally distributed.\n",
    "\n",
    "# The null hypothesis (H0): Homoscedasticity is present."
   ]
  },
  {
   "cell_type": "code",
   "execution_count": null,
   "metadata": {},
   "outputs": [],
   "source": [
    "# p-value:\n",
    "# p-value < 0.05: 귀무가설(등분산성 있음)을 기각, 이분산성이 있다고 판단\n",
    "# p-value ≥ 0.05: 귀무가설 채택, 등분산성이 있다고 판단"
   ]
  },
  {
   "cell_type": "code",
   "execution_count": null,
   "metadata": {},
   "outputs": [],
   "source": [
    "# 결론\n",
    "# p-value가 0.05보다 작으면 이분산성이 존재한다고 판단할 수 있습니다.\n",
    "# 이분산성이 있는 경우, 회귀 모델의 결과 해석이 왜곡될 수 있으므로 로그 변환이나 가중회귀 분석 등의 방법을 고려해야 합니다."
   ]
  },
  {
   "cell_type": "markdown",
   "metadata": {},
   "source": [
    "### White Test를 통한 이분산 검정"
   ]
  },
  {
   "cell_type": "code",
   "execution_count": null,
   "metadata": {},
   "outputs": [],
   "source": [
    "# White Test는 회귀 분석에서 오차 항의 **이분산성(heteroscedasticity)**을 검정하기 위해 사용되는 방법입니다. \n",
    "# 이 검정은 Breusch-Pagan 검정보다 더 일반적인 형태로, 독립 변수의 비선형 함수까지 고려합니다. \n",
    "# 따라서 이분산성이 비선형적인 경우에도 검출할 수 있습니다."
   ]
  },
  {
   "cell_type": "code",
   "execution_count": 60,
   "metadata": {
    "id": "Cz2NmVSWwblR",
    "outputId": "8c3d961c-dcaa-4746-f335-e1f52d154512"
   },
   "outputs": [
    {
     "name": "stdout",
     "output_type": "stream",
     "text": [
      "{'Test Statistic': 3.685668483507154, 'Test Statistic p-value': 0.5954981441967797, 'F-Statistic': 0.7194211536220774, 'F-Test p-value': 0.6104471318978928}\n"
     ]
    }
   ],
   "source": [
    "# 이분산 검정 추가 (white test)\n",
    "from statsmodels.stats.api import het_white\n",
    "\n",
    "labels = ['Test Statistic', 'Test Statistic p-value', 'F-Statistic', 'F-Test p-value']\n",
    "\n",
    "white_test = het_white(fitted_model.resid, fitted_model.model.exog)\n",
    "\n",
    "print(dict(zip(labels, white_test)))\n",
    "\n",
    "# Null (H0): Homoscedasticity is present (residuals are equally scattered)\n",
    "# Alternative (HA): Heteroscedasticity is present (residuals are not equally scattered)"
   ]
  },
  {
   "cell_type": "code",
   "execution_count": null,
   "metadata": {},
   "outputs": [],
   "source": [
    "# Test Statistic p-value: 0.5955\n",
    "\n",
    "# p-value > 0.05이므로, 귀무가설(H0)을 기각할 수 없습니다.\n",
    "# 이는 **오차 항이 등분산성을 가진다 (Homoscedasticity)**는 귀무가설을 기각할 충분한 증거가 없음을 의미합니다.\n",
    "# 따라서, 이분산성(Heteroscedasticity)이 없고, 등분산성을 만족한다고 판단할 수 있습니다.\n",
    "# F-Test p-value: 0.6104\n",
    "\n",
    "# F-Test p-value도 0.05보다 크기 때문에, 이 결과 역시 귀무가설을 기각하지 못합니다.\n",
    "# F-검정 결과 역시 등분산성을 만족한다고 판단할 수 있습니다."
   ]
  },
  {
   "cell_type": "markdown",
   "metadata": {
    "id": "hMCh243CwblR"
   },
   "source": [
    "## 오차항의 독립성(자기상관성 여부)"
   ]
  },
  {
   "cell_type": "markdown",
   "metadata": {},
   "source": [
    "### 방법1"
   ]
  },
  {
   "cell_type": "code",
   "execution_count": 47,
   "metadata": {
    "id": "thTuMN5iwblS",
    "outputId": "f54618a4-4f54-4bd3-8335-77cddecc1bb9"
   },
   "outputs": [
    {
     "data": {
      "text/plain": [
       "1.9785872282150523"
      ]
     },
     "execution_count": 47,
     "metadata": {},
     "output_type": "execute_result"
    }
   ],
   "source": [
    "# 더빈왓슨 통계 (DW-test) : 0~4\n",
    "# 오차항의 독립성 검정으로 귀무가설은 '오차항이 독립적이다.'이다.\n",
    "# statsmodel에서 도출한 OLS summary에서도 DW 값이 나오는데 2에 인접하는 경우, 오차항의 상관관계가 없는 것으로 나온다.\n",
    "\n",
    "from statsmodels.stats.stattools import durbin_watson\n",
    "\n",
    "durbin_watson(resids=fitted_model.resid)"
   ]
  },
  {
   "cell_type": "markdown",
   "metadata": {},
   "source": [
    "### 방법2"
   ]
  },
  {
   "cell_type": "code",
   "execution_count": 48,
   "metadata": {
    "id": "CK2eToX1wblW",
    "outputId": "c1b4cf56-6d54-43d5-f83c-560b5c0964d6"
   },
   "outputs": [
    {
     "data": {
      "text/plain": [
       "1.9785872282150523"
      ]
     },
     "execution_count": 48,
     "metadata": {},
     "output_type": "execute_result"
    }
   ],
   "source": [
    "# 잔차 정의\n",
    "resids=fitted_model.resid\n",
    "# DW 통계치를 구하는 공식 적용 (시차 1 적용)\n",
    "diff_resids = np.diff(resids, 1, axis=0)\n",
    "dw = np.sum(diff_resids**2, axis=0) / np.sum(resids**2, axis=0)\n",
    "# dw 통계치 도출 완료\n",
    "dw"
   ]
  },
  {
   "cell_type": "markdown",
   "metadata": {
    "id": "8vCTQY_swblX"
   },
   "source": [
    "### 방법3 DW 검정에 대한 설명\n",
    "The test statistic is approximately equal to 2*(1-r) where ``r`` is the\n",
    "sample autocorrelation of the residuals. Thus, for r == 0, indicating no\n",
    "serial correlation, the test statistic equals 2. This statistic will\n",
    "always be between 0 and 4. The closer to 0 the statistic, the more\n",
    "evidence for positive serial correlation. The closer to 4, the more\n",
    "evidence for negative serial correlation."
   ]
  },
  {
   "cell_type": "code",
   "execution_count": null,
   "metadata": {},
   "outputs": [],
   "source": [
    "# Durbin-Watson 검정 (DW 검정)\n",
    "# Durbin-Watson 검정은 회귀 분석에서 **오차항의 자기상관성(autocorrelation)**을 검정하기 위한 통계적 방법입니다. 자기상관성이란, 오차항이 이전의 오차항과 상관관계를 가지는 현상을 말합니다. 이는 선형 회귀 모델의 가정 중 하나인 \"오차 항이 독립적이다\"라는 가정을 검증하는 데 사용됩니다.\n",
    "\n",
    "# Durbin-Watson 통계량의 해석\n",
    "# DW 통계량 범위: [0, 4]\n",
    "# DW ≈ 2: 오차 항에 자기상관성이 없음.\n",
    "# DW < 2: 양의 자기상관성이 있음 (오차가 이전 오차와 양의 상관관계를 가짐).\n",
    "# DW > 2: 음의 자기상관성이 있음 (오차가 이전 오차와 음의 상관관계를 가짐)."
   ]
  },
  {
   "cell_type": "code",
   "execution_count": null,
   "metadata": {
    "id": "H-B5buy_wblY"
   },
   "outputs": [],
   "source": [
    "# *plot_acf()**는 ACF (Autocorrelation Function) 플롯을 생성합니다.\n",
    "# Lag에 따른 오차항의 자기상관성을 시각적으로 보여줍니다.\n",
    "# ACF 플롯 해석:\n",
    "# Lag 값이 증가함에 따라 자기상관 값이 급격히 감소하면, 오차항 간의 상관성이 약하다는 의미입니다.\n",
    "# Lag 값이 클수록 자기상관 값이 높은 경우, 오차항에 자기상관성이 존재할 가능성이 있습니다."
   ]
  },
  {
   "cell_type": "code",
   "execution_count": null,
   "metadata": {},
   "outputs": [],
   "source": [
    "# durbin_watson() 함수는 오차항 배열을 입력으로 받아 Durbin-Watson 통계량을 계산합니다.\n",
    "# Durbin-Watson 통계량은 오차항 간의 자기상관성을 진단하는 지표입니다.\n",
    "\n",
    "# 포맷팅 (:.5f):\n",
    "\n",
    "# :.5f는 소수점 다섯 번째 자리까지 반올림하여 출력합니다."
   ]
  },
  {
   "cell_type": "code",
   "execution_count": 59,
   "metadata": {
    "id": "eW3Sfx-TwblX",
    "outputId": "f0868c94-6929-4ac3-d72d-6cf756230669"
   },
   "outputs": [
    {
     "data": {
      "image/png": "[encoded data removed]",
      "text/plain": [
       "<Figure size 640x480 with 1 Axes>"
      ]
     },
     "metadata": {},
     "output_type": "display_data"
    }
   ],
   "source": [
    "def autocorr_resid(fitted_model):\n",
    "    from statsmodels.graphics.tsaplots import plot_acf\n",
    "    import matplotlib.pyplot as plt\n",
    "    from statsmodels.stats.stattools import durbin_watson\n",
    "\n",
    "    # 오차항의 자기상관성 검정\n",
    "    plot_acf(fitted_model.resid)\n",
    "    plt.xlabel('Lag at k')\n",
    "    plt.ylabel(\"lag at k's autocorrelation\")\n",
    "    plt.title(f'DW test 통계치 : {durbin_watson(resids=fitted_model.resid) : .5f}')\n",
    "    plt.text(y=-1.75,x=0, s='DW 통계치가 2에 근접하면 자기상관성이 없습니다.\\n0에 근접하면 양, 4에 근접하면 음의 자기상관성이 존재합니다.')\n",
    "    plt.show()\n",
    "\n",
    "autocorr_resid(fitted_model)"
   ]
  },
  {
   "cell_type": "code",
   "execution_count": null,
   "metadata": {},
   "outputs": [],
   "source": []
  },
  {
   "cell_type": "code",
   "execution_count": null,
   "metadata": {},
   "outputs": [],
   "source": []
  },
  {
   "cell_type": "code",
   "execution_count": null,
   "metadata": {},
   "outputs": [],
   "source": []
  }
 ],
 "metadata": {
  "colab": {
   "provenance": []
  },
  "interpreter": {
   "hash": "aee8b7b246df8f9039afb4144a1f6fd8d2ca17a180786b69acc140d282b71a49"
  },
  "kernelspec": {
   "display_name": "Python 3 (ipykernel)",
   "language": "python",
   "name": "python3"
  },
  "language_info": {
   "codemirror_mode": {
    "name": "ipython",
    "version": 3
   },
   "file_extension": ".py",
   "mimetype": "text/x-python",
   "name": "python",
   "nbconvert_exporter": "python",
   "pygments_lexer": "ipython3",
   "version": "3.9.11"
  },
  "toc": {
   "base_numbering": 1,
   "nav_menu": {},
   "number_sections": true,
   "sideBar": true,
   "skip_h1_title": false,
   "title_cell": "Table of Contents",
   "title_sidebar": "Contents",
   "toc_cell": false,
   "toc_position": {
    "height": "calc(100% - 180px)",
    "left": "10px",
    "top": "150px",
    "width": "279.263px"
   },
   "toc_section_display": true,
   "toc_window_display": true
  }
 },
 "nbformat": 4,
 "nbformat_minor": 1
}
