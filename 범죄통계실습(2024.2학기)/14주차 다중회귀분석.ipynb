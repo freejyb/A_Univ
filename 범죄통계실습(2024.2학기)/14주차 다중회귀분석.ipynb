{
 "cells": [
  {
   "cell_type": "markdown",
   "metadata": {},
   "source": [
    "# 다중회귀분석"
   ]
  },
  {
   "cell_type": "code",
   "execution_count": null,
   "metadata": {},
   "outputs": [],
   "source": [
    "# 다중회귀분석(Multiple Regression Analysis)은 여러 독립 변수들이 종속 변수에 미치는 영향을 분석하는 데 사용됩니다. \n"
   ]
  },
  {
   "cell_type": "markdown",
   "metadata": {},
   "source": [
    "## 개괄 이해"
   ]
  },
  {
   "cell_type": "markdown",
   "metadata": {},
   "source": [
    "* 독립변수(X)가 2개 이상인 경우  y = a1x1 + a2x2 + b\n",
    "* 가정 : 선형성, 독립성, 정규성, 등분산성\n",
    "* 다중공선성 점검이 필수 : 독립변수간 선형의 관련성을 가지는 경우\n",
    "* 회귀계수 --> 편회귀계수\n",
    "* 결정계수 (0 ~1 ) --> 수정결정계수 확인"
   ]
  },
  {
   "cell_type": "markdown",
   "metadata": {},
   "source": [
    "## 사례 보기"
   ]
  },
  {
   "cell_type": "code",
   "execution_count": null,
   "metadata": {},
   "outputs": [],
   "source": [
    "#범죄 데이터를 사용하여 다중회귀분석을 수행하는 사례를 보여드리겠습니다."
   ]
  },
  {
   "cell_type": "code",
   "execution_count": null,
   "metadata": {},
   "outputs": [],
   "source": [
    "# 사례 설명\n",
    "# 다음과 같은 범죄 데이터를 사용하여 다중회귀분석을 수행하겠습니다. 이 데이터는 특정 도시의 여러 지역에서 수집된 것으로, 각 지역의 범죄율에 영향을 미칠 수 있는 다양한 요인들이 포함되어 있습니다.\n",
    "\n",
    "# 데이터 설명:\n",
    "# CrimeRate: 범죄율 (종속 변수)\n",
    "# Population: 인구수\n",
    "# UnemploymentRate: 실업률\n",
    "# MedianIncome: 중위 소득\n",
    "# PolicePresence: 경찰 존재 (경찰서 수)"
   ]
  },
  {
   "cell_type": "code",
   "execution_count": 4,
   "metadata": {},
   "outputs": [],
   "source": [
    "import pandas as pd\n",
    "import numpy as np\n",
    "from sklearn.model_selection import train_test_split\n",
    "from sklearn.linear_model import LinearRegression\n",
    "from sklearn.metrics import mean_squared_error, r2_score\n",
    "\n",
    "# 가상의 데이터 생성\n",
    "data = {\n",
    "    'CrimeRate': [10, 20, 15, 30, 25, 40, 35, 50, 45, 60],\n",
    "    'Population': [1000, 1500, 1200, 2000, 1700, 2500, 2300, 3000, 2800, 3500],\n",
    "    'UnemploymentRate': [5.0, 4.8, 5.5, 4.0, 4.5, 3.8, 4.2, 3.5, 3.7, 3.0],\n",
    "    'MedianIncome': [30000, 32000, 31000, 35000, 34000, 37000, 36000, 40000, 39000, 42000],\n",
    "    'PolicePresence': [1, 2, 1, 3, 2, 3, 2, 4, 3, 5]\n",
    "}\n",
    "\n",
    "df = pd.DataFrame(data)\n",
    "\n",
    "# 독립 변수와 종속 변수 분리\n",
    "X = df[['Population', 'UnemploymentRate', 'MedianIncome', 'PolicePresence']]\n",
    "y = df['CrimeRate']\n",
    "\n",
    "# 데이터셋을 훈련 세트와 테스트 세트로 분리\n",
    "X_train, X_test, y_train, y_test = train_test_split(X, y, test_size=0.2, random_state=42)\n",
    "\n",
    "# 다중회귀모델 생성 및 훈련\n",
    "model = LinearRegression()\n",
    "model.fit(X_train, y_train)\n",
    "\n",
    "# 테스트 세트를 사용하여 예측\n",
    "y_pred = model.predict(X_test)\n",
    "\n",
    "# 모델 평가\n",
    "mse = mean_squared_error(y_test, y_pred)\n",
    "r2 = r2_score(y_test, y_pred)\n",
    "\n",
    "# 회귀계수\n",
    "coefficients = model.coef_\n",
    "intercept = model.intercept_\n",
    "\n"
   ]
  },
  {
   "cell_type": "code",
   "execution_count": null,
   "metadata": {},
   "outputs": [],
   "source": []
  },
  {
   "cell_type": "code",
   "execution_count": 5,
   "metadata": {},
   "outputs": [
    {
     "data": {
      "text/plain": [
       "(0.33722077437482795,\n",
       " 0.9978417870440011,\n",
       " array([1.54037062e-02, 1.61617833e+00, 9.26162686e-04, 8.44263281e-01]),\n",
       " -41.97145177786412)"
      ]
     },
     "execution_count": 5,
     "metadata": {},
     "output_type": "execute_result"
    }
   ],
   "source": [
    "mse, r2, coefficients, intercept"
   ]
  },
  {
   "cell_type": "code",
   "execution_count": null,
   "metadata": {},
   "outputs": [],
   "source": [
    "# 회귀 계수 (coefficients):\n",
    "# Population: 0.010000000000000009\n",
    "# UnemploymentRate: -4.973799150320701e-15\n",
    "# MedianIncome: -1.9984014443252818e-15\n",
    "# PolicePresence: -2.6645352591003757e-15\n",
    "# 절편 (intercept): -3.552713678800501e-15"
   ]
  },
  {
   "cell_type": "code",
   "execution_count": null,
   "metadata": {},
   "outputs": [],
   "source": [
    "# 결과 출력\n",
    "# MSE (Mean Squared Error): 평균 제곱 오차\n",
    "# R^2 (R-squared): 결정 계수\n",
    "# 회귀 계수 (coefficients): 각 독립 변수의 회귀 계수\n",
    "# 절편 (intercept): 회귀 직선의 절편"
   ]
  },
  {
   "cell_type": "code",
   "execution_count": null,
   "metadata": {},
   "outputs": [],
   "source": [
    "# 결과 해석\n",
    "# MSE: 예측된 값과 실제 값 간의 평균 제곱 오차를 나타냅니다. 값이 작을수록 예측이 정확합니다.\n",
    "# R^2: 모델이 종속 변수의 변동성을 얼마나 설명하는지를 나타냅니다. 1에 가까울수록 설명력이 높습니다.\n",
    "# 회귀 계수: 각 독립 변수의 회귀 계수는 해당 독립 변수가 종속 변수에 미치는 영향을 나타냅니다. 양수이면 양의 영향, 음수이면 음의 영향을 의미합니다.\n",
    "# 절편: 회귀 직선이 Y축과 만나는 지점입니다."
   ]
  },
  {
   "cell_type": "code",
   "execution_count": null,
   "metadata": {},
   "outputs": [],
   "source": [
    "# 결과 해석"
   ]
  },
  {
   "cell_type": "code",
   "execution_count": null,
   "metadata": {},
   "outputs": [],
   "source": [
    "# 모델 평가 (MSE와 R^2)\n",
    "\n",
    "# MSE (Mean Squared Error): 1.9721522630525295e-30은 거의 0에 가까운 값으로, 모델의 예측이 매우 정확함을 의미합니다.\n",
    "# R^2 (R-squared): 0.9978417870440011 로 거의 1.0으로, 모델이 종속 변수의 변동성을 완벽하게 설명하고 있음을 나타냅니다. \n",
    "# 그러나, 실제 데이터를 분석할 때 이 값이 1.0인 경우 모델이 과적합(overfitting) 되었을 가능성도 고려해야 합니다. 여기서는 가상의 데이터를 사용했기 때문에 이와 같은 결과가 나올 수 있습니다.\n",
    "# 회귀 계수 (coefficients)\n",
    "\n",
    "# Population (인구수): 0.01. 인구수가 1명 증가할 때마다 범죄율이 0.01만큼 증가함을 의미합니다.\n",
    "# UnemploymentRate (실업률): -4.973799150320701e-15. 실업률이 범죄율에 거의 영향을 미치지 않는 것으로 나타납니다 (계수가 0에 가까움).\n",
    "# MedianIncome (중위 소득): -1.9984014443252818e-15. 중위 소득이 범죄율에 거의 영향을 미치지 않는 것으로 나타납니다 (계수가 0에 가까움).\n",
    "# PolicePresence (경찰 존재): -2.6645352591003757e-15. 경찰 존재가 범죄율에 거의 영향을 미치지 않는 것으로 나타납니다 (계수가 0에 가까움).\n",
    "# 절편 (intercept)\n",
    "\n",
    "-3.552713678800501e-15: 이는 회귀 직선이 Y축과 만나는 지점으로, 거의 0에 가깝습니다.\n",
    "결론\n",
    "이 다중회귀분석 결과에서 인구수는 범죄율에 유의미한 영향을 미치는 것으로 나타났습니다. 반면, 실업률, 중위 소득, 경찰 존재는 범죄율에 거의 영향을 미치지 않는 것으로 보입니다. 그러나, 실제 데이터를 사용할 때는 변수 선택 및 모델 적합성에 대한 추가 검토가 필요합니다."
   ]
  },
  {
   "cell_type": "code",
   "execution_count": null,
   "metadata": {},
   "outputs": [],
   "source": []
  },
  {
   "cell_type": "markdown",
   "metadata": {},
   "source": [
    "## 데이터 수집"
   ]
  },
  {
   "cell_type": "code",
   "execution_count": 1,
   "metadata": {},
   "outputs": [],
   "source": [
    "# 라이브러리 불러오기\n",
    "\n",
    "import pandas as pd\n",
    "import numpy as np\n",
    "import matplotlib.pyplot as plt\n",
    "import seaborn as sns\n",
    "\n",
    "\n",
    "# 오류 무시 코드\n",
    "import warnings\n",
    "warnings.filterwarnings(\"ignore\")\n",
    "\n",
    "# 한글폰트 출력 가능 코드\n",
    "plt.rcParams[\"font.family\"] = 'Malgun Gothic'\n",
    "plt.rcParams['axes.unicode_minus'] = False"
   ]
  },
  {
   "cell_type": "code",
   "execution_count": 2,
   "metadata": {},
   "outputs": [
    {
     "data": {
      "text/html": [
       "<div>\n",
       "<style scoped>\n",
       "    .dataframe tbody tr th:only-of-type {\n",
       "        vertical-align: middle;\n",
       "    }\n",
       "\n",
       "    .dataframe tbody tr th {\n",
       "        vertical-align: top;\n",
       "    }\n",
       "\n",
       "    .dataframe thead th {\n",
       "        text-align: right;\n",
       "    }\n",
       "</style>\n",
       "<table border=\"1\" class=\"dataframe\">\n",
       "  <thead>\n",
       "    <tr style=\"text-align: right;\">\n",
       "      <th></th>\n",
       "      <th>날짜</th>\n",
       "      <th>ID</th>\n",
       "      <th>나이</th>\n",
       "      <th>성별</th>\n",
       "      <th>소득</th>\n",
       "      <th>범죄건수</th>\n",
       "    </tr>\n",
       "  </thead>\n",
       "  <tbody>\n",
       "    <tr>\n",
       "      <th>0</th>\n",
       "      <td>2022-11-24</td>\n",
       "      <td>1</td>\n",
       "      <td>71</td>\n",
       "      <td>여성</td>\n",
       "      <td>141440</td>\n",
       "      <td>5</td>\n",
       "    </tr>\n",
       "    <tr>\n",
       "      <th>1</th>\n",
       "      <td>2022-02-27</td>\n",
       "      <td>2</td>\n",
       "      <td>67</td>\n",
       "      <td>남성</td>\n",
       "      <td>122769</td>\n",
       "      <td>4</td>\n",
       "    </tr>\n",
       "    <tr>\n",
       "      <th>2</th>\n",
       "      <td>2022-01-13</td>\n",
       "      <td>3</td>\n",
       "      <td>67</td>\n",
       "      <td>남성</td>\n",
       "      <td>122908</td>\n",
       "      <td>2</td>\n",
       "    </tr>\n",
       "    <tr>\n",
       "      <th>3</th>\n",
       "      <td>2022-05-21</td>\n",
       "      <td>4</td>\n",
       "      <td>21</td>\n",
       "      <td>여성</td>\n",
       "      <td>79638</td>\n",
       "      <td>7</td>\n",
       "    </tr>\n",
       "    <tr>\n",
       "      <th>4</th>\n",
       "      <td>2022-05-06</td>\n",
       "      <td>5</td>\n",
       "      <td>32</td>\n",
       "      <td>남성</td>\n",
       "      <td>57388</td>\n",
       "      <td>8</td>\n",
       "    </tr>\n",
       "    <tr>\n",
       "      <th>...</th>\n",
       "      <td>...</td>\n",
       "      <td>...</td>\n",
       "      <td>...</td>\n",
       "      <td>...</td>\n",
       "      <td>...</td>\n",
       "      <td>...</td>\n",
       "    </tr>\n",
       "    <tr>\n",
       "      <th>95</th>\n",
       "      <td>2022-12-19</td>\n",
       "      <td>96</td>\n",
       "      <td>29</td>\n",
       "      <td>남성</td>\n",
       "      <td>65745</td>\n",
       "      <td>5</td>\n",
       "    </tr>\n",
       "    <tr>\n",
       "      <th>96</th>\n",
       "      <td>2022-10-13</td>\n",
       "      <td>97</td>\n",
       "      <td>50</td>\n",
       "      <td>여성</td>\n",
       "      <td>135456</td>\n",
       "      <td>4</td>\n",
       "    </tr>\n",
       "    <tr>\n",
       "      <th>97</th>\n",
       "      <td>2022-04-23</td>\n",
       "      <td>98</td>\n",
       "      <td>76</td>\n",
       "      <td>남성</td>\n",
       "      <td>29016</td>\n",
       "      <td>3</td>\n",
       "    </tr>\n",
       "    <tr>\n",
       "      <th>98</th>\n",
       "      <td>2022-12-17</td>\n",
       "      <td>99</td>\n",
       "      <td>24</td>\n",
       "      <td>여성</td>\n",
       "      <td>135247</td>\n",
       "      <td>3</td>\n",
       "    </tr>\n",
       "    <tr>\n",
       "      <th>99</th>\n",
       "      <td>2022-06-16</td>\n",
       "      <td>100</td>\n",
       "      <td>73</td>\n",
       "      <td>여성</td>\n",
       "      <td>52018</td>\n",
       "      <td>0</td>\n",
       "    </tr>\n",
       "  </tbody>\n",
       "</table>\n",
       "<p>100 rows × 6 columns</p>\n",
       "</div>"
      ],
      "text/plain": [
       "            날짜   ID  나이  성별      소득  범죄건수\n",
       "0   2022-11-24    1  71  여성  141440     5\n",
       "1   2022-02-27    2  67  남성  122769     4\n",
       "2   2022-01-13    3  67  남성  122908     2\n",
       "3   2022-05-21    4  21  여성   79638     7\n",
       "4   2022-05-06    5  32  남성   57388     8\n",
       "..         ...  ...  ..  ..     ...   ...\n",
       "95  2022-12-19   96  29  남성   65745     5\n",
       "96  2022-10-13   97  50  여성  135456     4\n",
       "97  2022-04-23   98  76  남성   29016     3\n",
       "98  2022-12-17   99  24  여성  135247     3\n",
       "99  2022-06-16  100  73  여성   52018     0\n",
       "\n",
       "[100 rows x 6 columns]"
      ]
     },
     "execution_count": 2,
     "metadata": {},
     "output_type": "execute_result"
    }
   ],
   "source": [
    "# 판다스 부분에서 했었던 데이터 불러오기 : \"crime_list.csv\"\n",
    "\n",
    "crime_list = pd.read_csv(\"crime_list.csv\")\n",
    "\n",
    "crime_list"
   ]
  },
  {
   "cell_type": "markdown",
   "metadata": {},
   "source": [
    "## 데이터 탐색 "
   ]
  },
  {
   "cell_type": "code",
   "execution_count": 18,
   "metadata": {},
   "outputs": [
    {
     "name": "stdout",
     "output_type": "stream",
     "text": [
      "<class 'pandas.core.frame.DataFrame'>\n",
      "RangeIndex: 100 entries, 0 to 99\n",
      "Data columns (total 6 columns):\n",
      " #   Column  Non-Null Count  Dtype \n",
      "---  ------  --------------  ----- \n",
      " 0   날짜      100 non-null    object\n",
      " 1   ID      100 non-null    int64 \n",
      " 2   나이      100 non-null    int64 \n",
      " 3   성별      100 non-null    object\n",
      " 4   소득      100 non-null    int64 \n",
      " 5   범죄건수    100 non-null    int64 \n",
      "dtypes: int64(4), object(2)\n",
      "memory usage: 4.8+ KB\n"
     ]
    }
   ],
   "source": [
    "crime_list.info()"
   ]
  },
  {
   "cell_type": "markdown",
   "metadata": {},
   "source": [
    "## 라이브러리 불러오기"
   ]
  },
  {
   "cell_type": "code",
   "execution_count": 19,
   "metadata": {},
   "outputs": [],
   "source": [
    "# 필요한 라이브러리\n",
    "\n",
    "import statsmodels.api as sm\n",
    "\n",
    "# target은 종속변수, feature는 독립변수와 같다. \n",
    "# target은 종속변수 : 범죄건수\n",
    "# feature는 독립변수 : 나이, 소득\n",
    "\n",
    "target = crime_list['범죄건수']\n",
    "feature1 = crime_list[\"나이\"]\n",
    "feature2 = crime_list[\"소득\"]\n",
    "feature = pd.concat([feature1, feature2], axis=1)\n",
    "\n",
    "# 상수항을 더해줘서 회귀식을 더 잘 적합할 수 있도록 만들어 준다.\n",
    "feature_add = sm.add_constant(feature, has_constant='add')\n",
    "# 상수항 더한 것 확인\n",
    "# feature_add"
   ]
  },
  {
   "cell_type": "markdown",
   "metadata": {},
   "source": [
    "## 결과 출력"
   ]
  },
  {
   "cell_type": "code",
   "execution_count": 20,
   "metadata": {},
   "outputs": [
    {
     "data": {
      "text/html": [
       "<table class=\"simpletable\">\n",
       "<caption>OLS Regression Results</caption>\n",
       "<tr>\n",
       "  <th>Dep. Variable:</th>          <td>범죄건수</td>       <th>  R-squared:         </th> <td>   0.050</td>\n",
       "</tr>\n",
       "<tr>\n",
       "  <th>Model:</th>                   <td>OLS</td>       <th>  Adj. R-squared:    </th> <td>   0.030</td>\n",
       "</tr>\n",
       "<tr>\n",
       "  <th>Method:</th>             <td>Least Squares</td>  <th>  F-statistic:       </th> <td>   2.535</td>\n",
       "</tr>\n",
       "<tr>\n",
       "  <th>Date:</th>             <td>Thu, 26 Oct 2023</td> <th>  Prob (F-statistic):</th>  <td>0.0845</td> \n",
       "</tr>\n",
       "<tr>\n",
       "  <th>Time:</th>                 <td>14:47:50</td>     <th>  Log-Likelihood:    </th> <td> -253.61</td>\n",
       "</tr>\n",
       "<tr>\n",
       "  <th>No. Observations:</th>      <td>   100</td>      <th>  AIC:               </th> <td>   513.2</td>\n",
       "</tr>\n",
       "<tr>\n",
       "  <th>Df Residuals:</th>          <td>    97</td>      <th>  BIC:               </th> <td>   521.0</td>\n",
       "</tr>\n",
       "<tr>\n",
       "  <th>Df Model:</th>              <td>     2</td>      <th>                     </th>     <td> </td>   \n",
       "</tr>\n",
       "<tr>\n",
       "  <th>Covariance Type:</th>      <td>nonrobust</td>    <th>                     </th>     <td> </td>   \n",
       "</tr>\n",
       "</table>\n",
       "<table class=\"simpletable\">\n",
       "<tr>\n",
       "    <td></td>       <th>coef</th>     <th>std err</th>      <th>t</th>      <th>P>|t|</th>  <th>[0.025</th>    <th>0.975]</th>  \n",
       "</tr>\n",
       "<tr>\n",
       "  <th>const</th> <td>    6.7801</td> <td>    1.166</td> <td>    5.814</td> <td> 0.000</td> <td>    4.465</td> <td>    9.095</td>\n",
       "</tr>\n",
       "<tr>\n",
       "  <th>나이</th>    <td>   -0.0379</td> <td>    0.017</td> <td>   -2.222</td> <td> 0.029</td> <td>   -0.072</td> <td>   -0.004</td>\n",
       "</tr>\n",
       "<tr>\n",
       "  <th>소득</th>    <td>-4.277e-06</td> <td> 8.24e-06</td> <td>   -0.519</td> <td> 0.605</td> <td>-2.06e-05</td> <td> 1.21e-05</td>\n",
       "</tr>\n",
       "</table>\n",
       "<table class=\"simpletable\">\n",
       "<tr>\n",
       "  <th>Omnibus:</th>       <td>10.795</td> <th>  Durbin-Watson:     </th> <td>   1.979</td>\n",
       "</tr>\n",
       "<tr>\n",
       "  <th>Prob(Omnibus):</th> <td> 0.005</td> <th>  Jarque-Bera (JB):  </th> <td>   4.891</td>\n",
       "</tr>\n",
       "<tr>\n",
       "  <th>Skew:</th>          <td> 0.300</td> <th>  Prob(JB):          </th> <td>  0.0867</td>\n",
       "</tr>\n",
       "<tr>\n",
       "  <th>Kurtosis:</th>      <td> 2.098</td> <th>  Cond. No.          </th> <td>3.41e+05</td>\n",
       "</tr>\n",
       "</table><br/><br/>Notes:<br/>[1] Standard Errors assume that the covariance matrix of the errors is correctly specified.<br/>[2] The condition number is large, 3.41e+05. This might indicate that there are<br/>strong multicollinearity or other numerical problems."
      ],
      "text/latex": [
       "\\begin{center}\n",
       "\\begin{tabular}{lclc}\n",
       "\\toprule\n",
       "\\textbf{Dep. Variable:}    &       범죄건수       & \\textbf{  R-squared:         } &     0.050   \\\\\n",
       "\\textbf{Model:}            &       OLS        & \\textbf{  Adj. R-squared:    } &     0.030   \\\\\n",
       "\\textbf{Method:}           &  Least Squares   & \\textbf{  F-statistic:       } &     2.535   \\\\\n",
       "\\textbf{Date:}             & Thu, 26 Oct 2023 & \\textbf{  Prob (F-statistic):} &   0.0845    \\\\\n",
       "\\textbf{Time:}             &     14:47:50     & \\textbf{  Log-Likelihood:    } &   -253.61   \\\\\n",
       "\\textbf{No. Observations:} &         100      & \\textbf{  AIC:               } &     513.2   \\\\\n",
       "\\textbf{Df Residuals:}     &          97      & \\textbf{  BIC:               } &     521.0   \\\\\n",
       "\\textbf{Df Model:}         &           2      & \\textbf{                     } &             \\\\\n",
       "\\textbf{Covariance Type:}  &    nonrobust     & \\textbf{                     } &             \\\\\n",
       "\\bottomrule\n",
       "\\end{tabular}\n",
       "\\begin{tabular}{lcccccc}\n",
       "               & \\textbf{coef} & \\textbf{std err} & \\textbf{t} & \\textbf{P$> |$t$|$} & \\textbf{[0.025} & \\textbf{0.975]}  \\\\\n",
       "\\midrule\n",
       "\\textbf{const} &       6.7801  &        1.166     &     5.814  &         0.000        &        4.465    &        9.095     \\\\\n",
       "\\textbf{나이}    &      -0.0379  &        0.017     &    -2.222  &         0.029        &       -0.072    &       -0.004     \\\\\n",
       "\\textbf{소득}    &   -4.277e-06  &     8.24e-06     &    -0.519  &         0.605        &    -2.06e-05    &     1.21e-05     \\\\\n",
       "\\bottomrule\n",
       "\\end{tabular}\n",
       "\\begin{tabular}{lclc}\n",
       "\\textbf{Omnibus:}       & 10.795 & \\textbf{  Durbin-Watson:     } &    1.979  \\\\\n",
       "\\textbf{Prob(Omnibus):} &  0.005 & \\textbf{  Jarque-Bera (JB):  } &    4.891  \\\\\n",
       "\\textbf{Skew:}          &  0.300 & \\textbf{  Prob(JB):          } &   0.0867  \\\\\n",
       "\\textbf{Kurtosis:}      &  2.098 & \\textbf{  Cond. No.          } & 3.41e+05  \\\\\n",
       "\\bottomrule\n",
       "\\end{tabular}\n",
       "%\\caption{OLS Regression Results}\n",
       "\\end{center}\n",
       "\n",
       "Notes: \\newline\n",
       " [1] Standard Errors assume that the covariance matrix of the errors is correctly specified. \\newline\n",
       " [2] The condition number is large, 3.41e+05. This might indicate that there are \\newline\n",
       " strong multicollinearity or other numerical problems."
      ],
      "text/plain": [
       "<class 'statsmodels.iolib.summary.Summary'>\n",
       "\"\"\"\n",
       "                            OLS Regression Results                            \n",
       "==============================================================================\n",
       "Dep. Variable:                   범죄건수   R-squared:                       0.050\n",
       "Model:                            OLS   Adj. R-squared:                  0.030\n",
       "Method:                 Least Squares   F-statistic:                     2.535\n",
       "Date:                Thu, 26 Oct 2023   Prob (F-statistic):             0.0845\n",
       "Time:                        14:47:50   Log-Likelihood:                -253.61\n",
       "No. Observations:                 100   AIC:                             513.2\n",
       "Df Residuals:                      97   BIC:                             521.0\n",
       "Df Model:                           2                                         \n",
       "Covariance Type:            nonrobust                                         \n",
       "==============================================================================\n",
       "                 coef    std err          t      P>|t|      [0.025      0.975]\n",
       "------------------------------------------------------------------------------\n",
       "const          6.7801      1.166      5.814      0.000       4.465       9.095\n",
       "나이            -0.0379      0.017     -2.222      0.029      -0.072      -0.004\n",
       "소득         -4.277e-06   8.24e-06     -0.519      0.605   -2.06e-05    1.21e-05\n",
       "==============================================================================\n",
       "Omnibus:                       10.795   Durbin-Watson:                   1.979\n",
       "Prob(Omnibus):                  0.005   Jarque-Bera (JB):                4.891\n",
       "Skew:                           0.300   Prob(JB):                       0.0867\n",
       "Kurtosis:                       2.098   Cond. No.                     3.41e+05\n",
       "==============================================================================\n",
       "\n",
       "Notes:\n",
       "[1] Standard Errors assume that the covariance matrix of the errors is correctly specified.\n",
       "[2] The condition number is large, 3.41e+05. This might indicate that there are\n",
       "strong multicollinearity or other numerical problems.\n",
       "\"\"\""
      ]
     },
     "execution_count": 20,
     "metadata": {},
     "output_type": "execute_result"
    }
   ],
   "source": [
    "# sm OLS 적합\n",
    "model = sm.OLS(target, feature_add)\n",
    "fitted_model = model.fit()\n",
    "\n",
    "# summary 함수통해 결과출력\n",
    "\n",
    "fitted_model.summary()"
   ]
  },
  {
   "cell_type": "code",
   "execution_count": 21,
   "metadata": {},
   "outputs": [],
   "source": [
    "# 결과 해석\n",
    "\n",
    "# 통계적유의성 변수 : 나이 변수, 소득변수는 유의하지 않음\n",
    "# 결정계수 : 설명력이 매우 낮음"
   ]
  },
  {
   "cell_type": "markdown",
   "metadata": {},
   "source": [
    "# 다중공선성 측정"
   ]
  },
  {
   "cell_type": "markdown",
   "metadata": {},
   "source": [
    "## 다중공선성 이해 "
   ]
  },
  {
   "cell_type": "code",
   "execution_count": 22,
   "metadata": {},
   "outputs": [
    {
     "name": "stdout",
     "output_type": "stream",
     "text": [
      "feature Close_000660.KS의 VIF는 1.005037802594838입니다.\n"
     ]
    }
   ],
   "source": [
    "# 다중 공선성 : 여러 독립변수간 선형적 관계를 가지는 것  -> 가정에 위배 \n",
    "# VIF  : 통상 10이상이면 공선성\n",
    "\n",
    "# feature 전체에 대해 VIF를 알고 싶은 특정 feature를 target으로 두고 나머지를 feature로 설정하여 OLS를 구한 뒤, 결정계수를 도출한다.\n",
    "calculate_vif = sm.OLS(feature_add['나이'], feature_add.drop(columns = '나이')).fit()\n",
    "\n",
    "# 다중공선성 계산 : 1 / (1 - R^2)\n",
    "\n",
    "print(f'feature Close_000660.KS의 VIF는 {1 / (1 - calculate_vif.rsquared)}입니다.')"
   ]
  },
  {
   "cell_type": "code",
   "execution_count": 23,
   "metadata": {},
   "outputs": [
    {
     "data": {
      "text/html": [
       "<div>\n",
       "<style scoped>\n",
       "    .dataframe tbody tr th:only-of-type {\n",
       "        vertical-align: middle;\n",
       "    }\n",
       "\n",
       "    .dataframe tbody tr th {\n",
       "        vertical-align: top;\n",
       "    }\n",
       "\n",
       "    .dataframe thead th {\n",
       "        text-align: right;\n",
       "    }\n",
       "</style>\n",
       "<table border=\"1\" class=\"dataframe\">\n",
       "  <thead>\n",
       "    <tr style=\"text-align: right;\">\n",
       "      <th></th>\n",
       "      <th>VIF Factor</th>\n",
       "      <th>features</th>\n",
       "    </tr>\n",
       "  </thead>\n",
       "  <tbody>\n",
       "    <tr>\n",
       "      <th>0</th>\n",
       "      <td>14.125411</td>\n",
       "      <td>const</td>\n",
       "    </tr>\n",
       "    <tr>\n",
       "      <th>1</th>\n",
       "      <td>1.005038</td>\n",
       "      <td>나이</td>\n",
       "    </tr>\n",
       "    <tr>\n",
       "      <th>2</th>\n",
       "      <td>1.005038</td>\n",
       "      <td>소득</td>\n",
       "    </tr>\n",
       "  </tbody>\n",
       "</table>\n",
       "</div>"
      ],
      "text/plain": [
       "   VIF Factor features\n",
       "0   14.125411    const\n",
       "1    1.005038       나이\n",
       "2    1.005038       소득"
      ]
     },
     "execution_count": 23,
     "metadata": {},
     "output_type": "execute_result"
    }
   ],
   "source": [
    "def vif(data):\n",
    "    import pandas as pd\n",
    "    from statsmodels.stats.outliers_influence import variance_inflation_factor\n",
    "\n",
    "    # VIF 출력을 위한 데이터 프레임 형성\n",
    "    vif = pd.DataFrame()\n",
    "\n",
    "    # VIF 값과 각 Feature 이름에 대해 설정\n",
    "    vif[\"VIF Factor\"] = [variance_inflation_factor(data.values, i) for i in range(len(data.columns))]\n",
    "    vif[\"features\"] = data.columns \n",
    "\n",
    "    # VIF 값이 높은 순으로 정렬\n",
    "    vif = vif.sort_values(by=\"VIF Factor\", ascending=False)\n",
    "    vif = vif.reset_index().drop(columns='index')\n",
    "    \n",
    "    return vif\n",
    "\n",
    "vif(feature_add)"
   ]
  },
  {
   "cell_type": "code",
   "execution_count": 24,
   "metadata": {},
   "outputs": [
    {
     "name": "stdout",
     "output_type": "stream",
     "text": [
      "1번째 VIF 측정\n",
      "Max VIF feature & value : const,  14.1254\n",
      "2번째 VIF 측정\n",
      "Max VIF feature & value : const,  3.4655\n",
      "\n",
      "\n",
      "나이의 vif는  3.47입니다.\n",
      "소득의 vif는  3.47입니다.\n"
     ]
    }
   ],
   "source": [
    "# 다중공선성 측정\n",
    "def vif_drop(x, cut_off):\n",
    "    import pandas as pd\n",
    "    from statsmodels.stats.outliers_influence import variance_inflation_factor\n",
    "    # vif 10 초과시 drop을 위한 임계값 설정\n",
    "    thresh = cut_off\n",
    "    # Filter method로 feature selection 진행 후 최종 도출 될 데이터 프레임 형성\n",
    "    output = pd.DataFrame()\n",
    "    # 데이터의 컬럼 개수 설정\n",
    "    k = x.shape[1]\n",
    "    # VIF 측정\n",
    "    vif = [variance_inflation_factor(x.values, i) for i in range(x.shape[1])]\n",
    "    for i in range(1,k):\n",
    "        print(f'{i}번째 VIF 측정')\n",
    "        # VIF 최대 값 선정\n",
    "        a = np.argmax(vif)\n",
    "        print(f'Max VIF feature & value : {x.columns[a]}, {vif[a] : .4f}')\n",
    "        # VIF 최대 값이 임계치를 넘지 않는 경우 break\n",
    "        if (vif[a] <= thresh):\n",
    "            print('\\n')\n",
    "            for q in range(output.shape[1]):\n",
    "                print(f'{output.columns[q]}의 vif는 {vif[q] : .2f}입니다.')\n",
    "            break\n",
    "        # VIF 최대 값이 임계치를 넘는 경우, + 1번째 시도인 경우 : if 문으로 해당 feature 제거 후 다시 vif 측정\n",
    "        if (i == 1):\n",
    "            output = x.drop(x.columns[a], axis = 1)\n",
    "            vif = [variance_inflation_factor(output.values, j) for j in range(output.shape[1])]\n",
    "        # VIF 최대 값이 임계치를 넘는 경우, + 1번째 이후 시도인 경우 : if 문으로 해당 feature 제거 후 다시 vif 측정\n",
    "        elif (i > 1):\n",
    "            output = output.drop(output.columns[a], axis = 1)\n",
    "            vif = [variance_inflation_factor(output.values, j) for j in range(output.shape[1])]\n",
    "    return(output)\n",
    "\n",
    "feature_drop = vif_drop(feature_add, 10)"
   ]
  },
  {
   "cell_type": "markdown",
   "metadata": {},
   "source": [
    "## 다중공선성 독립변수 제거후 결과"
   ]
  },
  {
   "cell_type": "code",
   "execution_count": 25,
   "metadata": {},
   "outputs": [
    {
     "data": {
      "text/html": [
       "<table class=\"simpletable\">\n",
       "<caption>OLS Regression Results</caption>\n",
       "<tr>\n",
       "  <th>Dep. Variable:</th>          <td>범죄건수</td>       <th>  R-squared:         </th> <td>   0.050</td>\n",
       "</tr>\n",
       "<tr>\n",
       "  <th>Model:</th>                   <td>OLS</td>       <th>  Adj. R-squared:    </th> <td>   0.030</td>\n",
       "</tr>\n",
       "<tr>\n",
       "  <th>Method:</th>             <td>Least Squares</td>  <th>  F-statistic:       </th> <td>   2.535</td>\n",
       "</tr>\n",
       "<tr>\n",
       "  <th>Date:</th>             <td>Thu, 26 Oct 2023</td> <th>  Prob (F-statistic):</th>  <td>0.0845</td> \n",
       "</tr>\n",
       "<tr>\n",
       "  <th>Time:</th>                 <td>14:47:52</td>     <th>  Log-Likelihood:    </th> <td> -253.61</td>\n",
       "</tr>\n",
       "<tr>\n",
       "  <th>No. Observations:</th>      <td>   100</td>      <th>  AIC:               </th> <td>   513.2</td>\n",
       "</tr>\n",
       "<tr>\n",
       "  <th>Df Residuals:</th>          <td>    97</td>      <th>  BIC:               </th> <td>   521.0</td>\n",
       "</tr>\n",
       "<tr>\n",
       "  <th>Df Model:</th>              <td>     2</td>      <th>                     </th>     <td> </td>   \n",
       "</tr>\n",
       "<tr>\n",
       "  <th>Covariance Type:</th>      <td>nonrobust</td>    <th>                     </th>     <td> </td>   \n",
       "</tr>\n",
       "</table>\n",
       "<table class=\"simpletable\">\n",
       "<tr>\n",
       "    <td></td>       <th>coef</th>     <th>std err</th>      <th>t</th>      <th>P>|t|</th>  <th>[0.025</th>    <th>0.975]</th>  \n",
       "</tr>\n",
       "<tr>\n",
       "  <th>const</th> <td>    6.7801</td> <td>    1.166</td> <td>    5.814</td> <td> 0.000</td> <td>    4.465</td> <td>    9.095</td>\n",
       "</tr>\n",
       "<tr>\n",
       "  <th>나이</th>    <td>   -0.0379</td> <td>    0.017</td> <td>   -2.222</td> <td> 0.029</td> <td>   -0.072</td> <td>   -0.004</td>\n",
       "</tr>\n",
       "<tr>\n",
       "  <th>소득</th>    <td>-4.277e-06</td> <td> 8.24e-06</td> <td>   -0.519</td> <td> 0.605</td> <td>-2.06e-05</td> <td> 1.21e-05</td>\n",
       "</tr>\n",
       "</table>\n",
       "<table class=\"simpletable\">\n",
       "<tr>\n",
       "  <th>Omnibus:</th>       <td>10.795</td> <th>  Durbin-Watson:     </th> <td>   1.979</td>\n",
       "</tr>\n",
       "<tr>\n",
       "  <th>Prob(Omnibus):</th> <td> 0.005</td> <th>  Jarque-Bera (JB):  </th> <td>   4.891</td>\n",
       "</tr>\n",
       "<tr>\n",
       "  <th>Skew:</th>          <td> 0.300</td> <th>  Prob(JB):          </th> <td>  0.0867</td>\n",
       "</tr>\n",
       "<tr>\n",
       "  <th>Kurtosis:</th>      <td> 2.098</td> <th>  Cond. No.          </th> <td>3.41e+05</td>\n",
       "</tr>\n",
       "</table><br/><br/>Notes:<br/>[1] Standard Errors assume that the covariance matrix of the errors is correctly specified.<br/>[2] The condition number is large, 3.41e+05. This might indicate that there are<br/>strong multicollinearity or other numerical problems."
      ],
      "text/latex": [
       "\\begin{center}\n",
       "\\begin{tabular}{lclc}\n",
       "\\toprule\n",
       "\\textbf{Dep. Variable:}    &       범죄건수       & \\textbf{  R-squared:         } &     0.050   \\\\\n",
       "\\textbf{Model:}            &       OLS        & \\textbf{  Adj. R-squared:    } &     0.030   \\\\\n",
       "\\textbf{Method:}           &  Least Squares   & \\textbf{  F-statistic:       } &     2.535   \\\\\n",
       "\\textbf{Date:}             & Thu, 26 Oct 2023 & \\textbf{  Prob (F-statistic):} &   0.0845    \\\\\n",
       "\\textbf{Time:}             &     14:47:52     & \\textbf{  Log-Likelihood:    } &   -253.61   \\\\\n",
       "\\textbf{No. Observations:} &         100      & \\textbf{  AIC:               } &     513.2   \\\\\n",
       "\\textbf{Df Residuals:}     &          97      & \\textbf{  BIC:               } &     521.0   \\\\\n",
       "\\textbf{Df Model:}         &           2      & \\textbf{                     } &             \\\\\n",
       "\\textbf{Covariance Type:}  &    nonrobust     & \\textbf{                     } &             \\\\\n",
       "\\bottomrule\n",
       "\\end{tabular}\n",
       "\\begin{tabular}{lcccccc}\n",
       "               & \\textbf{coef} & \\textbf{std err} & \\textbf{t} & \\textbf{P$> |$t$|$} & \\textbf{[0.025} & \\textbf{0.975]}  \\\\\n",
       "\\midrule\n",
       "\\textbf{const} &       6.7801  &        1.166     &     5.814  &         0.000        &        4.465    &        9.095     \\\\\n",
       "\\textbf{나이}    &      -0.0379  &        0.017     &    -2.222  &         0.029        &       -0.072    &       -0.004     \\\\\n",
       "\\textbf{소득}    &   -4.277e-06  &     8.24e-06     &    -0.519  &         0.605        &    -2.06e-05    &     1.21e-05     \\\\\n",
       "\\bottomrule\n",
       "\\end{tabular}\n",
       "\\begin{tabular}{lclc}\n",
       "\\textbf{Omnibus:}       & 10.795 & \\textbf{  Durbin-Watson:     } &    1.979  \\\\\n",
       "\\textbf{Prob(Omnibus):} &  0.005 & \\textbf{  Jarque-Bera (JB):  } &    4.891  \\\\\n",
       "\\textbf{Skew:}          &  0.300 & \\textbf{  Prob(JB):          } &   0.0867  \\\\\n",
       "\\textbf{Kurtosis:}      &  2.098 & \\textbf{  Cond. No.          } & 3.41e+05  \\\\\n",
       "\\bottomrule\n",
       "\\end{tabular}\n",
       "%\\caption{OLS Regression Results}\n",
       "\\end{center}\n",
       "\n",
       "Notes: \\newline\n",
       " [1] Standard Errors assume that the covariance matrix of the errors is correctly specified. \\newline\n",
       " [2] The condition number is large, 3.41e+05. This might indicate that there are \\newline\n",
       " strong multicollinearity or other numerical problems."
      ],
      "text/plain": [
       "<class 'statsmodels.iolib.summary.Summary'>\n",
       "\"\"\"\n",
       "                            OLS Regression Results                            \n",
       "==============================================================================\n",
       "Dep. Variable:                   범죄건수   R-squared:                       0.050\n",
       "Model:                            OLS   Adj. R-squared:                  0.030\n",
       "Method:                 Least Squares   F-statistic:                     2.535\n",
       "Date:                Thu, 26 Oct 2023   Prob (F-statistic):             0.0845\n",
       "Time:                        14:47:52   Log-Likelihood:                -253.61\n",
       "No. Observations:                 100   AIC:                             513.2\n",
       "Df Residuals:                      97   BIC:                             521.0\n",
       "Df Model:                           2                                         \n",
       "Covariance Type:            nonrobust                                         \n",
       "==============================================================================\n",
       "                 coef    std err          t      P>|t|      [0.025      0.975]\n",
       "------------------------------------------------------------------------------\n",
       "const          6.7801      1.166      5.814      0.000       4.465       9.095\n",
       "나이            -0.0379      0.017     -2.222      0.029      -0.072      -0.004\n",
       "소득         -4.277e-06   8.24e-06     -0.519      0.605   -2.06e-05    1.21e-05\n",
       "==============================================================================\n",
       "Omnibus:                       10.795   Durbin-Watson:                   1.979\n",
       "Prob(Omnibus):                  0.005   Jarque-Bera (JB):                4.891\n",
       "Skew:                           0.300   Prob(JB):                       0.0867\n",
       "Kurtosis:                       2.098   Cond. No.                     3.41e+05\n",
       "==============================================================================\n",
       "\n",
       "Notes:\n",
       "[1] Standard Errors assume that the covariance matrix of the errors is correctly specified.\n",
       "[2] The condition number is large, 3.41e+05. This might indicate that there are\n",
       "strong multicollinearity or other numerical problems.\n",
       "\"\"\""
      ]
     },
     "execution_count": 25,
     "metadata": {},
     "output_type": "execute_result"
    }
   ],
   "source": [
    "import statsmodels.api as sm\n",
    "\n",
    "# 다중공선성 제거후 모델 형성\n",
    "\n",
    "feature = feature_drop\n",
    "\n",
    "# sm OLS 적합\n",
    "feature_add = sm.add_constant(feature, has_constant='add')\n",
    "\n",
    "model = sm.OLS(target, feature_add)\n",
    "fitted_model = model.fit()\n",
    "\n",
    "# summary 함수통해 결과출력\n",
    "fitted_model.summary()"
   ]
  },
  {
   "cell_type": "markdown",
   "metadata": {},
   "source": [
    "# 회귀 식의 적합성 검정 : 잔차분석\n",
    "\n",
    " 정규성, 자기상관성, 등분산성 검정"
   ]
  },
  {
   "cell_type": "markdown",
   "metadata": {},
   "source": [
    "## 잔차 시각화 검토 "
   ]
  },
  {
   "cell_type": "code",
   "execution_count": 26,
   "metadata": {},
   "outputs": [
    {
     "data": {
      "image/png": "[encoded data removed]",
      "text/plain": [
       "<Figure size 432x288 with 1 Axes>"
      ]
     },
     "metadata": {
      "needs_background": "light"
     },
     "output_type": "display_data"
    }
   ],
   "source": [
    "# 잔차 시각화\n",
    "fitted_model.resid.plot(kind='bar')\n",
    "plt.hlines(y=0, xmin=0, xmax=42, colors='red') #잔차는 0을 기준으로 생성되기 때문에 y=0의 선을 그어준다. (기준선 역할)\n",
    "plt.show()"
   ]
  },
  {
   "cell_type": "markdown",
   "metadata": {},
   "source": [
    "## 오차항의 등분산성"
   ]
  },
  {
   "cell_type": "code",
   "execution_count": 27,
   "metadata": {},
   "outputs": [],
   "source": [
    "# yhat은 model 형성을 하면서 feature를 넣고 도출된 회귀값들임\n",
    "yhat = fitted_model.fittedvalues\n",
    "subset = pd.concat([yhat, target, fitted_model.resid], axis=1)\n",
    "subset.columns = ['yhat', 'target', 'model_residual']\n",
    "\n",
    "# 따라서 yhat, 전체형법범죄 데이터의 차이는 잔차 값으로 남아있음. (컬럼 자체를 연산하지 않았지만, 연산 결과는 잔차와 동일함)\n",
    "# subset"
   ]
  },
  {
   "cell_type": "code",
   "execution_count": 28,
   "metadata": {},
   "outputs": [
    {
     "data": {
      "image/png": "[encoded data removed]",
      "text/plain": [
       "<Figure size 720x576 with 1 Axes>"
      ]
     },
     "metadata": {
      "needs_background": "light"
     },
     "output_type": "display_data"
    }
   ],
   "source": [
    "# 오차항의 등분산성을 확인하기 위한 플롯 형성\n",
    "fig = plt.figure(figsize= (10,8))\n",
    "\n",
    "# yhat값의 변화에 따라 오차항이 어떻게 변화하는지 육안으로 확인하는 부분 (등분산성은 yhat값과 무관하게 일정한 분산을 유지하는 형태로 도출됨)\n",
    "sns.residplot(x = \"yhat\", y = \"target\", \n",
    "              data = subset, scatter_kws = {'edgecolor':\"white\"},\n",
    "              lowess = True, line_kws = {\"color\":\"green\"})\n",
    "plt.title(\"Residuals Diagram\", fontsize=15, y=1.02)\n",
    "plt.xlabel(\"Fitted Values\")  \n",
    "plt.ylabel(\"Residuals\")\n",
    "plt.show()"
   ]
  },
  {
   "cell_type": "code",
   "execution_count": 29,
   "metadata": {},
   "outputs": [
    {
     "name": "stdout",
     "output_type": "stream",
     "text": [
      "Lag_range multiplier statistic :  2.298\n",
      "p-value :  0.317\n",
      "f-value :  1.141\n",
      "f p-value :  0.324\n"
     ]
    }
   ],
   "source": [
    "# 하나씩 시행해보기\n",
    "from statsmodels.compat import lzip\n",
    "import statsmodels.stats.api as sm\n",
    "\n",
    "#perform Bresuch-Pagan test\n",
    "names = ['Lag_range multiplier statistic', 'p-value','f-value', 'f p-value']\n",
    "test = sm.het_breuschpagan(fitted_model.resid, fitted_model.model.exog)\n",
    "\n",
    "# 독립변수, featue의 values (endog는 y값)\n",
    "# fitted_model.model.exog\n",
    "\n",
    "for i in lzip(names, test):\n",
    "    print(f'{i[0]} : {i[1] : .3f}')\n",
    "# which assumes independent and identically distributed\n",
    "# error terms, or the original Breusch-Pagan version which assumes\n",
    "# residuals are normally distributed.\n",
    "\n",
    "# The null hypothesis (H0): Homoscedasticity is present."
   ]
  },
  {
   "cell_type": "code",
   "execution_count": 30,
   "metadata": {},
   "outputs": [
    {
     "data": {
      "image/png": "[encoded data removed]",
      "text/plain": [
       "<Figure size 720x576 with 1 Axes>"
      ]
     },
     "metadata": {
      "needs_background": "light"
     },
     "output_type": "display_data"
    },
    {
     "name": "stdout",
     "output_type": "stream",
     "text": [
      "Lag_range multiplier statistic :  2.298\n",
      "p-value :  0.317\n",
      "f-value :  1.141\n",
      "f p-value :  0.324\n",
      "오차항이 등분산(Homoscedasticity)을 따른다는 귀무가설을 유의수준 5.0%에서 기각하지 못합니다.\n"
     ]
    }
   ],
   "source": [
    "def bp_test(fitted_model, sig_level):\n",
    "    # 라이브러리 호출\n",
    "    from statsmodels.compat import lzip\n",
    "    from statsmodels.stats.api import het_breuschpagan\n",
    "    import pandas as pd\n",
    "    import seaborn as sns\n",
    "    import matplotlib.pyplot as plt\n",
    "    \n",
    "    # 변수설정\n",
    "    yhat = fitted_model.fittedvalues\n",
    "    subset = pd.concat([yhat, target], axis=1)\n",
    "    subset.columns = ['yhat', 'target']\n",
    "    names = ['Lag_range multiplier statistic', 'p-value','f-value', 'f p-value']\n",
    "    test = het_breuschpagan(fitted_model.resid, fitted_model.model.exog)\n",
    "    \n",
    "    # 오차항의 등분산성을 확인하기 위한 플롯 형성\n",
    "    fig = plt.figure(figsize= (10,8))\n",
    "    sns.residplot(x = \"yhat\", y = \"target\", \n",
    "                data = subset, scatter_kws = {'edgecolor':\"white\"},\n",
    "                lowess = True, line_kws = {\"color\":\"green\"})\n",
    "    plt.title(\"Residuals Diagram\", fontsize=15, y=1.02)\n",
    "    plt.xlabel(\"Fitted Values\")  \n",
    "    plt.ylabel(\"Residuals\")\n",
    "    plt.show()\n",
    "\n",
    "    for i in lzip(names, test):\n",
    "        print(f'{i[0]} : {i[1] : .3f}')\n",
    "        \n",
    "    if test[1] > sig_level:\n",
    "        print(f'오차항이 등분산(Homoscedasticity)을 따른다는 귀무가설을 유의수준 {sig_level * 100}%에서 기각하지 못합니다.')\n",
    "    else:\n",
    "        print(f'오차항이 등분산(Homoscedasticity)을 따른다는 귀무가설을 유의수준 {sig_level * 100}%에서 기각합니다.')\n",
    "        print(f'오차항이 이분산(Heteroscedasticity)을 따르므로 선형회귀 모형의 가정에 어긋납니다.')\n",
    "\n",
    "bp_test(fitted_model, 0.05)"
   ]
  },
  {
   "cell_type": "code",
   "execution_count": 31,
   "metadata": {},
   "outputs": [
    {
     "name": "stdout",
     "output_type": "stream",
     "text": [
      "{'Test Statistic': 3.685668483507154, 'Test Statistic p-value': 0.5954981441967798, 'F-Statistic': 0.7194211536220783, 'F-Test p-value': 0.6104471318978939}\n"
     ]
    }
   ],
   "source": [
    "# 이분산 검정 추가 (white test)\n",
    "from statsmodels.stats.api import het_white\n",
    "\n",
    "labels = ['Test Statistic', 'Test Statistic p-value', 'F-Statistic', 'F-Test p-value']\n",
    "\n",
    "white_test = het_white(fitted_model.resid, fitted_model.model.exog)\n",
    "\n",
    "print(dict(zip(labels, white_test)))\n",
    "\n",
    "# Null (H0): Homoscedasticity is present (residuals are equally scattered)\n",
    "# Alternative (HA): Heteroscedasticity is present (residuals are not equally scattered)"
   ]
  },
  {
   "cell_type": "markdown",
   "metadata": {},
   "source": [
    "## 오차항의 독립성"
   ]
  },
  {
   "cell_type": "code",
   "execution_count": 32,
   "metadata": {},
   "outputs": [
    {
     "data": {
      "text/plain": [
       "1.9785872282150525"
      ]
     },
     "execution_count": 32,
     "metadata": {},
     "output_type": "execute_result"
    }
   ],
   "source": [
    "# 한줄씩 해보기\n",
    "# 더빈왓슨 통계 (DW-test) : 0~4\n",
    "# 오차항의 독립성 검정으로 귀무가설은 '오차항이 독립적이다.'이다.\n",
    "# statsmodel에서 도출한 OLS summary에서도 DW 값이 나오는데 2에 인접하는 경우, 오차항의 상관관계가 없는 것으로 나온다.\n",
    "\n",
    "from statsmodels.stats.stattools import durbin_watson\n",
    "\n",
    "durbin_watson(resids=fitted_model.resid)"
   ]
  },
  {
   "cell_type": "code",
   "execution_count": 33,
   "metadata": {},
   "outputs": [
    {
     "data": {
      "text/plain": [
       "1.9785872282150525"
      ]
     },
     "execution_count": 33,
     "metadata": {},
     "output_type": "execute_result"
    }
   ],
   "source": [
    "# 한줄씩 해보기\n",
    "# 잔차 정의\n",
    "resids=fitted_model.resid\n",
    "# DW 통계치를 구하는 공식 적용 (시차 1 적용)\n",
    "diff_resids = np.diff(resids, 1, axis=0)\n",
    "dw = np.sum(diff_resids**2, axis=0) / np.sum(resids**2, axis=0)\n",
    "# dw 통계치 도출 완료\n",
    "dw"
   ]
  },
  {
   "cell_type": "markdown",
   "metadata": {},
   "source": [
    "## DW 검정에 대한 설명\n",
    "The test statistic is approximately equal to 2*(1-r) where ``r`` is the\n",
    "sample autocorrelation of the residuals. Thus, for r == 0, indicating no\n",
    "serial correlation, the test statistic equals 2. This statistic will\n",
    "always be between 0 and 4. The closer to 0 the statistic, the more\n",
    "evidence for positive serial correlation. The closer to 4, the more\n",
    "evidence for negative serial correlation."
   ]
  },
  {
   "cell_type": "code",
   "execution_count": 34,
   "metadata": {},
   "outputs": [
    {
     "data": {
      "image/png": "[encoded data removed]",
      "text/plain": [
       "<Figure size 432x288 with 1 Axes>"
      ]
     },
     "metadata": {
      "needs_background": "light"
     },
     "output_type": "display_data"
    }
   ],
   "source": [
    "def autocorr_resid(fitted_model):\n",
    "    from statsmodels.graphics.tsaplots import plot_acf\n",
    "    import matplotlib.pyplot as plt\n",
    "    from statsmodels.stats.stattools import durbin_watson\n",
    "\n",
    "    # 오차항의 자기상관성 검정\n",
    "    plot_acf(fitted_model.resid)\n",
    "    plt.xlabel('Lag at k')\n",
    "    plt.ylabel(\"lag at k's autocorrelation\")\n",
    "    plt.title(f'DW test 통계치 : {durbin_watson(resids=fitted_model.resid) : .5f}')\n",
    "    plt.text(y=-1.75,x=0, s='DW 통계치가 2에 근접하면 자기상관성이 없습니다.\\n0에 근접하면 양, 4에 근접하면 음의 자기상관성이 존재합니다.')\n",
    "    plt.show()\n",
    "\n",
    "autocorr_resid(fitted_model)   "
   ]
  },
  {
   "cell_type": "markdown",
   "metadata": {},
   "source": [
    "##  오차항의 정규성"
   ]
  },
  {
   "cell_type": "code",
   "execution_count": 35,
   "metadata": {},
   "outputs": [
    {
     "name": "stdout",
     "output_type": "stream",
     "text": [
      "검정통계치 :  4.89071\n",
      "p값 :  0.08670\n"
     ]
    }
   ],
   "source": [
    "# 정규성 검정 (귀무가설 : 정규성를 따른다)\n",
    "\n",
    "from scipy.stats import jarque_bera\n",
    "\n",
    "statistic, pvalue = jarque_bera(fitted_model.resid)\n",
    "print(f'검정통계치 : {statistic : .5f}\\np값 : {pvalue : .5f}')"
   ]
  },
  {
   "cell_type": "code",
   "execution_count": 36,
   "metadata": {},
   "outputs": [
    {
     "data": {
      "image/png": "[encoded data removed]",
      "text/plain": [
       "<Figure size 432x288 with 1 Axes>"
      ]
     },
     "metadata": {
      "needs_background": "light"
     },
     "output_type": "display_data"
    }
   ],
   "source": [
    "# 오차항 시각화\n",
    "sns.distplot(fitted_model.resid)\n",
    "plt.show()"
   ]
  },
  {
   "cell_type": "code",
   "execution_count": 37,
   "metadata": {},
   "outputs": [
    {
     "data": {
      "image/png": "[encoded data removed]",
      "text/plain": [
       "<Figure size 432x288 with 1 Axes>"
      ]
     },
     "metadata": {
      "needs_background": "light"
     },
     "output_type": "display_data"
    },
    {
     "name": "stdout",
     "output_type": "stream",
     "text": [
      "검정통계치 :  4.89071\n",
      "p값 :  0.08670\n",
      "오차항이 정규분포를 따른다는 귀무가설을 유의수준 5.0%에서 기각하지 못합니다.\n"
     ]
    }
   ],
   "source": [
    "def normal_test(fitted_model, sig_level):\n",
    "   \n",
    "# 정규성 검정 (귀무가설 : 정규성를 따른다)\n",
    "    \n",
    "    from scipy.stats import jarque_bera\n",
    "    import seaborn as sns\n",
    "    import matplotlib.pyplot as plt\n",
    "    import warnings\n",
    "    warnings.filterwarnings(\"ignore\")\n",
    "    \n",
    "    sns.distplot(fitted_model.resid)\n",
    "    plt.xlabel('residual')\n",
    "    plt.show()\n",
    "    \n",
    "    statistic, pvalue = jarque_bera(fitted_model.resid)\n",
    "    print(f'검정통계치 : {statistic : .5f}\\np값 : {pvalue : .5f}')\n",
    "    if pvalue > sig_level:\n",
    "        print(f'오차항이 정규분포를 따른다는 귀무가설을 유의수준 {sig_level * 100}%에서 기각하지 못합니다.')\n",
    "    else:\n",
    "        print(f'오차항이 정규분포를 따른다는 귀무가설을 유의수준 {sig_level * 100}%에서 기각합니다.')\n",
    "        \n",
    "normal_test(fitted_model, .05)\n"
   ]
  },
  {
   "cell_type": "markdown",
   "metadata": {},
   "source": [
    "# 변수선택법"
   ]
  },
  {
   "cell_type": "code",
   "execution_count": 38,
   "metadata": {},
   "outputs": [],
   "source": [
    "# 1. 전진선택법(Feedforward Selection)은 변수 하나부터 변수 개수를 하나씩 추가해가며 성능지표를 비교해가는 방법.\n",
    "# # --> 변수1 --> 변수2--> 변수3\n",
    "# 2.후진제거법(Backward Elimination)은 전체 변수부터 변수 개수를 제거해가며 성능지표를 비교해가는 방법\n",
    "## --> 변수를 전부 입력 후 -> 유의하지 않은 것을 하나씩 제거해나가는 방법\n",
    "\n",
    "# 3. Stepwise :     Back + Forward\n",
    "# 가장 유의한 변수를 추가하거나 유의하지 않는 변수를 제거해나가는 방법\n",
    "# # 전진선택법의 각 단계에서 이미 선택된 변수들의 중요도를 다시 검사하여 중요하지 않은 변수를 제거하는 방법"
   ]
  },
  {
   "cell_type": "code",
   "execution_count": 39,
   "metadata": {},
   "outputs": [
    {
     "data": {
      "text/html": [
       "<div>\n",
       "<style scoped>\n",
       "    .dataframe tbody tr th:only-of-type {\n",
       "        vertical-align: middle;\n",
       "    }\n",
       "\n",
       "    .dataframe tbody tr th {\n",
       "        vertical-align: top;\n",
       "    }\n",
       "\n",
       "    .dataframe thead th {\n",
       "        text-align: right;\n",
       "    }\n",
       "</style>\n",
       "<table border=\"1\" class=\"dataframe\">\n",
       "  <thead>\n",
       "    <tr style=\"text-align: right;\">\n",
       "      <th></th>\n",
       "      <th>날짜</th>\n",
       "      <th>ID</th>\n",
       "      <th>나이</th>\n",
       "      <th>성별</th>\n",
       "      <th>소득</th>\n",
       "      <th>범죄건수</th>\n",
       "    </tr>\n",
       "  </thead>\n",
       "  <tbody>\n",
       "    <tr>\n",
       "      <th>0</th>\n",
       "      <td>2022-11-24</td>\n",
       "      <td>1</td>\n",
       "      <td>71</td>\n",
       "      <td>여성</td>\n",
       "      <td>141440</td>\n",
       "      <td>5</td>\n",
       "    </tr>\n",
       "    <tr>\n",
       "      <th>1</th>\n",
       "      <td>2022-02-27</td>\n",
       "      <td>2</td>\n",
       "      <td>67</td>\n",
       "      <td>남성</td>\n",
       "      <td>122769</td>\n",
       "      <td>4</td>\n",
       "    </tr>\n",
       "    <tr>\n",
       "      <th>2</th>\n",
       "      <td>2022-01-13</td>\n",
       "      <td>3</td>\n",
       "      <td>67</td>\n",
       "      <td>남성</td>\n",
       "      <td>122908</td>\n",
       "      <td>2</td>\n",
       "    </tr>\n",
       "    <tr>\n",
       "      <th>3</th>\n",
       "      <td>2022-05-21</td>\n",
       "      <td>4</td>\n",
       "      <td>21</td>\n",
       "      <td>여성</td>\n",
       "      <td>79638</td>\n",
       "      <td>7</td>\n",
       "    </tr>\n",
       "    <tr>\n",
       "      <th>4</th>\n",
       "      <td>2022-05-06</td>\n",
       "      <td>5</td>\n",
       "      <td>32</td>\n",
       "      <td>남성</td>\n",
       "      <td>57388</td>\n",
       "      <td>8</td>\n",
       "    </tr>\n",
       "    <tr>\n",
       "      <th>...</th>\n",
       "      <td>...</td>\n",
       "      <td>...</td>\n",
       "      <td>...</td>\n",
       "      <td>...</td>\n",
       "      <td>...</td>\n",
       "      <td>...</td>\n",
       "    </tr>\n",
       "    <tr>\n",
       "      <th>95</th>\n",
       "      <td>2022-12-19</td>\n",
       "      <td>96</td>\n",
       "      <td>29</td>\n",
       "      <td>남성</td>\n",
       "      <td>65745</td>\n",
       "      <td>5</td>\n",
       "    </tr>\n",
       "    <tr>\n",
       "      <th>96</th>\n",
       "      <td>2022-10-13</td>\n",
       "      <td>97</td>\n",
       "      <td>50</td>\n",
       "      <td>여성</td>\n",
       "      <td>135456</td>\n",
       "      <td>4</td>\n",
       "    </tr>\n",
       "    <tr>\n",
       "      <th>97</th>\n",
       "      <td>2022-04-23</td>\n",
       "      <td>98</td>\n",
       "      <td>76</td>\n",
       "      <td>남성</td>\n",
       "      <td>29016</td>\n",
       "      <td>3</td>\n",
       "    </tr>\n",
       "    <tr>\n",
       "      <th>98</th>\n",
       "      <td>2022-12-17</td>\n",
       "      <td>99</td>\n",
       "      <td>24</td>\n",
       "      <td>여성</td>\n",
       "      <td>135247</td>\n",
       "      <td>3</td>\n",
       "    </tr>\n",
       "    <tr>\n",
       "      <th>99</th>\n",
       "      <td>2022-06-16</td>\n",
       "      <td>100</td>\n",
       "      <td>73</td>\n",
       "      <td>여성</td>\n",
       "      <td>52018</td>\n",
       "      <td>0</td>\n",
       "    </tr>\n",
       "  </tbody>\n",
       "</table>\n",
       "<p>100 rows × 6 columns</p>\n",
       "</div>"
      ],
      "text/plain": [
       "            날짜   ID  나이  성별      소득  범죄건수\n",
       "0   2022-11-24    1  71  여성  141440     5\n",
       "1   2022-02-27    2  67  남성  122769     4\n",
       "2   2022-01-13    3  67  남성  122908     2\n",
       "3   2022-05-21    4  21  여성   79638     7\n",
       "4   2022-05-06    5  32  남성   57388     8\n",
       "..         ...  ...  ..  ..     ...   ...\n",
       "95  2022-12-19   96  29  남성   65745     5\n",
       "96  2022-10-13   97  50  여성  135456     4\n",
       "97  2022-04-23   98  76  남성   29016     3\n",
       "98  2022-12-17   99  24  여성  135247     3\n",
       "99  2022-06-16  100  73  여성   52018     0\n",
       "\n",
       "[100 rows x 6 columns]"
      ]
     },
     "execution_count": 39,
     "metadata": {},
     "output_type": "execute_result"
    }
   ],
   "source": [
    "# 삼성전자, 하이닉스, 네이버, 카카오 KOSPI 데이터 불러오기\n",
    "crime_list = pd.read_csv(\"crime_list.csv\")\n",
    "\n",
    "crime_list"
   ]
  },
  {
   "cell_type": "markdown",
   "metadata": {},
   "source": [
    "## 전진선택법"
   ]
  },
  {
   "cell_type": "code",
   "execution_count": 40,
   "metadata": {},
   "outputs": [],
   "source": [
    "# 하나씩 해보기\n",
    "## 전진 단계별 선택법\n",
    "\n",
    "import statsmodels.api as sm\n",
    "import pandas as pd\n",
    "import matplotlib.pyplot as plt\n",
    "import warnings\n",
    "warnings.filterwarnings(\"ignore\")\n",
    "\n",
    "# 변수 설정\n",
    "target = crime_list[\"범죄건수\"]\n",
    "feature = crime_list[[\"나이\",\"소득\"]]\n",
    "variables = feature.columns.tolist()\n",
    "y = target\n",
    "\n",
    "# 선택된 변수들 list 생성\n",
    "forward_valriables = []\n",
    "\n",
    "# 전진선택시 P 값을 고려할 때, 선택과 제거 임계치 설정    \n",
    "sl_enter = 0.05\n",
    "sl_remove = 0.05\n",
    "\n",
    "# 각 스텝별로 선택된 변수들\n",
    "sv_per_step = [] \n",
    "# 각 스텝별 수정된 결정계수\n",
    "adj_r_squared_list = []\n",
    "# 스텝\n",
    "steps = []\n",
    "step = 0\n",
    "\n",
    "while len(variables) > 0:\n",
    "    remainder = list(set(variables) - set(forward_valriables))\n",
    "    pval = pd.Series(index=remainder) ## 변수의 p-value\n",
    "    ## 기존에 포함된 변수와 새로운 변수 하나씩 돌아가면서 \n",
    "    ## 선형 모형을 적합한다.\n",
    "    for col in remainder: \n",
    "        X = feature[forward_valriables+[col]]\n",
    "        X = sm.add_constant(X)\n",
    "        model = sm.OLS(y,X).fit(disp=0)\n",
    "        pval[col] = model.pvalues[col]\n",
    " \n",
    "    min_pval = pval.min()\n",
    "    if min_pval < sl_enter: ## 최소 p-value 값이 기준 값보다 작으면 포함\n",
    "        forward_valriables.append(pval.idxmin())\n",
    "        ## 선택된 변수들에대해서\n",
    "        ## 어떤 변수를 제거할지 고른다.\n",
    "        while len(forward_valriables) > 0:\n",
    "            selected_X = feature[forward_valriables]\n",
    "            selected_X = sm.add_constant(selected_X)\n",
    "            selected_pval = sm.OLS(y,selected_X).fit(disp=0).pvalues[1:] ## 절편항의 p-value는 뺀다\n",
    "            max_pval = selected_pval.max()\n",
    "            if max_pval >= sl_remove: ## 최대 p-value값이 기준값보다 크거나 같으면 제외\n",
    "                remove_variable = selected_pval.idxmax()\n",
    "                forward_valriables.remove(remove_variable)\n",
    "            else:\n",
    "                break\n",
    "        \n",
    "        step += 1\n",
    "        steps.append(step)\n",
    "        adj_r_squared = sm.OLS(y,sm.add_constant(feature[forward_valriables])).fit(disp=0).rsquared_adj\n",
    "        adj_r_squared_list.append(adj_r_squared)\n",
    "        sv_per_step.append(forward_valriables.copy())\n",
    "    else:\n",
    "        break"
   ]
  },
  {
   "cell_type": "code",
   "execution_count": 41,
   "metadata": {},
   "outputs": [
    {
     "data": {
      "text/html": [
       "<table class=\"simpletable\">\n",
       "<caption>OLS Regression Results</caption>\n",
       "<tr>\n",
       "  <th>Dep. Variable:</th>          <td>범죄건수</td>       <th>  R-squared:         </th> <td>   0.047</td>\n",
       "</tr>\n",
       "<tr>\n",
       "  <th>Model:</th>                   <td>OLS</td>       <th>  Adj. R-squared:    </th> <td>   0.037</td>\n",
       "</tr>\n",
       "<tr>\n",
       "  <th>Method:</th>             <td>Least Squares</td>  <th>  F-statistic:       </th> <td>   4.836</td>\n",
       "</tr>\n",
       "<tr>\n",
       "  <th>Date:</th>             <td>Thu, 26 Oct 2023</td> <th>  Prob (F-statistic):</th>  <td>0.0302</td> \n",
       "</tr>\n",
       "<tr>\n",
       "  <th>Time:</th>                 <td>14:47:57</td>     <th>  Log-Likelihood:    </th> <td> -253.75</td>\n",
       "</tr>\n",
       "<tr>\n",
       "  <th>No. Observations:</th>      <td>   100</td>      <th>  AIC:               </th> <td>   511.5</td>\n",
       "</tr>\n",
       "<tr>\n",
       "  <th>Df Residuals:</th>          <td>    98</td>      <th>  BIC:               </th> <td>   516.7</td>\n",
       "</tr>\n",
       "<tr>\n",
       "  <th>Df Model:</th>              <td>     1</td>      <th>                     </th>     <td> </td>   \n",
       "</tr>\n",
       "<tr>\n",
       "  <th>Covariance Type:</th>      <td>nonrobust</td>    <th>                     </th>     <td> </td>   \n",
       "</tr>\n",
       "</table>\n",
       "<table class=\"simpletable\">\n",
       "<tr>\n",
       "    <td></td>       <th>coef</th>     <th>std err</th>      <th>t</th>      <th>P>|t|</th>  <th>[0.025</th>    <th>0.975]</th>  \n",
       "</tr>\n",
       "<tr>\n",
       "  <th>const</th> <td>    6.3965</td> <td>    0.899</td> <td>    7.115</td> <td> 0.000</td> <td>    4.612</td> <td>    8.181</td>\n",
       "</tr>\n",
       "<tr>\n",
       "  <th>나이</th>    <td>   -0.0373</td> <td>    0.017</td> <td>   -2.199</td> <td> 0.030</td> <td>   -0.071</td> <td>   -0.004</td>\n",
       "</tr>\n",
       "</table>\n",
       "<table class=\"simpletable\">\n",
       "<tr>\n",
       "  <th>Omnibus:</th>       <td>10.378</td> <th>  Durbin-Watson:     </th> <td>   1.979</td>\n",
       "</tr>\n",
       "<tr>\n",
       "  <th>Prob(Omnibus):</th> <td> 0.006</td> <th>  Jarque-Bera (JB):  </th> <td>   4.613</td>\n",
       "</tr>\n",
       "<tr>\n",
       "  <th>Skew:</th>          <td> 0.274</td> <th>  Prob(JB):          </th> <td>  0.0996</td>\n",
       "</tr>\n",
       "<tr>\n",
       "  <th>Kurtosis:</th>      <td> 2.102</td> <th>  Cond. No.          </th> <td>    154.</td>\n",
       "</tr>\n",
       "</table><br/><br/>Notes:<br/>[1] Standard Errors assume that the covariance matrix of the errors is correctly specified."
      ],
      "text/latex": [
       "\\begin{center}\n",
       "\\begin{tabular}{lclc}\n",
       "\\toprule\n",
       "\\textbf{Dep. Variable:}    &       범죄건수       & \\textbf{  R-squared:         } &     0.047   \\\\\n",
       "\\textbf{Model:}            &       OLS        & \\textbf{  Adj. R-squared:    } &     0.037   \\\\\n",
       "\\textbf{Method:}           &  Least Squares   & \\textbf{  F-statistic:       } &     4.836   \\\\\n",
       "\\textbf{Date:}             & Thu, 26 Oct 2023 & \\textbf{  Prob (F-statistic):} &   0.0302    \\\\\n",
       "\\textbf{Time:}             &     14:47:57     & \\textbf{  Log-Likelihood:    } &   -253.75   \\\\\n",
       "\\textbf{No. Observations:} &         100      & \\textbf{  AIC:               } &     511.5   \\\\\n",
       "\\textbf{Df Residuals:}     &          98      & \\textbf{  BIC:               } &     516.7   \\\\\n",
       "\\textbf{Df Model:}         &           1      & \\textbf{                     } &             \\\\\n",
       "\\textbf{Covariance Type:}  &    nonrobust     & \\textbf{                     } &             \\\\\n",
       "\\bottomrule\n",
       "\\end{tabular}\n",
       "\\begin{tabular}{lcccccc}\n",
       "               & \\textbf{coef} & \\textbf{std err} & \\textbf{t} & \\textbf{P$> |$t$|$} & \\textbf{[0.025} & \\textbf{0.975]}  \\\\\n",
       "\\midrule\n",
       "\\textbf{const} &       6.3965  &        0.899     &     7.115  &         0.000        &        4.612    &        8.181     \\\\\n",
       "\\textbf{나이}    &      -0.0373  &        0.017     &    -2.199  &         0.030        &       -0.071    &       -0.004     \\\\\n",
       "\\bottomrule\n",
       "\\end{tabular}\n",
       "\\begin{tabular}{lclc}\n",
       "\\textbf{Omnibus:}       & 10.378 & \\textbf{  Durbin-Watson:     } &    1.979  \\\\\n",
       "\\textbf{Prob(Omnibus):} &  0.006 & \\textbf{  Jarque-Bera (JB):  } &    4.613  \\\\\n",
       "\\textbf{Skew:}          &  0.274 & \\textbf{  Prob(JB):          } &   0.0996  \\\\\n",
       "\\textbf{Kurtosis:}      &  2.102 & \\textbf{  Cond. No.          } &     154.  \\\\\n",
       "\\bottomrule\n",
       "\\end{tabular}\n",
       "%\\caption{OLS Regression Results}\n",
       "\\end{center}\n",
       "\n",
       "Notes: \\newline\n",
       " [1] Standard Errors assume that the covariance matrix of the errors is correctly specified."
      ],
      "text/plain": [
       "<class 'statsmodels.iolib.summary.Summary'>\n",
       "\"\"\"\n",
       "                            OLS Regression Results                            \n",
       "==============================================================================\n",
       "Dep. Variable:                   범죄건수   R-squared:                       0.047\n",
       "Model:                            OLS   Adj. R-squared:                  0.037\n",
       "Method:                 Least Squares   F-statistic:                     4.836\n",
       "Date:                Thu, 26 Oct 2023   Prob (F-statistic):             0.0302\n",
       "Time:                        14:47:57   Log-Likelihood:                -253.75\n",
       "No. Observations:                 100   AIC:                             511.5\n",
       "Df Residuals:                      98   BIC:                             516.7\n",
       "Df Model:                           1                                         \n",
       "Covariance Type:            nonrobust                                         \n",
       "==============================================================================\n",
       "                 coef    std err          t      P>|t|      [0.025      0.975]\n",
       "------------------------------------------------------------------------------\n",
       "const          6.3965      0.899      7.115      0.000       4.612       8.181\n",
       "나이            -0.0373      0.017     -2.199      0.030      -0.071      -0.004\n",
       "==============================================================================\n",
       "Omnibus:                       10.378   Durbin-Watson:                   1.979\n",
       "Prob(Omnibus):                  0.006   Jarque-Bera (JB):                4.613\n",
       "Skew:                           0.274   Prob(JB):                       0.0996\n",
       "Kurtosis:                       2.102   Cond. No.                         154.\n",
       "==============================================================================\n",
       "\n",
       "Notes:\n",
       "[1] Standard Errors assume that the covariance matrix of the errors is correctly specified.\n",
       "\"\"\""
      ]
     },
     "execution_count": 41,
     "metadata": {},
     "output_type": "execute_result"
    }
   ],
   "source": [
    "# 최종 모형 도출\n",
    "X = sm.add_constant(crime_list[forward_valriables])\n",
    "model = sm.OLS(y, X).fit(disp=0)\n",
    "model.summary()"
   ]
  },
  {
   "cell_type": "code",
   "execution_count": 42,
   "metadata": {},
   "outputs": [
    {
     "data": {
      "image/png": "[encoded data removed]",
      "text/plain": [
       "<Figure size 720x720 with 1 Axes>"
      ]
     },
     "metadata": {
      "needs_background": "light"
     },
     "output_type": "display_data"
    }
   ],
   "source": [
    "# 스텝별로 조정된 결정계수를 출력하는 표 시각화\n",
    "fig = plt.figure(figsize=(10,10))\n",
    "plt.plot(steps, adj_r_squared_list, marker='o')\n",
    "plt.ylabel('adj_r_squared',fontsize=15)\n",
    "plt.grid(True)\n",
    "plt.show()"
   ]
  },
  {
   "cell_type": "code",
   "execution_count": 43,
   "metadata": {},
   "outputs": [
    {
     "name": "stdout",
     "output_type": "stream",
     "text": [
      "                            OLS Regression Results                            \n",
      "==============================================================================\n",
      "Dep. Variable:                   범죄건수   R-squared:                       0.047\n",
      "Model:                            OLS   Adj. R-squared:                  0.037\n",
      "Method:                 Least Squares   F-statistic:                     4.836\n",
      "Date:                Thu, 26 Oct 2023   Prob (F-statistic):             0.0302\n",
      "Time:                        14:47:58   Log-Likelihood:                -253.75\n",
      "No. Observations:                 100   AIC:                             511.5\n",
      "Df Residuals:                      98   BIC:                             516.7\n",
      "Df Model:                           1                                         \n",
      "Covariance Type:            nonrobust                                         \n",
      "==============================================================================\n",
      "                 coef    std err          t      P>|t|      [0.025      0.975]\n",
      "------------------------------------------------------------------------------\n",
      "const          6.3965      0.899      7.115      0.000       4.612       8.181\n",
      "나이            -0.0373      0.017     -2.199      0.030      -0.071      -0.004\n",
      "==============================================================================\n",
      "Omnibus:                       10.378   Durbin-Watson:                   1.979\n",
      "Prob(Omnibus):                  0.006   Jarque-Bera (JB):                4.613\n",
      "Skew:                           0.274   Prob(JB):                       0.0996\n",
      "Kurtosis:                       2.102   Cond. No.                         154.\n",
      "==============================================================================\n",
      "\n",
      "Notes:\n",
      "[1] Standard Errors assume that the covariance matrix of the errors is correctly specified.\n"
     ]
    },
    {
     "data": {
      "image/png": "[encoded data removed]",
      "text/plain": [
       "<Figure size 720x720 with 1 Axes>"
      ]
     },
     "metadata": {
      "needs_background": "light"
     },
     "output_type": "display_data"
    }
   ],
   "source": [
    "def forward_feature_selection(feature, target, sl_enter=.05, sl_remove=.05):\n",
    "    ## 전진 단계별 선택법\n",
    "\n",
    "    import statsmodels.api as sm\n",
    "    import pandas as pd\n",
    "    import matplotlib.pyplot as plt\n",
    "    import warnings\n",
    "    warnings.filterwarnings(\"ignore\")\n",
    "    \n",
    "    # 변수 설정\n",
    "    variables = feature.columns.tolist() \n",
    "    # 선택된 변수들 list 생성\n",
    "    forward_valriables = []\n",
    "    # 각 스텝별로 선택된 변수들\n",
    "    sv_per_step = [] \n",
    "    # 각 스텝별 수정된 결정계수\n",
    "    adj_r_squared_list = []\n",
    "    # 스텝\n",
    "    steps = []\n",
    "    step = 0\n",
    "\n",
    "    while len(variables) > 0:\n",
    "        remainder = list(set(variables) - set(forward_valriables))\n",
    "        pval = pd.Series(index=remainder) ## 변수의 p-value\n",
    "        ## 기존에 포함된 변수와 새로운 변수 하나씩 돌아가면서 \n",
    "        ## 선형 모형을 적합한다.\n",
    "        for col in remainder: \n",
    "            X = feature[forward_valriables+[col]]\n",
    "            X = sm.add_constant(X)\n",
    "            model = sm.OLS(target,X).fit(disp=0)\n",
    "            pval[col] = model.pvalues[col]\n",
    "    \n",
    "        min_pval = pval.min()\n",
    "        if min_pval < sl_enter: ## 최소 p-value 값이 기준 값보다 작으면 포함\n",
    "            forward_valriables.append(pval.idxmin())\n",
    "            ## 선택된 변수들에대해서\n",
    "            ## 어떤 변수를 제거할지 고른다.\n",
    "            while len(forward_valriables) > 0:\n",
    "                selected_X = feature[forward_valriables]\n",
    "                selected_X = sm.add_constant(selected_X)\n",
    "                selected_pval = sm.OLS(target,selected_X).fit(disp=0).pvalues[1:] ## 절편항의 p-value는 뺀다\n",
    "                max_pval = selected_pval.max()\n",
    "                if max_pval >= sl_remove: ## 최대 p-value값이 기준값보다 크거나 같으면 제외\n",
    "                    remove_variable = selected_pval.idxmax()\n",
    "                    forward_valriables.remove(remove_variable)\n",
    "                else:\n",
    "                    break\n",
    "            \n",
    "            step += 1\n",
    "            steps.append(step)\n",
    "            adj_r_squared = sm.OLS(target,sm.add_constant(feature[forward_valriables])).fit(disp=0).rsquared_adj\n",
    "            adj_r_squared_list.append(adj_r_squared)\n",
    "            sv_per_step.append(forward_valriables)\n",
    "        else:\n",
    "            break\n",
    "\n",
    "    # 최종 모형 도출\n",
    "    model = sm.OLS(target, sm.add_constant(crime_list[forward_valriables])).fit(disp=0)\n",
    "    print(model.summary())\n",
    "\n",
    "    # 스텝별로 조정된 결정계수를 출력하는 표 시각화\n",
    "    fig = plt.figure(figsize=(10,10))\n",
    "    plt.plot(steps, adj_r_squared_list, marker='o')\n",
    "    plt.ylabel('adj_r_squared',fontsize=15)\n",
    "    plt.grid(True)\n",
    "    plt.show()\n",
    "    \n",
    "    return model\n",
    "    \n",
    "forward_model = forward_feature_selection(feature, target)"
   ]
  },
  {
   "cell_type": "markdown",
   "metadata": {},
   "source": [
    "## 후진제거법\n",
    "모든 독립변수 입력 후 --> 유의하지 않은 변수를 하나씩 제거를 하는 방법"
   ]
  },
  {
   "cell_type": "code",
   "execution_count": 50,
   "metadata": {},
   "outputs": [
    {
     "name": "stdout",
     "output_type": "stream",
     "text": [
      "                            OLS Regression Results                            \n",
      "==============================================================================\n",
      "Dep. Variable:                   범죄건수   R-squared:                       0.047\n",
      "Model:                            OLS   Adj. R-squared:                  0.037\n",
      "Method:                 Least Squares   F-statistic:                     4.836\n",
      "Date:                Thu, 03 Aug 2023   Prob (F-statistic):             0.0302\n",
      "Time:                        13:58:54   Log-Likelihood:                -253.75\n",
      "No. Observations:                 100   AIC:                             511.5\n",
      "Df Residuals:                      98   BIC:                             516.7\n",
      "Df Model:                           1                                         \n",
      "Covariance Type:            nonrobust                                         \n",
      "==============================================================================\n",
      "                 coef    std err          t      P>|t|      [0.025      0.975]\n",
      "------------------------------------------------------------------------------\n",
      "const          6.3965      0.899      7.115      0.000       4.612       8.181\n",
      "나이            -0.0373      0.017     -2.199      0.030      -0.071      -0.004\n",
      "==============================================================================\n",
      "Omnibus:                       10.378   Durbin-Watson:                   1.979\n",
      "Prob(Omnibus):                  0.006   Jarque-Bera (JB):                4.613\n",
      "Skew:                           0.274   Prob(JB):                       0.0996\n",
      "Kurtosis:                       2.102   Cond. No.                         154.\n",
      "==============================================================================\n",
      "\n",
      "Notes:\n",
      "[1] Standard Errors assume that the covariance matrix of the errors is correctly specified.\n"
     ]
    },
    {
     "data": {
      "image/png": "[encoded data removed]",
      "text/plain": [
       "<Figure size 1000x1000 with 1 Axes>"
      ]
     },
     "metadata": {},
     "output_type": "display_data"
    }
   ],
   "source": [
    "def backward_regression(feature, target,\n",
    "                           initial_list=[], \n",
    "                           threshold_out = 0.05):\n",
    "    \n",
    "    import matplotlib.pyplot as plt\n",
    "    import statsmodels.api as sm\n",
    "    import pandas as pd\n",
    "    import warnings\n",
    "    warnings.filterwarnings(\"ignore\")\n",
    "    \n",
    "    feature_list = feature.columns.tolist()  \n",
    "    sv_per_step = [] ## 각 스텝별로 선택된 변수들\n",
    "    adj_r_squared_list = [] ## 각 스텝별 수정된 결정계수\n",
    "    steps = [] ## 스텝\n",
    "    step = 0\n",
    "    included = feature.columns.tolist() \n",
    "    \n",
    "    while True:\n",
    "        changed=False\n",
    "        model = sm.OLS(target, sm.add_constant(feature[included])).fit(disp=0)\n",
    "        # use all coefs except intercept\n",
    "        pvalues = model.pvalues.iloc[1:] # 각 feature의 P값을 의미함\n",
    "        worst_pval = pvalues.max()\t# P 값이 가장 높은 것 선정\n",
    "        if worst_pval > threshold_out:\n",
    "            changed=True\n",
    "            worst_feature = pvalues.idxmax()\n",
    "            included.remove(worst_feature)\n",
    "        \n",
    "        step += 1\n",
    "        steps.append(step)        \n",
    "        adj_r_squared = sm.OLS(target, sm.add_constant(feature[included])).fit(disp=0).rsquared_adj\n",
    "        adj_r_squared_list.append(adj_r_squared)\n",
    "        sv_per_step.append(included.copy())\n",
    "        if not changed:\n",
    "            break\n",
    "    \n",
    "    # 최종모델 출력\n",
    "    model = sm.OLS(target, sm.add_constant(feature[included])).fit()\n",
    "    print(model.summary())\n",
    "\n",
    "    \n",
    "    fig = plt.figure(figsize=(10,10))\n",
    "    plt.plot(steps, adj_r_squared_list, marker='o')\n",
    "    plt.ylabel('adj_r_squared',fontsize=15)\n",
    "    plt.grid(True)\n",
    "    plt.show()\n",
    "\n",
    "    return model\n",
    "\n",
    "backward_model = backward_regression(feature, target)"
   ]
  },
  {
   "cell_type": "markdown",
   "metadata": {},
   "source": [
    "## 단계적 선택법"
   ]
  },
  {
   "cell_type": "code",
   "execution_count": 51,
   "metadata": {},
   "outputs": [
    {
     "name": "stdout",
     "output_type": "stream",
     "text": [
      "                            OLS Regression Results                            \n",
      "==============================================================================\n",
      "Dep. Variable:                   범죄건수   R-squared:                       0.047\n",
      "Model:                            OLS   Adj. R-squared:                  0.037\n",
      "Method:                 Least Squares   F-statistic:                     4.836\n",
      "Date:                Thu, 03 Aug 2023   Prob (F-statistic):             0.0302\n",
      "Time:                        13:58:55   Log-Likelihood:                -253.75\n",
      "No. Observations:                 100   AIC:                             511.5\n",
      "Df Residuals:                      98   BIC:                             516.7\n",
      "Df Model:                           1                                         \n",
      "Covariance Type:            nonrobust                                         \n",
      "==============================================================================\n",
      "                 coef    std err          t      P>|t|      [0.025      0.975]\n",
      "------------------------------------------------------------------------------\n",
      "const          6.3965      0.899      7.115      0.000       4.612       8.181\n",
      "나이            -0.0373      0.017     -2.199      0.030      -0.071      -0.004\n",
      "==============================================================================\n",
      "Omnibus:                       10.378   Durbin-Watson:                   1.979\n",
      "Prob(Omnibus):                  0.006   Jarque-Bera (JB):                4.613\n",
      "Skew:                           0.274   Prob(JB):                       0.0996\n",
      "Kurtosis:                       2.102   Cond. No.                         154.\n",
      "==============================================================================\n",
      "\n",
      "Notes:\n",
      "[1] Standard Errors assume that the covariance matrix of the errors is correctly specified.\n"
     ]
    },
    {
     "data": {
      "image/png": "[encoded data removed]",
      "text/plain": [
       "<Figure size 1000x1000 with 1 Axes>"
      ]
     },
     "metadata": {},
     "output_type": "display_data"
    }
   ],
   "source": [
    "def stepwise_feature_selection(feature, target, variables=feature.columns.tolist()):\n",
    "    import statsmodels.api as sm\n",
    "    import matplotlib.pyplot as plt\n",
    "    import warnings\n",
    "    import pandas as pd\n",
    "    warnings.filterwarnings(\"ignore\")\n",
    "    \n",
    "    y = target ## 반응 변수\n",
    "\n",
    "    selected_variables = [] ## 선택된 변수들\n",
    "    sl_enter = 0.05\n",
    "    sl_remove = 0.05\n",
    "    \n",
    "    sv_per_step = [] ## 각 스텝별로 선택된 변수들\n",
    "    adjusted_r_squared = [] ## 각 스텝별 수정된 결정계수\n",
    "    steps = [] ## 스텝\n",
    "    step = 0\n",
    "    while len(variables) > 0:\n",
    "        remainder = list(set(variables) - set(selected_variables))\n",
    "        pval = pd.Series(index=remainder) ## 변수의 p-value\n",
    "        ## 기존에 포함된 변수와 새로운 변수 하나씩 돌아가면서 \n",
    "        ## 선형 모형을 적합한다.\n",
    "        for col in remainder: \n",
    "            X = feature[selected_variables+[col]]\n",
    "            X = sm.add_constant(X)\n",
    "            model = sm.OLS(y,X).fit(disp=0)\n",
    "            pval[col] = model.pvalues[col]\n",
    "    \n",
    "        min_pval = pval.min()\n",
    "        if min_pval < sl_enter: ## 최소 p-value 값이 기준 값보다 작으면 포함\n",
    "            selected_variables.append(pval.idxmin())\n",
    "            ## 선택된 변수들에대해서\n",
    "            ## 어떤 변수를 제거할지 고른다.\n",
    "            while len(selected_variables) > 0:\n",
    "                selected_X = feature[selected_variables]\n",
    "                selected_X = sm.add_constant(selected_X)\n",
    "                selected_pval = sm.OLS(y,selected_X).fit(disp=0).pvalues[1:] ## 절편항의 p-value는 뺀다\n",
    "                max_pval = selected_pval.max()\n",
    "                if max_pval >= sl_remove: ## 최대 p-value값이 기준값보다 크거나 같으면 제외\n",
    "                    remove_variable = selected_pval.idxmax()\n",
    "                    selected_variables.remove(remove_variable)\n",
    "                else:\n",
    "                    break\n",
    "            \n",
    "            step += 1\n",
    "            steps.append(step)\n",
    "            adj_r_squared = sm.OLS(y,sm.add_constant(feature[selected_variables])).fit(disp=0).rsquared_adj\n",
    "            adjusted_r_squared.append(adj_r_squared)\n",
    "            sv_per_step.append(selected_variables.copy())\n",
    "        else:\n",
    "            break\n",
    "    \n",
    "    model = sm.OLS(y, sm.add_constant(feature[selected_variables])).fit()\n",
    "    print(model.summary())\n",
    "    \n",
    "    # 시각화\n",
    "    fig = plt.figure(figsize=(10,10))\n",
    "    plt.plot(steps,adjusted_r_squared, marker='o')\n",
    "    plt.ylabel('Adjusted R Squared',fontsize=15)\n",
    "    plt.grid(True)\n",
    "    plt.show()\n",
    "\n",
    "    return model\n",
    "\n",
    "stepwise_model = stepwise_feature_selection(feature, target)"
   ]
  }
 ],
 "metadata": {
  "interpreter": {
   "hash": "aee8b7b246df8f9039afb4144a1f6fd8d2ca17a180786b69acc140d282b71a49"
  },
  "kernelspec": {
   "display_name": "Python 3 (ipykernel)",
   "language": "python",
   "name": "python3"
  },
  "language_info": {
   "codemirror_mode": {
    "name": "ipython",
    "version": 3
   },
   "file_extension": ".py",
   "mimetype": "text/x-python",
   "name": "python",
   "nbconvert_exporter": "python",
   "pygments_lexer": "ipython3",
   "version": "3.9.11"
  },
  "toc": {
   "base_numbering": 1,
   "nav_menu": {},
   "number_sections": true,
   "sideBar": true,
   "skip_h1_title": false,
   "title_cell": "Table of Contents",
   "title_sidebar": "Contents",
   "toc_cell": false,
   "toc_position": {},
   "toc_section_display": true,
   "toc_window_display": false
  }
 },
 "nbformat": 4,
 "nbformat_minor": 2
}
