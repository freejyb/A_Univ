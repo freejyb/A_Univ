{
 "cells": [
  {
   "cell_type": "markdown",
   "id": "4cc51244",
   "metadata": {},
   "source": [
    "# NumPy\n",
    "### http://www.numpy.org/"
   ]
  },
  {
   "cell_type": "code",
   "execution_count": 2,
   "id": "0aa847ef",
   "metadata": {},
   "outputs": [],
   "source": [
    "# NumPy\n",
    "# 벡터, 행렬, 다차원 배열을 위한 파이썬 객체 및 이 객체들을 이용한 수치연산, 통계 계산 등의 기능\n",
    "# 행렬, 배열의 수학연산을 벡터연산(일종의 병렬 연산)을 하여 성능을 개선 (연산속도 측면)\n",
    "\n"
   ]
  },
  {
   "cell_type": "code",
   "execution_count": null,
   "id": "b16c13aa",
   "metadata": {},
   "outputs": [],
   "source": []
  }
 ],
 "metadata": {
  "kernelspec": {
   "display_name": "Python 3 (ipykernel)",
   "language": "python",
   "name": "python3"
  },
  "language_info": {
   "codemirror_mode": {
    "name": "ipython",
    "version": 3
   },
   "file_extension": ".py",
   "mimetype": "text/x-python",
   "name": "python",
   "nbconvert_exporter": "python",
   "pygments_lexer": "ipython3",
   "version": "3.9.6"
  }
 },
 "nbformat": 4,
 "nbformat_minor": 5
}
