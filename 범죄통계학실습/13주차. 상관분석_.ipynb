{
 "cells": [
  {
   "cell_type": "markdown",
   "metadata": {},
   "source": [
    "# 상관분석"
   ]
  },
  {
   "cell_type": "markdown",
   "metadata": {},
   "source": [
    "## 상관(관계) 분석 이해"
   ]
  },
  {
   "cell_type": "code",
   "execution_count": 3,
   "metadata": {},
   "outputs": [],
   "source": [
    "# 두 변수간 선형적 상관성을 확인하는 관계분석  , t-test : 차이검정\n",
    "# 피어슨, 스피어만, 캔달\n",
    "# 상관계수 : 선형관계 정도를 수치화  -1~ 1 사이의 값을 갖는다.  (공분산의 값의 범위: 무한대)\n",
    "# -1 또는 1 에 가까울수록 상관성이 크고, 0에 가까우면 상관성이 작다.\n",
    "\n",
    "# 상관계수 (Correlation  Coefficient) 계산 \n",
    "# 두 변수의 공분산 값을 각각의 표준편차의 곱으로 나눈 값으로,  공분산을 표준화한 개념으로 이해\n",
    "# 공분산 : 편차와 편차의 곱에 기대치"
   ]
  },
  {
   "cell_type": "code",
   "execution_count": 1,
   "metadata": {},
   "outputs": [],
   "source": [
    "# 라이브러리 불러오기\n",
    "\n",
    "import pandas as pd\n",
    "import matplotlib.pyplot as plt\n",
    "import numpy as np\n",
    "import seaborn as sns\n",
    "import scipy as sp\n",
    "\n",
    "\n",
    "# 한글폰트 출력 가능 코드\n",
    "plt.rcParams[\"font.family\"] = 'Malgun Gothic'\n",
    "plt.rcParams['axes.unicode_minus'] = False"
   ]
  },
  {
   "cell_type": "code",
   "execution_count": 101,
   "metadata": {},
   "outputs": [],
   "source": [
    "# 아래는 각 동별 수용자 수용성적 list 데이터\n",
    "\n",
    "A=[90,90,80,70]\n",
    "B=[65,85,100,90]\n",
    "C=[80,60,70,90]\n"
   ]
  },
  {
   "cell_type": "code",
   "execution_count": 102,
   "metadata": {},
   "outputs": [
    {
     "data": {
      "text/plain": [
       "[90, 90, 80, 70]"
      ]
     },
     "execution_count": 102,
     "metadata": {},
     "output_type": "execute_result"
    }
   ],
   "source": [
    "A"
   ]
  },
  {
   "cell_type": "code",
   "execution_count": 103,
   "metadata": {},
   "outputs": [],
   "source": [
    "# 파이썬 list를 DataFrame으로 만드는 방법\n",
    "\n",
    "# DataFrame  Row, Column, Series 들로 구성 : 7주차 pandas 수업 참고할 것 · "
   ]
  },
  {
   "cell_type": "code",
   "execution_count": 104,
   "metadata": {},
   "outputs": [
    {
     "data": {
      "text/html": [
       "<div>\n",
       "<style scoped>\n",
       "    .dataframe tbody tr th:only-of-type {\n",
       "        vertical-align: middle;\n",
       "    }\n",
       "\n",
       "    .dataframe tbody tr th {\n",
       "        vertical-align: top;\n",
       "    }\n",
       "\n",
       "    .dataframe thead th {\n",
       "        text-align: right;\n",
       "    }\n",
       "</style>\n",
       "<table border=\"1\" class=\"dataframe\">\n",
       "  <thead>\n",
       "    <tr style=\"text-align: right;\">\n",
       "      <th></th>\n",
       "      <th>A</th>\n",
       "      <th>B</th>\n",
       "      <th>C</th>\n",
       "    </tr>\n",
       "  </thead>\n",
       "  <tbody>\n",
       "    <tr>\n",
       "      <th>0</th>\n",
       "      <td>90</td>\n",
       "      <td>65</td>\n",
       "      <td>80</td>\n",
       "    </tr>\n",
       "    <tr>\n",
       "      <th>1</th>\n",
       "      <td>90</td>\n",
       "      <td>85</td>\n",
       "      <td>60</td>\n",
       "    </tr>\n",
       "    <tr>\n",
       "      <th>2</th>\n",
       "      <td>80</td>\n",
       "      <td>100</td>\n",
       "      <td>70</td>\n",
       "    </tr>\n",
       "    <tr>\n",
       "      <th>3</th>\n",
       "      <td>70</td>\n",
       "      <td>90</td>\n",
       "      <td>90</td>\n",
       "    </tr>\n",
       "  </tbody>\n",
       "</table>\n",
       "</div>"
      ],
      "text/plain": [
       "    A    B   C\n",
       "0  90   65  80\n",
       "1  90   85  60\n",
       "2  80  100  70\n",
       "3  70   90  90"
      ]
     },
     "execution_count": 104,
     "metadata": {},
     "output_type": "execute_result"
    }
   ],
   "source": [
    "score = pd.DataFrame({\"A\":[90,90,80,70], \"B\":[65,85,100,90], \"C\":[80,60,70,90]})\n",
    "score"
   ]
  },
  {
   "cell_type": "markdown",
   "metadata": {},
   "source": [
    "## 피어슨(Pearson) 상관계수 구하기"
   ]
  },
  {
   "cell_type": "code",
   "execution_count": 106,
   "metadata": {},
   "outputs": [],
   "source": [
    "# 상관계수 구하는 방법 : 데이터프레임의 이름.corr(method='pearson')      # Correlation  Coefficient (상관계수)"
   ]
  },
  {
   "cell_type": "code",
   "execution_count": 107,
   "metadata": {},
   "outputs": [],
   "source": [
    "score_corr = score.corr(method = 'pearson')"
   ]
  },
  {
   "cell_type": "code",
   "execution_count": 108,
   "metadata": {},
   "outputs": [
    {
     "data": {
      "text/html": [
       "<div>\n",
       "<style scoped>\n",
       "    .dataframe tbody tr th:only-of-type {\n",
       "        vertical-align: middle;\n",
       "    }\n",
       "\n",
       "    .dataframe tbody tr th {\n",
       "        vertical-align: top;\n",
       "    }\n",
       "\n",
       "    .dataframe thead th {\n",
       "        text-align: right;\n",
       "    }\n",
       "</style>\n",
       "<table border=\"1\" class=\"dataframe\">\n",
       "  <thead>\n",
       "    <tr style=\"text-align: right;\">\n",
       "      <th></th>\n",
       "      <th>A</th>\n",
       "      <th>B</th>\n",
       "      <th>C</th>\n",
       "    </tr>\n",
       "  </thead>\n",
       "  <tbody>\n",
       "    <tr>\n",
       "      <th>A</th>\n",
       "      <td>1.000000</td>\n",
       "      <td>-0.591312</td>\n",
       "      <td>-0.674200</td>\n",
       "    </tr>\n",
       "    <tr>\n",
       "      <th>B</th>\n",
       "      <td>-0.591312</td>\n",
       "      <td>1.000000</td>\n",
       "      <td>-0.175412</td>\n",
       "    </tr>\n",
       "    <tr>\n",
       "      <th>C</th>\n",
       "      <td>-0.674200</td>\n",
       "      <td>-0.175412</td>\n",
       "      <td>1.000000</td>\n",
       "    </tr>\n",
       "  </tbody>\n",
       "</table>\n",
       "</div>"
      ],
      "text/plain": [
       "          A         B         C\n",
       "A  1.000000 -0.591312 -0.674200\n",
       "B -0.591312  1.000000 -0.175412\n",
       "C -0.674200 -0.175412  1.000000"
      ]
     },
     "execution_count": 108,
     "metadata": {},
     "output_type": "execute_result"
    }
   ],
   "source": [
    "score_corr"
   ]
  },
  {
   "cell_type": "code",
   "execution_count": 109,
   "metadata": {},
   "outputs": [],
   "source": [
    "# 결과 해석"
   ]
  },
  {
   "cell_type": "code",
   "execution_count": 110,
   "metadata": {},
   "outputs": [],
   "source": [
    "# A 동수용자 성적과 B 수용자 음(-) -0.591312\n",
    "# A 동수용자 성적과 C 수용자 음(-) -0.674200\n",
    "# B 동수용자 성적과 C 수용자 음(-) -0.175412"
   ]
  },
  {
   "cell_type": "markdown",
   "metadata": {},
   "source": [
    "## 히트맵 그리기"
   ]
  },
  {
   "cell_type": "code",
   "execution_count": 111,
   "metadata": {},
   "outputs": [],
   "source": [
    "# 데이터프레임에서 .values를 하게되면 데이터프레임의 각 행이 마치 리스트 형태로 변환되어서 출력 \n",
    "# --> 차트를 그릴 때, 입력으로 사용할 것"
   ]
  },
  {
   "cell_type": "code",
   "execution_count": 112,
   "metadata": {},
   "outputs": [
    {
     "data": {
      "text/plain": [
       "array([[ 1.        , -0.5913124 , -0.67419986],\n",
       "       [-0.5913124 ,  1.        , -0.1754116 ],\n",
       "       [-0.67419986, -0.1754116 ,  1.        ]])"
      ]
     },
     "execution_count": 112,
     "metadata": {},
     "output_type": "execute_result"
    }
   ],
   "source": [
    "score_corr.values"
   ]
  },
  {
   "cell_type": "code",
   "execution_count": 113,
   "metadata": {},
   "outputs": [],
   "source": [
    "# 차트에 이름을 입력하기\n",
    "# column_names라는 리스트를 만든다."
   ]
  },
  {
   "cell_type": "code",
   "execution_count": 114,
   "metadata": {},
   "outputs": [],
   "source": [
    "import seaborn as sns\n",
    "\n",
    "\n",
    "# 한글폰트 출력 가능 코드\n",
    "plt.rcParams[\"font.family\"] = 'Malgun Gothic'\n",
    "plt.rcParams['axes.unicode_minus'] = False"
   ]
  },
  {
   "cell_type": "code",
   "execution_count": 115,
   "metadata": {},
   "outputs": [],
   "source": [
    "column_names = ['A', 'B', 'C']"
   ]
  },
  {
   "cell_type": "code",
   "execution_count": 116,
   "metadata": {},
   "outputs": [
    {
     "data": {
      "image/png": "[encoded data removed]",
      "text/plain": [
       "<Figure size 432x288 with 1 Axes>"
      ]
     },
     "metadata": {},
     "output_type": "display_data"
    }
   ],
   "source": [
    "# 레이블의 폰트 사이즈를 조정\n",
    "sns.set(font_scale=2.0)\n",
    "\n",
    "\n",
    "score_corr_heatmap = sns.heatmap(score_corr.values, # 수용자 점수 데이터\n",
    "                          cbar = False, # 오른쪽 컬러 막대 출력 여부\n",
    "                           annot = True, # 차트에 숫자를 보여줄 것인지 여부\n",
    "                          annot_kws={'size' : 20}, # 숫자 출력 시 숫자 크기 조절\n",
    "                           fmt = '.2f', # 숫자의 출력 소수점자리 개수 조절\n",
    "                           square = 'True', # 차트를 정사각형으로 할 것인지\n",
    "                          yticklabels=column_names, # y축에 컬럼명 출력\n",
    "                          xticklabels=column_names) # x축에 컬럼명 출력\n",
    "plt.tight_layout()\n",
    "plt.show()"
   ]
  },
  {
   "cell_type": "code",
   "execution_count": 117,
   "metadata": {},
   "outputs": [
    {
     "data": {
      "image/png": "[encoded data removed]",
      "text/plain": [
       "<Figure size 432x288 with 2 Axes>"
      ]
     },
     "metadata": {},
     "output_type": "display_data"
    }
   ],
   "source": [
    "#  오른쪽 컬러 막대 출력 여부 변경 사례 \n",
    "sns.set(font_scale=2.0)\n",
    "\n",
    "test_heatmap = sns.heatmap(score_corr.values, # 수용자 점수 데이터\n",
    "                          cbar = True, # 오른쪽 컬러 막대 출력 여부\n",
    "                           annot = True, # 차트에 숫자를 보여줄 것인지 여부\n",
    "                          annot_kws={'size' : 20}, # 숫자 출력 시 숫자 크기 조절\n",
    "                           fmt = '.2f', # 숫자의 출력 소수점자리 개수 조절\n",
    "                           square = 'True', # 차트를 정사각형으로 할 것인지\n",
    "                          yticklabels=column_names, # y축에 컬럼명 출력\n",
    "                          xticklabels=column_names) # x축에 컬럼명 출력\n",
    "plt.tight_layout()\n",
    "plt.show()"
   ]
  },
  {
   "cell_type": "markdown",
   "metadata": {},
   "source": [
    "## 산점도(scatter)로 살펴보기"
   ]
  },
  {
   "cell_type": "code",
   "execution_count": 118,
   "metadata": {},
   "outputs": [],
   "source": [
    "# 아래 리스트 A 동과 B동\n",
    "import pandas as pd\n",
    "\n",
    "A=[90,90,80,70]\n",
    "B=[65,85,100,90]"
   ]
  },
  {
   "cell_type": "code",
   "execution_count": 119,
   "metadata": {},
   "outputs": [],
   "source": [
    "# DataFrame 만들기\n",
    "\n",
    "score = pd.DataFrame({'A': A, 'B': B})"
   ]
  },
  {
   "cell_type": "code",
   "execution_count": 120,
   "metadata": {},
   "outputs": [],
   "source": [
    "# 한글폰트 출력 가능 코드\n",
    "plt.rcParams[\"font.family\"] = 'Malgun Gothic'\n",
    "plt.rcParams['axes.unicode_minus'] = False"
   ]
  },
  {
   "cell_type": "code",
   "execution_count": 121,
   "metadata": {},
   "outputs": [
    {
     "data": {
      "image/png": "[encoded data removed]",
      "text/plain": [
       "<Figure size 432x288 with 1 Axes>"
      ]
     },
     "metadata": {},
     "output_type": "display_data"
    }
   ],
   "source": [
    "# 산점도(scatter) 그리기\n",
    "\n",
    "import matplotlib.pylab as plt  # 라이브러리 불러오기 \n",
    "\n",
    "plt.scatter( score['A'],score['B'], label = \"data\")\n",
    "\n",
    "plt.legend(loc = \"best\")\n",
    "plt.xlabel('A동 수용성적')\n",
    "plt.ylabel('B동수용성적')\n",
    "plt.show()"
   ]
  },
  {
   "cell_type": "code",
   "execution_count": 122,
   "metadata": {},
   "outputs": [],
   "source": [
    "E=[10,20,30,40,40, 60, 70, 80, 90, 100, 110, 111]\n",
    "F=[5,15,19,25, 35, 45, 55, 68, 77, 80, 90, 98]"
   ]
  },
  {
   "cell_type": "code",
   "execution_count": 123,
   "metadata": {},
   "outputs": [],
   "source": [
    "score1 = pd.DataFrame({'E': E, 'F': F})"
   ]
  },
  {
   "cell_type": "code",
   "execution_count": 124,
   "metadata": {},
   "outputs": [
    {
     "data": {
      "image/png": "[encoded data removed]",
      "text/plain": [
       "<Figure size 432x288 with 1 Axes>"
      ]
     },
     "metadata": {},
     "output_type": "display_data"
    }
   ],
   "source": [
    "# 산점도(scatter) 그리기\n",
    "\n",
    "import matplotlib.pylab as plt  # 라이브러리 불러오기 \n",
    "\n",
    "plt.scatter( score1['E'],score1['F'], label = \"data\")\n",
    "\n",
    "plt.legend(loc = \"best\")\n",
    "plt.xlabel('A동 수용성적')\n",
    "plt.ylabel('B동수용성적')\n",
    "plt.show()"
   ]
  },
  {
   "cell_type": "code",
   "execution_count": 125,
   "metadata": {},
   "outputs": [],
   "source": [
    "# 결과 : 강한 양(+)의 상관관계로 보임"
   ]
  },
  {
   "cell_type": "code",
   "execution_count": 137,
   "metadata": {},
   "outputs": [
    {
     "data": {
      "text/html": [
       "<div>\n",
       "<style scoped>\n",
       "    .dataframe tbody tr th:only-of-type {\n",
       "        vertical-align: middle;\n",
       "    }\n",
       "\n",
       "    .dataframe tbody tr th {\n",
       "        vertical-align: top;\n",
       "    }\n",
       "\n",
       "    .dataframe thead th {\n",
       "        text-align: right;\n",
       "    }\n",
       "</style>\n",
       "<table border=\"1\" class=\"dataframe\">\n",
       "  <thead>\n",
       "    <tr style=\"text-align: right;\">\n",
       "      <th></th>\n",
       "      <th>E</th>\n",
       "      <th>F</th>\n",
       "    </tr>\n",
       "  </thead>\n",
       "  <tbody>\n",
       "    <tr>\n",
       "      <th>0</th>\n",
       "      <td>10</td>\n",
       "      <td>5</td>\n",
       "    </tr>\n",
       "    <tr>\n",
       "      <th>1</th>\n",
       "      <td>20</td>\n",
       "      <td>15</td>\n",
       "    </tr>\n",
       "    <tr>\n",
       "      <th>2</th>\n",
       "      <td>30</td>\n",
       "      <td>19</td>\n",
       "    </tr>\n",
       "    <tr>\n",
       "      <th>3</th>\n",
       "      <td>40</td>\n",
       "      <td>25</td>\n",
       "    </tr>\n",
       "    <tr>\n",
       "      <th>4</th>\n",
       "      <td>40</td>\n",
       "      <td>35</td>\n",
       "    </tr>\n",
       "    <tr>\n",
       "      <th>5</th>\n",
       "      <td>60</td>\n",
       "      <td>45</td>\n",
       "    </tr>\n",
       "    <tr>\n",
       "      <th>6</th>\n",
       "      <td>70</td>\n",
       "      <td>55</td>\n",
       "    </tr>\n",
       "    <tr>\n",
       "      <th>7</th>\n",
       "      <td>80</td>\n",
       "      <td>68</td>\n",
       "    </tr>\n",
       "    <tr>\n",
       "      <th>8</th>\n",
       "      <td>90</td>\n",
       "      <td>77</td>\n",
       "    </tr>\n",
       "    <tr>\n",
       "      <th>9</th>\n",
       "      <td>100</td>\n",
       "      <td>80</td>\n",
       "    </tr>\n",
       "    <tr>\n",
       "      <th>10</th>\n",
       "      <td>110</td>\n",
       "      <td>90</td>\n",
       "    </tr>\n",
       "    <tr>\n",
       "      <th>11</th>\n",
       "      <td>111</td>\n",
       "      <td>98</td>\n",
       "    </tr>\n",
       "  </tbody>\n",
       "</table>\n",
       "</div>"
      ],
      "text/plain": [
       "      E   F\n",
       "0    10   5\n",
       "1    20  15\n",
       "2    30  19\n",
       "3    40  25\n",
       "4    40  35\n",
       "5    60  45\n",
       "6    70  55\n",
       "7    80  68\n",
       "8    90  77\n",
       "9   100  80\n",
       "10  110  90\n",
       "11  111  98"
      ]
     },
     "execution_count": 137,
     "metadata": {},
     "output_type": "execute_result"
    }
   ],
   "source": [
    "# 리스트를 데이터 프레임으로 만들기\n",
    "\n",
    "score1 = pd.DataFrame({\"E\":[10,20,30,40,40, 60, 70, 80, 90, 100, 110, 111],\"F\":[5,15,19,25, 35, 45, 55, 68, 77, 80, 90,98]})\n",
    "score1"
   ]
  },
  {
   "cell_type": "code",
   "execution_count": 142,
   "metadata": {},
   "outputs": [],
   "source": [
    "score1_corr = score1.corr(method = 'pearson')"
   ]
  },
  {
   "cell_type": "code",
   "execution_count": 143,
   "metadata": {},
   "outputs": [
    {
     "data": {
      "text/html": [
       "<div>\n",
       "<style scoped>\n",
       "    .dataframe tbody tr th:only-of-type {\n",
       "        vertical-align: middle;\n",
       "    }\n",
       "\n",
       "    .dataframe tbody tr th {\n",
       "        vertical-align: top;\n",
       "    }\n",
       "\n",
       "    .dataframe thead th {\n",
       "        text-align: right;\n",
       "    }\n",
       "</style>\n",
       "<table border=\"1\" class=\"dataframe\">\n",
       "  <thead>\n",
       "    <tr style=\"text-align: right;\">\n",
       "      <th></th>\n",
       "      <th>E</th>\n",
       "      <th>F</th>\n",
       "    </tr>\n",
       "  </thead>\n",
       "  <tbody>\n",
       "    <tr>\n",
       "      <th>E</th>\n",
       "      <td>1.000000</td>\n",
       "      <td>0.994167</td>\n",
       "    </tr>\n",
       "    <tr>\n",
       "      <th>F</th>\n",
       "      <td>0.994167</td>\n",
       "      <td>1.000000</td>\n",
       "    </tr>\n",
       "  </tbody>\n",
       "</table>\n",
       "</div>"
      ],
      "text/plain": [
       "          E         F\n",
       "E  1.000000  0.994167\n",
       "F  0.994167  1.000000"
      ]
     },
     "execution_count": 143,
     "metadata": {},
     "output_type": "execute_result"
    }
   ],
   "source": [
    "score1_corr"
   ]
  },
  {
   "cell_type": "code",
   "execution_count": 129,
   "metadata": {},
   "outputs": [],
   "source": [
    "# 결과 해석 : 상관계수 범위 -1~ 1 ==>  E와 F 상관계수 0.994167"
   ]
  },
  {
   "cell_type": "code",
   "execution_count": null,
   "metadata": {},
   "outputs": [],
   "source": []
  },
  {
   "cell_type": "markdown",
   "metadata": {},
   "source": [
    "# 실습 (범죄데이터 불러오기) 1\n"
   ]
  },
  {
   "cell_type": "code",
   "execution_count": 98,
   "metadata": {},
   "outputs": [],
   "source": [
    "# (\"crime_list.csv\")"
   ]
  },
  {
   "cell_type": "code",
   "execution_count": 144,
   "metadata": {},
   "outputs": [
    {
     "data": {
      "text/html": [
       "<div>\n",
       "<style scoped>\n",
       "    .dataframe tbody tr th:only-of-type {\n",
       "        vertical-align: middle;\n",
       "    }\n",
       "\n",
       "    .dataframe tbody tr th {\n",
       "        vertical-align: top;\n",
       "    }\n",
       "\n",
       "    .dataframe thead th {\n",
       "        text-align: right;\n",
       "    }\n",
       "</style>\n",
       "<table border=\"1\" class=\"dataframe\">\n",
       "  <thead>\n",
       "    <tr style=\"text-align: right;\">\n",
       "      <th></th>\n",
       "      <th>날짜</th>\n",
       "      <th>ID</th>\n",
       "      <th>나이</th>\n",
       "      <th>성별</th>\n",
       "      <th>소득</th>\n",
       "      <th>범죄건수</th>\n",
       "    </tr>\n",
       "  </thead>\n",
       "  <tbody>\n",
       "    <tr>\n",
       "      <th>0</th>\n",
       "      <td>2022-11-24</td>\n",
       "      <td>1</td>\n",
       "      <td>71</td>\n",
       "      <td>여성</td>\n",
       "      <td>141440</td>\n",
       "      <td>5</td>\n",
       "    </tr>\n",
       "    <tr>\n",
       "      <th>1</th>\n",
       "      <td>2022-02-27</td>\n",
       "      <td>2</td>\n",
       "      <td>67</td>\n",
       "      <td>남성</td>\n",
       "      <td>122769</td>\n",
       "      <td>4</td>\n",
       "    </tr>\n",
       "    <tr>\n",
       "      <th>2</th>\n",
       "      <td>2022-01-13</td>\n",
       "      <td>3</td>\n",
       "      <td>67</td>\n",
       "      <td>남성</td>\n",
       "      <td>122908</td>\n",
       "      <td>2</td>\n",
       "    </tr>\n",
       "    <tr>\n",
       "      <th>3</th>\n",
       "      <td>2022-05-21</td>\n",
       "      <td>4</td>\n",
       "      <td>21</td>\n",
       "      <td>여성</td>\n",
       "      <td>79638</td>\n",
       "      <td>7</td>\n",
       "    </tr>\n",
       "    <tr>\n",
       "      <th>4</th>\n",
       "      <td>2022-05-06</td>\n",
       "      <td>5</td>\n",
       "      <td>32</td>\n",
       "      <td>남성</td>\n",
       "      <td>57388</td>\n",
       "      <td>8</td>\n",
       "    </tr>\n",
       "    <tr>\n",
       "      <th>...</th>\n",
       "      <td>...</td>\n",
       "      <td>...</td>\n",
       "      <td>...</td>\n",
       "      <td>...</td>\n",
       "      <td>...</td>\n",
       "      <td>...</td>\n",
       "    </tr>\n",
       "    <tr>\n",
       "      <th>95</th>\n",
       "      <td>2022-12-19</td>\n",
       "      <td>96</td>\n",
       "      <td>29</td>\n",
       "      <td>남성</td>\n",
       "      <td>65745</td>\n",
       "      <td>5</td>\n",
       "    </tr>\n",
       "    <tr>\n",
       "      <th>96</th>\n",
       "      <td>2022-10-13</td>\n",
       "      <td>97</td>\n",
       "      <td>50</td>\n",
       "      <td>여성</td>\n",
       "      <td>135456</td>\n",
       "      <td>4</td>\n",
       "    </tr>\n",
       "    <tr>\n",
       "      <th>97</th>\n",
       "      <td>2022-04-23</td>\n",
       "      <td>98</td>\n",
       "      <td>76</td>\n",
       "      <td>남성</td>\n",
       "      <td>29016</td>\n",
       "      <td>3</td>\n",
       "    </tr>\n",
       "    <tr>\n",
       "      <th>98</th>\n",
       "      <td>2022-12-17</td>\n",
       "      <td>99</td>\n",
       "      <td>24</td>\n",
       "      <td>여성</td>\n",
       "      <td>135247</td>\n",
       "      <td>3</td>\n",
       "    </tr>\n",
       "    <tr>\n",
       "      <th>99</th>\n",
       "      <td>2022-06-16</td>\n",
       "      <td>100</td>\n",
       "      <td>73</td>\n",
       "      <td>여성</td>\n",
       "      <td>52018</td>\n",
       "      <td>0</td>\n",
       "    </tr>\n",
       "  </tbody>\n",
       "</table>\n",
       "<p>100 rows × 6 columns</p>\n",
       "</div>"
      ],
      "text/plain": [
       "            날짜   ID  나이  성별      소득  범죄건수\n",
       "0   2022-11-24    1  71  여성  141440     5\n",
       "1   2022-02-27    2  67  남성  122769     4\n",
       "2   2022-01-13    3  67  남성  122908     2\n",
       "3   2022-05-21    4  21  여성   79638     7\n",
       "4   2022-05-06    5  32  남성   57388     8\n",
       "..         ...  ...  ..  ..     ...   ...\n",
       "95  2022-12-19   96  29  남성   65745     5\n",
       "96  2022-10-13   97  50  여성  135456     4\n",
       "97  2022-04-23   98  76  남성   29016     3\n",
       "98  2022-12-17   99  24  여성  135247     3\n",
       "99  2022-06-16  100  73  여성   52018     0\n",
       "\n",
       "[100 rows x 6 columns]"
      ]
     },
     "execution_count": 144,
     "metadata": {},
     "output_type": "execute_result"
    }
   ],
   "source": [
    "# 판다스 부분에서 했었던 데이터 불러오기\n",
    "# 앞에서 실습한 파일 : crime_list.csv 사용\n",
    "\n",
    "crime_list = pd.read_csv(\"crime_list.csv\")\n",
    "\n",
    "crime_list"
   ]
  },
  {
   "cell_type": "markdown",
   "metadata": {},
   "source": [
    "## 데이터 불러오기"
   ]
  },
  {
   "cell_type": "code",
   "execution_count": 145,
   "metadata": {},
   "outputs": [
    {
     "data": {
      "text/html": [
       "<div>\n",
       "<style scoped>\n",
       "    .dataframe tbody tr th:only-of-type {\n",
       "        vertical-align: middle;\n",
       "    }\n",
       "\n",
       "    .dataframe tbody tr th {\n",
       "        vertical-align: top;\n",
       "    }\n",
       "\n",
       "    .dataframe thead th {\n",
       "        text-align: right;\n",
       "    }\n",
       "</style>\n",
       "<table border=\"1\" class=\"dataframe\">\n",
       "  <thead>\n",
       "    <tr style=\"text-align: right;\">\n",
       "      <th></th>\n",
       "      <th>날짜</th>\n",
       "      <th>ID</th>\n",
       "      <th>나이</th>\n",
       "      <th>성별</th>\n",
       "      <th>소득</th>\n",
       "      <th>범죄건수</th>\n",
       "    </tr>\n",
       "  </thead>\n",
       "  <tbody>\n",
       "    <tr>\n",
       "      <th>0</th>\n",
       "      <td>2022-11-24</td>\n",
       "      <td>1</td>\n",
       "      <td>71</td>\n",
       "      <td>여성</td>\n",
       "      <td>141440</td>\n",
       "      <td>5</td>\n",
       "    </tr>\n",
       "    <tr>\n",
       "      <th>1</th>\n",
       "      <td>2022-02-27</td>\n",
       "      <td>2</td>\n",
       "      <td>67</td>\n",
       "      <td>남성</td>\n",
       "      <td>122769</td>\n",
       "      <td>4</td>\n",
       "    </tr>\n",
       "    <tr>\n",
       "      <th>2</th>\n",
       "      <td>2022-01-13</td>\n",
       "      <td>3</td>\n",
       "      <td>67</td>\n",
       "      <td>남성</td>\n",
       "      <td>122908</td>\n",
       "      <td>2</td>\n",
       "    </tr>\n",
       "    <tr>\n",
       "      <th>3</th>\n",
       "      <td>2022-05-21</td>\n",
       "      <td>4</td>\n",
       "      <td>21</td>\n",
       "      <td>여성</td>\n",
       "      <td>79638</td>\n",
       "      <td>7</td>\n",
       "    </tr>\n",
       "    <tr>\n",
       "      <th>4</th>\n",
       "      <td>2022-05-06</td>\n",
       "      <td>5</td>\n",
       "      <td>32</td>\n",
       "      <td>남성</td>\n",
       "      <td>57388</td>\n",
       "      <td>8</td>\n",
       "    </tr>\n",
       "    <tr>\n",
       "      <th>...</th>\n",
       "      <td>...</td>\n",
       "      <td>...</td>\n",
       "      <td>...</td>\n",
       "      <td>...</td>\n",
       "      <td>...</td>\n",
       "      <td>...</td>\n",
       "    </tr>\n",
       "    <tr>\n",
       "      <th>95</th>\n",
       "      <td>2022-12-19</td>\n",
       "      <td>96</td>\n",
       "      <td>29</td>\n",
       "      <td>남성</td>\n",
       "      <td>65745</td>\n",
       "      <td>5</td>\n",
       "    </tr>\n",
       "    <tr>\n",
       "      <th>96</th>\n",
       "      <td>2022-10-13</td>\n",
       "      <td>97</td>\n",
       "      <td>50</td>\n",
       "      <td>여성</td>\n",
       "      <td>135456</td>\n",
       "      <td>4</td>\n",
       "    </tr>\n",
       "    <tr>\n",
       "      <th>97</th>\n",
       "      <td>2022-04-23</td>\n",
       "      <td>98</td>\n",
       "      <td>76</td>\n",
       "      <td>남성</td>\n",
       "      <td>29016</td>\n",
       "      <td>3</td>\n",
       "    </tr>\n",
       "    <tr>\n",
       "      <th>98</th>\n",
       "      <td>2022-12-17</td>\n",
       "      <td>99</td>\n",
       "      <td>24</td>\n",
       "      <td>여성</td>\n",
       "      <td>135247</td>\n",
       "      <td>3</td>\n",
       "    </tr>\n",
       "    <tr>\n",
       "      <th>99</th>\n",
       "      <td>2022-06-16</td>\n",
       "      <td>100</td>\n",
       "      <td>73</td>\n",
       "      <td>여성</td>\n",
       "      <td>52018</td>\n",
       "      <td>0</td>\n",
       "    </tr>\n",
       "  </tbody>\n",
       "</table>\n",
       "<p>100 rows × 6 columns</p>\n",
       "</div>"
      ],
      "text/plain": [
       "            날짜   ID  나이  성별      소득  범죄건수\n",
       "0   2022-11-24    1  71  여성  141440     5\n",
       "1   2022-02-27    2  67  남성  122769     4\n",
       "2   2022-01-13    3  67  남성  122908     2\n",
       "3   2022-05-21    4  21  여성   79638     7\n",
       "4   2022-05-06    5  32  남성   57388     8\n",
       "..         ...  ...  ..  ..     ...   ...\n",
       "95  2022-12-19   96  29  남성   65745     5\n",
       "96  2022-10-13   97  50  여성  135456     4\n",
       "97  2022-04-23   98  76  남성   29016     3\n",
       "98  2022-12-17   99  24  여성  135247     3\n",
       "99  2022-06-16  100  73  여성   52018     0\n",
       "\n",
       "[100 rows x 6 columns]"
      ]
     },
     "execution_count": 145,
     "metadata": {},
     "output_type": "execute_result"
    }
   ],
   "source": [
    "# 판다스 부분에서 했었던 데이터 불러오기\n",
    "# 앞에서 실습한 파일 : crime_list.csv 사용\n",
    "\n",
    "crime_list = pd.read_csv(\"crime_list.csv\")\n",
    "\n",
    "crime_list"
   ]
  },
  {
   "cell_type": "markdown",
   "metadata": {},
   "source": [
    "## 시각화 "
   ]
  },
  {
   "cell_type": "code",
   "execution_count": 146,
   "metadata": {},
   "outputs": [
    {
     "data": {
      "image/png": "[encoded data removed]",
      "text/plain": [
       "<Figure size 720x720 with 20 Axes>"
      ]
     },
     "metadata": {},
     "output_type": "display_data"
    }
   ],
   "source": [
    "# 상관분석에 앞서 먼저 시각화를 이용하여 상관성을 육안으로 확인해본다.\n",
    "# 각 데이터의 히스토그램과 산점도를 도출(산점도에는 회귀선까지 구현)\n",
    "sns.pairplot(crime_list, kind='reg')\n",
    "plt.show()"
   ]
  },
  {
   "cell_type": "markdown",
   "metadata": {},
   "source": [
    "## 피어슨 상관 계수"
   ]
  },
  {
   "cell_type": "code",
   "execution_count": 147,
   "metadata": {},
   "outputs": [
    {
     "name": "stdout",
     "output_type": "stream",
     "text": [
      "-12.521818181818178\n",
      "[[335.82414141 -12.52181818]\n",
      " [-12.52181818   9.92767677]]\n",
      "-0.21686407922793227\n"
     ]
    }
   ],
   "source": [
    "# 하나씩 시행해보기\n",
    "# 변수 지정, 소득과 범죄건수\n",
    "x1 = crime_list['나이']\n",
    "x2 = crime_list['범죄건수']\n",
    "\n",
    "# 만약 표본상관계수를 도출하게 된다면 (n-1로 또 나눠주어야 함)\n",
    "# mu = mean (공통적으로 적용)\n",
    "mu_1 = np.sum(x1)/len(x1)\n",
    "mu_2 = np.sum(x2)/len(x2)\n",
    "# 분산을 구하는 부분에서도 모분산 추정이므로 자유도 1 설정\n",
    "var_1 = np.sum([pow(i - mu_1, 2) for i in x1]) / (len(x1) - 1)\n",
    "var_2 = np.sum([pow(i - mu_2, 2) for i in x2]) / (len(x2) - 1)\n",
    "std_1 = var_1 ** 0.5\n",
    "std_2 = var_2 ** 0.5\n",
    "\n",
    "covariance_ddof = sum( (x1 - mu_1) * (x2 - mu_2) ) / (len(x1) -1)\n",
    "correlation_ddof = covariance_ddof / (std_1 * std_2)\n",
    "\n",
    "# COV(X,Y) : 표본인 경우 (numpy와 비교)\n",
    "print(covariance_ddof)\n",
    "print(np.cov(x1,x2))\n",
    "# 피어슨 상관계수\n",
    "print(correlation_ddof)"
   ]
  },
  {
   "cell_type": "markdown",
   "metadata": {},
   "source": [
    "## scipy라이브러리를 활용"
   ]
  },
  {
   "cell_type": "code",
   "execution_count": 148,
   "metadata": {},
   "outputs": [
    {
     "data": {
      "text/plain": [
       "(-0.21686407922793235, 0.03021676864226609)"
      ]
     },
     "execution_count": 148,
     "metadata": {},
     "output_type": "execute_result"
    }
   ],
   "source": [
    "# 피어슨 상관계수를 구하는 다른 방법으로는 scipy라이브러리를 활용하는 법\n",
    "\n",
    "from scipy.stats import pearsonr\n",
    "\n",
    "# 귀무가설은 '두 데이터의 상관 계수가 0이다.(독립)'로 설정되어 있음.\n",
    "pearsonr(x1, x2)\n",
    "\n",
    "# 유의확률(p-value) 값이  유의수준(0.05)보다 작으면 귀무가설 기각- 대립가설 채택\n"
   ]
  },
  {
   "cell_type": "code",
   "execution_count": 149,
   "metadata": {},
   "outputs": [],
   "source": [
    "# 결과 해석 : "
   ]
  },
  {
   "cell_type": "code",
   "execution_count": 150,
   "metadata": {},
   "outputs": [
    {
     "name": "stdout",
     "output_type": "stream",
     "text": [
      "1. 모집단으로 가정한 경우\n",
      "모집단 data 각각의 분산 값은 COV(X,X) = 332.466, COV(Y,Y) = 9.828(으)로 계산됩니다.\n",
      "모집단 data에 대한 공분산 값 : -12.397\n",
      "모집단 data에 대한 피어슨 상관계수 값 : -0.217\n",
      "Scipy로 구한 피어슨 상관계수는 -0.217입니다.\n",
      "Scipy는 각 데이터의 상관계수가 유의한지 판단합니다. 위 검정의 p-value는 3.0220000000000002%로 두 데이터의 연관성이 없다는 귀무가설을 5%의 유의수준으로 기각할 수 있습니다.\n",
      "\n",
      "2. 표본집단으로 가정한 경우\n",
      "표본 data 각각의 추정된 분산 값은 COV(x,x) = 335.824, COV(y,y) = 9.928(으)로 계산됩니다.\n",
      "표본 data로 추정한 모집단의 공분산 값 : -12.522\n",
      "표본 data로 추정한 모집단의 피어슨 상관계수 값 : -0.217\n",
      "Scipy로 구한 피어슨 상관계수는 -0.217입니다.\n",
      "Scipy는 각 데이터의 상관계수가 유의한지 판단합니다. 위 검정의 p-value는 3.0220000000000002%로 두 데이터의 연관성이 없다는 귀무가설을 5%의 유의수준으로 기각할 수 있습니다.\n"
     ]
    }
   ],
   "source": [
    "def cov_pearson(data1, data2, population = True):\n",
    "    # 라이브러리 호출\n",
    "    import numpy as np\n",
    "    from scipy.stats import pearsonr\n",
    "\n",
    "    # 변수를 설정하는 부분입니다.\n",
    "    mu_1 = np.sum(data1)/len(data1)\n",
    "    mu_2 = np.sum(data2)/len(data2)\n",
    "    var_1 = np.sum([pow(i - mu_1, 2) for i in data1]) / (len(data1))\n",
    "    var_2 = np.sum([pow(i - mu_2, 2) for i in data2]) / (len(data2))\n",
    "    std_1 = var_1 ** 0.5\n",
    "    std_2 = var_2 ** 0.5\n",
    "    \n",
    "    # 데이터가 모수인지 표본인지에 따라 자유도를 산입할지 여부를 결정합니다.\n",
    "    if population == True:\n",
    "        covariance = sum( (data1 - mu_1) * (data2 - mu_2) ) / (len(data1))\n",
    "        correlation = covariance / (std_1 * std_2)\n",
    "        print(f'모집단 data 각각의 분산 값은 COV(X,X) = {round(var_1,3)}, COV(Y,Y) = {round(var_2,3)}(으)로 계산됩니다.')\n",
    "        print(f'모집단 data에 대한 공분산 값 : {round(covariance,3)}')\n",
    "        print(f'모집단 data에 대한 피어슨 상관계수 값 : {round(correlation,3)}')\n",
    "    else:\n",
    "        var_1 = np.sum([pow(i - mu_1, 2) for i in data1]) / (len(data1) - 1)\n",
    "        var_2 = np.sum([pow(i - mu_2, 2) for i in data2]) / (len(data2) - 1)\n",
    "        std_1 = var_1 ** 0.5\n",
    "        std_2 = var_2 ** 0.5\n",
    "        covariance_ddof = sum( (data1 - mu_1) * (data2 - mu_2) ) / (len(data1) -1)\n",
    "        correlation_ddof = covariance_ddof / (std_1 * std_2)\n",
    "        print(f'표본 data 각각의 추정된 분산 값은 COV(x,x) = {round(var_1,3)}, COV(y,y) = {round(var_2,3)}(으)로 계산됩니다.')\n",
    "        print(f'표본 data로 추정한 모집단의 공분산 값 : {round(covariance_ddof,3)}')\n",
    "        print(f'표본 data로 추정한 모집단의 피어슨 상관계수 값 : {round(correlation_ddof,3)}')\n",
    "\n",
    "    # Scipy 라이브러리에서 구한 피어슨 계수를 통해 위에서 확인한 상관계수 값을 검증해봅니다.\n",
    "    print(f'Scipy로 구한 피어슨 상관계수는 {round(pearsonr(data1, data2)[0], 3)}입니다.')\n",
    "    \n",
    "    # Scipy에서 제공하는 피어슨 검정의 P값을 이용하여 데이터 간의 독립성에 대한 검정 결과 해석을 출력합니다.\n",
    "    if pearsonr(data1, data2)[1] < 0.05:\n",
    "        print(f'Scipy는 각 데이터의 상관계수가 유의한지 판단합니다. 위 검정의 p-value는 {round(pearsonr(data1, data2)[1],5) * 100}%로 두 데이터의 연관성이 없다는 귀무가설을 5%의 유의수준으로 기각할 수 있습니다.')\n",
    "    else:\n",
    "        print(f'Scipy는 각 데이터의 상관계수가 유의한지 판단합니다. 위 검정의 p-value는 {round(pearsonr(data1, data2)[1],5) * 100}%로 두 데이터의 연관성이 없다는 귀무가설을 5%의 유의수준으로 기각할 수 없습니다.')\n",
    "\n",
    "print('1. 모집단으로 가정한 경우')\n",
    "cov_pearson(x1, x2, True)\n",
    "\n",
    "print('\\n2. 표본집단으로 가정한 경우')\n",
    "cov_pearson(x1, x2, False)"
   ]
  },
  {
   "cell_type": "markdown",
   "metadata": {},
   "source": [
    "## heatmap"
   ]
  },
  {
   "cell_type": "code",
   "execution_count": 151,
   "metadata": {},
   "outputs": [
    {
     "data": {
      "image/png": "[encoded data removed]",
      "text/plain": [
       "<Figure size 720x576 with 2 Axes>"
      ]
     },
     "metadata": {},
     "output_type": "display_data"
    }
   ],
   "source": [
    "# 한글폰트 출력 가능 코드\n",
    "plt.rcParams[\"font.family\"] = 'Malgun Gothic'\n",
    "plt.rcParams['axes.unicode_minus'] = False\n",
    "\n",
    "# corr 시각화\n",
    "def corr_heatmap(dataset, method_option = 'pearson'):\n",
    "    \"\"\"[상관관계 그래프]\n",
    "\n",
    "    Args:\n",
    "        dataset ([DataFrame]): [데이터프래임을 입력해주세요]\n",
    "        method_option (str, optional): [correlation을 도출하는 방식 선택]. Defaults to 'pearson' in addition, there are other options ('spearman', 'kendall').\n",
    "        \n",
    "    \"\"\"\n",
    "    # 라이브러리 호출\n",
    "    \n",
    "    import numpy as np\n",
    "    import matplotlib.pyplot as plt\n",
    "    import seaborn as sns\n",
    "    \n",
    "    # heatmap 그리기\n",
    "    \n",
    "    mask_ut=np.triu(np.ones(dataset.corr().shape)).astype(bool) \n",
    "    plt.figure(figsize=(10,8))\n",
    "    sns.heatmap(dataset.corr(method=method_option), annot = True, cmap = 'RdYlBu_r', cbar_kws={\"shrink\": .5}, vmin=-1, vmax=1,\n",
    "                annot_kws={\"size\": 20}, linewidths=.20, mask=mask_ut)\n",
    "   \n",
    "   \n",
    "    plt.show()\n",
    "\n",
    "# 함수 사용\n",
    "corr_heatmap(crime_list)"
   ]
  },
  {
   "cell_type": "markdown",
   "metadata": {},
   "source": [
    "# 범죄데이터 실습2 : 깃허브,  범죄데이터.csv"
   ]
  },
  {
   "cell_type": "code",
   "execution_count": 152,
   "metadata": {},
   "outputs": [
    {
     "data": {
      "text/html": [
       "<div>\n",
       "<style scoped>\n",
       "    .dataframe tbody tr th:only-of-type {\n",
       "        vertical-align: middle;\n",
       "    }\n",
       "\n",
       "    .dataframe tbody tr th {\n",
       "        vertical-align: top;\n",
       "    }\n",
       "\n",
       "    .dataframe thead th {\n",
       "        text-align: right;\n",
       "    }\n",
       "</style>\n",
       "<table border=\"1\" class=\"dataframe\">\n",
       "  <thead>\n",
       "    <tr style=\"text-align: right;\">\n",
       "      <th></th>\n",
       "      <th>Case Number</th>\n",
       "      <th>Date</th>\n",
       "      <th>Block</th>\n",
       "      <th>IUCR</th>\n",
       "      <th>Primary Type</th>\n",
       "      <th>Description</th>\n",
       "      <th>Location Description</th>\n",
       "      <th>Arrest</th>\n",
       "      <th>Domestic</th>\n",
       "      <th>Beat</th>\n",
       "      <th>...</th>\n",
       "      <th>Ward</th>\n",
       "      <th>Community Area</th>\n",
       "      <th>FBI Code</th>\n",
       "      <th>X Coordinate</th>\n",
       "      <th>Y Coordinate</th>\n",
       "      <th>Year</th>\n",
       "      <th>Updated On</th>\n",
       "      <th>Latitude</th>\n",
       "      <th>Longitude</th>\n",
       "      <th>Location</th>\n",
       "    </tr>\n",
       "    <tr>\n",
       "      <th>ID</th>\n",
       "      <th></th>\n",
       "      <th></th>\n",
       "      <th></th>\n",
       "      <th></th>\n",
       "      <th></th>\n",
       "      <th></th>\n",
       "      <th></th>\n",
       "      <th></th>\n",
       "      <th></th>\n",
       "      <th></th>\n",
       "      <th></th>\n",
       "      <th></th>\n",
       "      <th></th>\n",
       "      <th></th>\n",
       "      <th></th>\n",
       "      <th></th>\n",
       "      <th></th>\n",
       "      <th></th>\n",
       "      <th></th>\n",
       "      <th></th>\n",
       "      <th></th>\n",
       "    </tr>\n",
       "  </thead>\n",
       "  <tbody>\n",
       "    <tr>\n",
       "      <th>12836330</th>\n",
       "      <td>JF407076</td>\n",
       "      <td>2022-09-22 23:00</td>\n",
       "      <td>010XX W RANDOLPH ST</td>\n",
       "      <td>810</td>\n",
       "      <td>절도</td>\n",
       "      <td>$500 초과</td>\n",
       "      <td>거리</td>\n",
       "      <td>False</td>\n",
       "      <td>False</td>\n",
       "      <td>1224</td>\n",
       "      <td>...</td>\n",
       "      <td>27.0</td>\n",
       "      <td>28</td>\n",
       "      <td>6</td>\n",
       "      <td>1169327.0</td>\n",
       "      <td>1901202.0</td>\n",
       "      <td>2022</td>\n",
       "      <td>01/03/2023 03:46:28 PM</td>\n",
       "      <td>41.884410</td>\n",
       "      <td>-87.653665</td>\n",
       "      <td>(41.884410376, -87.653664839)</td>\n",
       "    </tr>\n",
       "    <tr>\n",
       "      <th>12713141</th>\n",
       "      <td>JF259485</td>\n",
       "      <td>2022-05-29 0:00</td>\n",
       "      <td>014XX S MUSEUM CAMPUS DR</td>\n",
       "      <td>870</td>\n",
       "      <td>절도</td>\n",
       "      <td>주머니 훔치기</td>\n",
       "      <td>스포츠 아레나 / 경기장</td>\n",
       "      <td>False</td>\n",
       "      <td>False</td>\n",
       "      <td>132</td>\n",
       "      <td>...</td>\n",
       "      <td>4.0</td>\n",
       "      <td>33</td>\n",
       "      <td>6</td>\n",
       "      <td>NaN</td>\n",
       "      <td>NaN</td>\n",
       "      <td>2022</td>\n",
       "      <td>06/05/2022 04:48:59 PM</td>\n",
       "      <td>NaN</td>\n",
       "      <td>NaN</td>\n",
       "      <td>NaN</td>\n",
       "    </tr>\n",
       "    <tr>\n",
       "      <th>12837355</th>\n",
       "      <td>JF408212</td>\n",
       "      <td>2022-09-23 19:45</td>\n",
       "      <td>001XX W HURON ST</td>\n",
       "      <td>486</td>\n",
       "      <td>폭행</td>\n",
       "      <td>가정 폭력 간단한</td>\n",
       "      <td>인도</td>\n",
       "      <td>False</td>\n",
       "      <td>True</td>\n",
       "      <td>1832</td>\n",
       "      <td>...</td>\n",
       "      <td>2.0</td>\n",
       "      <td>8</td>\n",
       "      <td>08B</td>\n",
       "      <td>1175253.0</td>\n",
       "      <td>1905045.0</td>\n",
       "      <td>2022</td>\n",
       "      <td>01/03/2023 03:46:28 PM</td>\n",
       "      <td>41.894825</td>\n",
       "      <td>-87.631789</td>\n",
       "      <td>(41.894824927, -87.631788635)</td>\n",
       "    </tr>\n",
       "    <tr>\n",
       "      <th>12600669</th>\n",
       "      <td>JF122951</td>\n",
       "      <td>2022-01-24 17:30</td>\n",
       "      <td>018XX W GRAND AVE</td>\n",
       "      <td>910</td>\n",
       "      <td>자동차 절도</td>\n",
       "      <td>자동차</td>\n",
       "      <td>거리</td>\n",
       "      <td>False</td>\n",
       "      <td>False</td>\n",
       "      <td>1221</td>\n",
       "      <td>...</td>\n",
       "      <td>36.0</td>\n",
       "      <td>24</td>\n",
       "      <td>7</td>\n",
       "      <td>1164069.0</td>\n",
       "      <td>1903522.0</td>\n",
       "      <td>2022</td>\n",
       "      <td>07/06/2023 04:46:09 PM</td>\n",
       "      <td>41.890889</td>\n",
       "      <td>-87.672907</td>\n",
       "      <td>(41.890889291, -87.672907259)</td>\n",
       "    </tr>\n",
       "    <tr>\n",
       "      <th>12770469</th>\n",
       "      <td>JF328862</td>\n",
       "      <td>2022-07-23 16:00</td>\n",
       "      <td>069XX W 64TH PL</td>\n",
       "      <td>486</td>\n",
       "      <td>폭행</td>\n",
       "      <td>가정 폭력 간단한</td>\n",
       "      <td>주택</td>\n",
       "      <td>True</td>\n",
       "      <td>True</td>\n",
       "      <td>812</td>\n",
       "      <td>...</td>\n",
       "      <td>13.0</td>\n",
       "      <td>64</td>\n",
       "      <td>08B</td>\n",
       "      <td>1131307.0</td>\n",
       "      <td>1860969.0</td>\n",
       "      <td>2022</td>\n",
       "      <td>07/06/2023 04:46:09 PM</td>\n",
       "      <td>41.774746</td>\n",
       "      <td>-87.794208</td>\n",
       "      <td>(41.774745709, -87.794208216)</td>\n",
       "    </tr>\n",
       "    <tr>\n",
       "      <th>...</th>\n",
       "      <td>...</td>\n",
       "      <td>...</td>\n",
       "      <td>...</td>\n",
       "      <td>...</td>\n",
       "      <td>...</td>\n",
       "      <td>...</td>\n",
       "      <td>...</td>\n",
       "      <td>...</td>\n",
       "      <td>...</td>\n",
       "      <td>...</td>\n",
       "      <td>...</td>\n",
       "      <td>...</td>\n",
       "      <td>...</td>\n",
       "      <td>...</td>\n",
       "      <td>...</td>\n",
       "      <td>...</td>\n",
       "      <td>...</td>\n",
       "      <td>...</td>\n",
       "      <td>...</td>\n",
       "      <td>...</td>\n",
       "      <td>...</td>\n",
       "    </tr>\n",
       "    <tr>\n",
       "      <th>13130030</th>\n",
       "      <td>JG328516</td>\n",
       "      <td>2022-06-17 0:01</td>\n",
       "      <td>004XX S LOTUS AVE</td>\n",
       "      <td>1153</td>\n",
       "      <td>사기적인 행위</td>\n",
       "      <td>재정적 ID 도용 $300 이상</td>\n",
       "      <td>아파트</td>\n",
       "      <td>False</td>\n",
       "      <td>False</td>\n",
       "      <td>1522</td>\n",
       "      <td>...</td>\n",
       "      <td>29.0</td>\n",
       "      <td>25</td>\n",
       "      <td>11</td>\n",
       "      <td>NaN</td>\n",
       "      <td>NaN</td>\n",
       "      <td>2022</td>\n",
       "      <td>07/05/2023 04:48:33 PM</td>\n",
       "      <td>NaN</td>\n",
       "      <td>NaN</td>\n",
       "      <td>NaN</td>\n",
       "    </tr>\n",
       "    <tr>\n",
       "      <th>13128041</th>\n",
       "      <td>JG326305</td>\n",
       "      <td>2022-12-01 0:00</td>\n",
       "      <td>049XX W WEST END AVE</td>\n",
       "      <td>1153</td>\n",
       "      <td>사기적인 행위</td>\n",
       "      <td>재정적 ID 도용 $300 이상</td>\n",
       "      <td>거리</td>\n",
       "      <td>False</td>\n",
       "      <td>False</td>\n",
       "      <td>1532</td>\n",
       "      <td>...</td>\n",
       "      <td>28.0</td>\n",
       "      <td>25</td>\n",
       "      <td>11</td>\n",
       "      <td>NaN</td>\n",
       "      <td>NaN</td>\n",
       "      <td>2022</td>\n",
       "      <td>07/05/2023 04:48:33 PM</td>\n",
       "      <td>NaN</td>\n",
       "      <td>NaN</td>\n",
       "      <td>NaN</td>\n",
       "    </tr>\n",
       "    <tr>\n",
       "      <th>13128260</th>\n",
       "      <td>JG325445</td>\n",
       "      <td>2022-10-02 16:15</td>\n",
       "      <td>082XX S DREXEL AVE</td>\n",
       "      <td>1153</td>\n",
       "      <td>사기적인 행위</td>\n",
       "      <td>재정적 ID 도용 $300 이상</td>\n",
       "      <td>NaN</td>\n",
       "      <td>False</td>\n",
       "      <td>False</td>\n",
       "      <td>631</td>\n",
       "      <td>...</td>\n",
       "      <td>8.0</td>\n",
       "      <td>44</td>\n",
       "      <td>11</td>\n",
       "      <td>NaN</td>\n",
       "      <td>NaN</td>\n",
       "      <td>2022</td>\n",
       "      <td>07/05/2023 04:48:33 PM</td>\n",
       "      <td>NaN</td>\n",
       "      <td>NaN</td>\n",
       "      <td>NaN</td>\n",
       "    </tr>\n",
       "    <tr>\n",
       "      <th>13129895</th>\n",
       "      <td>JG328258</td>\n",
       "      <td>2022-01-01 0:01</td>\n",
       "      <td>008XX W BUENA AVE</td>\n",
       "      <td>2825</td>\n",
       "      <td>기타 범죄</td>\n",
       "      <td>전화로 괴롭힘</td>\n",
       "      <td>아파트</td>\n",
       "      <td>False</td>\n",
       "      <td>False</td>\n",
       "      <td>1915</td>\n",
       "      <td>...</td>\n",
       "      <td>46.0</td>\n",
       "      <td>3</td>\n",
       "      <td>26</td>\n",
       "      <td>NaN</td>\n",
       "      <td>NaN</td>\n",
       "      <td>2022</td>\n",
       "      <td>07/05/2023 04:48:33 PM</td>\n",
       "      <td>NaN</td>\n",
       "      <td>NaN</td>\n",
       "      <td>NaN</td>\n",
       "    </tr>\n",
       "    <tr>\n",
       "      <th>13129286</th>\n",
       "      <td>JG326911</td>\n",
       "      <td>2022-12-22 12:00</td>\n",
       "      <td>030XX N SHEFFIELD AVE</td>\n",
       "      <td>1153</td>\n",
       "      <td>사기적인 행위</td>\n",
       "      <td>재정적 ID 도용 $300 이상</td>\n",
       "      <td>NaN</td>\n",
       "      <td>False</td>\n",
       "      <td>False</td>\n",
       "      <td>1933</td>\n",
       "      <td>...</td>\n",
       "      <td>44.0</td>\n",
       "      <td>6</td>\n",
       "      <td>11</td>\n",
       "      <td>NaN</td>\n",
       "      <td>NaN</td>\n",
       "      <td>2022</td>\n",
       "      <td>07/05/2023 04:48:33 PM</td>\n",
       "      <td>NaN</td>\n",
       "      <td>NaN</td>\n",
       "      <td>NaN</td>\n",
       "    </tr>\n",
       "  </tbody>\n",
       "</table>\n",
       "<p>238712 rows × 21 columns</p>\n",
       "</div>"
      ],
      "text/plain": [
       "         Case Number              Date                     Block  IUCR  \\\n",
       "ID                                                                       \n",
       "12836330    JF407076  2022-09-22 23:00       010XX W RANDOLPH ST   810   \n",
       "12713141    JF259485   2022-05-29 0:00  014XX S MUSEUM CAMPUS DR   870   \n",
       "12837355    JF408212  2022-09-23 19:45          001XX W HURON ST   486   \n",
       "12600669    JF122951  2022-01-24 17:30         018XX W GRAND AVE   910   \n",
       "12770469    JF328862  2022-07-23 16:00           069XX W 64TH PL   486   \n",
       "...              ...               ...                       ...   ...   \n",
       "13130030    JG328516   2022-06-17 0:01         004XX S LOTUS AVE  1153   \n",
       "13128041    JG326305   2022-12-01 0:00      049XX W WEST END AVE  1153   \n",
       "13128260    JG325445  2022-10-02 16:15        082XX S DREXEL AVE  1153   \n",
       "13129895    JG328258   2022-01-01 0:01         008XX W BUENA AVE  2825   \n",
       "13129286    JG326911  2022-12-22 12:00     030XX N SHEFFIELD AVE  1153   \n",
       "\n",
       "         Primary Type        Description Location Description  Arrest  \\\n",
       "ID                                                                      \n",
       "12836330           절도            $500 초과                   거리   False   \n",
       "12713141           절도            주머니 훔치기        스포츠 아레나 / 경기장   False   \n",
       "12837355           폭행          가정 폭력 간단한                   인도   False   \n",
       "12600669       자동차 절도                자동차                   거리   False   \n",
       "12770469           폭행          가정 폭력 간단한                   주택    True   \n",
       "...               ...                ...                  ...     ...   \n",
       "13130030      사기적인 행위  재정적 ID 도용 $300 이상                  아파트   False   \n",
       "13128041      사기적인 행위  재정적 ID 도용 $300 이상                   거리   False   \n",
       "13128260      사기적인 행위  재정적 ID 도용 $300 이상                  NaN   False   \n",
       "13129895        기타 범죄            전화로 괴롭힘                  아파트   False   \n",
       "13129286      사기적인 행위  재정적 ID 도용 $300 이상                  NaN   False   \n",
       "\n",
       "          Domestic  Beat  ...  Ward  Community Area  FBI Code X Coordinate  \\\n",
       "ID                        ...                                                \n",
       "12836330     False  1224  ...  27.0              28         6    1169327.0   \n",
       "12713141     False   132  ...   4.0              33         6          NaN   \n",
       "12837355      True  1832  ...   2.0               8       08B    1175253.0   \n",
       "12600669     False  1221  ...  36.0              24         7    1164069.0   \n",
       "12770469      True   812  ...  13.0              64       08B    1131307.0   \n",
       "...            ...   ...  ...   ...             ...       ...          ...   \n",
       "13130030     False  1522  ...  29.0              25        11          NaN   \n",
       "13128041     False  1532  ...  28.0              25        11          NaN   \n",
       "13128260     False   631  ...   8.0              44        11          NaN   \n",
       "13129895     False  1915  ...  46.0               3        26          NaN   \n",
       "13129286     False  1933  ...  44.0               6        11          NaN   \n",
       "\n",
       "          Y Coordinate  Year              Updated On   Latitude  Longitude  \\\n",
       "ID                                                                           \n",
       "12836330     1901202.0  2022  01/03/2023 03:46:28 PM  41.884410 -87.653665   \n",
       "12713141           NaN  2022  06/05/2022 04:48:59 PM        NaN        NaN   \n",
       "12837355     1905045.0  2022  01/03/2023 03:46:28 PM  41.894825 -87.631789   \n",
       "12600669     1903522.0  2022  07/06/2023 04:46:09 PM  41.890889 -87.672907   \n",
       "12770469     1860969.0  2022  07/06/2023 04:46:09 PM  41.774746 -87.794208   \n",
       "...                ...   ...                     ...        ...        ...   \n",
       "13130030           NaN  2022  07/05/2023 04:48:33 PM        NaN        NaN   \n",
       "13128041           NaN  2022  07/05/2023 04:48:33 PM        NaN        NaN   \n",
       "13128260           NaN  2022  07/05/2023 04:48:33 PM        NaN        NaN   \n",
       "13129895           NaN  2022  07/05/2023 04:48:33 PM        NaN        NaN   \n",
       "13129286           NaN  2022  07/05/2023 04:48:33 PM        NaN        NaN   \n",
       "\n",
       "                               Location  \n",
       "ID                                       \n",
       "12836330  (41.884410376, -87.653664839)  \n",
       "12713141                            NaN  \n",
       "12837355  (41.894824927, -87.631788635)  \n",
       "12600669  (41.890889291, -87.672907259)  \n",
       "12770469  (41.774745709, -87.794208216)  \n",
       "...                                 ...  \n",
       "13130030                            NaN  \n",
       "13128041                            NaN  \n",
       "13128260                            NaN  \n",
       "13129895                            NaN  \n",
       "13129286                            NaN  \n",
       "\n",
       "[238712 rows x 21 columns]"
      ]
     },
     "execution_count": 152,
     "metadata": {},
     "output_type": "execute_result"
    }
   ],
   "source": [
    "df = pd.read_csv(\"범죄데이터.csv\",index_col=0)\n",
    "df"
   ]
  },
  {
   "cell_type": "code",
   "execution_count": 153,
   "metadata": {},
   "outputs": [],
   "source": [
    "# 컬럼명 :  한글 로 변경 \n",
    "df.columns =  ['사건 번호', '날짜','블록','IUCR','범죄 유형','설명','위치 설명','검거 여부','가정 내 범죄','경찰서 순번','지구','구','지역 번호','FBI 코드','X 좌표','Y 좌표','년도','업데이트 일자','위도','경도','위치']"
   ]
  },
  {
   "cell_type": "code",
   "execution_count": 154,
   "metadata": {},
   "outputs": [],
   "source": [
    "#### 스피어만 상관계수를 비교하기 위한 인코딩 작업"
   ]
  },
  {
   "cell_type": "code",
   "execution_count": 155,
   "metadata": {},
   "outputs": [],
   "source": [
    "\n",
    "from sklearn.preprocessing import LabelEncoder\n",
    "\n",
    "encoder = LabelEncoder()\n",
    "encoder.fit(df[\"범죄 유형\"])\n",
    "df[\"범죄 유형\"] = encoder.transform(df[\"범죄 유형\"])"
   ]
  },
  {
   "cell_type": "code",
   "execution_count": 156,
   "metadata": {},
   "outputs": [],
   "source": [
    "encoder = LabelEncoder()\n",
    "encoder.fit(df[\"위치 설명\"])\n",
    "df[\"위치 설명\"] = encoder.transform(df[\"위치 설명\"])"
   ]
  },
  {
   "cell_type": "code",
   "execution_count": 157,
   "metadata": {},
   "outputs": [],
   "source": [
    "encoder = LabelEncoder()\n",
    "encoder.fit(df[\"설명\"])\n",
    "df[\"설명\"] = encoder.transform(df[\"설명\"])"
   ]
  },
  {
   "cell_type": "code",
   "execution_count": 158,
   "metadata": {},
   "outputs": [
    {
     "data": {
      "text/html": [
       "<div>\n",
       "<style scoped>\n",
       "    .dataframe tbody tr th:only-of-type {\n",
       "        vertical-align: middle;\n",
       "    }\n",
       "\n",
       "    .dataframe tbody tr th {\n",
       "        vertical-align: top;\n",
       "    }\n",
       "\n",
       "    .dataframe thead th {\n",
       "        text-align: right;\n",
       "    }\n",
       "</style>\n",
       "<table border=\"1\" class=\"dataframe\">\n",
       "  <thead>\n",
       "    <tr style=\"text-align: right;\">\n",
       "      <th></th>\n",
       "      <th>범죄 유형</th>\n",
       "      <th>설명</th>\n",
       "      <th>위치 설명</th>\n",
       "      <th>검거 여부</th>\n",
       "      <th>가정 내 범죄</th>\n",
       "      <th>위도</th>\n",
       "      <th>경도</th>\n",
       "    </tr>\n",
       "  </thead>\n",
       "  <tbody>\n",
       "    <tr>\n",
       "      <th>범죄 유형</th>\n",
       "      <td>1.000000</td>\n",
       "      <td>-0.428856</td>\n",
       "      <td>0.069053</td>\n",
       "      <td>-0.114761</td>\n",
       "      <td>0.188582</td>\n",
       "      <td>0.038551</td>\n",
       "      <td>0.015399</td>\n",
       "    </tr>\n",
       "    <tr>\n",
       "      <th>설명</th>\n",
       "      <td>-0.428856</td>\n",
       "      <td>1.000000</td>\n",
       "      <td>-0.048972</td>\n",
       "      <td>0.050430</td>\n",
       "      <td>-0.182997</td>\n",
       "      <td>-0.022537</td>\n",
       "      <td>0.010591</td>\n",
       "    </tr>\n",
       "    <tr>\n",
       "      <th>위치 설명</th>\n",
       "      <td>0.069053</td>\n",
       "      <td>-0.048972</td>\n",
       "      <td>1.000000</td>\n",
       "      <td>-0.064055</td>\n",
       "      <td>0.158297</td>\n",
       "      <td>-0.024834</td>\n",
       "      <td>-0.008804</td>\n",
       "    </tr>\n",
       "    <tr>\n",
       "      <th>검거 여부</th>\n",
       "      <td>-0.114761</td>\n",
       "      <td>0.050430</td>\n",
       "      <td>-0.064055</td>\n",
       "      <td>1.000000</td>\n",
       "      <td>0.017862</td>\n",
       "      <td>0.007233</td>\n",
       "      <td>-0.041631</td>\n",
       "    </tr>\n",
       "    <tr>\n",
       "      <th>가정 내 범죄</th>\n",
       "      <td>0.188582</td>\n",
       "      <td>-0.182997</td>\n",
       "      <td>0.158297</td>\n",
       "      <td>0.017862</td>\n",
       "      <td>1.000000</td>\n",
       "      <td>-0.118160</td>\n",
       "      <td>0.007594</td>\n",
       "    </tr>\n",
       "    <tr>\n",
       "      <th>위도</th>\n",
       "      <td>0.038551</td>\n",
       "      <td>-0.022537</td>\n",
       "      <td>-0.024834</td>\n",
       "      <td>0.007233</td>\n",
       "      <td>-0.118160</td>\n",
       "      <td>1.000000</td>\n",
       "      <td>-0.540726</td>\n",
       "    </tr>\n",
       "    <tr>\n",
       "      <th>경도</th>\n",
       "      <td>0.015399</td>\n",
       "      <td>0.010591</td>\n",
       "      <td>-0.008804</td>\n",
       "      <td>-0.041631</td>\n",
       "      <td>0.007594</td>\n",
       "      <td>-0.540726</td>\n",
       "      <td>1.000000</td>\n",
       "    </tr>\n",
       "  </tbody>\n",
       "</table>\n",
       "</div>"
      ],
      "text/plain": [
       "            범죄 유형        설명     위치 설명     검거 여부   가정 내 범죄        위도        경도\n",
       "범죄 유형    1.000000 -0.428856  0.069053 -0.114761  0.188582  0.038551  0.015399\n",
       "설명      -0.428856  1.000000 -0.048972  0.050430 -0.182997 -0.022537  0.010591\n",
       "위치 설명    0.069053 -0.048972  1.000000 -0.064055  0.158297 -0.024834 -0.008804\n",
       "검거 여부   -0.114761  0.050430 -0.064055  1.000000  0.017862  0.007233 -0.041631\n",
       "가정 내 범죄  0.188582 -0.182997  0.158297  0.017862  1.000000 -0.118160  0.007594\n",
       "위도       0.038551 -0.022537 -0.024834  0.007233 -0.118160  1.000000 -0.540726\n",
       "경도       0.015399  0.010591 -0.008804 -0.041631  0.007594 -0.540726  1.000000"
      ]
     },
     "execution_count": 158,
     "metadata": {},
     "output_type": "execute_result"
    }
   ],
   "source": [
    "# 상관계수를 확인하기 위한 컬럼 선택\n",
    "df_cor = df[['범죄 유형', '설명', '위치 설명', '검거 여부', '가정 내 범죄', '위도', '경도']]\n",
    "df_cor.corr('spearman')"
   ]
  },
  {
   "cell_type": "code",
   "execution_count": 159,
   "metadata": {},
   "outputs": [
    {
     "data": {
      "image/png": "[encoded data removed]",
      "text/plain": [
       "<Figure size 720x576 with 2 Axes>"
      ]
     },
     "metadata": {},
     "output_type": "display_data"
    }
   ],
   "source": [
    "correlation_matrix = df_cor.corr()\n",
    "plt.figure(figsize=(10, 8))\n",
    "mask = np.triu(np.ones_like(correlation_matrix, dtype=bool))\n",
    "sns.heatmap(correlation_matrix, mask=mask,annot=True, cmap='coolwarm', fmt='.2f', linewidths=0.5,vmin=-1, vmax=1)\n",
    "plt.title('상관계수 히트맵')\n",
    "plt.show()"
   ]
  },
  {
   "cell_type": "code",
   "execution_count": null,
   "metadata": {},
   "outputs": [],
   "source": []
  }
 ],
 "metadata": {
  "interpreter": {
   "hash": "aee8b7b246df8f9039afb4144a1f6fd8d2ca17a180786b69acc140d282b71a49"
  },
  "kernelspec": {
   "display_name": "Python 3 (ipykernel)",
   "language": "python",
   "name": "python3"
  },
  "language_info": {
   "codemirror_mode": {
    "name": "ipython",
    "version": 3
   },
   "file_extension": ".py",
   "mimetype": "text/x-python",
   "name": "python",
   "nbconvert_exporter": "python",
   "pygments_lexer": "ipython3",
   "version": "3.9.6"
  },
  "toc": {
   "base_numbering": 1,
   "nav_menu": {},
   "number_sections": true,
   "sideBar": true,
   "skip_h1_title": false,
   "title_cell": "Table of Contents",
   "title_sidebar": "Contents",
   "toc_cell": false,
   "toc_position": {},
   "toc_section_display": true,
   "toc_window_display": false
  }
 },
 "nbformat": 4,
 "nbformat_minor": 2
}
