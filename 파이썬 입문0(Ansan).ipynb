{
 "cells": [
  {
   "cell_type": "markdown",
   "id": "ce912635",
   "metadata": {},
   "source": [
    "# 데이터분석을 위한 파이썬 기초(시작)"
   ]
  },
  {
   "cell_type": "markdown",
   "id": "7b84be15",
   "metadata": {},
   "source": [
    "# python 설치\n",
    "### (http://www.python.org/downloads)"
   ]
  },
  {
   "cell_type": "code",
   "execution_count": 2,
   "id": "5d0bd30d",
   "metadata": {},
   "outputs": [],
   "source": [
    "# 1. 홈페이지의 다운로드 페이지(http://www.python.org/downloads)에서 윈도우용 파이썬 언어 패키지를 다운로드\n",
    "# 2. 인스톨러를 실행 --> \"Install Now\"를 선택 -->  설치 진행\n",
    "# 파이썬이 어느 곳에서든지 실행될 수 있도록 \"Add Python3.8 to PATH\" 옵션 반드시 선택\n",
    "# 3. 설치가 완료 : [close]를 클릭 종료"
   ]
  },
  {
   "cell_type": "markdown",
   "id": "02c5cfcb",
   "metadata": {},
   "source": [
    "# jupyter notebook 설치"
   ]
  },
  {
   "cell_type": "code",
   "execution_count": null,
   "id": "eaf8776e",
   "metadata": {},
   "outputs": [],
   "source": [
    "# cmd 창을 열고 명령어를 이용해서 설치\n",
    "# pip install jupyter"
   ]
  },
  {
   "cell_type": "code",
   "execution_count": null,
   "id": "1890f292",
   "metadata": {},
   "outputs": [],
   "source": [
    "# jupyter notebook 실행¶\n",
    "# C:\\Users\\user>cd \n",
    "# C:\\apps>cd finace_data\n",
    "# C:\\apps\\finace_data>jupyter notebook"
   ]
  },
  {
   "cell_type": "markdown",
   "id": "ca24e64c",
   "metadata": {},
   "source": [
    "## 아나콘다(Anaconda) 설치\n",
    "### https://www.anaconda.com/products/distribution"
   ]
  },
  {
   "cell_type": "code",
   "execution_count": null,
   "id": "78720eca",
   "metadata": {},
   "outputs": [],
   "source": [
    "# 아나콘다는 데이터 사이언스에 필요한 여러가지 패키지를 묶어 놓은 것\n",
    "# 파이썬 배포판"
   ]
  },
  {
   "cell_type": "code",
   "execution_count": null,
   "id": "b86d5c5c",
   "metadata": {},
   "outputs": [],
   "source": [
    "# 윈도우 또는 mac\n",
    "# 64비트, 32비트 \n",
    "# 확인 : 설정 - 시스템 - 정보 : 64비트 운영 체제, x64 기반 프로세\n",
    "# Advanced Options나오면 둘 다 체크"
   ]
  },
  {
   "cell_type": "markdown",
   "id": "5424a881",
   "metadata": {},
   "source": [
    "### 실행하기"
   ]
  },
  {
   "cell_type": "code",
   "execution_count": null,
   "id": "7e057dd6",
   "metadata": {},
   "outputs": [],
   "source": [
    "# 1. 아나콘다 네비게이터(Anaconda Navigator) 실행\n",
    "# CMD Prompt 실행(Launch)\n",
    "# Jupyter notebook 실행"
   ]
  },
  {
   "cell_type": "code",
   "execution_count": null,
   "id": "48570bdc",
   "metadata": {},
   "outputs": [],
   "source": [
    "# 3. 윈도우 : 아나콘다 프롬프트에서 실행  , 맥 : 터미널에서 "
   ]
  },
  {
   "cell_type": "code",
   "execution_count": null,
   "id": "29cf7fce",
   "metadata": {},
   "outputs": [],
   "source": [
    "# 2. (CMD Prompt)에서  Jupyter notebook을 실행"
   ]
  },
  {
   "cell_type": "markdown",
   "id": "22c4111c",
   "metadata": {},
   "source": [
    "## 비주얼 스튜디오 코드(Visual Studio Code)를 설치\n",
    "### https://code.visualstudio.com/download"
   ]
  },
  {
   "cell_type": "code",
   "execution_count": null,
   "id": "5939a9cd",
   "metadata": {},
   "outputs": [],
   "source": [
    "# 1. 비주얼 스튜디오 코드 다운로드 페이지 접속\n",
    "# 2. 비주얼 스튜디오 코드 다운로드\n",
    "# 3. Install 파일 실행\n",
    "# 4. 비주얼 스튜디오 코드 실행 및 마무리"
   ]
  },
  {
   "cell_type": "code",
   "execution_count": null,
   "id": "57672369",
   "metadata": {},
   "outputs": [],
   "source": [
    "#1. 비주얼 스튜디오 코드 다운로드 페이지 접속\n",
    "#  https://code.visualstudio.com/download"
   ]
  },
  {
   "cell_type": "code",
   "execution_count": null,
   "id": "8be274ed",
   "metadata": {},
   "outputs": [],
   "source": [
    "# 2. 비주얼 스튜디오 코드 다운로드\n",
    "# 비주얼 스튜디오 코드 다운로드 페이지로 들어가서 내 컴퓨터 OS에 따라 설치 가능"
   ]
  },
  {
   "cell_type": "code",
   "execution_count": null,
   "id": "3b10cf7e",
   "metadata": {},
   "outputs": [],
   "source": [
    "# 3. Install 파일 실행"
   ]
  },
  {
   "cell_type": "code",
   "execution_count": null,
   "id": "4160bc8a",
   "metadata": {},
   "outputs": [],
   "source": []
  },
  {
   "cell_type": "markdown",
   "id": "87a13e7b",
   "metadata": {},
   "source": [
    "# 파이썬 자습서\n",
    "## https://docs.python.org/ko/3/tutorial/"
   ]
  },
  {
   "cell_type": "code",
   "execution_count": null,
   "id": "513a34ff",
   "metadata": {},
   "outputs": [],
   "source": []
  },
  {
   "cell_type": "markdown",
   "id": "245613b1",
   "metadata": {},
   "source": [
    "# 파이썬 기초"
   ]
  },
  {
   "cell_type": "markdown",
   "id": "3944e45d",
   "metadata": {},
   "source": [
    "# 1. print 하기"
   ]
  },
  {
   "cell_type": "code",
   "execution_count": 1,
   "id": "1f3eebe1",
   "metadata": {},
   "outputs": [
    {
     "name": "stdout",
     "output_type": "stream",
     "text": [
      "Hello Python!\n"
     ]
    }
   ],
   "source": [
    "# 문자열을 출력 : 따옴표 필요--> 큰따옴표, 작은따옴표 모두 가능\n",
    "print('Hello Python!')"
   ]
  },
  {
   "cell_type": "code",
   "execution_count": 31,
   "id": "f103dd4b",
   "metadata": {},
   "outputs": [
    {
     "name": "stdout",
     "output_type": "stream",
     "text": [
      "안산대학교\n"
     ]
    }
   ],
   "source": [
    "print(\"안산대학교\")"
   ]
  },
  {
   "cell_type": "code",
   "execution_count": 3,
   "id": "318eb1e1",
   "metadata": {},
   "outputs": [
    {
     "name": "stdout",
     "output_type": "stream",
     "text": [
      "1\n"
     ]
    }
   ],
   "source": [
    "# 숫자를 출력\n",
    "print(1)"
   ]
  },
  {
   "cell_type": "code",
   "execution_count": 5,
   "id": "cb87036c",
   "metadata": {},
   "outputs": [
    {
     "name": "stdout",
     "output_type": "stream",
     "text": [
      "123\n"
     ]
    }
   ],
   "source": [
    "print(123)  "
   ]
  },
  {
   "cell_type": "code",
   "execution_count": 6,
   "id": "0051e3dd",
   "metadata": {},
   "outputs": [
    {
     "name": "stdout",
     "output_type": "stream",
     "text": [
      "[1, 2, 3]\n"
     ]
    }
   ],
   "source": [
    "print([1, 2, 3])"
   ]
  },
  {
   "cell_type": "markdown",
   "id": "3d2ee24b",
   "metadata": {},
   "source": [
    "# 2. input"
   ]
  },
  {
   "cell_type": "code",
   "execution_count": 7,
   "id": "f7493fc7",
   "metadata": {},
   "outputs": [
    {
     "name": "stdout",
     "output_type": "stream",
     "text": [
      "What is your name?jyb\n"
     ]
    }
   ],
   "source": [
    "name = input('What is your name?')"
   ]
  },
  {
   "cell_type": "markdown",
   "id": "5d79cd6e",
   "metadata": {},
   "source": [
    "# 3. 기본 함수 만들어보기"
   ]
  },
  {
   "cell_type": "code",
   "execution_count": 8,
   "id": "fa91c40a",
   "metadata": {},
   "outputs": [
    {
     "name": "stdout",
     "output_type": "stream",
     "text": [
      "5\n"
     ]
    }
   ],
   "source": [
    "# def : definition\n",
    "# 함수의 경우 들여쓰기(4칸)\n",
    "def add(a, b):\n",
    "    x=a+b\n",
    "    return x\n",
    "y= add(2,3)\n",
    "print(y)"
   ]
  },
  {
   "cell_type": "code",
   "execution_count": 9,
   "id": "c1de2980",
   "metadata": {},
   "outputs": [
    {
     "data": {
      "text/plain": [
       "5"
      ]
     },
     "execution_count": 9,
     "metadata": {},
     "output_type": "execute_result"
    }
   ],
   "source": [
    "2+3"
   ]
  },
  {
   "cell_type": "markdown",
   "id": "e66866c7",
   "metadata": {},
   "source": [
    "# 라이브러리 보기/설치"
   ]
  },
  {
   "cell_type": "code",
   "execution_count": null,
   "id": "a7c85d2c",
   "metadata": {},
   "outputs": [],
   "source": [
    "# 라이브러리가 필요한 사례보기 ?"
   ]
  },
  {
   "cell_type": "code",
   "execution_count": 10,
   "id": "d0e8ee2f",
   "metadata": {},
   "outputs": [
    {
     "data": {
      "text/plain": [
       "200"
      ]
     },
     "execution_count": 10,
     "metadata": {},
     "output_type": "execute_result"
    }
   ],
   "source": [
    "100*2"
   ]
  },
  {
   "cell_type": "code",
   "execution_count": 11,
   "id": "28e34268",
   "metadata": {},
   "outputs": [
    {
     "ename": "NameError",
     "evalue": "name 'log' is not defined",
     "output_type": "error",
     "traceback": [
      "\u001b[1;31m---------------------------------------------------------------------------\u001b[0m",
      "\u001b[1;31mNameError\u001b[0m                                 Traceback (most recent call last)",
      "\u001b[1;32m~\\AppData\\Local\\Temp/ipykernel_16096/697466879.py\u001b[0m in \u001b[0;36m<module>\u001b[1;34m\u001b[0m\n\u001b[1;32m----> 1\u001b[1;33m \u001b[0mlog\u001b[0m\u001b[1;33m(\u001b[0m\u001b[1;36m10\u001b[0m\u001b[1;33m)\u001b[0m\u001b[1;33m\u001b[0m\u001b[1;33m\u001b[0m\u001b[0m\n\u001b[0m",
      "\u001b[1;31mNameError\u001b[0m: name 'log' is not defined"
     ]
    }
   ],
   "source": [
    "log(10)"
   ]
  },
  {
   "cell_type": "code",
   "execution_count": 12,
   "id": "87f4d858",
   "metadata": {},
   "outputs": [
    {
     "data": {
      "text/plain": [
       "2.302585092994046"
      ]
     },
     "execution_count": 12,
     "metadata": {},
     "output_type": "execute_result"
    }
   ],
   "source": [
    "# math 모듈(Math Module)\n",
    "# 복잡한 연산이 필요한 경우 math 모듈을 사용\n",
    "import math\n",
    "math.log(10)"
   ]
  },
  {
   "cell_type": "code",
   "execution_count": 13,
   "id": "334486c3",
   "metadata": {},
   "outputs": [],
   "source": [
    "# 스타임포트 방식(한꺼번에 임포트함. 이름공간과 관련된 모호성 문제)\n",
    "# from 모듈명 import 뒤에 * 을 입력 : 그 모듈에 내포된 모든 함수를 로드하여 별다른 수식 없이 함수를 모두 사용 가능\n",
    "from math import *  "
   ]
  },
  {
   "cell_type": "code",
   "execution_count": 14,
   "id": "0bf5ed29",
   "metadata": {},
   "outputs": [
    {
     "data": {
      "text/plain": [
       "2.302585092994046"
      ]
     },
     "execution_count": 14,
     "metadata": {},
     "output_type": "execute_result"
    }
   ],
   "source": [
    "log(10)"
   ]
  },
  {
   "cell_type": "markdown",
   "id": "f4c3eca7",
   "metadata": {},
   "source": [
    "# 설치되어 있는 라이브러리 보기"
   ]
  },
  {
   "cell_type": "code",
   "execution_count": 16,
   "id": "820cb971",
   "metadata": {},
   "outputs": [
    {
     "name": "stdout",
     "output_type": "stream",
     "text": [
      "Package                 Version\n",
      "----------------------- -------------------\n",
      "absl-py                 0.13.0\n",
      "ansi2html               1.6.0\n",
      "appdirs                 1.4.4\n",
      "arelle                  2.2\n",
      "argon2-cffi             20.1.0\n",
      "astor                   0.8.1\n",
      "astunparse              1.6.3\n",
      "async-generator         1.10\n",
      "atomicwrites            1.4.0\n",
      "attrs                   21.2.0\n",
      "Note: you may need to restart the kernel to use updated packages.backcall                0.2.0\n",
      "Backtesting             0.3.2\n",
      "backtrader              1.9.76.123\n",
      "beautifulsoup4          4.9.3\n",
      "bleach                  3.3.0\n",
      "bokeh                   2.4.2\n",
      "Brotli                  1.0.9\n",
      "\n",
      "bs4                     0.0.1\n",
      "bt                      0.2.9\n",
      "cachetools              4.2.2\n",
      "certifi                 2021.5.30\n",
      "cffi                    1.14.6\n",
      "chardet                 4.0.0\n"
     ]
    },
    {
     "name": "stderr",
     "output_type": "stream",
     "text": [
      "WARNING: Ignoring invalid distribution -ip (c:\\users\\jyb\\appdata\\local\\programs\\python\\python39\\lib\\site-packages)\n",
      "WARNING: Ignoring invalid distribution -ip (c:\\users\\jyb\\appdata\\local\\programs\\python\\python39\\lib\\site-packages)\n",
      "WARNING: Ignoring invalid distribution -ip (c:\\users\\jyb\\appdata\\local\\programs\\python\\python39\\lib\\site-packages)\n",
      "WARNING: Ignoring invalid distribution -ip (c:\\users\\jyb\\appdata\\local\\programs\\python\\python39\\lib\\site-packages)\n"
     ]
    },
    {
     "name": "stdout",
     "output_type": "stream",
     "text": [
      "charset-normalizer      2.0.1\n",
      "chart-studio            1.1.0\n",
      "click                   8.0.1\n",
      "colorama                0.4.4\n",
      "convertdate             2.3.2\n",
      "cssselect               1.1.0\n",
      "cycler                  0.10.0\n",
      "Cython                  0.29.24\n",
      "dart-fss                0.3.17\n",
      "dash                    1.21.0\n",
      "dash-core-components    1.17.1\n",
      "dash-html-components    1.1.4\n",
      "dash-table              4.12.0\n",
      "datapungi_fed           0.3.1\n",
      "DateTime                4.3\n",
      "debugpy                 1.3.0\n",
      "decorator               5.0.9\n",
      "defusedxml              0.7.1\n",
      "Deprecated              1.2.12\n",
      "empyrical               0.5.5\n",
      "entrypoints             0.3\n",
      "ephem                   4.0.0.2\n",
      "et-xmlfile              1.1.0\n",
      "fake-useragent          0.1.11\n",
      "feedparser              6.0.8\n",
      "ffn                     0.3.6\n",
      "finance-datareader      0.9.31\n",
      "Flask                   2.0.1\n",
      "Flask-Compress          1.10.1\n",
      "flatbuffers             1.12\n",
      "formulaic               0.2.4\n",
      "fredapi                 0.4.3\n",
      "fsspec                  2021.8.1\n",
      "full-fred               0.0.9a3\n",
      "future                  0.18.2\n",
      "gast                    0.4.0\n",
      "google-auth             1.33.1\n",
      "google-auth-oauthlib    0.4.4\n",
      "google-pasta            0.2.0\n",
      "grpcio                  1.34.1\n",
      "h5py                    3.1.0\n",
      "halo                    0.0.31\n",
      "hijri-converter         2.1.3\n",
      "html5lib                1.1\n",
      "idna                    3.2\n",
      "importlib-metadata      4.10.0\n",
      "iniconfig               1.1.1\n",
      "interface-meta          1.2.4\n",
      "ipykernel               6.0.1\n",
      "ipython                 7.25.0\n",
      "ipython-genutils        0.2.0\n",
      "ipywidgets              7.6.4\n",
      "isodate                 0.6.1\n",
      "itsdangerous            2.0.1\n",
      "jedi                    0.18.0\n",
      "Jinja2                  3.0.1\n",
      "joblib                  1.0.1\n",
      "jsonschema              3.2.0\n",
      "jupyter                 1.0.0\n",
      "jupyter-client          6.1.12\n",
      "jupyter-console         6.4.0\n",
      "jupyter-core            4.7.1\n",
      "jupyter-dash            0.4.0\n",
      "jupyterlab-pygments     0.1.2\n",
      "jupyterlab-widgets      1.0.1\n",
      "keras-nightly           2.5.0.dev2021032900\n",
      "Keras-Preprocessing     1.1.2\n",
      "keyring                 23.5.0\n",
      "kiwisolver              1.3.1\n",
      "korean-lunar-calendar   0.2.1\n",
      "linearmodels            4.25\n",
      "littleutils             0.2.2\n",
      "log-symbols             0.0.14\n",
      "lxml                    4.6.3\n",
      "Markdown                3.3.4\n",
      "MarkupSafe              2.0.1\n",
      "matplotlib              3.4.2\n",
      "matplotlib-inline       0.1.2\n",
      "missingno               0.5.1\n",
      "mistune                 0.8.4\n",
      "mpl-finance             0.10.1\n",
      "mplfinance              0.12.9b1\n",
      "multitasking            0.0.9\n",
      "mypy-extensions         0.4.3\n",
      "nbclient                0.5.3\n",
      "nbconvert               6.1.0\n",
      "nbformat                5.1.3\n",
      "nest-asyncio            1.5.1\n",
      "nltk                    3.7\n",
      "notebook                6.4.0\n",
      "numpy                   1.19.5\n",
      "numpy-financial         1.0.0\n",
      "oauthlib                3.1.1\n",
      "OpenDartReader          0.1.1\n",
      "openpyxl                3.0.9\n",
      "opstrat                 0.1.7\n",
      "opt-einsum              3.3.0\n",
      "outdated                0.2.1\n",
      "packaging               21.0\n",
      "pandas                  1.3.0\n",
      "pandas-datareader       0.10.0\n",
      "pandas-flavor           0.2.0\n",
      "pandocfilters           1.4.3\n",
      "parse                   1.19.0\n",
      "parso                   0.8.2\n",
      "patsy                   0.5.1\n",
      "pickleshare             0.7.5\n",
      "Pillow                  8.3.1\n",
      "pingouin                0.5.0\n",
      "pip                     21.3.1\n",
      "plotly                  5.1.0\n",
      "plotly-express          0.4.1\n",
      "pluggy                  1.0.0\n",
      "prometheus-client       0.11.0\n",
      "prompt-toolkit          3.0.19\n",
      "property-cached         1.6.4\n",
      "protobuf                3.17.3\n",
      "py                      1.11.0\n",
      "pyasn1                  0.4.8\n",
      "pyasn1-modules          0.2.8\n",
      "pycparser               2.20\n",
      "pyee                    8.2.2\n",
      "pyfolio                 0.9.2\n",
      "Pygments                2.9.0\n",
      "pyhdfe                  0.1.0\n",
      "pykrx                   1.0.17\n",
      "PyMeeus                 0.5.11\n",
      "pyparsing               2.4.7\n",
      "pyperclip               1.8.2\n",
      "pyppeteer               0.2.6\n",
      "PyPrind                 2.11.3\n",
      "pyquery                 1.4.3\n",
      "pyrsistent              0.18.0\n",
      "pytest                  6.2.5\n",
      "pytest-html             3.1.1\n",
      "pytest-metadata         1.11.0\n",
      "python-dateutil         2.8.1\n",
      "pytz                    2021.1\n",
      "pywin32                 301\n",
      "pywin32-ctypes          0.2.0\n",
      "pywinpty                1.1.3\n",
      "PyYAML                  6.0\n",
      "pyzmq                   22.1.0\n",
      "qtconsole               5.1.1\n",
      "QtPy                    1.11.0\n",
      "QuantLib                1.25\n",
      "QuantLib-Python         1.18\n",
      "regex                   2022.1.18\n",
      "requests                2.26.0\n",
      "requests-file           1.5.1\n",
      "requests-ftp            0.3.1\n",
      "requests-html           0.10.0\n",
      "requests-oauthlib       1.3.0\n",
      "retrying                1.3.3\n",
      "rsa                     4.7.2\n",
      "scikit-learn            0.24.2\n",
      "scipy                   1.7.0\n",
      "seaborn                 0.11.1\n",
      "Send2Trash              1.7.1\n",
      "setuptools              56.0.0\n",
      "setuptools-git          1.2\n",
      "sgmllib3k               1.0.0\n",
      "six                     1.15.0\n",
      "sklearn                 0.0\n",
      "soupsieve               2.2.1\n",
      "spinners                0.0.24\n",
      "statsmodels             0.12.2\n",
      "tabulate                0.8.9\n",
      "tenacity                8.0.1\n",
      "tensorboard             2.5.0\n",
      "tensorboard-data-server 0.6.1\n",
      "tensorboard-plugin-wit  1.8.0\n",
      "tensorflow              2.5.0\n",
      "tensorflow-estimator    2.5.0\n",
      "termcolor               1.1.0\n",
      "terminado               0.10.1\n",
      "testpath                0.5.0\n",
      "threadpoolctl           2.2.0\n",
      "toml                    0.10.2\n",
      "torch                   1.10.2\n",
      "tornado                 6.1\n",
      "tqdm                    4.61.2\n",
      "traitlets               5.0.5\n",
      "typing-extensions       3.7.4.3\n",
      "ujson                   4.0.2\n",
      "urllib3                 1.26.6\n",
      "w3lib                   1.22.0\n",
      "wcwidth                 0.2.5\n",
      "webencodings            0.5.1\n",
      "websockets              9.1\n",
      "Werkzeug                2.0.1\n",
      "wheel                   0.36.2\n",
      "widgetsnbextension      3.5.1\n",
      "wrapt                   1.12.1\n",
      "xarray                  0.20.2\n",
      "xlrd                    2.0.1\n",
      "xmltodict               0.13.0\n",
      "yahoo-fin               0.8.9.1\n",
      "yahoofinancials         1.6\n",
      "yfinance                0.1.63\n",
      "zipp                    3.6.0\n",
      "zope.interface          5.4.0\n"
     ]
    }
   ],
   "source": [
    "pip list"
   ]
  },
  {
   "cell_type": "markdown",
   "id": "cd2acc04",
   "metadata": {},
   "source": [
    "# 라이브러리 설치"
   ]
  },
  {
   "cell_type": "code",
   "execution_count": null,
   "id": "58d7e14b",
   "metadata": {},
   "outputs": [],
   "source": [
    "pip install pandas"
   ]
  },
  {
   "cell_type": "markdown",
   "id": "bb97f2ef",
   "metadata": {},
   "source": [
    "# 라이브러리 불러오기"
   ]
  },
  {
   "cell_type": "code",
   "execution_count": null,
   "id": "401a6e2f",
   "metadata": {},
   "outputs": [],
   "source": [
    "# import 방법 :  import 모듈명\n",
    "import numpy"
   ]
  },
  {
   "cell_type": "code",
   "execution_count": null,
   "id": "8c93d4ec",
   "metadata": {},
   "outputs": [],
   "source": [
    "# 모듈을 로드 한 뒤 함수명만을 사용하여 함수를 사용\n",
    "#  from 모듈명 import 함수명 \n",
    "import math from add"
   ]
  },
  {
   "cell_type": "code",
   "execution_count": null,
   "id": "32645fdd",
   "metadata": {},
   "outputs": [],
   "source": [
    "# 별칭 (alias) 를 as로 지정하여 간편하게 불러오는 방법"
   ]
  },
  {
   "cell_type": "code",
   "execution_count": 21,
   "id": "4554b1b0",
   "metadata": {},
   "outputs": [],
   "source": [
    "import numpy as np   "
   ]
  },
  {
   "cell_type": "code",
   "execution_count": 22,
   "id": "5f706ee6",
   "metadata": {},
   "outputs": [
    {
     "data": {
      "text/plain": [
       "['ALLOW_THREADS',\n",
       " 'AxisError',\n",
       " 'BUFSIZE',\n",
       " 'CLIP',\n",
       " 'ComplexWarning',\n",
       " 'DataSource',\n",
       " 'ERR_CALL',\n",
       " 'ERR_DEFAULT',\n",
       " 'ERR_IGNORE',\n",
       " 'ERR_LOG',\n",
       " 'ERR_PRINT',\n",
       " 'ERR_RAISE',\n",
       " 'ERR_WARN',\n",
       " 'FLOATING_POINT_SUPPORT',\n",
       " 'FPE_DIVIDEBYZERO',\n",
       " 'FPE_INVALID',\n",
       " 'FPE_OVERFLOW',\n",
       " 'FPE_UNDERFLOW',\n",
       " 'False_',\n",
       " 'Inf',\n",
       " 'Infinity',\n",
       " 'MAXDIMS',\n",
       " 'MAY_SHARE_BOUNDS',\n",
       " 'MAY_SHARE_EXACT',\n",
       " 'MachAr',\n",
       " 'ModuleDeprecationWarning',\n",
       " 'NAN',\n",
       " 'NINF',\n",
       " 'NZERO',\n",
       " 'NaN',\n",
       " 'PINF',\n",
       " 'PZERO',\n",
       " 'RAISE',\n",
       " 'RankWarning',\n",
       " 'SHIFT_DIVIDEBYZERO',\n",
       " 'SHIFT_INVALID',\n",
       " 'SHIFT_OVERFLOW',\n",
       " 'SHIFT_UNDERFLOW',\n",
       " 'ScalarType',\n",
       " 'Tester',\n",
       " 'TooHardError',\n",
       " 'True_',\n",
       " 'UFUNC_BUFSIZE_DEFAULT',\n",
       " 'UFUNC_PYVALS_NAME',\n",
       " 'VisibleDeprecationWarning',\n",
       " 'WRAP',\n",
       " '_NoValue',\n",
       " '_UFUNC_API',\n",
       " '__NUMPY_SETUP__',\n",
       " '__all__',\n",
       " '__builtins__',\n",
       " '__cached__',\n",
       " '__config__',\n",
       " '__dir__',\n",
       " '__doc__',\n",
       " '__file__',\n",
       " '__getattr__',\n",
       " '__git_revision__',\n",
       " '__loader__',\n",
       " '__name__',\n",
       " '__package__',\n",
       " '__path__',\n",
       " '__spec__',\n",
       " '__version__',\n",
       " '_add_newdoc_ufunc',\n",
       " '_distributor_init',\n",
       " '_globals',\n",
       " '_mat',\n",
       " '_pytesttester',\n",
       " 'abs',\n",
       " 'absolute',\n",
       " 'add',\n",
       " 'add_docstring',\n",
       " 'add_newdoc',\n",
       " 'add_newdoc_ufunc',\n",
       " 'alen',\n",
       " 'all',\n",
       " 'allclose',\n",
       " 'alltrue',\n",
       " 'amax',\n",
       " 'amin',\n",
       " 'angle',\n",
       " 'any',\n",
       " 'append',\n",
       " 'apply_along_axis',\n",
       " 'apply_over_axes',\n",
       " 'arange',\n",
       " 'arccos',\n",
       " 'arccosh',\n",
       " 'arcsin',\n",
       " 'arcsinh',\n",
       " 'arctan',\n",
       " 'arctan2',\n",
       " 'arctanh',\n",
       " 'argmax',\n",
       " 'argmin',\n",
       " 'argpartition',\n",
       " 'argsort',\n",
       " 'argwhere',\n",
       " 'around',\n",
       " 'array',\n",
       " 'array2string',\n",
       " 'array_equal',\n",
       " 'array_equiv',\n",
       " 'array_repr',\n",
       " 'array_split',\n",
       " 'array_str',\n",
       " 'asanyarray',\n",
       " 'asarray',\n",
       " 'asarray_chkfinite',\n",
       " 'ascontiguousarray',\n",
       " 'asfarray',\n",
       " 'asfortranarray',\n",
       " 'asmatrix',\n",
       " 'asscalar',\n",
       " 'atleast_1d',\n",
       " 'atleast_2d',\n",
       " 'atleast_3d',\n",
       " 'average',\n",
       " 'bartlett',\n",
       " 'base_repr',\n",
       " 'binary_repr',\n",
       " 'bincount',\n",
       " 'bitwise_and',\n",
       " 'bitwise_not',\n",
       " 'bitwise_or',\n",
       " 'bitwise_xor',\n",
       " 'blackman',\n",
       " 'block',\n",
       " 'bmat',\n",
       " 'bool',\n",
       " 'bool8',\n",
       " 'bool_',\n",
       " 'broadcast',\n",
       " 'broadcast_arrays',\n",
       " 'broadcast_to',\n",
       " 'busday_count',\n",
       " 'busday_offset',\n",
       " 'busdaycalendar',\n",
       " 'byte',\n",
       " 'byte_bounds',\n",
       " 'bytes0',\n",
       " 'bytes_',\n",
       " 'c_',\n",
       " 'can_cast',\n",
       " 'cast',\n",
       " 'cbrt',\n",
       " 'cdouble',\n",
       " 'ceil',\n",
       " 'cfloat',\n",
       " 'char',\n",
       " 'character',\n",
       " 'chararray',\n",
       " 'choose',\n",
       " 'clip',\n",
       " 'clongdouble',\n",
       " 'clongfloat',\n",
       " 'column_stack',\n",
       " 'common_type',\n",
       " 'compare_chararrays',\n",
       " 'compat',\n",
       " 'complex',\n",
       " 'complex128',\n",
       " 'complex64',\n",
       " 'complex_',\n",
       " 'complexfloating',\n",
       " 'compress',\n",
       " 'concatenate',\n",
       " 'conj',\n",
       " 'conjugate',\n",
       " 'convolve',\n",
       " 'copy',\n",
       " 'copysign',\n",
       " 'copyto',\n",
       " 'core',\n",
       " 'corrcoef',\n",
       " 'correlate',\n",
       " 'cos',\n",
       " 'cosh',\n",
       " 'count_nonzero',\n",
       " 'cov',\n",
       " 'cross',\n",
       " 'csingle',\n",
       " 'ctypeslib',\n",
       " 'cumprod',\n",
       " 'cumproduct',\n",
       " 'cumsum',\n",
       " 'datetime64',\n",
       " 'datetime_as_string',\n",
       " 'datetime_data',\n",
       " 'deg2rad',\n",
       " 'degrees',\n",
       " 'delete',\n",
       " 'deprecate',\n",
       " 'deprecate_with_doc',\n",
       " 'diag',\n",
       " 'diag_indices',\n",
       " 'diag_indices_from',\n",
       " 'diagflat',\n",
       " 'diagonal',\n",
       " 'diff',\n",
       " 'digitize',\n",
       " 'disp',\n",
       " 'divide',\n",
       " 'divmod',\n",
       " 'dot',\n",
       " 'double',\n",
       " 'dsplit',\n",
       " 'dstack',\n",
       " 'dtype',\n",
       " 'e',\n",
       " 'ediff1d',\n",
       " 'einsum',\n",
       " 'einsum_path',\n",
       " 'emath',\n",
       " 'empty',\n",
       " 'empty_like',\n",
       " 'equal',\n",
       " 'errstate',\n",
       " 'euler_gamma',\n",
       " 'exp',\n",
       " 'exp2',\n",
       " 'expand_dims',\n",
       " 'expm1',\n",
       " 'extract',\n",
       " 'eye',\n",
       " 'fabs',\n",
       " 'fastCopyAndTranspose',\n",
       " 'fft',\n",
       " 'fill_diagonal',\n",
       " 'find_common_type',\n",
       " 'finfo',\n",
       " 'fix',\n",
       " 'flatiter',\n",
       " 'flatnonzero',\n",
       " 'flexible',\n",
       " 'flip',\n",
       " 'fliplr',\n",
       " 'flipud',\n",
       " 'float',\n",
       " 'float16',\n",
       " 'float32',\n",
       " 'float64',\n",
       " 'float_',\n",
       " 'float_power',\n",
       " 'floating',\n",
       " 'floor',\n",
       " 'floor_divide',\n",
       " 'fmax',\n",
       " 'fmin',\n",
       " 'fmod',\n",
       " 'format_float_positional',\n",
       " 'format_float_scientific',\n",
       " 'format_parser',\n",
       " 'frexp',\n",
       " 'frombuffer',\n",
       " 'fromfile',\n",
       " 'fromfunction',\n",
       " 'fromiter',\n",
       " 'frompyfunc',\n",
       " 'fromregex',\n",
       " 'fromstring',\n",
       " 'full',\n",
       " 'full_like',\n",
       " 'fv',\n",
       " 'gcd',\n",
       " 'generic',\n",
       " 'genfromtxt',\n",
       " 'geomspace',\n",
       " 'get_array_wrap',\n",
       " 'get_include',\n",
       " 'get_printoptions',\n",
       " 'getbufsize',\n",
       " 'geterr',\n",
       " 'geterrcall',\n",
       " 'geterrobj',\n",
       " 'gradient',\n",
       " 'greater',\n",
       " 'greater_equal',\n",
       " 'half',\n",
       " 'hamming',\n",
       " 'hanning',\n",
       " 'heaviside',\n",
       " 'histogram',\n",
       " 'histogram2d',\n",
       " 'histogram_bin_edges',\n",
       " 'histogramdd',\n",
       " 'hsplit',\n",
       " 'hstack',\n",
       " 'hypot',\n",
       " 'i0',\n",
       " 'identity',\n",
       " 'iinfo',\n",
       " 'imag',\n",
       " 'in1d',\n",
       " 'index_exp',\n",
       " 'indices',\n",
       " 'inexact',\n",
       " 'inf',\n",
       " 'info',\n",
       " 'infty',\n",
       " 'inner',\n",
       " 'insert',\n",
       " 'int',\n",
       " 'int0',\n",
       " 'int16',\n",
       " 'int32',\n",
       " 'int64',\n",
       " 'int8',\n",
       " 'int_',\n",
       " 'intc',\n",
       " 'integer',\n",
       " 'interp',\n",
       " 'intersect1d',\n",
       " 'intp',\n",
       " 'invert',\n",
       " 'ipmt',\n",
       " 'irr',\n",
       " 'is_busday',\n",
       " 'isclose',\n",
       " 'iscomplex',\n",
       " 'iscomplexobj',\n",
       " 'isfinite',\n",
       " 'isfortran',\n",
       " 'isin',\n",
       " 'isinf',\n",
       " 'isnan',\n",
       " 'isnat',\n",
       " 'isneginf',\n",
       " 'isposinf',\n",
       " 'isreal',\n",
       " 'isrealobj',\n",
       " 'isscalar',\n",
       " 'issctype',\n",
       " 'issubclass_',\n",
       " 'issubdtype',\n",
       " 'issubsctype',\n",
       " 'iterable',\n",
       " 'ix_',\n",
       " 'kaiser',\n",
       " 'kron',\n",
       " 'lcm',\n",
       " 'ldexp',\n",
       " 'left_shift',\n",
       " 'less',\n",
       " 'less_equal',\n",
       " 'lexsort',\n",
       " 'lib',\n",
       " 'linalg',\n",
       " 'linspace',\n",
       " 'little_endian',\n",
       " 'load',\n",
       " 'loads',\n",
       " 'loadtxt',\n",
       " 'log',\n",
       " 'log10',\n",
       " 'log1p',\n",
       " 'log2',\n",
       " 'logaddexp',\n",
       " 'logaddexp2',\n",
       " 'logical_and',\n",
       " 'logical_not',\n",
       " 'logical_or',\n",
       " 'logical_xor',\n",
       " 'logspace',\n",
       " 'long',\n",
       " 'longcomplex',\n",
       " 'longdouble',\n",
       " 'longfloat',\n",
       " 'longlong',\n",
       " 'lookfor',\n",
       " 'ma',\n",
       " 'mafromtxt',\n",
       " 'mask_indices',\n",
       " 'mat',\n",
       " 'math',\n",
       " 'matmul',\n",
       " 'matrix',\n",
       " 'matrixlib',\n",
       " 'max',\n",
       " 'maximum',\n",
       " 'maximum_sctype',\n",
       " 'may_share_memory',\n",
       " 'mean',\n",
       " 'median',\n",
       " 'memmap',\n",
       " 'meshgrid',\n",
       " 'mgrid',\n",
       " 'min',\n",
       " 'min_scalar_type',\n",
       " 'minimum',\n",
       " 'mintypecode',\n",
       " 'mirr',\n",
       " 'mod',\n",
       " 'modf',\n",
       " 'moveaxis',\n",
       " 'msort',\n",
       " 'multiply',\n",
       " 'nan',\n",
       " 'nan_to_num',\n",
       " 'nanargmax',\n",
       " 'nanargmin',\n",
       " 'nancumprod',\n",
       " 'nancumsum',\n",
       " 'nanmax',\n",
       " 'nanmean',\n",
       " 'nanmedian',\n",
       " 'nanmin',\n",
       " 'nanpercentile',\n",
       " 'nanprod',\n",
       " 'nanquantile',\n",
       " 'nanstd',\n",
       " 'nansum',\n",
       " 'nanvar',\n",
       " 'nbytes',\n",
       " 'ndarray',\n",
       " 'ndenumerate',\n",
       " 'ndfromtxt',\n",
       " 'ndim',\n",
       " 'ndindex',\n",
       " 'nditer',\n",
       " 'negative',\n",
       " 'nested_iters',\n",
       " 'newaxis',\n",
       " 'nextafter',\n",
       " 'nonzero',\n",
       " 'not_equal',\n",
       " 'nper',\n",
       " 'npv',\n",
       " 'numarray',\n",
       " 'number',\n",
       " 'obj2sctype',\n",
       " 'object',\n",
       " 'object0',\n",
       " 'object_',\n",
       " 'ogrid',\n",
       " 'oldnumeric',\n",
       " 'ones',\n",
       " 'ones_like',\n",
       " 'os',\n",
       " 'outer',\n",
       " 'packbits',\n",
       " 'pad',\n",
       " 'partition',\n",
       " 'percentile',\n",
       " 'pi',\n",
       " 'piecewise',\n",
       " 'place',\n",
       " 'pmt',\n",
       " 'poly',\n",
       " 'poly1d',\n",
       " 'polyadd',\n",
       " 'polyder',\n",
       " 'polydiv',\n",
       " 'polyfit',\n",
       " 'polyint',\n",
       " 'polymul',\n",
       " 'polynomial',\n",
       " 'polysub',\n",
       " 'polyval',\n",
       " 'positive',\n",
       " 'power',\n",
       " 'ppmt',\n",
       " 'printoptions',\n",
       " 'prod',\n",
       " 'product',\n",
       " 'promote_types',\n",
       " 'ptp',\n",
       " 'put',\n",
       " 'put_along_axis',\n",
       " 'putmask',\n",
       " 'pv',\n",
       " 'quantile',\n",
       " 'r_',\n",
       " 'rad2deg',\n",
       " 'radians',\n",
       " 'random',\n",
       " 'rate',\n",
       " 'ravel',\n",
       " 'ravel_multi_index',\n",
       " 'real',\n",
       " 'real_if_close',\n",
       " 'rec',\n",
       " 'recarray',\n",
       " 'recfromcsv',\n",
       " 'recfromtxt',\n",
       " 'reciprocal',\n",
       " 'record',\n",
       " 'remainder',\n",
       " 'repeat',\n",
       " 'require',\n",
       " 'reshape',\n",
       " 'resize',\n",
       " 'result_type',\n",
       " 'right_shift',\n",
       " 'rint',\n",
       " 'roll',\n",
       " 'rollaxis',\n",
       " 'roots',\n",
       " 'rot90',\n",
       " 'round',\n",
       " 'round_',\n",
       " 'row_stack',\n",
       " 's_',\n",
       " 'safe_eval',\n",
       " 'save',\n",
       " 'savetxt',\n",
       " 'savez',\n",
       " 'savez_compressed',\n",
       " 'sctype2char',\n",
       " 'sctypeDict',\n",
       " 'sctypeNA',\n",
       " 'sctypes',\n",
       " 'searchsorted',\n",
       " 'select',\n",
       " 'set_numeric_ops',\n",
       " 'set_printoptions',\n",
       " 'set_string_function',\n",
       " 'setbufsize',\n",
       " 'setdiff1d',\n",
       " 'seterr',\n",
       " 'seterrcall',\n",
       " 'seterrobj',\n",
       " 'setxor1d',\n",
       " 'shape',\n",
       " 'shares_memory',\n",
       " 'short',\n",
       " 'show_config',\n",
       " 'sign',\n",
       " 'signbit',\n",
       " 'signedinteger',\n",
       " 'sin',\n",
       " 'sinc',\n",
       " 'single',\n",
       " 'singlecomplex',\n",
       " 'sinh',\n",
       " 'size',\n",
       " 'sometrue',\n",
       " 'sort',\n",
       " 'sort_complex',\n",
       " 'source',\n",
       " 'spacing',\n",
       " 'split',\n",
       " 'sqrt',\n",
       " 'square',\n",
       " 'squeeze',\n",
       " 'stack',\n",
       " 'std',\n",
       " 'str',\n",
       " 'str0',\n",
       " 'str_',\n",
       " 'string_',\n",
       " 'subtract',\n",
       " 'sum',\n",
       " 'swapaxes',\n",
       " 'sys',\n",
       " 'take',\n",
       " 'take_along_axis',\n",
       " 'tan',\n",
       " 'tanh',\n",
       " 'tensordot',\n",
       " 'test',\n",
       " 'testing',\n",
       " 'tile',\n",
       " 'timedelta64',\n",
       " 'trace',\n",
       " 'tracemalloc_domain',\n",
       " 'transpose',\n",
       " 'trapz',\n",
       " 'tri',\n",
       " 'tril',\n",
       " 'tril_indices',\n",
       " 'tril_indices_from',\n",
       " 'trim_zeros',\n",
       " 'triu',\n",
       " 'triu_indices',\n",
       " 'triu_indices_from',\n",
       " 'true_divide',\n",
       " 'trunc',\n",
       " 'typeDict',\n",
       " 'typeNA',\n",
       " 'typecodes',\n",
       " 'typename',\n",
       " 'ubyte',\n",
       " 'ufunc',\n",
       " 'uint',\n",
       " 'uint0',\n",
       " 'uint16',\n",
       " 'uint32',\n",
       " 'uint64',\n",
       " 'uint8',\n",
       " 'uintc',\n",
       " 'uintp',\n",
       " 'ulonglong',\n",
       " 'unicode',\n",
       " 'unicode_',\n",
       " 'union1d',\n",
       " 'unique',\n",
       " 'unpackbits',\n",
       " 'unravel_index',\n",
       " 'unsignedinteger',\n",
       " 'unwrap',\n",
       " 'use_hugepage',\n",
       " 'ushort',\n",
       " 'vander',\n",
       " 'var',\n",
       " 'vdot',\n",
       " 'vectorize',\n",
       " 'version',\n",
       " 'void',\n",
       " 'void0',\n",
       " 'vsplit',\n",
       " 'vstack',\n",
       " 'warnings',\n",
       " 'where',\n",
       " 'who',\n",
       " 'zeros',\n",
       " 'zeros_like']"
      ]
     },
     "execution_count": 22,
     "metadata": {},
     "output_type": "execute_result"
    }
   ],
   "source": [
    "# import된 라이브러리(패키지) 내용을 살펴보는 경우 \n",
    "\n",
    "dir(np)"
   ]
  },
  {
   "cell_type": "code",
   "execution_count": null,
   "id": "f586fb42",
   "metadata": {},
   "outputs": [],
   "source": [
    "# 라이브러리에 포함된 함수 사용하기"
   ]
  },
  {
   "cell_type": "code",
   "execution_count": null,
   "id": "58ceb57e",
   "metadata": {},
   "outputs": [],
   "source": [
    "# numpy 모듈의 arange 함수\n",
    "#  [start, stop) 에서 step 의 크기만큼 일정하게 떨어져 있는 숫자들을 array 형태로 반환해 주는 함수\n",
    "# stop 매개변수의 값은 반드시 전달되어야 함.\n",
    "# start 는 step 은 꼭 전달되지 않아도 된다. \n",
    "# start 값이 전달되지 않으면 0 을 기본값으로 가진다."
   ]
  },
  {
   "cell_type": "code",
   "execution_count": 23,
   "id": "49b66e7a",
   "metadata": {},
   "outputs": [
    {
     "data": {
      "text/plain": [
       "array([0, 1, 2, 3, 4])"
      ]
     },
     "execution_count": 23,
     "metadata": {},
     "output_type": "execute_result"
    }
   ],
   "source": [
    "# import numpy as np :  numpy 모듈을 np 라는 별칭으로 import  하겠다는 의미\n",
    "\n",
    "import numpy as np\n",
    "\n",
    "# np.arange(5) 의 경우 stop 매개변수의 값만 전달되었으므로 [0, 5) \n",
    "np.arange(5)"
   ]
  },
  {
   "cell_type": "code",
   "execution_count": 25,
   "id": "82d3b735",
   "metadata": {},
   "outputs": [
    {
     "data": {
      "text/plain": [
       "array([0., 1., 2., 3., 4.])"
      ]
     },
     "execution_count": 25,
     "metadata": {},
     "output_type": "execute_result"
    }
   ],
   "source": [
    "# np.arange(5.0) 의 경우 \n",
    "# 전달된 stop 매개변수의 값 0.으로 부터 정수가 아닌 실수값임을 추론\n",
    "\n",
    "np.arange(5.0)\n",
    "\n"
   ]
  },
  {
   "cell_type": "code",
   "execution_count": 27,
   "id": "d08f7fbb",
   "metadata": {},
   "outputs": [
    {
     "data": {
      "text/plain": [
       "array([2, 3, 4, 5])"
      ]
     },
     "execution_count": 27,
     "metadata": {},
     "output_type": "execute_result"
    }
   ],
   "source": [
    "# np.arange(2, 6) 의 경우 \n",
    "# start=2, stop=6 이 주어진 경우\n",
    "# [2, 6) 에서 2를 시작으로 1 간격으로 떨어진 수들을 array의 형태로 반환\n",
    "\n",
    "np.arange(2,6)"
   ]
  },
  {
   "cell_type": "code",
   "execution_count": 30,
   "id": "cc6a9801",
   "metadata": {},
   "outputs": [
    {
     "data": {
      "text/plain": [
       "array([2, 4])"
      ]
     },
     "execution_count": 30,
     "metadata": {},
     "output_type": "execute_result"
    }
   ],
   "source": [
    "# np.arange(2, 5, 2) 의 경우 \n",
    "# start=2, stop=5, step=2 \n",
    "# [2, 5) 에서 2을 시작으로 2 간격으로 떨어진 수들을 array의 형태로 반환\n",
    "\n",
    "np.arange(2,5,2)"
   ]
  },
  {
   "cell_type": "code",
   "execution_count": null,
   "id": "0ac58c26",
   "metadata": {},
   "outputs": [],
   "source": [
    "# dtype 의 경우 결과로 반환되는 array 이의 type 을 지정할 때 사용\n",
    "# dtype 값이 주어지지 않는 경우 전달된 다른 매개 변수로부터 type 을 추론하게 된다."
   ]
  },
  {
   "cell_type": "code",
   "execution_count": null,
   "id": "2c0cb92a",
   "metadata": {},
   "outputs": [],
   "source": []
  },
  {
   "cell_type": "markdown",
   "id": "0524d1be",
   "metadata": {},
   "source": [
    "# 키워드(Keyword, 예약어)"
   ]
  },
  {
   "cell_type": "code",
   "execution_count": null,
   "id": "0e938b3f",
   "metadata": {},
   "outputs": [],
   "source": [
    "import keyword\n",
    "print(keyword.kwlist)"
   ]
  },
  {
   "cell_type": "code",
   "execution_count": null,
   "id": "634e0c96",
   "metadata": {},
   "outputs": [],
   "source": []
  },
  {
   "cell_type": "markdown",
   "id": "aa9b1116",
   "metadata": {},
   "source": [
    "# 사칙연산 연산자 사례"
   ]
  },
  {
   "cell_type": "code",
   "execution_count": null,
   "id": "8192d4bc",
   "metadata": {},
   "outputs": [],
   "source": [
    "# +, - , * , /"
   ]
  },
  {
   "cell_type": "code",
   "execution_count": 32,
   "id": "e41692e5",
   "metadata": {},
   "outputs": [
    {
     "data": {
      "text/plain": [
       "3"
      ]
     },
     "execution_count": 32,
     "metadata": {},
     "output_type": "execute_result"
    }
   ],
   "source": [
    "1+2"
   ]
  },
  {
   "cell_type": "code",
   "execution_count": 33,
   "id": "accbc79a",
   "metadata": {},
   "outputs": [
    {
     "name": "stdout",
     "output_type": "stream",
     "text": [
      "3\n"
     ]
    }
   ],
   "source": [
    "print(1 + 2)  # 계산결과를 출력합니다."
   ]
  },
  {
   "cell_type": "code",
   "execution_count": 34,
   "id": "605f5fc7",
   "metadata": {},
   "outputs": [
    {
     "data": {
      "text/plain": [
       "2"
      ]
     },
     "execution_count": 34,
     "metadata": {},
     "output_type": "execute_result"
    }
   ],
   "source": [
    "5-3"
   ]
  },
  {
   "cell_type": "code",
   "execution_count": 35,
   "id": "6e0413dc",
   "metadata": {},
   "outputs": [
    {
     "data": {
      "text/plain": [
       "2"
      ]
     },
     "execution_count": 35,
     "metadata": {},
     "output_type": "execute_result"
    }
   ],
   "source": [
    "1+2\n",
    "5-3"
   ]
  },
  {
   "cell_type": "code",
   "execution_count": 36,
   "id": "442d764d",
   "metadata": {},
   "outputs": [
    {
     "data": {
      "text/plain": [
       "15"
      ]
     },
     "execution_count": 36,
     "metadata": {},
     "output_type": "execute_result"
    }
   ],
   "source": [
    "5*3"
   ]
  },
  {
   "cell_type": "code",
   "execution_count": 37,
   "id": "25417818",
   "metadata": {},
   "outputs": [
    {
     "data": {
      "text/plain": [
       "2.0"
      ]
     },
     "execution_count": 37,
     "metadata": {},
     "output_type": "execute_result"
    }
   ],
   "source": [
    "6/3"
   ]
  },
  {
   "cell_type": "code",
   "execution_count": 38,
   "id": "7b0006ed",
   "metadata": {},
   "outputs": [
    {
     "data": {
      "text/plain": [
       "25"
      ]
     },
     "execution_count": 38,
     "metadata": {},
     "output_type": "execute_result"
    }
   ],
   "source": [
    "5**2"
   ]
  },
  {
   "cell_type": "code",
   "execution_count": 39,
   "id": "83f3400d",
   "metadata": {},
   "outputs": [
    {
     "data": {
      "text/plain": [
       "3.5"
      ]
     },
     "execution_count": 39,
     "metadata": {},
     "output_type": "execute_result"
    }
   ],
   "source": [
    "7/2"
   ]
  },
  {
   "cell_type": "code",
   "execution_count": 40,
   "id": "81a0a9d8",
   "metadata": {},
   "outputs": [
    {
     "data": {
      "text/plain": [
       "3"
      ]
     },
     "execution_count": 40,
     "metadata": {},
     "output_type": "execute_result"
    }
   ],
   "source": [
    "# //  : 나눗셈에서 몫만 \n",
    "7//2"
   ]
  },
  {
   "cell_type": "code",
   "execution_count": 42,
   "id": "f7ce3a82",
   "metadata": {},
   "outputs": [
    {
     "data": {
      "text/plain": [
       "1"
      ]
     },
     "execution_count": 42,
     "metadata": {},
     "output_type": "execute_result"
    }
   ],
   "source": [
    "# % : 나누기 연산 후 몫이 아닌 나머지를 구함\n",
    "7%2"
   ]
  },
  {
   "cell_type": "code",
   "execution_count": null,
   "id": "2f90e5eb",
   "metadata": {},
   "outputs": [],
   "source": [
    "#파이썬에서도 일반 수학의 연산 순서를 따른다. \n",
    "#곱셈과 나눗셈이 덧셈이나 뺄셈보다 먼저 연산"
   ]
  },
  {
   "cell_type": "code",
   "execution_count": 43,
   "id": "cf250574",
   "metadata": {},
   "outputs": [
    {
     "data": {
      "text/plain": [
       "8"
      ]
     },
     "execution_count": 43,
     "metadata": {},
     "output_type": "execute_result"
    }
   ],
   "source": [
    "2+3*2"
   ]
  },
  {
   "cell_type": "code",
   "execution_count": 44,
   "id": "9be5a896",
   "metadata": {},
   "outputs": [
    {
     "data": {
      "text/plain": [
       "13.0"
      ]
     },
     "execution_count": 44,
     "metadata": {},
     "output_type": "execute_result"
    }
   ],
   "source": [
    "10+6/2"
   ]
  },
  {
   "cell_type": "code",
   "execution_count": null,
   "id": "42668152",
   "metadata": {},
   "outputs": [],
   "source": [
    "# 괄호가 있으면 괄호안을 먼저 계산한다. "
   ]
  },
  {
   "cell_type": "code",
   "execution_count": 45,
   "id": "90dcba6c",
   "metadata": {},
   "outputs": [
    {
     "data": {
      "text/plain": [
       "2"
      ]
     },
     "execution_count": 45,
     "metadata": {},
     "output_type": "execute_result"
    }
   ],
   "source": [
    "10-(3*3-1)"
   ]
  },
  {
   "cell_type": "code",
   "execution_count": null,
   "id": "d3017988",
   "metadata": {},
   "outputs": [],
   "source": [
    "##부등식의 참과 거짓 계산¶True, False\n",
    "## 파이썬은 참과 거짓을 계산하는 부등식 연산도 가능"
   ]
  },
  {
   "cell_type": "code",
   "execution_count": null,
   "id": "a3d34b1c",
   "metadata": {},
   "outputs": [],
   "source": [
    "# 부등호 기호 : >  , <  "
   ]
  },
  {
   "cell_type": "code",
   "execution_count": 51,
   "id": "ea4d35e5",
   "metadata": {},
   "outputs": [
    {
     "data": {
      "text/plain": [
       "True"
      ]
     },
     "execution_count": 51,
     "metadata": {},
     "output_type": "execute_result"
    }
   ],
   "source": [
    "3 > 1"
   ]
  },
  {
   "cell_type": "code",
   "execution_count": 48,
   "id": "d19d040e",
   "metadata": {},
   "outputs": [
    {
     "data": {
      "text/plain": [
       "False"
      ]
     },
     "execution_count": 48,
     "metadata": {},
     "output_type": "execute_result"
    }
   ],
   "source": [
    "3 < 1"
   ]
  },
  {
   "cell_type": "code",
   "execution_count": 47,
   "id": "2eb74049",
   "metadata": {},
   "outputs": [
    {
     "data": {
      "text/plain": [
       "False"
      ]
     },
     "execution_count": 47,
     "metadata": {},
     "output_type": "execute_result"
    }
   ],
   "source": [
    "1 > 2"
   ]
  },
  {
   "cell_type": "code",
   "execution_count": null,
   "id": "8edbade0",
   "metadata": {},
   "outputs": [],
   "source": [
    "# 등호 기호 :  =="
   ]
  },
  {
   "cell_type": "code",
   "execution_count": 50,
   "id": "274b22e1",
   "metadata": {},
   "outputs": [
    {
     "data": {
      "text/plain": [
       "True"
      ]
     },
     "execution_count": 50,
     "metadata": {},
     "output_type": "execute_result"
    }
   ],
   "source": [
    "2 == 2"
   ]
  },
  {
   "cell_type": "code",
   "execution_count": null,
   "id": "499871aa",
   "metadata": {},
   "outputs": [],
   "source": [
    "# 같지 않다. !="
   ]
  },
  {
   "cell_type": "code",
   "execution_count": 52,
   "id": "253b5969",
   "metadata": {},
   "outputs": [
    {
     "data": {
      "text/plain": [
       "False"
      ]
     },
     "execution_count": 52,
     "metadata": {},
     "output_type": "execute_result"
    }
   ],
   "source": [
    "2 != 2 "
   ]
  },
  {
   "cell_type": "code",
   "execution_count": 53,
   "id": "ba63f0e4",
   "metadata": {},
   "outputs": [
    {
     "data": {
      "text/plain": [
       "True"
      ]
     },
     "execution_count": 53,
     "metadata": {},
     "output_type": "execute_result"
    }
   ],
   "source": [
    "2 != 3 "
   ]
  },
  {
   "cell_type": "code",
   "execution_count": 54,
   "id": "a969e2de",
   "metadata": {},
   "outputs": [
    {
     "data": {
      "text/plain": [
       "True"
      ]
     },
     "execution_count": 54,
     "metadata": {},
     "output_type": "execute_result"
    }
   ],
   "source": [
    "#2는 3보다 작거나 같다\n",
    "2 <= 3"
   ]
  },
  {
   "cell_type": "code",
   "execution_count": 56,
   "id": "2bbd30b0",
   "metadata": {},
   "outputs": [
    {
     "data": {
      "text/plain": [
       "False"
      ]
     },
     "execution_count": 56,
     "metadata": {},
     "output_type": "execute_result"
    }
   ],
   "source": [
    "#2는 3보다 크거나 같다\n",
    "2>=3"
   ]
  },
  {
   "cell_type": "markdown",
   "id": "7bca1f87",
   "metadata": {},
   "source": [
    "# 변수(variable) 할당하여 연산하기"
   ]
  },
  {
   "cell_type": "code",
   "execution_count": null,
   "id": "9db8004a",
   "metadata": {},
   "outputs": [],
   "source": [
    "# 변수명을 할당(지정)하여 사용하면 편리"
   ]
  },
  {
   "cell_type": "code",
   "execution_count": 57,
   "id": "0ab7b0e5",
   "metadata": {},
   "outputs": [
    {
     "data": {
      "text/plain": [
       "8"
      ]
     },
     "execution_count": 57,
     "metadata": {},
     "output_type": "execute_result"
    }
   ],
   "source": [
    "a=3\n",
    "b=5\n",
    "a+b"
   ]
  },
  {
   "cell_type": "code",
   "execution_count": 58,
   "id": "e9f38368",
   "metadata": {},
   "outputs": [
    {
     "name": "stdout",
     "output_type": "stream",
     "text": [
      "2\n"
     ]
    }
   ],
   "source": [
    "print(b-a)"
   ]
  },
  {
   "cell_type": "code",
   "execution_count": 59,
   "id": "ded656f9",
   "metadata": {},
   "outputs": [
    {
     "name": "stdout",
     "output_type": "stream",
     "text": [
      "-2\n"
     ]
    }
   ],
   "source": [
    "print( a - b )"
   ]
  },
  {
   "cell_type": "code",
   "execution_count": 60,
   "id": "be9ab361",
   "metadata": {},
   "outputs": [
    {
     "name": "stdout",
     "output_type": "stream",
     "text": [
      "0.6\n"
     ]
    }
   ],
   "source": [
    "print(a/b)"
   ]
  },
  {
   "cell_type": "code",
   "execution_count": 61,
   "id": "31f2a556",
   "metadata": {},
   "outputs": [
    {
     "data": {
      "text/plain": [
       "9765625"
      ]
     },
     "execution_count": 61,
     "metadata": {},
     "output_type": "execute_result"
    }
   ],
   "source": [
    "b**10"
   ]
  },
  {
   "cell_type": "code",
   "execution_count": null,
   "id": "6253dd4c",
   "metadata": {},
   "outputs": [],
   "source": []
  }
 ],
 "metadata": {
  "kernelspec": {
   "display_name": "Python 3 (ipykernel)",
   "language": "python",
   "name": "python3"
  },
  "language_info": {
   "codemirror_mode": {
    "name": "ipython",
    "version": 3
   },
   "file_extension": ".py",
   "mimetype": "text/x-python",
   "name": "python",
   "nbconvert_exporter": "python",
   "pygments_lexer": "ipython3",
   "version": "3.9.6"
  }
 },
 "nbformat": 4,
 "nbformat_minor": 5
}
