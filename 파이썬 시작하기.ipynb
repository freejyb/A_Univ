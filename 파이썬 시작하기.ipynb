{
 "cells": [
  {
   "cell_type": "markdown",
   "metadata": {},
   "source": [
    "# 데이터분석을 위한 파이썬 기초"
   ]
  },
  {
   "cell_type": "markdown",
   "metadata": {},
   "source": [
    "## print 하기"
   ]
  },
  {
   "cell_type": "code",
   "execution_count": null,
   "metadata": {},
   "outputs": [],
   "source": [
    "# 문자열을 출력합니다.\n",
    "print('Hello Python!')  "
   ]
  },
  {
   "cell_type": "code",
   "execution_count": null,
   "metadata": {},
   "outputs": [],
   "source": [
    "# 숫자를 출력합니다.\n",
    "print(12345)  "
   ]
  },
  {
   "cell_type": "code",
   "execution_count": null,
   "metadata": {},
   "outputs": [],
   "source": [
    "print(1)"
   ]
  },
  {
   "cell_type": "code",
   "execution_count": 9,
   "metadata": {},
   "outputs": [
    {
     "name": "stdout",
     "output_type": "stream",
     "text": [
      "[1, 2, 3]\n"
     ]
    }
   ],
   "source": [
    "print([1, 2, 3])"
   ]
  },
  {
   "cell_type": "markdown",
   "metadata": {},
   "source": [
    "## input "
   ]
  },
  {
   "cell_type": "code",
   "execution_count": 63,
   "metadata": {},
   "outputs": [
    {
     "name": "stdout",
     "output_type": "stream",
     "text": [
      "What is your name?jyb\n"
     ]
    }
   ],
   "source": [
    "name = input('What is your name?')"
   ]
  },
  {
   "cell_type": "code",
   "execution_count": null,
   "metadata": {},
   "outputs": [],
   "source": [
    "pip list"
   ]
  },
  {
   "cell_type": "code",
   "execution_count": null,
   "metadata": {},
   "outputs": [],
   "source": []
  },
  {
   "cell_type": "markdown",
   "metadata": {},
   "source": [
    "## 객체지향프로그래밍 비교실습"
   ]
  },
  {
   "cell_type": "markdown",
   "metadata": {},
   "source": [
    "##객체지향방식으로 구현하지 않은 경우"
   ]
  },
  {
   "cell_type": "code",
   "execution_count": 15,
   "metadata": {},
   "outputs": [
    {
     "name": "stdout",
     "output_type": "stream",
     "text": [
      "200\n"
     ]
    }
   ],
   "source": [
    "# 사각형(Rectangle)면적에서 만약 가로h = 10, 세로v = 20인 경우를 가정해보자\n",
    "\n",
    "def area(h, v):\n",
    "    return h * v\n",
    "\n",
    "a = area(10, 20)\n",
    "print(a)"
   ]
  },
  {
   "cell_type": "markdown",
   "metadata": {},
   "source": [
    "##객체지향으로 구현하는 경우"
   ]
  },
  {
   "cell_type": "code",
   "execution_count": 16,
   "metadata": {},
   "outputs": [],
   "source": [
    "# 위에 경우사각형의 면적을 계산하는 함수 area()는 제각기 떨어져 있다. \n",
    "# 객체 지향 프로그래밍에서는 이 세가지를 하나의 객체(object)로 묶을 수 있다.\n",
    "#  __init__이라는 메서드 : 파이썬에서 특별하게 약속된 메서드 --> 컨스트럭터라고 불리는 초기화(initialize)를 위한 메서드\n",
    "# 객체화(인스턴스화)를 실시할 때 반드시 처음에 호출되는 특수한 함수라고 이해하면 됨.\n",
    "\n",
    "\n",
    "# --> 어떤 클래스의 객체가 만들어질 때 자동으로 호출되어서 그 객체가 갖게 될 여러 가지 성질을 정해주는 일을 함.\n",
    "\n",
    "# -->  클래스를 이용한다면 기본적으로 작성 :  def __init__(self,something):\n",
    "# self : \"메소드의 임의의 인수\"등 다양하게 부르고 있었다. \n",
    "#--> 클래스의 구성을 취득할 때에 정형의 구문으로 사용\n",
    "\n",
    "#소멸자(destructor) 메소드 : 파이썬에서는 __del__ 메서드가 소멸자의 역할을 함.\n",
    "\n",
    "\n",
    "class Rectangle(object):\n",
    "    \n",
    "    def __init__(self, h, v): \n",
    "        self.h = h\n",
    "        self.v = v\n",
    "        \n",
    "    def area(self):\n",
    "        return self.h * self.v\n"
   ]
  },
  {
   "cell_type": "code",
   "execution_count": null,
   "metadata": {},
   "outputs": [],
   "source": [
    "## 클래스 구성을 사용하는 메리트는 다음과 같다고 할 수 있다.\n",
    "# 글로벌 변수를 없애고, 모든 변수를 어떠한 스코프에 소속시킨다.\n",
    "# 몇 번이고 재사용 가능\n",
    "# 코드의 수정을 최소화\n",
    "# 함수 실행중에, 함수 자신을 다시 호출하는 처리 등이 가능\n",
    "\n"
   ]
  },
  {
   "cell_type": "code",
   "execution_count": 17,
   "metadata": {},
   "outputs": [
    {
     "name": "stdout",
     "output_type": "stream",
     "text": [
      "200\n"
     ]
    }
   ],
   "source": [
    "r = Rectangle(10, 20)    \n",
    "a = r.area()\n",
    "print(a)\n",
    "\n",
    "# 객체 r은 사각형의 가로 길이와 세로 길이를 나타내는 변수 h와 v 그리고 면적을 계산하는 함수 area()가 합쳐져서 만들어진 것\n",
    "\n",
    "# Rectangle은 클래스이고,  r은 Rectangle 클래스로 만들어진 객체(object)"
   ]
  },
  {
   "cell_type": "code",
   "execution_count": 18,
   "metadata": {},
   "outputs": [
    {
     "data": {
      "text/plain": [
       "10"
      ]
     },
     "execution_count": 18,
     "metadata": {},
     "output_type": "execute_result"
    }
   ],
   "source": [
    "# 객체 r에 포함된 이 변수들과 함수, 즉 속성을 꺼내려면 객체 이름 뒤에 점(.)을 붙인 다음 속성 이름을 입력 \n",
    "r.h"
   ]
  },
  {
   "cell_type": "code",
   "execution_count": 19,
   "metadata": {},
   "outputs": [
    {
     "data": {
      "text/plain": [
       "20"
      ]
     },
     "execution_count": 19,
     "metadata": {},
     "output_type": "execute_result"
    }
   ],
   "source": [
    "r.v"
   ]
  },
  {
   "cell_type": "code",
   "execution_count": 20,
   "metadata": {},
   "outputs": [
    {
     "data": {
      "text/plain": [
       "200"
      ]
     },
     "execution_count": 20,
     "metadata": {},
     "output_type": "execute_result"
    }
   ],
   "source": [
    "r.area()"
   ]
  },
  {
   "cell_type": "code",
   "execution_count": null,
   "metadata": {},
   "outputs": [],
   "source": [
    "# 위에 사례에서 정해진 속성, 즉, 가로 길이 h와 세로 길이 v라는 속성을 가지도록 사각형 클래스를 한 번 만들어 놓으면 \n",
    "#이 속성을 가지는 실제 사각형은 얼마든지 많이 만들 수 있다."
   ]
  },
  {
   "cell_type": "code",
   "execution_count": 21,
   "metadata": {},
   "outputs": [
    {
     "name": "stdout",
     "output_type": "stream",
     "text": [
      "2\n",
      "12\n",
      "30\n",
      "56\n",
      "90\n"
     ]
    }
   ],
   "source": [
    "a = Rectangle(1, 2)   # 가로 1, 세로 2인 사각형\n",
    "b = Rectangle(3, 4)   # 가로 3, 세로 4인 사각형\n",
    "c = Rectangle(5, 6)   # 가로 5, 세로 6인 사각형\n",
    "d = Rectangle(7, 8)   # 가로 7, 세로 8인 사각형\n",
    "e = Rectangle(9, 10)   # 가로 9, 세로 10인 사각형\n",
    "\n",
    "#사각형 면적을 구해보면\n",
    "print(a.area())\n",
    "print(b.area())\n",
    "print(c.area())\n",
    "print(d.area())\n",
    "print(e.area())"
   ]
  },
  {
   "cell_type": "code",
   "execution_count": null,
   "metadata": {},
   "outputs": [],
   "source": []
  },
  {
   "cell_type": "markdown",
   "metadata": {},
   "source": [
    "#  함수"
   ]
  },
  {
   "cell_type": "code",
   "execution_count": 12,
   "metadata": {},
   "outputs": [
    {
     "name": "stdout",
     "output_type": "stream",
     "text": [
      "5\n"
     ]
    }
   ],
   "source": [
    "def add(a, b):\n",
    "    x=a+b\n",
    "    return x\n",
    "y= add(2,3)\n",
    "print(y)"
   ]
  },
  {
   "cell_type": "code",
   "execution_count": null,
   "metadata": {},
   "outputs": [],
   "source": []
  },
  {
   "cell_type": "code",
   "execution_count": null,
   "metadata": {},
   "outputs": [],
   "source": []
  },
  {
   "cell_type": "markdown",
   "metadata": {},
   "source": [
    "##  라이브러리 보기/설치"
   ]
  },
  {
   "cell_type": "code",
   "execution_count": null,
   "metadata": {},
   "outputs": [],
   "source": [
    "# 라이브러리가 왜 필요?"
   ]
  },
  {
   "cell_type": "code",
   "execution_count": 1,
   "metadata": {},
   "outputs": [
    {
     "data": {
      "text/plain": [
       "200"
      ]
     },
     "execution_count": 1,
     "metadata": {},
     "output_type": "execute_result"
    }
   ],
   "source": [
    "100*2"
   ]
  },
  {
   "cell_type": "code",
   "execution_count": 2,
   "metadata": {},
   "outputs": [
    {
     "ename": "NameError",
     "evalue": "name 'log' is not defined",
     "output_type": "error",
     "traceback": [
      "\u001b[1;31m---------------------------------------------------------------------------\u001b[0m",
      "\u001b[1;31mNameError\u001b[0m                                 Traceback (most recent call last)",
      "\u001b[1;32m~\\AppData\\Local\\Temp/ipykernel_12100/697466879.py\u001b[0m in \u001b[0;36m<module>\u001b[1;34m\u001b[0m\n\u001b[1;32m----> 1\u001b[1;33m \u001b[0mlog\u001b[0m\u001b[1;33m(\u001b[0m\u001b[1;36m10\u001b[0m\u001b[1;33m)\u001b[0m\u001b[1;33m\u001b[0m\u001b[1;33m\u001b[0m\u001b[0m\n\u001b[0m",
      "\u001b[1;31mNameError\u001b[0m: name 'log' is not defined"
     ]
    }
   ],
   "source": [
    "log(10)"
   ]
  },
  {
   "cell_type": "code",
   "execution_count": 3,
   "metadata": {
    "scrolled": true
   },
   "outputs": [
    {
     "data": {
      "text/plain": [
       "2.302585092994046"
      ]
     },
     "execution_count": 3,
     "metadata": {},
     "output_type": "execute_result"
    }
   ],
   "source": [
    "import math\n",
    "math.log(10)"
   ]
  },
  {
   "cell_type": "code",
   "execution_count": 6,
   "metadata": {},
   "outputs": [],
   "source": [
    "from math import *  # 스타임포트 방식(한꺼번에 임포트함. 이름공간과 관련된 모호성 문제)"
   ]
  },
  {
   "cell_type": "code",
   "execution_count": 8,
   "metadata": {},
   "outputs": [
    {
     "data": {
      "text/plain": [
       "2.302585092994046"
      ]
     },
     "execution_count": 8,
     "metadata": {},
     "output_type": "execute_result"
    }
   ],
   "source": [
    "log(10)"
   ]
  },
  {
   "cell_type": "code",
   "execution_count": null,
   "metadata": {},
   "outputs": [],
   "source": [
    "# 설치 라이브러리 보기"
   ]
  },
  {
   "cell_type": "code",
   "execution_count": 12,
   "metadata": {},
   "outputs": [
    {
     "name": "stdout",
     "output_type": "stream",
     "text": [
      "Package                 Version\n",
      "----------------------- -------------------\n",
      "absl-py                 0.13.0\n",
      "ansi2html               1.6.0\n",
      "argon2-cffi             20.1.0\n",
      "astunparse              1.6.3\n",
      "async-generator         1.10\n",
      "attrs                   21.2.0\n",
      "backcall                0.2.0\n",
      "beautifulsoup4          4.9.3\n",
      "bleach                  3.3.0\n",
      "Brotli                  1.0.9\n",
      "bs4                     0.0.1\n",
      "cachetools              4.2.2\n",
      "certifi                 2021.5.30\n",
      "cffi                    1.14.6\n",
      "charset-normalizer      2.0.1\n",
      "chart-studio            1.1.0\n",
      "click                   8.0.1\n",
      "colorama                0.4.4\n",
      "convertdate             2.3.2\n",
      "cycler                  0.10.0\n",
      "Cython                  0.29.24\n",
      "dash                    1.21.0\n",
      "dash-core-components    1.17.1\n",
      "dash-html-components    1.1.4\n",
      "dash-table              4.12.0\n",
      "DateTime                4.3\n",
      "debugpy                 1.3.0\n",
      "decorator               5.0.9\n",
      "defusedxml              0.7.1\n",
      "Deprecated              1.2.12\n",
      "entrypoints             0.3\n",
      "ephem                   4.0.0.2\n",
      "Note: you may need to restart the kernel to use updated packages.finance-datareader      0.9.31\n",
      "Flask                   2.0.1\n",
      "Flask-Compress          1.10.1\n",
      "flatbuffers             1.12\n",
      "fredapi                 0.4.3\n",
      "\n",
      "fsspec                  2021.8.1\n"
     ]
    },
    {
     "name": "stderr",
     "output_type": "stream",
     "text": [
      "WARNING: You are using pip version 21.1.3; however, version 21.2.4 is available.\n",
      "You should consider upgrading via the 'c:\\users\\jyb\\appdata\\local\\programs\\python\\python39\\python.exe -m pip install --upgrade pip' command.\n"
     ]
    },
    {
     "name": "stdout",
     "output_type": "stream",
     "text": [
      "future                  0.18.2\n",
      "gast                    0.4.0\n",
      "google-auth             1.33.1\n",
      "google-auth-oauthlib    0.4.4\n",
      "google-pasta            0.2.0\n",
      "grpcio                  1.34.1\n",
      "h5py                    3.1.0\n",
      "hijri-converter         2.1.3\n",
      "html5lib                1.1\n",
      "idna                    3.2\n",
      "ipykernel               6.0.1\n",
      "ipython                 7.25.0\n",
      "ipython-genutils        0.2.0\n",
      "ipywidgets              7.6.4\n",
      "itsdangerous            2.0.1\n",
      "jedi                    0.18.0\n",
      "Jinja2                  3.0.1\n",
      "joblib                  1.0.1\n",
      "jsonschema              3.2.0\n",
      "jupyter                 1.0.0\n",
      "jupyter-client          6.1.12\n",
      "jupyter-console         6.4.0\n",
      "jupyter-core            4.7.1\n",
      "jupyter-dash            0.4.0\n",
      "jupyterlab-pygments     0.1.2\n",
      "jupyterlab-widgets      1.0.1\n",
      "keras-nightly           2.5.0.dev2021032900\n",
      "Keras-Preprocessing     1.1.2\n",
      "kiwisolver              1.3.1\n",
      "korean-lunar-calendar   0.2.1\n",
      "lxml                    4.6.3\n",
      "Markdown                3.3.4\n",
      "MarkupSafe              2.0.1\n",
      "matplotlib              3.4.2\n",
      "matplotlib-inline       0.1.2\n",
      "mistune                 0.8.4\n",
      "multitasking            0.0.9\n",
      "nbclient                0.5.3\n",
      "nbconvert               6.1.0\n",
      "nbformat                5.1.3\n",
      "nest-asyncio            1.5.1\n",
      "notebook                6.4.0\n",
      "numpy                   1.19.5\n",
      "oauthlib                3.1.1\n",
      "OpenDartReader          0.1.1\n",
      "opt-einsum              3.3.0\n",
      "packaging               21.0\n",
      "pandas                  1.3.0\n",
      "pandas-datareader       0.10.0\n",
      "pandocfilters           1.4.3\n",
      "parso                   0.8.2\n",
      "patsy                   0.5.1\n",
      "pickleshare             0.7.5\n",
      "Pillow                  8.3.1\n",
      "pip                     21.1.3\n",
      "plotly                  5.1.0\n",
      "plotly-express          0.4.1\n",
      "prometheus-client       0.11.0\n",
      "prompt-toolkit          3.0.19\n",
      "protobuf                3.17.3\n",
      "pyasn1                  0.4.8\n",
      "pyasn1-modules          0.2.8\n",
      "pycparser               2.20\n",
      "Pygments                2.9.0\n",
      "pykrx                   1.0.17\n",
      "PyMeeus                 0.5.11\n",
      "pyparsing               2.4.7\n",
      "pyrsistent              0.18.0\n",
      "python-dateutil         2.8.1\n",
      "pytz                    2021.1\n",
      "pywin32                 301\n",
      "pywinpty                1.1.3\n",
      "pyzmq                   22.1.0\n",
      "qtconsole               5.1.1\n",
      "QtPy                    1.11.0\n",
      "requests                2.26.0\n",
      "requests-file           1.5.1\n",
      "requests-oauthlib       1.3.0\n",
      "retrying                1.3.3\n",
      "rsa                     4.7.2\n",
      "scikit-learn            0.24.2\n",
      "scipy                   1.7.0\n",
      "seaborn                 0.11.1\n",
      "Send2Trash              1.7.1\n",
      "setuptools              56.0.0\n",
      "setuptools-git          1.2\n",
      "six                     1.15.0\n",
      "sklearn                 0.0\n",
      "soupsieve               2.2.1\n",
      "statsmodels             0.12.2\n",
      "tenacity                8.0.1\n",
      "tensorboard             2.5.0\n",
      "tensorboard-data-server 0.6.1\n",
      "tensorboard-plugin-wit  1.8.0\n",
      "tensorflow              2.5.0\n",
      "tensorflow-estimator    2.5.0\n",
      "termcolor               1.1.0\n",
      "terminado               0.10.1\n",
      "testpath                0.5.0\n",
      "threadpoolctl           2.2.0\n",
      "tornado                 6.1\n",
      "tqdm                    4.61.2\n",
      "traitlets               5.0.5\n",
      "typing-extensions       3.7.4.3\n",
      "ujson                   4.0.2\n",
      "urllib3                 1.26.6\n",
      "wcwidth                 0.2.5\n",
      "webencodings            0.5.1\n",
      "Werkzeug                2.0.1\n",
      "wheel                   0.36.2\n",
      "widgetsnbextension      3.5.1\n",
      "wrapt                   1.12.1\n",
      "xlrd                    2.0.1\n",
      "yahoofinancials         1.6\n",
      "yfinance                0.1.63\n",
      "zope.interface          5.4.0\n"
     ]
    }
   ],
   "source": [
    "pip list"
   ]
  },
  {
   "cell_type": "code",
   "execution_count": null,
   "metadata": {},
   "outputs": [],
   "source": [
    "# 라이브러리 설치"
   ]
  },
  {
   "cell_type": "code",
   "execution_count": null,
   "metadata": {},
   "outputs": [],
   "source": [
    "pip install pandas"
   ]
  },
  {
   "cell_type": "code",
   "execution_count": null,
   "metadata": {},
   "outputs": [],
   "source": [
    "import keyword\n",
    "print(keyword.kwlist)"
   ]
  },
  {
   "cell_type": "code",
   "execution_count": null,
   "metadata": {},
   "outputs": [],
   "source": []
  },
  {
   "cell_type": "markdown",
   "metadata": {},
   "source": [
    "## 주석 내용 입력해보기"
   ]
  },
  {
   "cell_type": "code",
   "execution_count": 16,
   "metadata": {},
   "outputs": [
    {
     "name": "stdout",
     "output_type": "stream",
     "text": [
      "안산대학교\n"
     ]
    }
   ],
   "source": [
    "print(\"안산대학교\")"
   ]
  },
  {
   "cell_type": "code",
   "execution_count": 17,
   "metadata": {},
   "outputs": [],
   "source": [
    "# print(\"안산대학교\")"
   ]
  },
  {
   "cell_type": "code",
   "execution_count": null,
   "metadata": {},
   "outputs": [],
   "source": [
    "import keyword\n",
    "help(keyword)"
   ]
  },
  {
   "cell_type": "markdown",
   "metadata": {},
   "source": [
    "## 출력하기"
   ]
  },
  {
   "cell_type": "code",
   "execution_count": 36,
   "metadata": {},
   "outputs": [
    {
     "name": "stdout",
     "output_type": "stream",
     "text": [
      "hello world\n"
     ]
    }
   ],
   "source": [
    "print(\"hello world\")\n"
   ]
  },
  {
   "cell_type": "code",
   "execution_count": 37,
   "metadata": {},
   "outputs": [
    {
     "name": "stdout",
     "output_type": "stream",
     "text": [
      "안산대학교\n"
     ]
    }
   ],
   "source": [
    "print(\"안산대학교\")"
   ]
  },
  {
   "cell_type": "markdown",
   "metadata": {},
   "source": [
    "## 키워드(Keyword, 예약어"
   ]
  },
  {
   "cell_type": "code",
   "execution_count": 38,
   "metadata": {},
   "outputs": [
    {
     "name": "stdout",
     "output_type": "stream",
     "text": [
      "['False', 'None', 'True', '__peg_parser__', 'and', 'as', 'assert', 'async', 'await', 'break', 'class', 'continue', 'def', 'del', 'elif', 'else', 'except', 'finally', 'for', 'from', 'global', 'if', 'import', 'in', 'is', 'lambda', 'nonlocal', 'not', 'or', 'pass', 'raise', 'return', 'try', 'while', 'with', 'yield']\n"
     ]
    }
   ],
   "source": [
    "import keyword\n",
    "print(keyword.kwlist)"
   ]
  },
  {
   "cell_type": "markdown",
   "metadata": {},
   "source": [
    "## 내장함수(Built-in Functions) 실습"
   ]
  },
  {
   "cell_type": "code",
   "execution_count": 41,
   "metadata": {},
   "outputs": [
    {
     "data": {
      "text/plain": [
       "3"
      ]
     },
     "execution_count": 41,
     "metadata": {},
     "output_type": "execute_result"
    }
   ],
   "source": [
    "#최대값\n",
    "max(1,2,3)"
   ]
  },
  {
   "cell_type": "code",
   "execution_count": 42,
   "metadata": {},
   "outputs": [
    {
     "data": {
      "text/plain": [
       "1"
      ]
     },
     "execution_count": 42,
     "metadata": {},
     "output_type": "execute_result"
    }
   ],
   "source": [
    "# 최소값\n",
    "min(1,2,3)\n"
   ]
  },
  {
   "cell_type": "code",
   "execution_count": 43,
   "metadata": {},
   "outputs": [
    {
     "data": {
      "text/plain": [
       "2"
      ]
     },
     "execution_count": 43,
     "metadata": {},
     "output_type": "execute_result"
    }
   ],
   "source": [
    "#절대값\n",
    "abs(-2)\n"
   ]
  },
  {
   "cell_type": "code",
   "execution_count": 44,
   "metadata": {},
   "outputs": [
    {
     "data": {
      "text/plain": [
       "8.0"
      ]
     },
     "execution_count": 44,
     "metadata": {},
     "output_type": "execute_result"
    }
   ],
   "source": [
    "# 승\n",
    "pow(2,3)"
   ]
  },
  {
   "cell_type": "code",
   "execution_count": null,
   "metadata": {},
   "outputs": [],
   "source": []
  },
  {
   "cell_type": "markdown",
   "metadata": {},
   "source": [
    "## 사칙연산 연산자 사례"
   ]
  },
  {
   "cell_type": "code",
   "execution_count": null,
   "metadata": {},
   "outputs": [],
   "source": [
    "1+2"
   ]
  },
  {
   "cell_type": "code",
   "execution_count": null,
   "metadata": {},
   "outputs": [],
   "source": [
    "print(1 + 2)  # 계산결과를 출력합니다."
   ]
  },
  {
   "cell_type": "code",
   "execution_count": null,
   "metadata": {},
   "outputs": [],
   "source": [
    "5-3"
   ]
  },
  {
   "cell_type": "code",
   "execution_count": 68,
   "metadata": {},
   "outputs": [
    {
     "data": {
      "text/plain": [
       "2"
      ]
     },
     "execution_count": 68,
     "metadata": {},
     "output_type": "execute_result"
    }
   ],
   "source": [
    "1+2\n",
    "5-3\n"
   ]
  },
  {
   "cell_type": "code",
   "execution_count": 19,
   "metadata": {},
   "outputs": [
    {
     "data": {
      "text/plain": [
       "15"
      ]
     },
     "execution_count": 19,
     "metadata": {},
     "output_type": "execute_result"
    }
   ],
   "source": [
    "5*3"
   ]
  },
  {
   "cell_type": "code",
   "execution_count": 20,
   "metadata": {},
   "outputs": [
    {
     "data": {
      "text/plain": [
       "2.0"
      ]
     },
     "execution_count": 20,
     "metadata": {},
     "output_type": "execute_result"
    }
   ],
   "source": [
    "6/3"
   ]
  },
  {
   "cell_type": "code",
   "execution_count": null,
   "metadata": {},
   "outputs": [],
   "source": [
    "#파이썬에서도 일반 수학의 연산 순서를 따른다. \n",
    "#곱셈과 나눗셈이 덧셈이나 뺄셈보다 먼저 연산"
   ]
  },
  {
   "cell_type": "code",
   "execution_count": 18,
   "metadata": {},
   "outputs": [
    {
     "data": {
      "text/plain": [
       "8"
      ]
     },
     "execution_count": 18,
     "metadata": {},
     "output_type": "execute_result"
    }
   ],
   "source": [
    "2+3*2"
   ]
  },
  {
   "cell_type": "code",
   "execution_count": null,
   "metadata": {},
   "outputs": [],
   "source": [
    "# 괄호가 있으면 괄호안을 먼저 계산한다. "
   ]
  },
  {
   "cell_type": "code",
   "execution_count": 21,
   "metadata": {},
   "outputs": [
    {
     "data": {
      "text/plain": [
       "2"
      ]
     },
     "execution_count": 21,
     "metadata": {},
     "output_type": "execute_result"
    }
   ],
   "source": [
    "10-(3*3-1)"
   ]
  },
  {
   "cell_type": "code",
   "execution_count": null,
   "metadata": {},
   "outputs": [],
   "source": [
    "##부등식의 참과 거짓 계산¶True, False\n",
    "## 파이썬은 참과 거짓을 계산하는 부등식 연산도 가능"
   ]
  },
  {
   "cell_type": "code",
   "execution_count": 23,
   "metadata": {},
   "outputs": [
    {
     "data": {
      "text/plain": [
       "True"
      ]
     },
     "execution_count": 23,
     "metadata": {},
     "output_type": "execute_result"
    }
   ],
   "source": [
    "3 > 1"
   ]
  },
  {
   "cell_type": "code",
   "execution_count": 25,
   "metadata": {},
   "outputs": [
    {
     "data": {
      "text/plain": [
       "False"
      ]
     },
     "execution_count": 25,
     "metadata": {},
     "output_type": "execute_result"
    }
   ],
   "source": [
    "1 > 2"
   ]
  },
  {
   "cell_type": "code",
   "execution_count": 26,
   "metadata": {},
   "outputs": [
    {
     "data": {
      "text/plain": [
       "True"
      ]
     },
     "execution_count": 26,
     "metadata": {},
     "output_type": "execute_result"
    }
   ],
   "source": [
    "2 == 2 # 등호 기호는 =="
   ]
  },
  {
   "cell_type": "code",
   "execution_count": 27,
   "metadata": {},
   "outputs": [
    {
     "data": {
      "text/plain": [
       "True"
      ]
     },
     "execution_count": 27,
     "metadata": {},
     "output_type": "execute_result"
    }
   ],
   "source": [
    "# 같지 않다. !=\n",
    "2 != 1 "
   ]
  },
  {
   "cell_type": "code",
   "execution_count": 28,
   "metadata": {},
   "outputs": [
    {
     "data": {
      "text/plain": [
       "True"
      ]
     },
     "execution_count": 28,
     "metadata": {},
     "output_type": "execute_result"
    }
   ],
   "source": [
    "#2는 3보다 작거나 같다\n",
    "2 <= 3"
   ]
  },
  {
   "cell_type": "code",
   "execution_count": null,
   "metadata": {},
   "outputs": [],
   "source": [
    "#2는 3보다 크거나 같다"
   ]
  },
  {
   "cell_type": "code",
   "execution_count": 29,
   "metadata": {},
   "outputs": [
    {
     "data": {
      "text/plain": [
       "False"
      ]
     },
     "execution_count": 29,
     "metadata": {},
     "output_type": "execute_result"
    }
   ],
   "source": [
    "2>=3"
   ]
  },
  {
   "cell_type": "code",
   "execution_count": null,
   "metadata": {},
   "outputs": [],
   "source": []
  },
  {
   "cell_type": "code",
   "execution_count": null,
   "metadata": {},
   "outputs": [],
   "source": [
    "## 부울리언 대수(Boolean algebra) 연산\n",
    "\n",
    "# &  :  (AND) 연산은 두 값이 모두 참일 때만 답이 참이 된다. 즉, 하나라도 거짓이면 --> False\n",
    "\n",
    "# |  :  (OR) 연산은 두 값이 모두 거짓일 때만 답이 거짓이 된다. 즉, 하나라도 참이면 --> True"
   ]
  },
  {
   "cell_type": "code",
   "execution_count": 30,
   "metadata": {},
   "outputs": [
    {
     "data": {
      "text/plain": [
       "True"
      ]
     },
     "execution_count": 30,
     "metadata": {},
     "output_type": "execute_result"
    }
   ],
   "source": [
    " True & True"
   ]
  },
  {
   "cell_type": "code",
   "execution_count": 31,
   "metadata": {},
   "outputs": [
    {
     "data": {
      "text/plain": [
       "False"
      ]
     },
     "execution_count": 31,
     "metadata": {},
     "output_type": "execute_result"
    }
   ],
   "source": [
    "True & False"
   ]
  },
  {
   "cell_type": "code",
   "execution_count": 32,
   "metadata": {},
   "outputs": [
    {
     "data": {
      "text/plain": [
       "False"
      ]
     },
     "execution_count": 32,
     "metadata": {},
     "output_type": "execute_result"
    }
   ],
   "source": [
    "False & False"
   ]
  },
  {
   "cell_type": "code",
   "execution_count": 33,
   "metadata": {},
   "outputs": [
    {
     "data": {
      "text/plain": [
       "True"
      ]
     },
     "execution_count": 33,
     "metadata": {},
     "output_type": "execute_result"
    }
   ],
   "source": [
    "True | True"
   ]
  },
  {
   "cell_type": "code",
   "execution_count": 34,
   "metadata": {},
   "outputs": [
    {
     "data": {
      "text/plain": [
       "True"
      ]
     },
     "execution_count": 34,
     "metadata": {},
     "output_type": "execute_result"
    }
   ],
   "source": [
    "True | False"
   ]
  },
  {
   "cell_type": "code",
   "execution_count": 35,
   "metadata": {},
   "outputs": [
    {
     "data": {
      "text/plain": [
       "False"
      ]
     },
     "execution_count": 35,
     "metadata": {},
     "output_type": "execute_result"
    }
   ],
   "source": [
    "False | False"
   ]
  },
  {
   "cell_type": "code",
   "execution_count": null,
   "metadata": {},
   "outputs": [],
   "source": []
  },
  {
   "cell_type": "code",
   "execution_count": null,
   "metadata": {},
   "outputs": [],
   "source": []
  },
  {
   "cell_type": "markdown",
   "metadata": {},
   "source": [
    "## 변수(variable) 할당하여 연산자"
   ]
  },
  {
   "cell_type": "code",
   "execution_count": null,
   "metadata": {},
   "outputs": [],
   "source": [
    "a=1\n",
    "b=2\n",
    "a+b"
   ]
  },
  {
   "cell_type": "code",
   "execution_count": null,
   "metadata": {},
   "outputs": [],
   "source": [
    "a = 1\n",
    "b = 2\n",
    "print( a + b ) "
   ]
  },
  {
   "cell_type": "code",
   "execution_count": null,
   "metadata": {},
   "outputs": [],
   "source": [
    "a = 1\n",
    "b = 2\n",
    "print( a + b ) \n",
    "\n",
    "\n",
    "print(b-a)"
   ]
  },
  {
   "cell_type": "code",
   "execution_count": null,
   "metadata": {},
   "outputs": [],
   "source": [
    "a-b"
   ]
  },
  {
   "cell_type": "code",
   "execution_count": null,
   "metadata": {},
   "outputs": [],
   "source": [
    "a = 1\n",
    "b = 2\n",
    "print( a - b )"
   ]
  },
  {
   "cell_type": "code",
   "execution_count": null,
   "metadata": {},
   "outputs": [],
   "source": [
    "a/b"
   ]
  },
  {
   "cell_type": "code",
   "execution_count": null,
   "metadata": {},
   "outputs": [],
   "source": [
    "print(a/b)"
   ]
  },
  {
   "cell_type": "code",
   "execution_count": null,
   "metadata": {},
   "outputs": [],
   "source": [
    "a*b"
   ]
  },
  {
   "cell_type": "code",
   "execution_count": null,
   "metadata": {},
   "outputs": [],
   "source": [
    "b**10"
   ]
  },
  {
   "cell_type": "code",
   "execution_count": null,
   "metadata": {},
   "outputs": [],
   "source": [
    "2**10"
   ]
  },
  {
   "cell_type": "code",
   "execution_count": null,
   "metadata": {},
   "outputs": [],
   "source": [
    "10/10\n"
   ]
  },
  {
   "cell_type": "code",
   "execution_count": null,
   "metadata": {},
   "outputs": [],
   "source": [
    "10/3"
   ]
  },
  {
   "cell_type": "code",
   "execution_count": null,
   "metadata": {},
   "outputs": [],
   "source": [
    "10//3"
   ]
  },
  {
   "cell_type": "code",
   "execution_count": null,
   "metadata": {},
   "outputs": [],
   "source": [
    "10%3"
   ]
  },
  {
   "cell_type": "code",
   "execution_count": null,
   "metadata": {},
   "outputs": [],
   "source": []
  },
  {
   "cell_type": "markdown",
   "metadata": {},
   "source": [
    "## 자료형 : 숫자형, 문자형"
   ]
  },
  {
   "cell_type": "code",
   "execution_count": 45,
   "metadata": {},
   "outputs": [
    {
     "data": {
      "text/plain": [
       "int"
      ]
     },
     "execution_count": 45,
     "metadata": {},
     "output_type": "execute_result"
    }
   ],
   "source": [
    "#정수형변수(integer)\n",
    "a=1\n",
    "type(a)\n"
   ]
  },
  {
   "cell_type": "code",
   "execution_count": 47,
   "metadata": {},
   "outputs": [
    {
     "data": {
      "text/plain": [
       "float"
      ]
     },
     "execution_count": 47,
     "metadata": {},
     "output_type": "execute_result"
    }
   ],
   "source": [
    "b=1.55\n",
    "type(b)\n"
   ]
  },
  {
   "cell_type": "code",
   "execution_count": 55,
   "metadata": {},
   "outputs": [
    {
     "data": {
      "text/plain": [
       "1"
      ]
     },
     "execution_count": 55,
     "metadata": {},
     "output_type": "execute_result"
    }
   ],
   "source": [
    "# 실수를 정수로 변환 \n",
    "int(1.2)\n"
   ]
  },
  {
   "cell_type": "code",
   "execution_count": 54,
   "metadata": {},
   "outputs": [
    {
     "data": {
      "text/plain": [
       "5.0"
      ]
     },
     "execution_count": 54,
     "metadata": {},
     "output_type": "execute_result"
    }
   ],
   "source": [
    "# 정수를 실수로 변환\n",
    "float(5)"
   ]
  },
  {
   "cell_type": "code",
   "execution_count": null,
   "metadata": {},
   "outputs": [],
   "source": []
  },
  {
   "cell_type": "code",
   "execution_count": 48,
   "metadata": {},
   "outputs": [
    {
     "data": {
      "text/plain": [
       "complex"
      ]
     },
     "execution_count": 48,
     "metadata": {},
     "output_type": "execute_result"
    }
   ],
   "source": [
    "#복소수형변수\n",
    "c=1+2j\n",
    "type(c)\n"
   ]
  },
  {
   "cell_type": "code",
   "execution_count": 49,
   "metadata": {},
   "outputs": [
    {
     "name": "stdout",
     "output_type": "stream",
     "text": [
      "(3+2j) <class 'complex'>\n",
      "3.0 2.0\n",
      "(3-2j)\n"
     ]
    }
   ],
   "source": [
    "var_comp = 3+2j\n",
    "print(var_comp, type(var_comp))\n",
    "\n",
    "print(var_comp.real, var_comp.imag)\n",
    "print(var_comp.conjugate())"
   ]
  },
  {
   "cell_type": "code",
   "execution_count": 46,
   "metadata": {},
   "outputs": [
    {
     "data": {
      "text/plain": [
       "str"
      ]
     },
     "execution_count": 46,
     "metadata": {},
     "output_type": "execute_result"
    }
   ],
   "source": [
    "##문자열(String): 문자와 단어 등으로 구성된 문자들의 집합을 의미\n",
    "# 큰따옴표, 작은따옴표 모두 가능\n",
    "a = \"Hello Python\" \n",
    "type(a)"
   ]
  },
  {
   "cell_type": "code",
   "execution_count": 57,
   "metadata": {},
   "outputs": [
    {
     "data": {
      "text/plain": [
       "str"
      ]
     },
     "execution_count": 57,
     "metadata": {},
     "output_type": "execute_result"
    }
   ],
   "source": [
    "a = \"Hello Python\" \n",
    "type(a)"
   ]
  },
  {
   "cell_type": "code",
   "execution_count": 56,
   "metadata": {},
   "outputs": [
    {
     "data": {
      "text/plain": [
       "str"
      ]
     },
     "execution_count": 56,
     "metadata": {},
     "output_type": "execute_result"
    }
   ],
   "source": [
    "a = 'Hello Python'\n",
    "type(a)"
   ]
  },
  {
   "cell_type": "code",
   "execution_count": 58,
   "metadata": {},
   "outputs": [
    {
     "name": "stdout",
     "output_type": "stream",
     "text": [
      "Hello Python\n"
     ]
    }
   ],
   "source": [
    "##문자형\n",
    "a = \"Hello Python\" \n",
    "print(a)"
   ]
  },
  {
   "cell_type": "code",
   "execution_count": 59,
   "metadata": {},
   "outputs": [
    {
     "name": "stdout",
     "output_type": "stream",
     "text": [
      "Hello Python\n"
     ]
    }
   ],
   "source": [
    "##문자형\n",
    "a = 'Hello Python' \n",
    "print(a)"
   ]
  },
  {
   "cell_type": "code",
   "execution_count": null,
   "metadata": {},
   "outputs": [],
   "source": [
    "#문자형\n",
    "a = \"안산대학교금융정보학과\"\n",
    "type(a)\n"
   ]
  },
  {
   "cell_type": "code",
   "execution_count": null,
   "metadata": {},
   "outputs": [],
   "source": [
    "#문자형\n",
    "a = \"안산대학교금융정보학과\"\n",
    "print(a)"
   ]
  },
  {
   "cell_type": "code",
   "execution_count": null,
   "metadata": {},
   "outputs": [],
   "source": [
    "#문자형\n",
    "a = \"안산대학교 금융정보학과\"\n",
    "print(a)"
   ]
  },
  {
   "cell_type": "code",
   "execution_count": null,
   "metadata": {},
   "outputs": [],
   "source": [
    "##문자열 따옴표를 출력하기¶\n",
    "#파이썬에서 두 가지 종류(큰, 작은)의  쓸 수 있는 것운 문자열이 따옴표를 포함하는 경우가 있기 때문이다. \n",
    "#만약 따옴표로 둘러싸인 문자열에 따옴표가 포함되어 있다면 파이썬은 그 부분에서 문자열이 끝난다고 인식하여 오류가 발생 \n",
    "# 이처럼 문자열 안에 따옴표는 필요한 경우 큰따옴표, 작은따옴표 따로 작성"
   ]
  },
  {
   "cell_type": "code",
   "execution_count": 61,
   "metadata": {},
   "outputs": [
    {
     "name": "stdout",
     "output_type": "stream",
     "text": [
      "학교앞에서 누군가가  \"금융정보과 학생여러분! 화이팅하세요\" 라고 외치고 있었다\n"
     ]
    }
   ],
   "source": [
    "print('학교앞에서 누군가가  \"금융정보과 학생여러분! 화이팅하세요\" 라고 외치고 있었다')"
   ]
  },
  {
   "cell_type": "code",
   "execution_count": null,
   "metadata": {},
   "outputs": [],
   "source": [
    "# 문자열 치환\n",
    "# 문자열에서 특정 문자를 다른 문자로 바꾸려면 replace 메서드 사용\n"
   ]
  },
  {
   "cell_type": "code",
   "execution_count": 62,
   "metadata": {},
   "outputs": [
    {
     "data": {
      "text/plain": [
       "'2021-10-17'"
      ]
     },
     "execution_count": 62,
     "metadata": {},
     "output_type": "execute_result"
    }
   ],
   "source": [
    "\"2021.10.17\".replace(\".\", \"-\")"
   ]
  },
  {
   "cell_type": "code",
   "execution_count": null,
   "metadata": {},
   "outputs": [],
   "source": []
  },
  {
   "cell_type": "code",
   "execution_count": null,
   "metadata": {},
   "outputs": [],
   "source": []
  },
  {
   "cell_type": "code",
   "execution_count": null,
   "metadata": {},
   "outputs": [],
   "source": [
    "## 문자열의 길이 확인 \n",
    "loc=\"ansan\"\n",
    "len(loc)\n"
   ]
  },
  {
   "cell_type": "code",
   "execution_count": null,
   "metadata": {},
   "outputs": [],
   "source": [
    "## index[ ] \n",
    "#인덱스 2를 찾아보기\n",
    "loc=\"ansan\" \n",
    "loc[2]\n"
   ]
  },
  {
   "cell_type": "code",
   "execution_count": 2,
   "metadata": {},
   "outputs": [
    {
     "data": {
      "text/plain": [
       "'an'"
      ]
     },
     "execution_count": 2,
     "metadata": {},
     "output_type": "execute_result"
    }
   ],
   "source": [
    "## slice[:] \n",
    "loc=\"ansan\" \n",
    "loc[0:2]\n",
    "\n"
   ]
  },
  {
   "cell_type": "code",
   "execution_count": null,
   "metadata": {},
   "outputs": [],
   "source": [
    "## slice[:] \n",
    "loc=\"ansan\"\n",
    "loc[:] \n"
   ]
  },
  {
   "cell_type": "code",
   "execution_count": 3,
   "metadata": {},
   "outputs": [
    {
     "data": {
      "text/plain": [
       "'an'"
      ]
     },
     "execution_count": 3,
     "metadata": {},
     "output_type": "execute_result"
    }
   ],
   "source": [
    "## slice[:] \n",
    "loc=\"ansan\"\n",
    "loc[3:]"
   ]
  },
  {
   "cell_type": "code",
   "execution_count": 6,
   "metadata": {},
   "outputs": [
    {
     "data": {
      "text/plain": [
       "['ansan', 'univ']"
      ]
     },
     "execution_count": 6,
     "metadata": {},
     "output_type": "execute_result"
    }
   ],
   "source": [
    "loc2=\"ansan univ\" \n",
    "loc2.split()\n"
   ]
  },
  {
   "cell_type": "code",
   "execution_count": null,
   "metadata": {},
   "outputs": [],
   "source": []
  },
  {
   "cell_type": "markdown",
   "metadata": {},
   "source": [
    "## list 생성하기"
   ]
  },
  {
   "cell_type": "markdown",
   "metadata": {},
   "source": [
    "## 데이터 구조 : 리스트, 튜플, 딕셔너리"
   ]
  },
  {
   "cell_type": "code",
   "execution_count": null,
   "metadata": {},
   "outputs": [],
   "source": [
    "# 리스트(list)"
   ]
  },
  {
   "cell_type": "code",
   "execution_count": 7,
   "metadata": {},
   "outputs": [
    {
     "name": "stdout",
     "output_type": "stream",
     "text": [
      "[1, 2, 3, 4, 5]\n"
     ]
    },
    {
     "data": {
      "text/plain": [
       "list"
      ]
     },
     "execution_count": 7,
     "metadata": {},
     "output_type": "execute_result"
    }
   ],
   "source": [
    "## 리스트 생성 \n",
    "# 대괄호 사용 주의 []\n",
    "num=[1,2,3,4,5] \n",
    "print(num)\n",
    "type(num)\n"
   ]
  },
  {
   "cell_type": "code",
   "execution_count": 9,
   "metadata": {},
   "outputs": [
    {
     "name": "stdout",
     "output_type": "stream",
     "text": [
      "['one', 'two', 'three', 'four']\n"
     ]
    },
    {
     "data": {
      "text/plain": [
       "list"
      ]
     },
     "execution_count": 9,
     "metadata": {},
     "output_type": "execute_result"
    }
   ],
   "source": [
    "number=['one','two','three','four']\n",
    "print(number)\n",
    "type(number)"
   ]
  },
  {
   "cell_type": "code",
   "execution_count": 23,
   "metadata": {},
   "outputs": [
    {
     "data": {
      "text/plain": [
       "'two'"
      ]
     },
     "execution_count": 23,
     "metadata": {},
     "output_type": "execute_result"
    }
   ],
   "source": [
    "## 특정값 찾기 index[ ]\n",
    "num=['one','two','three','four'] \n",
    "num[1]"
   ]
  },
  {
   "cell_type": "code",
   "execution_count": 22,
   "metadata": {},
   "outputs": [
    {
     "data": {
      "text/plain": [
       "['three', 'four']"
      ]
     },
     "execution_count": 22,
     "metadata": {},
     "output_type": "execute_result"
    }
   ],
   "source": [
    "## 특정값 찾기  slice[:] \n",
    "num=['one','two','three','four'] \n",
    "num[2:4]"
   ]
  },
  {
   "cell_type": "code",
   "execution_count": 26,
   "metadata": {},
   "outputs": [
    {
     "name": "stdout",
     "output_type": "stream",
     "text": [
      "['one', 'two', 'three', 'four', 'five']\n"
     ]
    }
   ],
   "source": [
    "## 리스트값에 추가 append( ) \n",
    "number=['one','two','three','four'] \n",
    "number.append('five') \n",
    "print(number)\n"
   ]
  },
  {
   "cell_type": "code",
   "execution_count": 28,
   "metadata": {},
   "outputs": [
    {
     "name": "stdout",
     "output_type": "stream",
     "text": [
      "['one', 'three', 'four']\n"
     ]
    }
   ],
   "source": [
    "## 리스트값 중 일부 삭제 del \n",
    "number=['one','two','three','four'] \n",
    "del number[1] \n",
    "print(number)\n"
   ]
  },
  {
   "cell_type": "code",
   "execution_count": 29,
   "metadata": {},
   "outputs": [
    {
     "name": "stdout",
     "output_type": "stream",
     "text": [
      "['one', 'four']\n"
     ]
    }
   ],
   "source": [
    "## 리스트 값에  remove( ) \n",
    "number.remove('three')\n",
    "print(number)\n"
   ]
  },
  {
   "cell_type": "code",
   "execution_count": 30,
   "metadata": {},
   "outputs": [
    {
     "name": "stdout",
     "output_type": "stream",
     "text": [
      "['one', 'two', 'three', 'four', 'six', 'seven', 'eight', 'nine']\n"
     ]
    }
   ],
   "source": [
    "## 2개의 리스트를 병합하는 경우 extend( ) \n",
    "number1=['one','two','three','four'] \n",
    "number2=['six','seven','eight','nine'] \n",
    "number1.extend(number2) \n",
    "print(number1)\n"
   ]
  },
  {
   "cell_type": "code",
   "execution_count": 33,
   "metadata": {},
   "outputs": [
    {
     "name": "stdout",
     "output_type": "stream",
     "text": [
      "['six', 'seven', 'eight', 'nine', 'one', 'two', 'three', 'four']\n"
     ]
    }
   ],
   "source": [
    "## 2개의 리스트를 병합하는 경우.순서가 반대 extend( ) \n",
    "number1=['one','two','three','four']\n",
    "number2=['six','seven','eight','nine'] \n",
    "number2.extend(number1) \n",
    "print(number2)\n"
   ]
  },
  {
   "cell_type": "code",
   "execution_count": 36,
   "metadata": {},
   "outputs": [
    {
     "name": "stdout",
     "output_type": "stream",
     "text": [
      "['four', 'one', 'three', 'two']\n"
     ]
    }
   ],
   "source": [
    "## 정렬하기 sort( ) 는 알파벳순서로 정렬하기 \n",
    "number=['one','two','three','four'] \n",
    "number.sort() \n",
    "print(number)\n"
   ]
  },
  {
   "cell_type": "code",
   "execution_count": 37,
   "metadata": {},
   "outputs": [
    {
     "name": "stdout",
     "output_type": "stream",
     "text": [
      "['four', 'one', 'three', 'two']\n"
     ]
    }
   ],
   "source": [
    "## 정렬하기 sorted( ) \n",
    "number=['one','two','three','four'] \n",
    "newnumber=sorted(number) \n",
    "print(newnumber)\n",
    "\n"
   ]
  },
  {
   "cell_type": "code",
   "execution_count": 38,
   "metadata": {},
   "outputs": [
    {
     "name": "stdout",
     "output_type": "stream",
     "text": [
      "['four', 'one', 'three', 'two']\n",
      "['one', 'two', 'three', 'four']\n"
     ]
    }
   ],
   "source": [
    "## 정렬하기 sorted( ) \n",
    "number=['one','two','three','four'] \n",
    "newnumber=sorted(number) \n",
    "print(newnumber) \n",
    "print(number)\n"
   ]
  },
  {
   "cell_type": "code",
   "execution_count": 39,
   "metadata": {},
   "outputs": [
    {
     "name": "stdout",
     "output_type": "stream",
     "text": [
      "[4, 3, 2, 1]\n"
     ]
    }
   ],
   "source": [
    "## sort(reverse=True) \n",
    "number=[1,2,3,4] \n",
    "number.sort(reverse=True) \n",
    "print(number)\n"
   ]
  },
  {
   "cell_type": "code",
   "execution_count": 44,
   "metadata": {},
   "outputs": [
    {
     "data": {
      "text/plain": [
       "4"
      ]
     },
     "execution_count": 44,
     "metadata": {},
     "output_type": "execute_result"
    }
   ],
   "source": [
    "##리스트 항목개수 확인  len( ) \n",
    "number=['one','two','three','four'] \n",
    "len(number)\n"
   ]
  },
  {
   "cell_type": "markdown",
   "metadata": {},
   "source": [
    "## Python Tuple\n"
   ]
  },
  {
   "cell_type": "code",
   "execution_count": 46,
   "metadata": {},
   "outputs": [
    {
     "name": "stdout",
     "output_type": "stream",
     "text": [
      "(1, 2, 3, 4)\n"
     ]
    },
    {
     "data": {
      "text/plain": [
       "tuple"
      ]
     },
     "execution_count": 46,
     "metadata": {},
     "output_type": "execute_result"
    }
   ],
   "source": [
    "## tuple( ) 리스트와 다르게 소괄호()로 만든다.\n",
    "\n",
    "number=(1,2,3,4) \n",
    "print(number)\n",
    "type(number)\n"
   ]
  },
  {
   "cell_type": "markdown",
   "metadata": {},
   "source": [
    "## 리스트 구조로 변환"
   ]
  },
  {
   "cell_type": "code",
   "execution_count": 47,
   "metadata": {},
   "outputs": [
    {
     "name": "stdout",
     "output_type": "stream",
     "text": [
      "('one', 'two', 'three', 'four')\n"
     ]
    },
    {
     "data": {
      "text/plain": [
       "['one', 'two', 'three', 'four']"
      ]
     },
     "execution_count": 47,
     "metadata": {},
     "output_type": "execute_result"
    }
   ],
   "source": [
    "number_tuple=('one','two','three','four')\n",
    "print(number_tuple)\n",
    "list(number_tuple)"
   ]
  },
  {
   "cell_type": "markdown",
   "metadata": {},
   "source": [
    "## 특정 값 찾기 index[ ], slice [ : ]"
   ]
  },
  {
   "cell_type": "code",
   "execution_count": null,
   "metadata": {},
   "outputs": [],
   "source": [
    "number=['one','two','three','four']\n",
    "number[1]"
   ]
  },
  {
   "cell_type": "code",
   "execution_count": null,
   "metadata": {},
   "outputs": [],
   "source": [
    "number=['one','two','three','four']\n",
    "number[2:4]"
   ]
  },
  {
   "cell_type": "markdown",
   "metadata": {},
   "source": [
    "## 특정 값 변환 index[ ]\n",
    "index를 활용하여 리스트값을 변환"
   ]
  },
  {
   "cell_type": "code",
   "execution_count": null,
   "metadata": {},
   "outputs": [],
   "source": [
    "number=['one','two','three','four']\n",
    "number[0]='first'\n",
    "print(number)"
   ]
  },
  {
   "cell_type": "markdown",
   "metadata": {},
   "source": [
    "## 리스트 값 추가와 삭제 append( ), del, remove( )\n"
   ]
  },
  {
   "cell_type": "code",
   "execution_count": null,
   "metadata": {},
   "outputs": [],
   "source": [
    "## append( )\n",
    "number=['one','two','three','four']\n",
    "number.append('five')\n",
    "print(number)"
   ]
  },
  {
   "cell_type": "code",
   "execution_count": null,
   "metadata": {},
   "outputs": [],
   "source": [
    "## remove\n",
    "number=['one','two','three','four']\n",
    "number.remove('one')\n",
    "print(number)"
   ]
  },
  {
   "cell_type": "code",
   "execution_count": null,
   "metadata": {},
   "outputs": [],
   "source": [
    "## del\n",
    "number=['one','two','three','four']\n",
    "# 파이썬에서 index 는 1이 처음 시작이 아니라 0으로 시작한다는 것이 특징이다.\n",
    "# 문자열 slice 에서와 마찬가지로 setp 을 이용하여 [::2] 일경우 처음부터 마지막까지 2칸식 항목을 추출하는 방법등을 사용할 수 있다.Python 초급 빅데이터 교육 콘텐츠\n",
    "del number[1]\n",
    "print(number)"
   ]
  },
  {
   "cell_type": "code",
   "execution_count": null,
   "metadata": {},
   "outputs": [],
   "source": [
    "## extend( )\n",
    "number1=['one','two','three','four']\n",
    "number2=['six','seven','eight','nine']\n",
    "number1.extend(number2)\n",
    "print(number1)"
   ]
  },
  {
   "cell_type": "code",
   "execution_count": null,
   "metadata": {},
   "outputs": [],
   "source": [
    "## extend( )\n",
    "number1=['one','two','three','four']\n",
    "number2=['six','seven','eight','nine']\n",
    "number2.extend(number1)\n",
    "print(number2)"
   ]
  },
  {
   "cell_type": "code",
   "execution_count": null,
   "metadata": {},
   "outputs": [],
   "source": []
  },
  {
   "cell_type": "markdown",
   "metadata": {},
   "source": [
    "## Python Dictionary"
   ]
  },
  {
   "cell_type": "code",
   "execution_count": 48,
   "metadata": {},
   "outputs": [
    {
     "name": "stdout",
     "output_type": "stream",
     "text": [
      "{'apple': 3500, 'peer': 2500, 'cherry': 5000}\n"
     ]
    }
   ],
   "source": [
    "## 딕셔너리 생성은 중괄호 { } 를 사용하고, 요소가 여러개인 경우 콤마(,)로 구분\n",
    "\n",
    "fruit_price = {'apple' : 3500, 'peer' : 2500, 'cherry' : 5000} \n",
    "print(fruit_price)\n"
   ]
  },
  {
   "cell_type": "code",
   "execution_count": 51,
   "metadata": {},
   "outputs": [
    {
     "name": "stdout",
     "output_type": "stream",
     "text": [
      "{'apple': 3500, 'peer': 2500, 'cherry': 5000}\n"
     ]
    },
    {
     "data": {
      "text/plain": [
       "dict"
      ]
     },
     "execution_count": 51,
     "metadata": {},
     "output_type": "execute_result"
    }
   ],
   "source": [
    "fruit_price = {'apple' : 3500, 'peer' : 2500, 'cherry' : 5000} \n",
    "print(fruit_price)\n",
    "type(fruit_price)"
   ]
  },
  {
   "cell_type": "code",
   "execution_count": 53,
   "metadata": {},
   "outputs": [
    {
     "name": "stdout",
     "output_type": "stream",
     "text": [
      "{1: ['mina', 'jane', 'mark'], 2: ['peter', 'pay', 'parker'], 3: ['pay', 'joy', 'conan']}\n"
     ]
    },
    {
     "data": {
      "text/plain": [
       "dict"
      ]
     },
     "execution_count": 53,
     "metadata": {},
     "output_type": "execute_result"
    }
   ],
   "source": [
    "## 리스트를 활용한 딕셔너리 생성 { } \n",
    "school_class = {1: ['mina','jane','mark'], 2 : ['peter','pay','parker'], 3 : ['pay','joy','conan'] } \n",
    "print(school_class)\n",
    "type(school_class)"
   ]
  },
  {
   "cell_type": "code",
   "execution_count": 54,
   "metadata": {},
   "outputs": [
    {
     "name": "stdout",
     "output_type": "stream",
     "text": [
      "{'apple': 3500, 'peer': 2500, 'cherry': 5000}\n"
     ]
    }
   ],
   "source": [
    "## 다른 데이터 구조를 딕셔너리형으로 변환 dict( ) \n",
    "fruit_price =[['apple',3500],['peer',2500],['cherry',5000]] \n",
    "fruit_price=dict(fruit_price) \n",
    "print(fruit_price)\n"
   ]
  },
  {
   "cell_type": "code",
   "execution_count": 55,
   "metadata": {},
   "outputs": [
    {
     "data": {
      "text/plain": [
       "dict_keys([1, 2, 3])"
      ]
     },
     "execution_count": 55,
     "metadata": {},
     "output_type": "execute_result"
    }
   ],
   "source": [
    "# 키 반환하기 keys( ) \n",
    "school_class = {1: ['mina','jane','mark'], 2 : ['peter','pay','parker'], 3 : ['pay','joy','conan'] } \n",
    "school_class.keys()\n"
   ]
  },
  {
   "cell_type": "code",
   "execution_count": 56,
   "metadata": {},
   "outputs": [
    {
     "data": {
      "text/plain": [
       "2500"
      ]
     },
     "execution_count": 56,
     "metadata": {},
     "output_type": "execute_result"
    }
   ],
   "source": [
    "## 항목 반환하기 index( ) \n",
    "fruit_price = {'apple' : 3500, 'peer' : 2500, 'cherry' : 5000} \n",
    "fruit_price['peer']\n"
   ]
  },
  {
   "cell_type": "code",
   "execution_count": 57,
   "metadata": {},
   "outputs": [
    {
     "name": "stdout",
     "output_type": "stream",
     "text": [
      "{'apple': 3500, 'peer': 2500, 'cherry': 5000, 'banana': 3200, 'grape': 2000}\n"
     ]
    }
   ],
   "source": [
    "## 딕셔너리 병합 update( ) \n",
    "fruit_price = {'apple' : 3500, 'peer' : 2500, 'cherry' : 5000} \n",
    "others = {'banana':3200,'grape':2000} \n",
    "fruit_price.update(others) \n",
    "print(fruit_price)\n"
   ]
  },
  {
   "cell_type": "code",
   "execution_count": 59,
   "metadata": {},
   "outputs": [
    {
     "name": "stdout",
     "output_type": "stream",
     "text": [
      "{'peer': 2500, 'cherry': 5000}\n"
     ]
    }
   ],
   "source": [
    "## 일부 삭제하기 del \n",
    "fruit_price = {'apple' : 3500, 'peer' : 2500, 'cherry' : 5000} \n",
    "del fruit_price['apple'] \n",
    "print(fruit_price)\n"
   ]
  },
  {
   "cell_type": "markdown",
   "metadata": {},
   "source": [
    "## 세트(set)"
   ]
  },
  {
   "cell_type": "code",
   "execution_count": 62,
   "metadata": {},
   "outputs": [
    {
     "data": {
      "text/plain": [
       "set"
      ]
     },
     "execution_count": 62,
     "metadata": {},
     "output_type": "execute_result"
    }
   ],
   "source": [
    "#집합은 중괄호 사용{}\n",
    "A={1,2,3,4,5}\n",
    "B={3,4,5,6,7,8}\n",
    "type(A)\n"
   ]
  },
  {
   "cell_type": "code",
   "execution_count": 63,
   "metadata": {},
   "outputs": [
    {
     "data": {
      "text/plain": [
       "{1, 2, 3, 4, 5, 6, 7, 8}"
      ]
     },
     "execution_count": 63,
     "metadata": {},
     "output_type": "execute_result"
    }
   ],
   "source": [
    "#합집합  A|B\n",
    "#합집합 A.union(B)도 가능\n",
    "A={1,2,3,4,5}\n",
    "B={3,4,5,6,7,8}\n",
    "A|B\n"
   ]
  },
  {
   "cell_type": "code",
   "execution_count": 65,
   "metadata": {},
   "outputs": [
    {
     "data": {
      "text/plain": [
       "{1, 2, 3, 4, 5, 6, 7, 8}"
      ]
     },
     "execution_count": 65,
     "metadata": {},
     "output_type": "execute_result"
    }
   ],
   "source": [
    "A={1,2,3,4,5}\n",
    "B={3,4,5,6,7,8}\n",
    "A.union(B)"
   ]
  },
  {
   "cell_type": "code",
   "execution_count": 64,
   "metadata": {},
   "outputs": [
    {
     "data": {
      "text/plain": [
       "{3, 4, 5}"
      ]
     },
     "execution_count": 64,
     "metadata": {},
     "output_type": "execute_result"
    }
   ],
   "source": [
    "#교집합  A&B\n",
    "# 교집합 A.intersection(B)도 가능\n",
    "A={1,2,3,4,5}\n",
    "B={3,4,5,6,7,8}\n",
    "A&B\n"
   ]
  },
  {
   "cell_type": "code",
   "execution_count": 66,
   "metadata": {},
   "outputs": [
    {
     "data": {
      "text/plain": [
       "{3, 4, 5}"
      ]
     },
     "execution_count": 66,
     "metadata": {},
     "output_type": "execute_result"
    }
   ],
   "source": [
    "#교집합\n",
    "A={1,2,3,4,5}\n",
    "B={3,4,5,6,7,8}\n",
    "A.intersection(B)"
   ]
  },
  {
   "cell_type": "code",
   "execution_count": 67,
   "metadata": {},
   "outputs": [
    {
     "data": {
      "text/plain": [
       "{1, 2}"
      ]
     },
     "execution_count": 67,
     "metadata": {},
     "output_type": "execute_result"
    }
   ],
   "source": [
    "#차집합  A-B\n",
    "A={1,2,3,4,5}\n",
    "B={3,4,5,6,7,8}\n",
    "A-B\n"
   ]
  },
  {
   "cell_type": "code",
   "execution_count": null,
   "metadata": {},
   "outputs": [],
   "source": []
  },
  {
   "cell_type": "markdown",
   "metadata": {},
   "source": [
    "## if, else, elif  사례"
   ]
  },
  {
   "cell_type": "markdown",
   "metadata": {},
   "source": [
    "## 제어문(조건문)"
   ]
  },
  {
   "cell_type": "markdown",
   "metadata": {},
   "source": [
    "# if문"
   ]
  },
  {
   "cell_type": "code",
   "execution_count": null,
   "metadata": {},
   "outputs": [],
   "source": [
    "## If문은 If문의 조건을 만족하는 경우 즉, 참(True) 인 경우 결과를 내보내는 조건문\n",
    "# 조건문의 끝은 콜론 ‘:’ 을 이용하여 나타낸다.==> 들여쓰기(indentation)가 됨\n"
   ]
  },
  {
   "cell_type": "code",
   "execution_count": 69,
   "metadata": {},
   "outputs": [
    {
     "name": "stdout",
     "output_type": "stream",
     "text": [
      "조건문이 참입니다.\n"
     ]
    }
   ],
   "source": [
    "python = True \n",
    "if(python): \n",
    "  print(\"조건문이 참입니다.\")\n"
   ]
  },
  {
   "cell_type": "markdown",
   "metadata": {},
   "source": [
    "# if~ else문"
   ]
  },
  {
   "cell_type": "code",
   "execution_count": null,
   "metadata": {},
   "outputs": [],
   "source": [
    "# else문  :   독립적으로 혼자 사용할 수 없고 \n",
    "# if문 다음에 나타나는 조건문으로써 if문의 조건이 맞지 않을 때, \n",
    "# 거짓(False)일 때 실행\n",
    "\n",
    "#if 참 또는 거짓을 가지는 값:\n",
    "    #조건이 참일 때 실행되는 명령들\n",
    "#else:\n",
    "    #조건이 거짓일 때 실행되는 명령들"
   ]
  },
  {
   "cell_type": "code",
   "execution_count": 70,
   "metadata": {},
   "outputs": [
    {
     "name": "stdout",
     "output_type": "stream",
     "text": [
      "조건문이 참이 아닙니다.\n"
     ]
    }
   ],
   "source": [
    "python = False \n",
    "if(python) : \n",
    "  print(\"조건문이 참입니다.\") \n",
    "else : \n",
    "  print(\"조건문이 참이 아닙니다.\")\n"
   ]
  },
  {
   "cell_type": "markdown",
   "metadata": {},
   "source": [
    "# if~ elif ~ else문"
   ]
  },
  {
   "cell_type": "code",
   "execution_count": 76,
   "metadata": {},
   "outputs": [
    {
     "name": "stdout",
     "output_type": "stream",
     "text": [
      "첫번째 조건문은 참이 아니고 두번째 조건문은 참입니다.\n"
     ]
    }
   ],
   "source": [
    "# 조건으로 나누어야 할 경우의 수가 두 가지가 아니라 여러 가지일 때는 if ~ elif ~ else 명령 사용\n",
    "## elif\n",
    "python = False\n",
    "pycharm = True \n",
    "if(python): \n",
    "  print(\"첫번째 조건문이 참입니다.\") \n",
    "elif (pycharm):\n",
    "  print(\"첫번째 조건문은 참이 아니고 두번째 조건문은 참입니다.\")\n",
    "else: \n",
    "  print(\"조건문이 참이 아닙니다.\")"
   ]
  },
  {
   "cell_type": "code",
   "execution_count": 69,
   "metadata": {},
   "outputs": [
    {
     "name": "stdout",
     "output_type": "stream",
     "text": [
      "B\n"
     ]
    }
   ],
   "source": [
    "# 만약 학점부여시 90점이상 A학점, 80점이상 B학점, 80점 미만 C학점이라면\n",
    "# 어느 학생이 70점이면 학점은?\n",
    "김안산 = 85\n",
    "\n",
    "if 김안산 >= 90:\n",
    "    print(\"A\")\n",
    "elif 김안산 >= 80:\n",
    "    print(\"B\")\n",
    "else:\n",
    "    print(\"C\")"
   ]
  },
  {
   "cell_type": "code",
   "execution_count": 70,
   "metadata": {},
   "outputs": [
    {
     "name": "stdout",
     "output_type": "stream",
     "text": [
      "A\n"
     ]
    }
   ],
   "source": [
    "김안산 = 95\n",
    "\n",
    "if 김안산 >= 90:\n",
    "    print(\"A\")\n",
    "elif 김안산 >= 80:\n",
    "    print(\"B\")\n",
    "else:\n",
    "    print(\"C\")"
   ]
  },
  {
   "cell_type": "markdown",
   "metadata": {},
   "source": [
    "## 제어문 : 반복문 for"
   ]
  },
  {
   "cell_type": "code",
   "execution_count": 77,
   "metadata": {},
   "outputs": [
    {
     "name": "stdout",
     "output_type": "stream",
     "text": [
      "0\n",
      "1\n",
      "2\n",
      "3\n",
      "4\n",
      "5\n",
      "6\n",
      "7\n",
      "8\n",
      "9\n"
     ]
    }
   ],
   "source": [
    "# 0부터 9까지 출력   주석문 사례 보기 \n",
    "for a in range(10):\n",
    "    print(a)"
   ]
  },
  {
   "cell_type": "code",
   "execution_count": 79,
   "metadata": {},
   "outputs": [
    {
     "name": "stdout",
     "output_type": "stream",
     "text": [
      "apple\n",
      "peer\n",
      "cherry\n"
     ]
    }
   ],
   "source": [
    "## 리스트 for 문 \n",
    "fruit = ['apple','peer','cherry']\n",
    "type(fruit) \n",
    "for a in fruit:\n",
    "  print(a)\n"
   ]
  },
  {
   "cell_type": "code",
   "execution_count": 80,
   "metadata": {},
   "outputs": [
    {
     "name": "stdout",
     "output_type": "stream",
     "text": [
      "apple\n",
      "peer\n",
      "cherry\n"
     ]
    }
   ],
   "source": [
    "## 딕셔너리 for 문 key( ) \n",
    "fruit_price = {'apple' : 3500, 'peer' : 2500, 'cherry' : 5000} \n",
    "for a in fruit_price.keys():\n",
    "   print(a) \n"
   ]
  },
  {
   "cell_type": "code",
   "execution_count": 81,
   "metadata": {},
   "outputs": [
    {
     "name": "stdout",
     "output_type": "stream",
     "text": [
      "3500\n",
      "2500\n",
      "5000\n"
     ]
    }
   ],
   "source": [
    "## 딕셔너리 for 문 values( ) \n",
    "fruit_price = {'apple' : 3500, 'peer' : 2500, 'cherry' : 5000} \n",
    "for a in fruit_price.values(): \n",
    "   print(a) \n"
   ]
  },
  {
   "cell_type": "code",
   "execution_count": 94,
   "metadata": {},
   "outputs": [
    {
     "name": "stdout",
     "output_type": "stream",
     "text": [
      "('apple', 3500)\n",
      "('peer', 2500)\n",
      "('cherry', 5000)\n"
     ]
    }
   ],
   "source": [
    "## 딕셔너리 for문 모두 반환 items()\n",
    "fruit_price = {'apple' : 3500, 'peer' : 2500, 'cherry' : 5000} \n",
    "for a in fruit_price.items():\n",
    "    print(a)\n"
   ]
  },
  {
   "cell_type": "code",
   "execution_count": null,
   "metadata": {},
   "outputs": [],
   "source": []
  },
  {
   "cell_type": "markdown",
   "metadata": {},
   "source": [
    "## 자료 구조 : Series 와 Dataframe"
   ]
  },
  {
   "cell_type": "code",
   "execution_count": null,
   "metadata": {},
   "outputs": [],
   "source": [
    "#시리즈 Series \n",
    "#Series모든 데이터 유형(정수, 문자열, 부동 소수점 숫자, Python 객체 등)을 보유할 수 있는 1차원 레이블 배열 축 레이블을 집합적으로 인덱스\n",
    "#Series형태의 자료구조는 기본적으로 index와 value 가 존재하기 때문에 일반적으로 생각하는 시계열 형태와 일치한다. \n"
   ]
  },
  {
   "cell_type": "code",
   "execution_count": 137,
   "metadata": {},
   "outputs": [
    {
     "name": "stdout",
     "output_type": "stream",
     "text": [
      "apple     2500\n",
      "banana    3800\n",
      "peer      1200\n",
      "cherry    6000\n",
      "dtype: int64\n"
     ]
    }
   ],
   "source": [
    "## import\n",
    "from pandas import Series, DataFrame\n",
    "import pandas as pd\n",
    "## series\n",
    "fruit = Series([2500,3800,1200,6000],index=['apple','banana','peer','cherry'])\n",
    "print(fruit)"
   ]
  },
  {
   "cell_type": "code",
   "execution_count": null,
   "metadata": {},
   "outputs": [],
   "source": [
    "## 특정값 추출 values, index\n",
    "#Series형태도 딕셔너리 형태처럼 values를 통해 항목을 추출 할 수 있고, 딕셔너리의 key 역할을 하는 index를 따로 추출 할\n",
    "#수 있다"
   ]
  },
  {
   "cell_type": "code",
   "execution_count": 138,
   "metadata": {},
   "outputs": [
    {
     "name": "stdout",
     "output_type": "stream",
     "text": [
      "[2500 3800 1200 6000]\n",
      "Index(['apple', 'banana', 'peer', 'cherry'], dtype='object')\n"
     ]
    }
   ],
   "source": [
    "## values index\n",
    "fruit = Series([2500,3800,1200,6000],index=['apple','banana','peer','cherry'])\n",
    "print(fruit.values)\n",
    "print(fruit.index)"
   ]
  },
  {
   "cell_type": "code",
   "execution_count": null,
   "metadata": {},
   "outputs": [],
   "source": []
  },
  {
   "cell_type": "code",
   "execution_count": 134,
   "metadata": {},
   "outputs": [
    {
     "name": "stdout",
     "output_type": "stream",
     "text": [
      "  fruitName  fruitPrice  num\n",
      "0     apple        2500   10\n",
      "1    banana        3800    5\n",
      "2    cherry        6000    3\n",
      "3      peer        1200    8\n"
     ]
    }
   ],
   "source": [
    "## Dataframe( ) \n",
    "from pandas import DataFrame \n",
    "\n",
    "fruitData = {'fruitName':['apple','banana','cherry','peer'],\n",
    "        'fruitPrice':[2500,3800,6000,1200], \n",
    "        'num':[10,5,3,8]} \n",
    "fruitFrame =DataFrame(fruitData) \n",
    "print(fruitFrame)\n"
   ]
  },
  {
   "cell_type": "code",
   "execution_count": null,
   "metadata": {},
   "outputs": [],
   "source": [
    "##컬럼순서 지정하기 colums\n",
    "# Dataframe의 colums 함수를 이용하면 데이터 프레임에 입력되는 컬럼들의 순서를 지정 해 줄 수있다."
   ]
  },
  {
   "cell_type": "code",
   "execution_count": 139,
   "metadata": {},
   "outputs": [
    {
     "name": "stdout",
     "output_type": "stream",
     "text": [
      "   fruitPrice  num fruitName\n",
      "0        2500   10     apple\n",
      "1        3800    5    banana\n",
      "2        6000    3    cherry\n",
      "3        1200    8      peer\n"
     ]
    }
   ],
   "source": [
    "## columns\n",
    "fruitData = {'fruitName':['apple','banana','cherry','peer'],\n",
    " 'fruitPrice':[2500,3800,6000,1200],\n",
    " 'num':[10,5,3,8]}\n",
    "fruitFrame = DataFrame(fruitData, columns = ['fruitPrice','num','fruitName'])\n",
    "print(fruitFrame)\n"
   ]
  },
  {
   "cell_type": "code",
   "execution_count": null,
   "metadata": {},
   "outputs": [],
   "source": [
    "##  컬럼 추가하기\n",
    "# 데이터프레임 구조는 컬럼 단위로 되어있어 새로운 컬럼을 추가할 수 있는데 이때, 컬럼추가의 기준은 index가 된다"
   ]
  },
  {
   "cell_type": "code",
   "execution_count": 141,
   "metadata": {},
   "outputs": [
    {
     "name": "stdout",
     "output_type": "stream",
     "text": [
      "   fruitPrice  num fruitName  year\n",
      "0        2500   10     apple  2020\n",
      "1        3800    5    banana  2020\n",
      "2        6000    3    cherry  2020\n",
      "3        1200    8      peer  2020\n"
     ]
    }
   ],
   "source": [
    "## 컬럼 추가하기 - 같은 값\n",
    "fruitFrame['year'] = 2020\n",
    "print(fruitFrame)\n"
   ]
  },
  {
   "cell_type": "code",
   "execution_count": null,
   "metadata": {},
   "outputs": [],
   "source": [
    "## 다른 값 지정"
   ]
  },
  {
   "cell_type": "code",
   "execution_count": 142,
   "metadata": {},
   "outputs": [
    {
     "name": "stdout",
     "output_type": "stream",
     "text": [
      "   fruitPrice  num fruitName  year  stock\n",
      "0        2500   10     apple  2020    4.0\n",
      "1        3800    5    banana  2020    NaN\n",
      "2        6000    3    cherry  2020    2.0\n",
      "3        1200    8      peer  2020    1.0\n"
     ]
    }
   ],
   "source": [
    "## 컬럼 추가하기 - 다른 값\n",
    "variable=Series([4,2,1],index=[0,2,3])\n",
    "fruitFrame['stock'] = variable\n",
    "print(fruitFrame)\n"
   ]
  },
  {
   "cell_type": "code",
   "execution_count": null,
   "metadata": {},
   "outputs": [],
   "source": [
    "#Series데이터 row 삭제하기 drop( )\n",
    "#Series는 Dataframe과 달리 row만 존재하기 때문에 Series에서는 row의 삭제방법만 언급 할텐데, index의 삭제를 통해 row를\n",
    "#지우는 경우를 보자"
   ]
  },
  {
   "cell_type": "code",
   "execution_count": 143,
   "metadata": {},
   "outputs": [
    {
     "name": "stdout",
     "output_type": "stream",
     "text": [
      "apple     2500\n",
      "banana    3800\n",
      "peer      1200\n",
      "cherry    6000\n",
      "dtype: int64\n",
      "apple     2500\n",
      "peer      1200\n",
      "cherry    6000\n",
      "dtype: int64\n"
     ]
    }
   ],
   "source": [
    "## row 삭제하기 drop( )\n",
    "fruit = Series([2500,3800,1200,6000],index=['apple','banana','peer','cherry'])\n",
    "new_fruit = fruit.drop('banana')\n",
    "print(fruit)\n",
    "print(new_fruit)"
   ]
  },
  {
   "cell_type": "code",
   "execution_count": 144,
   "metadata": {},
   "outputs": [
    {
     "name": "stdout",
     "output_type": "stream",
     "text": [
      "apple     2500\n",
      "peer      1200\n",
      "cherry    6000\n",
      "dtype: int64\n"
     ]
    }
   ],
   "source": [
    "## row 삭제하기 drop( )\n",
    "fruit = Series([2500,3800,1200,6000],index=['apple','banana','peer','cherry'])\n",
    "new_fruit = fruit.drop('banana')\n",
    "print(new_fruit)"
   ]
  },
  {
   "cell_type": "code",
   "execution_count": null,
   "metadata": {},
   "outputs": [],
   "source": [
    "## Dataframe row 삭제하기 drop( )\n",
    "# Series와 마찬가지로 Datafrmae에서 row를 삭제하기위해선 drop( ) 함수를 이용하여 index를 삭제 해 주어야 한다.\n"
   ]
  },
  {
   "cell_type": "code",
   "execution_count": 145,
   "metadata": {},
   "outputs": [
    {
     "name": "stdout",
     "output_type": "stream",
     "text": [
      "        fruitPrice  num\n",
      "apple         2500   10\n",
      "banana        3800    5\n",
      "cherry        6000    3\n",
      "peer          1200    8\n",
      "        fruitPrice  num\n",
      "banana        3800    5\n",
      "peer          1200    8\n"
     ]
    }
   ],
   "source": [
    "## row 삭제하기 drop( )\n",
    "fruitData = {'fruitName':['apple','banana','cherry','peer'],\n",
    " 'fruitPrice':[2500,3800,6000,1200],\n",
    " 'num':[10,5,3,8]}\n",
    "fruitName=fruitData['fruitName']\n",
    "fruitFrame = DataFrame(fruitData,index = fruitName,columns=['fruitPrice','num'])\n",
    "fruitFrame2=fruitFrame.drop(['apple','cherry'])\n",
    "print(fruitFrame)\n",
    "print(fruitFrame2)"
   ]
  },
  {
   "cell_type": "code",
   "execution_count": null,
   "metadata": {},
   "outputs": [],
   "source": [
    "#Dataframe cloumn 삭제하기 drop( )\n",
    "#drop( ) 함수를 이용할 때 row를 제거하기위해선 drop(index)를 사용했는데, cloumn을 삭제하기 위해선 index대신 column 의\n",
    "#이름과 axis=1을 지정 하면 된다."
   ]
  },
  {
   "cell_type": "code",
   "execution_count": 147,
   "metadata": {},
   "outputs": [
    {
     "name": "stdout",
     "output_type": "stream",
     "text": [
      "        fruitPrice  num\n",
      "apple         2500   10\n",
      "banana        3800    5\n",
      "cherry        6000    3\n",
      "peer          1200    8\n",
      "        fruitPrice\n",
      "apple         2500\n",
      "banana        3800\n",
      "cherry        6000\n",
      "peer          1200\n"
     ]
    }
   ],
   "source": [
    "## column 삭제하기 drop( )\n",
    "fruitFrame3=fruitFrame.drop('num',axis=1)\n",
    "print(fruitFrame)\n",
    "print(fruitFrame3)"
   ]
  },
  {
   "cell_type": "code",
   "execution_count": null,
   "metadata": {},
   "outputs": [],
   "source": [
    "##항목추출하기 Slice\n",
    "# 리스트, 튜플, 딕셔너리처럼 Pandas의 데이터구조인 Series, Dataframe 또한 index[ ] 를 이용하여 slice 가능"
   ]
  },
  {
   "cell_type": "code",
   "execution_count": 148,
   "metadata": {},
   "outputs": [
    {
     "data": {
      "text/plain": [
       "apple     2500\n",
       "banana    3800\n",
       "peer      1200\n",
       "dtype: int64"
      ]
     },
     "execution_count": 148,
     "metadata": {},
     "output_type": "execute_result"
    }
   ],
   "source": [
    "## Series Slice\n",
    "# Series는 Dataframe 과 달리 index와 value만 존재하기 때문에 index를 통해 Slice 가능\n",
    "fruit = Series([2500,3800,1200,6000],index=['apple','banana','peer','cherry'])\n",
    "fruit['apple':'peer']"
   ]
  },
  {
   "cell_type": "code",
   "execution_count": null,
   "metadata": {},
   "outputs": [],
   "source": [
    "# Dataframe의 Slice \n",
    "#Dataframe 은 index 를 통해 행을 추출 할 수 있고 이에 더하여 column의 정보를 통해 열을 추출 하는 두 가지 방법이 존재"
   ]
  },
  {
   "cell_type": "code",
   "execution_count": 149,
   "metadata": {},
   "outputs": [
    {
     "name": "stdout",
     "output_type": "stream",
     "text": [
      "        fruitPrice  num\n",
      "apple         2500   10\n",
      "banana        3800    5\n",
      "cherry        6000    3\n",
      "peer          1200    8\n"
     ]
    },
    {
     "data": {
      "text/html": [
       "<div>\n",
       "<style scoped>\n",
       "    .dataframe tbody tr th:only-of-type {\n",
       "        vertical-align: middle;\n",
       "    }\n",
       "\n",
       "    .dataframe tbody tr th {\n",
       "        vertical-align: top;\n",
       "    }\n",
       "\n",
       "    .dataframe thead th {\n",
       "        text-align: right;\n",
       "    }\n",
       "</style>\n",
       "<table border=\"1\" class=\"dataframe\">\n",
       "  <thead>\n",
       "    <tr style=\"text-align: right;\">\n",
       "      <th></th>\n",
       "      <th>fruitPrice</th>\n",
       "      <th>num</th>\n",
       "    </tr>\n",
       "  </thead>\n",
       "  <tbody>\n",
       "    <tr>\n",
       "      <th>apple</th>\n",
       "      <td>2500</td>\n",
       "      <td>10</td>\n",
       "    </tr>\n",
       "    <tr>\n",
       "      <th>banana</th>\n",
       "      <td>3800</td>\n",
       "      <td>5</td>\n",
       "    </tr>\n",
       "  </tbody>\n",
       "</table>\n",
       "</div>"
      ],
      "text/plain": [
       "        fruitPrice  num\n",
       "apple         2500   10\n",
       "banana        3800    5"
      ]
     },
     "execution_count": 149,
     "metadata": {},
     "output_type": "execute_result"
    }
   ],
   "source": [
    "## dataframe Slice\n",
    "fruitData = {'fruitName':['apple','banana','cherry','peer'],\n",
    " 'fruitPrice':[2500,3800,6000,1200],\n",
    " 'num':[10,5,3,8]}\n",
    "fruitName=fruitData['fruitName']\n",
    "fruitFrame = DataFrame(fruitData,index = fruitName,columns=['fruitPrice','num'])\n",
    "print(fruitFrame)\n",
    "fruitFrame['fruitPrice']\n",
    "fruitFrame['apple':'banana']"
   ]
  },
  {
   "cell_type": "markdown",
   "metadata": {},
   "source": [
    "## 데이터의 기본연산"
   ]
  },
  {
   "cell_type": "code",
   "execution_count": null,
   "metadata": {},
   "outputs": [],
   "source": [
    "# Pandas 에서 중요한 기능중 하나는 객체 간 산술연산이 가능하다는 점이다. \n",
    "# Series 와 dataframe 모두 idnex가 존재하기 때문에 이러한 index를 통해 산술연산 가능\n",
    "## 연산하는 Series들의 인덱스 중 하나라도 NaN(결측치) 가 존재하면 연산 결과도 무조건 NaN 으로 나타난다"
   ]
  },
  {
   "cell_type": "code",
   "execution_count": 150,
   "metadata": {},
   "outputs": [
    {
     "name": "stdout",
     "output_type": "stream",
     "text": [
      "apple      5\n",
      "banana     9\n",
      "cherry    10\n",
      "peer       3\n",
      "dtype: int64\n",
      "apple      3\n",
      "orange     2\n",
      "banana     9\n",
      "cherry     5\n",
      "mango     10\n",
      "dtype: int64\n"
     ]
    },
    {
     "data": {
      "text/plain": [
       "apple      8.0\n",
       "banana    18.0\n",
       "cherry    15.0\n",
       "mango      NaN\n",
       "orange     NaN\n",
       "peer       NaN\n",
       "dtype: float64"
      ]
     },
     "execution_count": 150,
     "metadata": {},
     "output_type": "execute_result"
    }
   ],
   "source": [
    "## Series 연산\n",
    "fruit1 = Series([5,9,10,3],index = ['apple','banana','cherry','peer'])\n",
    "fruit2 = Series([3,2,9,5,10],index = ['apple','orange','banana','cherry','mango'])\n",
    "print(fruit1)\n",
    "print(fruit2)\n",
    "fruit1 + fruit2\n"
   ]
  },
  {
   "cell_type": "code",
   "execution_count": 151,
   "metadata": {},
   "outputs": [
    {
     "name": "stdout",
     "output_type": "stream",
     "text": [
      "        Ohio  Texas\n",
      "apple      4      0\n",
      "banana     8      1\n",
      "cherry     3      2\n",
      "peer       5      3\n",
      "        Ohio  Colorado\n",
      "apple      3         5\n",
      "orange     0         4\n",
      "banana     2         3\n",
      "cherry     1         6\n",
      "mango      7         0\n"
     ]
    },
    {
     "data": {
      "text/html": [
       "<div>\n",
       "<style scoped>\n",
       "    .dataframe tbody tr th:only-of-type {\n",
       "        vertical-align: middle;\n",
       "    }\n",
       "\n",
       "    .dataframe tbody tr th {\n",
       "        vertical-align: top;\n",
       "    }\n",
       "\n",
       "    .dataframe thead th {\n",
       "        text-align: right;\n",
       "    }\n",
       "</style>\n",
       "<table border=\"1\" class=\"dataframe\">\n",
       "  <thead>\n",
       "    <tr style=\"text-align: right;\">\n",
       "      <th></th>\n",
       "      <th>Colorado</th>\n",
       "      <th>Ohio</th>\n",
       "      <th>Texas</th>\n",
       "    </tr>\n",
       "  </thead>\n",
       "  <tbody>\n",
       "    <tr>\n",
       "      <th>apple</th>\n",
       "      <td>NaN</td>\n",
       "      <td>7.0</td>\n",
       "      <td>NaN</td>\n",
       "    </tr>\n",
       "    <tr>\n",
       "      <th>banana</th>\n",
       "      <td>NaN</td>\n",
       "      <td>10.0</td>\n",
       "      <td>NaN</td>\n",
       "    </tr>\n",
       "    <tr>\n",
       "      <th>cherry</th>\n",
       "      <td>NaN</td>\n",
       "      <td>4.0</td>\n",
       "      <td>NaN</td>\n",
       "    </tr>\n",
       "    <tr>\n",
       "      <th>mango</th>\n",
       "      <td>NaN</td>\n",
       "      <td>NaN</td>\n",
       "      <td>NaN</td>\n",
       "    </tr>\n",
       "    <tr>\n",
       "      <th>orange</th>\n",
       "      <td>NaN</td>\n",
       "      <td>NaN</td>\n",
       "      <td>NaN</td>\n",
       "    </tr>\n",
       "    <tr>\n",
       "      <th>peer</th>\n",
       "      <td>NaN</td>\n",
       "      <td>NaN</td>\n",
       "      <td>NaN</td>\n",
       "    </tr>\n",
       "  </tbody>\n",
       "</table>\n",
       "</div>"
      ],
      "text/plain": [
       "        Colorado  Ohio  Texas\n",
       "apple        NaN   7.0    NaN\n",
       "banana       NaN  10.0    NaN\n",
       "cherry       NaN   4.0    NaN\n",
       "mango        NaN   NaN    NaN\n",
       "orange       NaN   NaN    NaN\n",
       "peer         NaN   NaN    NaN"
      ]
     },
     "execution_count": 151,
     "metadata": {},
     "output_type": "execute_result"
    }
   ],
   "source": [
    " ## Dataframe의 연산\n",
    "# Dataframe 은 column 이 존재하기 때문에 column 까지 같이 모두함께 연산된다.\n",
    "# 컬림또한 NaN 이 하나라도 존재하는 row는 모두 NaN 처리가 된다.\n",
    "\n",
    "fruitData1 = {'Ohio' : [4,8,3,5],'Texas' : [0,1,2,3]}\n",
    "fruitFrame1 = DataFrame(fruitData1,columns=['Ohio','Texas'],index = ['apple','banana','cherry','peer'])\n",
    "fruitData2 = {'Ohio' : [3,0,2,1,7],'Colorado':[5,4,3,6,0]}\n",
    "fruitFrame2 = DataFrame(fruitData2,columns =['Ohio','Colorado'],index = ['apple','orange','banana','cherry','mango'])\n",
    "print(fruitFrame1)\n",
    "print(fruitFrame2)\n",
    "fruitFrame1 + fruitFrame2\n"
   ]
  },
  {
   "cell_type": "markdown",
   "metadata": {},
   "source": [
    " ## 데이터의 정렬"
   ]
  },
  {
   "cell_type": "code",
   "execution_count": null,
   "metadata": {},
   "outputs": [],
   "source": [
    "## Series의 정렬\n",
    "#정렬의 기본은 오름차순이다. \n",
    "# 만약, 내림차순으로 정렬하고 싶다면 ascending=False라는 명령어를 추가로 하면 된다"
   ]
  },
  {
   "cell_type": "code",
   "execution_count": 152,
   "metadata": {},
   "outputs": [
    {
     "data": {
      "text/plain": [
       "cherry    6000\n",
       "banana    3800\n",
       "apple     2500\n",
       "peer      1200\n",
       "dtype: int64"
      ]
     },
     "execution_count": 152,
     "metadata": {},
     "output_type": "execute_result"
    }
   ],
   "source": [
    "## Series 정렬\n",
    "fruit = Series([2500,3800,1200,6000],index=['apple','banana','peer','cherry'])\n",
    "fruit.sort_values(ascending=False)"
   ]
  },
  {
   "cell_type": "code",
   "execution_count": null,
   "metadata": {},
   "outputs": [],
   "source": [
    "##Dataframe의 정렬\n",
    "# Dataframe 은 row 와 column 이 모두 존재하기 때문에 단순히 row 기준으로 정렬하는 방법이 있고\n",
    "# column의 순서를 정렬하는 방법이 있다."
   ]
  },
  {
   "cell_type": "code",
   "execution_count": 153,
   "metadata": {},
   "outputs": [
    {
     "name": "stdout",
     "output_type": "stream",
     "text": [
      "        num  fruitPrice\n",
      "peer     10        2500\n",
      "banana    5        3800\n",
      "apple     3        6000\n",
      "cherry    8        1200\n"
     ]
    },
    {
     "data": {
      "text/html": [
       "<div>\n",
       "<style scoped>\n",
       "    .dataframe tbody tr th:only-of-type {\n",
       "        vertical-align: middle;\n",
       "    }\n",
       "\n",
       "    .dataframe tbody tr th {\n",
       "        vertical-align: top;\n",
       "    }\n",
       "\n",
       "    .dataframe thead th {\n",
       "        text-align: right;\n",
       "    }\n",
       "</style>\n",
       "<table border=\"1\" class=\"dataframe\">\n",
       "  <thead>\n",
       "    <tr style=\"text-align: right;\">\n",
       "      <th></th>\n",
       "      <th>fruitPrice</th>\n",
       "      <th>num</th>\n",
       "    </tr>\n",
       "  </thead>\n",
       "  <tbody>\n",
       "    <tr>\n",
       "      <th>peer</th>\n",
       "      <td>2500</td>\n",
       "      <td>10</td>\n",
       "    </tr>\n",
       "    <tr>\n",
       "      <th>banana</th>\n",
       "      <td>3800</td>\n",
       "      <td>5</td>\n",
       "    </tr>\n",
       "    <tr>\n",
       "      <th>apple</th>\n",
       "      <td>6000</td>\n",
       "      <td>3</td>\n",
       "    </tr>\n",
       "    <tr>\n",
       "      <th>cherry</th>\n",
       "      <td>1200</td>\n",
       "      <td>8</td>\n",
       "    </tr>\n",
       "  </tbody>\n",
       "</table>\n",
       "</div>"
      ],
      "text/plain": [
       "        fruitPrice  num\n",
       "peer          2500   10\n",
       "banana        3800    5\n",
       "apple         6000    3\n",
       "cherry        1200    8"
      ]
     },
     "execution_count": 153,
     "metadata": {},
     "output_type": "execute_result"
    }
   ],
   "source": [
    "## Dataframe 정렬\n",
    "fruitData = {'fruitName':['peer','banana','apple','cherry'],\n",
    " 'fruitPrice':[2500,3800,6000,1200],\n",
    " 'num':[10,5,3,8]}\n",
    "fruitName=fruitData['fruitName']\n",
    "fruitFrame = DataFrame(fruitData,index = fruitName,columns=['num','fruitPrice'])\n",
    "print(fruitFrame)\n",
    "fruitFrame.sort_index()\n",
    "fruitFrame.sort_index(axis = 1)"
   ]
  },
  {
   "cell_type": "code",
   "execution_count": null,
   "metadata": {},
   "outputs": [],
   "source": [
    "#Dataframe의 값 정렬\n",
    "#단순히 row 와 column 의 차례를 변경 할 수도 있지만 특정 column의 값을 통해 row를 정렬 하는 것도 가능\n",
    "# 기준을 여러칼럼으로 하고 싶을때는 by 안의 리스트에 여러 개의 column 이름을 지정하면 된다."
   ]
  },
  {
   "cell_type": "code",
   "execution_count": 154,
   "metadata": {},
   "outputs": [
    {
     "data": {
      "text/html": [
       "<div>\n",
       "<style scoped>\n",
       "    .dataframe tbody tr th:only-of-type {\n",
       "        vertical-align: middle;\n",
       "    }\n",
       "\n",
       "    .dataframe tbody tr th {\n",
       "        vertical-align: top;\n",
       "    }\n",
       "\n",
       "    .dataframe thead th {\n",
       "        text-align: right;\n",
       "    }\n",
       "</style>\n",
       "<table border=\"1\" class=\"dataframe\">\n",
       "  <thead>\n",
       "    <tr style=\"text-align: right;\">\n",
       "      <th></th>\n",
       "      <th>num</th>\n",
       "      <th>fruitPrice</th>\n",
       "    </tr>\n",
       "  </thead>\n",
       "  <tbody>\n",
       "    <tr>\n",
       "      <th>cherry</th>\n",
       "      <td>8</td>\n",
       "      <td>1200</td>\n",
       "    </tr>\n",
       "    <tr>\n",
       "      <th>peer</th>\n",
       "      <td>10</td>\n",
       "      <td>2500</td>\n",
       "    </tr>\n",
       "    <tr>\n",
       "      <th>banana</th>\n",
       "      <td>5</td>\n",
       "      <td>3800</td>\n",
       "    </tr>\n",
       "    <tr>\n",
       "      <th>apple</th>\n",
       "      <td>3</td>\n",
       "      <td>6000</td>\n",
       "    </tr>\n",
       "  </tbody>\n",
       "</table>\n",
       "</div>"
      ],
      "text/plain": [
       "        num  fruitPrice\n",
       "cherry    8        1200\n",
       "peer     10        2500\n",
       "banana    5        3800\n",
       "apple     3        6000"
      ]
     },
     "execution_count": 154,
     "metadata": {},
     "output_type": "execute_result"
    }
   ],
   "source": [
    "## Dataframe 값 정렬\n",
    "fruitFrame.sort_values(by=['fruitPrice'])"
   ]
  },
  {
   "cell_type": "code",
   "execution_count": null,
   "metadata": {},
   "outputs": [],
   "source": []
  }
 ],
 "metadata": {
  "kernelspec": {
   "display_name": "Python 3 (ipykernel)",
   "language": "python",
   "name": "python3"
  },
  "language_info": {
   "codemirror_mode": {
    "name": "ipython",
    "version": 3
   },
   "file_extension": ".py",
   "mimetype": "text/x-python",
   "name": "python",
   "nbconvert_exporter": "python",
   "pygments_lexer": "ipython3",
   "version": "3.9.6"
  }
 },
 "nbformat": 4,
 "nbformat_minor": 4
}
