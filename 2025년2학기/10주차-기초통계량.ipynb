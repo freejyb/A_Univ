{
 "cells": [
  {
   "cell_type": "markdown",
   "id": "e5e201c2",
   "metadata": {},
   "source": [
    "# 기술통계량(기초통계량) 이해"
   ]
  },
  {
   "cell_type": "markdown",
   "id": "fd2d577a",
   "metadata": {},
   "source": [
    "## 기술통계  vs  추정통계"
   ]
  },
  {
   "cell_type": "code",
   "execution_count": null,
   "id": "3549363d",
   "metadata": {},
   "outputs": [],
   "source": [
    "# 1. 기술통계 (Descriptive Statistics)\n",
    "# 기술통계는 데이터를 요약하고 설명하는 데 중점을 둡니다. \n",
    "# 수집한 데이터를 바탕으로 그것을 간단하게 표현하거나, 시각화하여 이해하기 쉽게 만드는 방법을 사용합니다. \n",
    "#기술통계의 목적은 데이터의 패턴이나 특징을 파악하는 것입니다.\n",
    "\n",
    "# 주요 요소:\n",
    "# 중심 경향성: 평균(mean), 중앙값(median), 최빈값(mode) 등.\n",
    "# 변산성: 표준편차(standard deviation), 분산(variance), 범위(range) 등.\n",
    "# 데이터의 분포: 히스토그램, 상자 그림(box plot) 등.\n",
    "# 기술통계는 데이터 자체를 요약하기 때문에 전체 모집단이나 표본 데이터의 모든 구성원에 대한 설명을 제공합니다.\n",
    "\n"
   ]
  },
  {
   "cell_type": "code",
   "execution_count": null,
   "id": "a1257e90",
   "metadata": {},
   "outputs": [],
   "source": [
    "# 2. 추정통계 (Inferential Statistics)\n",
    "#  표본 데이터를 사용하여 모집단에 대해 추론하는 통계 방법입니다. 즉, 데이터의 일부인 표본을 통해 전체 모집단의 특성을 추정하거나 예측하려고 합니다.\n",
    "\n",
    "# 주요 요소:\n",
    "# 가설 검정: 특정 가설이 맞는지 검정하는 방법 (예: t-검정, 카이제곱 검정 등).\n",
    "# 신뢰 구간: 추정된 모집단 파라미터가 특정 범위 안에 있을 확률을 나타냅니다.\n",
    "# 추론 방법: 회귀분석, 상관분석 등.\n",
    "# 추정통계는 표본을 기반으로 모집단에 대해 일반화된 결론을 내리기 때문에, 불확실성을 포함하고 있습니다. \n",
    "# 따라서 오차와 확률을 고려해야 합니다.\n",
    "\n",
    "# 요약:\n",
    "# 기술통계: 데이터를 설명하고 요약하는 데 사용됩니다.\n",
    "# 추정통계: 표본을 통해 모집단에 대한 결론을 추론하는 데 사용됩니다.\n",
    "# 두 가지 모두 데이터 분석의 중요한 부분이지만, 기술통계는 현재의 데이터를 이해하는 데 사용되고, 추정통계는 미래의 결과나 모집단에 대한 추정에 사용됩니다."
   ]
  },
  {
   "cell_type": "markdown",
   "id": "8c6022e5",
   "metadata": {},
   "source": [
    "## 라이브러리 점검"
   ]
  },
  {
   "cell_type": "code",
   "execution_count": 2,
   "id": "4541a61b",
   "metadata": {},
   "outputs": [],
   "source": [
    "# 라이브러리  불러오기 : numpy\n",
    "# 행렬이나 일반적으로 대규모 다차원 배열을 쉽게 처리할 수 있도록 지원하는 파이썬의 라이브러리\n",
    "# 데이터 구조 외에도 수치 계산을 위해 효율적으로 구현된 기능을 제공\n",
    "# 수치해석용 파이썬 패키지\n",
    "# 다차원의 배열 자료구조 클래스인 ndarray 클래스를 지원하며 벡터와 행렬을 사용하는 선형대수 계산에 주로 사용 ...\n",
    "\n",
    "import numpy as np"
   ]
  },
  {
   "cell_type": "code",
   "execution_count": 3,
   "id": "6bae83de",
   "metadata": {},
   "outputs": [
    {
     "name": "stdout",
     "output_type": "stream",
     "text": [
      "[1 2 3]\n"
     ]
    }
   ],
   "source": [
    "# array\n",
    "# 넘파이 배열을 만들 때는 np.array()라는 메서드를 사용\n",
    "# np.array() 메서드는 파이썬의 리스트를 인수로 받아 넘파이 라이브러리가 제공하는 특수한 형태의 배열(numpy.ndarray)을 반환\n",
    "\n",
    "\n",
    "#1차원 배열\n",
    "abc = np.array([1, 2, 3])\n",
    "print(abc)\n"
   ]
  },
  {
   "cell_type": "code",
   "execution_count": 4,
   "id": "6cc08637",
   "metadata": {},
   "outputs": [
    {
     "name": "stdout",
     "output_type": "stream",
     "text": [
      "[[1 2 3]\n",
      " [4 5 6]]\n"
     ]
    }
   ],
   "source": [
    "#2차원 배열\n",
    "abcd = np.array([[1, 2, 3],\n",
    "                [4, 5, 6]])\n",
    "print(abcd)"
   ]
  },
  {
   "cell_type": "code",
   "execution_count": 5,
   "id": "a461745d",
   "metadata": {},
   "outputs": [
    {
     "name": "stdout",
     "output_type": "stream",
     "text": [
      "[[1 2 3]\n",
      " [4 5 6]]\n"
     ]
    }
   ],
   "source": [
    "#리스트로 2차원 배열 만들기\n",
    "\n",
    "lst = [[1, 2, 3], [4, 5, 6]]\n",
    "arr = np.array(lst)\n",
    "print(arr)"
   ]
  },
  {
   "cell_type": "code",
   "execution_count": 6,
   "id": "d1659928",
   "metadata": {},
   "outputs": [],
   "source": [
    "# shape으로 배열의 형상 확인\n",
    "# 배열에 .shape을 더하면 해당 배열의 형상을 확인할 수 있다. \n",
    "#  배열에 .shape을 더하면 해당 배열의 형상을 확인할 수 있다. \n",
    "# 1차원 배열 : (m, )은 m칸으로 구성된 1차원 배열이라는 의미 \n",
    "# 2차원 배열: (m, n)는 m행 n열로 구성된 2차원 배열을 의미\n",
    "# 3차원 배열: shape을 구하면 (층, 행, 열) 총 3가지 정보\n"
   ]
  },
  {
   "cell_type": "code",
   "execution_count": 7,
   "id": "b9042537",
   "metadata": {},
   "outputs": [
    {
     "name": "stdout",
     "output_type": "stream",
     "text": [
      "(3,)\n"
     ]
    }
   ],
   "source": [
    "print(abc.shape)"
   ]
  },
  {
   "cell_type": "code",
   "execution_count": 8,
   "id": "a7def3fa",
   "metadata": {},
   "outputs": [
    {
     "name": "stdout",
     "output_type": "stream",
     "text": [
      "(2, 3)\n"
     ]
    }
   ],
   "source": [
    "print(abcd.shape)"
   ]
  },
  {
   "cell_type": "code",
   "execution_count": 9,
   "id": "5ba663d6",
   "metadata": {},
   "outputs": [],
   "source": [
    "# dtype은 배열의 데이터 타입을 의미"
   ]
  },
  {
   "cell_type": "code",
   "execution_count": 10,
   "id": "5be24716",
   "metadata": {},
   "outputs": [
    {
     "name": "stdout",
     "output_type": "stream",
     "text": [
      "int32\n"
     ]
    }
   ],
   "source": [
    "print(abc.dtype)"
   ]
  },
  {
   "cell_type": "code",
   "execution_count": 11,
   "id": "61e2718b",
   "metadata": {},
   "outputs": [
    {
     "name": "stdout",
     "output_type": "stream",
     "text": [
      "int32\n"
     ]
    }
   ],
   "source": [
    "print(abcd.dtype)"
   ]
  },
  {
   "cell_type": "code",
   "execution_count": 12,
   "id": "9e9b2c1b",
   "metadata": {},
   "outputs": [
    {
     "data": {
      "text/plain": [
       "3"
      ]
     },
     "execution_count": 12,
     "metadata": {},
     "output_type": "execute_result"
    }
   ],
   "source": [
    "# 데이터의 개수(lenth)\n",
    "# 데이터의 개수는 len 명령으로 구할 수 있다.\n",
    "\n",
    "len(abc)  # 갯수  "
   ]
  },
  {
   "cell_type": "code",
   "execution_count": 13,
   "id": "724ae5fe",
   "metadata": {},
   "outputs": [
    {
     "data": {
      "text/plain": [
       "2"
      ]
     },
     "execution_count": 13,
     "metadata": {},
     "output_type": "execute_result"
    }
   ],
   "source": [
    "len(abcd)"
   ]
  },
  {
   "cell_type": "markdown",
   "id": "7dede603",
   "metadata": {},
   "source": [
    "## 평균구하기: 중심도"
   ]
  },
  {
   "cell_type": "code",
   "execution_count": null,
   "id": "7c68828f",
   "metadata": {},
   "outputs": [],
   "source": [
    "# 데이터 셋"
   ]
  },
  {
   "cell_type": "code",
   "execution_count": 14,
   "id": "d32af59c",
   "metadata": {},
   "outputs": [],
   "source": [
    "crime = np.array([18,   5,  10,  23,  19,  8,  10,   1,   0,   5,   2,  15,   8,\n",
    "              2,   5,   4,  15,  1,   4,  7, 24,   7,   9,  6,  23, 13])"
   ]
  },
  {
   "cell_type": "code",
   "execution_count": 23,
   "id": "409928c4-f8c5-47ae-b24b-007c0d36758a",
   "metadata": {},
   "outputs": [
    {
     "data": {
      "text/plain": [
       "array([18,  5, 10, 23, 19,  8, 10,  1,  0,  5,  2, 15,  8,  2,  5,  4, 15,\n",
       "        1,  4,  7, 24,  7,  9,  6, 23, 13])"
      ]
     },
     "execution_count": 23,
     "metadata": {},
     "output_type": "execute_result"
    }
   ],
   "source": [
    "crime"
   ]
  },
  {
   "cell_type": "code",
   "execution_count": 24,
   "id": "c942441c-49b6-4d7e-be3a-dfbe9220fb4a",
   "metadata": {},
   "outputs": [
    {
     "name": "stdout",
     "output_type": "stream",
     "text": [
      "최솟값: 0\n",
      "최댓값: 24\n",
      "범위(range): 24\n"
     ]
    }
   ],
   "source": [
    "# 범위값\n",
    "\n",
    "import numpy as np\n",
    "\n",
    "rime = np.array([18, 5, 10, 23, 19, 8, 10, 1, 0, 5, 2, 15, 8,\n",
    "                 2, 5, 4, 15, 1, 4, 7, 24, 7, 9, 6, 23, 13])\n",
    "\n",
    "range_value = np.max(rime) - np.min(rime)\n",
    "\n",
    "print(f\"최솟값: {np.min(rime)}\")\n",
    "print(f\"최댓값: {np.max(rime)}\")\n",
    "print(f\"범위(range): {range_value}\")\n"
   ]
  },
  {
   "cell_type": "code",
   "execution_count": 25,
   "id": "de7bf159-6f49-464a-9e60-8d9d4683edb5",
   "metadata": {},
   "outputs": [],
   "source": [
    "#평균값"
   ]
  },
  {
   "cell_type": "code",
   "execution_count": 26,
   "id": "1670f38f",
   "metadata": {},
   "outputs": [
    {
     "data": {
      "text/plain": [
       "9.384615384615385"
      ]
     },
     "execution_count": 26,
     "metadata": {},
     "output_type": "execute_result"
    }
   ],
   "source": [
    "np.mean(crime )  # 평균(mean)"
   ]
  },
  {
   "cell_type": "code",
   "execution_count": 27,
   "id": "269e46a5-7ddb-46e1-bfa2-e23e3b733532",
   "metadata": {},
   "outputs": [],
   "source": [
    "# 중앙값"
   ]
  },
  {
   "cell_type": "code",
   "execution_count": 28,
   "id": "60404ca6",
   "metadata": {},
   "outputs": [
    {
     "data": {
      "text/plain": [
       "7.5"
      ]
     },
     "execution_count": 28,
     "metadata": {},
     "output_type": "execute_result"
    }
   ],
   "source": [
    "np.median(crime )"
   ]
  },
  {
   "cell_type": "markdown",
   "id": "8ed20432",
   "metadata": {},
   "source": [
    "## 분산. 표준편차 구하기 : 분산도"
   ]
  },
  {
   "cell_type": "code",
   "execution_count": 29,
   "id": "eb8dbd2f-b13b-4bfc-99c8-4fc38628d63f",
   "metadata": {},
   "outputs": [],
   "source": [
    "# # 분산(varaance) "
   ]
  },
  {
   "cell_type": "code",
   "execution_count": 30,
   "id": "d87d9aa7",
   "metadata": {},
   "outputs": [
    {
     "data": {
      "text/plain": [
       "50.31360946745562"
      ]
     },
     "execution_count": 30,
     "metadata": {},
     "output_type": "execute_result"
    }
   ],
   "source": [
    "np.var(crime )  "
   ]
  },
  {
   "cell_type": "code",
   "execution_count": 31,
   "id": "aa5432f1-96a7-4dec-83ce-b54431c3811c",
   "metadata": {},
   "outputs": [],
   "source": [
    "# 표준편차(std)"
   ]
  },
  {
   "cell_type": "code",
   "execution_count": 32,
   "id": "e0873bf8",
   "metadata": {},
   "outputs": [
    {
     "data": {
      "text/plain": [
       "7.093208686303796"
      ]
     },
     "execution_count": 32,
     "metadata": {},
     "output_type": "execute_result"
    }
   ],
   "source": [
    "np.std(crime)  "
   ]
  },
  {
   "cell_type": "markdown",
   "id": "75145aa4",
   "metadata": {},
   "source": [
    "## 최대값, 최소값"
   ]
  },
  {
   "cell_type": "code",
   "execution_count": 33,
   "id": "b51ef0e0",
   "metadata": {},
   "outputs": [
    {
     "data": {
      "text/plain": [
       "24"
      ]
     },
     "execution_count": 33,
     "metadata": {},
     "output_type": "execute_result"
    }
   ],
   "source": [
    "np.max(crime)  # 최댓값 (max)"
   ]
  },
  {
   "cell_type": "code",
   "execution_count": 20,
   "id": "1cd63942",
   "metadata": {},
   "outputs": [
    {
     "data": {
      "text/plain": [
       "0"
      ]
     },
     "execution_count": 20,
     "metadata": {},
     "output_type": "execute_result"
    }
   ],
   "source": [
    "np.min(crime)  # 최솟값(min)"
   ]
  },
  {
   "cell_type": "markdown",
   "id": "6ea12f69",
   "metadata": {},
   "source": [
    "# 리스트 자료의 경우 기초 통계량\n"
   ]
  },
  {
   "cell_type": "code",
   "execution_count": 21,
   "id": "44e533e4",
   "metadata": {},
   "outputs": [],
   "source": [
    "# 라이브러리 불러오기\n",
    "\n",
    "import numpy as np\n",
    "import pandas as pd"
   ]
  },
  {
   "cell_type": "code",
   "execution_count": 34,
   "id": "7539bd17",
   "metadata": {},
   "outputs": [
    {
     "data": {
      "text/plain": [
       "남성1    45652\n",
       "남성2    26392\n",
       "여성1    46405\n",
       "dtype: int64"
      ]
     },
     "execution_count": 34,
     "metadata": {},
     "output_type": "execute_result"
    }
   ],
   "source": [
    "income_list = pd.Series([45652, 26392, 46405],\n",
    "              index=[\"남성1\",\"남성2\",\"여성1\"])\n",
    "income_list"
   ]
  },
  {
   "cell_type": "code",
   "execution_count": 35,
   "id": "1c3de8e5",
   "metadata": {},
   "outputs": [
    {
     "name": "stdout",
     "output_type": "stream",
     "text": [
      "[45652 26392 46405]\n"
     ]
    }
   ],
   "source": [
    "# value 확인\n",
    "\n",
    "print(income_list.values)"
   ]
  },
  {
   "cell_type": "code",
   "execution_count": 36,
   "id": "8ec98520",
   "metadata": {},
   "outputs": [
    {
     "data": {
      "text/plain": [
       "(성별, 연소득)\n",
       "남성1    45652\n",
       "남성2    26392\n",
       "여성1    46405\n",
       "dtype: int64"
      ]
     },
     "execution_count": 36,
     "metadata": {},
     "output_type": "execute_result"
    }
   ],
   "source": [
    "# 인덱스 이름 지정\n",
    "# pd.Series()함수의 '옵션'으로 index명을 지정\n",
    "\n",
    "income_list.index.name = \"성별\",\"연소득\"\n",
    "income_list"
   ]
  },
  {
   "cell_type": "code",
   "execution_count": 37,
   "id": "e2120562",
   "metadata": {},
   "outputs": [
    {
     "data": {
      "text/html": [
       "<div>\n",
       "<style scoped>\n",
       "    .dataframe tbody tr th:only-of-type {\n",
       "        vertical-align: middle;\n",
       "    }\n",
       "\n",
       "    .dataframe tbody tr th {\n",
       "        vertical-align: top;\n",
       "    }\n",
       "\n",
       "    .dataframe thead th {\n",
       "        text-align: right;\n",
       "    }\n",
       "</style>\n",
       "<table border=\"1\" class=\"dataframe\">\n",
       "  <thead>\n",
       "    <tr style=\"text-align: right;\">\n",
       "      <th></th>\n",
       "      <th>0</th>\n",
       "    </tr>\n",
       "    <tr>\n",
       "      <th>(성별, 연소득)</th>\n",
       "      <th></th>\n",
       "    </tr>\n",
       "  </thead>\n",
       "  <tbody>\n",
       "    <tr>\n",
       "      <th>남성1</th>\n",
       "      <td>45652</td>\n",
       "    </tr>\n",
       "    <tr>\n",
       "      <th>남성2</th>\n",
       "      <td>26392</td>\n",
       "    </tr>\n",
       "    <tr>\n",
       "      <th>여성1</th>\n",
       "      <td>46405</td>\n",
       "    </tr>\n",
       "  </tbody>\n",
       "</table>\n",
       "</div>"
      ],
      "text/plain": [
       "               0\n",
       "(성별, 연소득)       \n",
       "남성1        45652\n",
       "남성2        26392\n",
       "여성1        46405"
      ]
     },
     "execution_count": 37,
     "metadata": {},
     "output_type": "execute_result"
    }
   ],
   "source": [
    "# 데이터프레임 변환\n",
    "\n",
    "income_list.to_frame()"
   ]
  },
  {
   "cell_type": "code",
   "execution_count": 38,
   "id": "c8e5bf02",
   "metadata": {},
   "outputs": [
    {
     "data": {
      "text/html": [
       "<div>\n",
       "<style scoped>\n",
       "    .dataframe tbody tr th:only-of-type {\n",
       "        vertical-align: middle;\n",
       "    }\n",
       "\n",
       "    .dataframe tbody tr th {\n",
       "        vertical-align: top;\n",
       "    }\n",
       "\n",
       "    .dataframe thead th {\n",
       "        text-align: right;\n",
       "    }\n",
       "</style>\n",
       "<table border=\"1\" class=\"dataframe\">\n",
       "  <thead>\n",
       "    <tr style=\"text-align: right;\">\n",
       "      <th></th>\n",
       "      <th>0</th>\n",
       "    </tr>\n",
       "    <tr>\n",
       "      <th>(성별, 연소득)</th>\n",
       "      <th></th>\n",
       "    </tr>\n",
       "  </thead>\n",
       "  <tbody>\n",
       "    <tr>\n",
       "      <th>남성1</th>\n",
       "      <td>45652</td>\n",
       "    </tr>\n",
       "    <tr>\n",
       "      <th>남성2</th>\n",
       "      <td>26392</td>\n",
       "    </tr>\n",
       "    <tr>\n",
       "      <th>여성1</th>\n",
       "      <td>46405</td>\n",
       "    </tr>\n",
       "  </tbody>\n",
       "</table>\n",
       "</div>"
      ],
      "text/plain": [
       "               0\n",
       "(성별, 연소득)       \n",
       "남성1        45652\n",
       "남성2        26392\n",
       "여성1        46405"
      ]
     },
     "execution_count": 38,
     "metadata": {},
     "output_type": "execute_result"
    }
   ],
   "source": [
    "df = pd.DataFrame(income_list)\n",
    "df"
   ]
  },
  {
   "cell_type": "code",
   "execution_count": 39,
   "id": "d5d8a2f6",
   "metadata": {},
   "outputs": [],
   "source": [
    "# describe                요약 통계량 계산\n",
    "# min                     최솟값 반환\n",
    "# max                     최댓값 반환\n",
    "# mean                    산술 평균 반환\n",
    "# median                  중간값(중앙값, 중위수) 반환\n",
    "# std                     표준편차\n"
   ]
  },
  {
   "cell_type": "code",
   "execution_count": 40,
   "id": "3a8ea35b",
   "metadata": {},
   "outputs": [
    {
     "name": "stdout",
     "output_type": "stream",
     "text": [
      "count        3.000000\n",
      "mean     39483.000000\n",
      "std      11343.388515\n",
      "min      26392.000000\n",
      "25%      36022.000000\n",
      "50%      45652.000000\n",
      "75%      46028.500000\n",
      "max      46405.000000\n",
      "dtype: float64\n"
     ]
    }
   ],
   "source": [
    "# 요약 통계량\n",
    "print(income_list.describe())"
   ]
  },
  {
   "cell_type": "code",
   "execution_count": 41,
   "id": "d092f336",
   "metadata": {},
   "outputs": [
    {
     "name": "stdout",
     "output_type": "stream",
     "text": [
      "                  0\n",
      "count      3.000000\n",
      "mean   39483.000000\n",
      "std    11343.388515\n",
      "min    26392.000000\n",
      "25%    36022.000000\n",
      "50%    45652.000000\n",
      "75%    46028.500000\n",
      "max    46405.000000\n"
     ]
    }
   ],
   "source": [
    "print(df.describe())"
   ]
  },
  {
   "cell_type": "markdown",
   "id": "a25a31c5",
   "metadata": {},
   "source": [
    "# DataFrame 자료의 경우 기초 통계량"
   ]
  },
  {
   "cell_type": "code",
   "execution_count": 42,
   "id": "54fd5a16",
   "metadata": {},
   "outputs": [
    {
     "name": "stdout",
     "output_type": "stream",
     "text": [
      "       살인  강도   절도\n",
      "서울경찰청  10  55  150\n",
      "부산경찰청   5  65  200\n",
      "인천경찰청  20  40  350\n"
     ]
    }
   ],
   "source": [
    "from pandas import DataFrame\n",
    "\n",
    "crime=[{\"살인\":10, \"강도\":55, \"절도\":150},\n",
    "       {\"살인\":5, \"강도\":65, \"절도\":200},\n",
    "       {\"살인\":20, \"강도\":40, \"절도\":350}]\n",
    "\n",
    "police =[\"서울경찰청\", \"부산경찰청\", \"인천경찰청\"]\n",
    "\n",
    "df1=DataFrame(data= crime, index=police)\n",
    "print(df1)"
   ]
  },
  {
   "cell_type": "code",
   "execution_count": 43,
   "id": "7a9ffa6c",
   "metadata": {},
   "outputs": [
    {
     "data": {
      "text/html": [
       "<div>\n",
       "<style scoped>\n",
       "    .dataframe tbody tr th:only-of-type {\n",
       "        vertical-align: middle;\n",
       "    }\n",
       "\n",
       "    .dataframe tbody tr th {\n",
       "        vertical-align: top;\n",
       "    }\n",
       "\n",
       "    .dataframe thead th {\n",
       "        text-align: right;\n",
       "    }\n",
       "</style>\n",
       "<table border=\"1\" class=\"dataframe\">\n",
       "  <thead>\n",
       "    <tr style=\"text-align: right;\">\n",
       "      <th></th>\n",
       "      <th>살인</th>\n",
       "      <th>강도</th>\n",
       "      <th>절도</th>\n",
       "    </tr>\n",
       "  </thead>\n",
       "  <tbody>\n",
       "    <tr>\n",
       "      <th>count</th>\n",
       "      <td>3.000000</td>\n",
       "      <td>3.000000</td>\n",
       "      <td>3.000000</td>\n",
       "    </tr>\n",
       "    <tr>\n",
       "      <th>mean</th>\n",
       "      <td>11.666667</td>\n",
       "      <td>53.333333</td>\n",
       "      <td>233.333333</td>\n",
       "    </tr>\n",
       "    <tr>\n",
       "      <th>std</th>\n",
       "      <td>7.637626</td>\n",
       "      <td>12.583057</td>\n",
       "      <td>104.083300</td>\n",
       "    </tr>\n",
       "    <tr>\n",
       "      <th>min</th>\n",
       "      <td>5.000000</td>\n",
       "      <td>40.000000</td>\n",
       "      <td>150.000000</td>\n",
       "    </tr>\n",
       "    <tr>\n",
       "      <th>25%</th>\n",
       "      <td>7.500000</td>\n",
       "      <td>47.500000</td>\n",
       "      <td>175.000000</td>\n",
       "    </tr>\n",
       "    <tr>\n",
       "      <th>50%</th>\n",
       "      <td>10.000000</td>\n",
       "      <td>55.000000</td>\n",
       "      <td>200.000000</td>\n",
       "    </tr>\n",
       "    <tr>\n",
       "      <th>75%</th>\n",
       "      <td>15.000000</td>\n",
       "      <td>60.000000</td>\n",
       "      <td>275.000000</td>\n",
       "    </tr>\n",
       "    <tr>\n",
       "      <th>max</th>\n",
       "      <td>20.000000</td>\n",
       "      <td>65.000000</td>\n",
       "      <td>350.000000</td>\n",
       "    </tr>\n",
       "  </tbody>\n",
       "</table>\n",
       "</div>"
      ],
      "text/plain": [
       "              살인         강도          절도\n",
       "count   3.000000   3.000000    3.000000\n",
       "mean   11.666667  53.333333  233.333333\n",
       "std     7.637626  12.583057  104.083300\n",
       "min     5.000000  40.000000  150.000000\n",
       "25%     7.500000  47.500000  175.000000\n",
       "50%    10.000000  55.000000  200.000000\n",
       "75%    15.000000  60.000000  275.000000\n",
       "max    20.000000  65.000000  350.000000"
      ]
     },
     "execution_count": 43,
     "metadata": {},
     "output_type": "execute_result"
    }
   ],
   "source": [
    "df1.describe()"
   ]
  },
  {
   "cell_type": "markdown",
   "id": "3a0045e6",
   "metadata": {},
   "source": [
    "# 범죄데이터 기초통계량 "
   ]
  },
  {
   "cell_type": "markdown",
   "id": "870e554f",
   "metadata": {},
   "source": [
    "## 필요한 라이브러리 호출"
   ]
  },
  {
   "cell_type": "code",
   "execution_count": 44,
   "id": "f52a1387",
   "metadata": {},
   "outputs": [],
   "source": [
    "import pandas as pd\n",
    "import matplotlib.pyplot as plt\n",
    "import numpy as np\n",
    "import seaborn as sns"
   ]
  },
  {
   "cell_type": "code",
   "execution_count": 45,
   "id": "a40da4bc",
   "metadata": {},
   "outputs": [],
   "source": [
    "plt.rcParams['font.family'] = 'Malgun Gothic'\n",
    "# 한글폰트 출력 가능 코드\n",
    "from matplotlib import rc\n",
    "\n",
    "rc('font', family='AppleGothic') # Mac Os\n",
    "#rc('font', family='NanumGothic') # Windows Os\n",
    "plt.rcParams['axes.unicode_minus'] = False"
   ]
  },
  {
   "cell_type": "code",
   "execution_count": 46,
   "id": "cfbb3e87",
   "metadata": {},
   "outputs": [],
   "source": [
    "# rc 함수를 이용해 글꼴 설정\n",
    "\n",
    "from matplotlib import font_manager,rc \n",
    "font_path = \"C:/Windows/Fonts/NGULIM.TTF\"\n",
    "font = font_manager.FontProperties(fname=font_path).get_name()\n",
    "rc('font', family=font)\n"
   ]
  },
  {
   "cell_type": "markdown",
   "id": "1fc47fe1",
   "metadata": {},
   "source": [
    "## Simple data 형성"
   ]
  },
  {
   "cell_type": "code",
   "execution_count": 47,
   "id": "65aadcfc",
   "metadata": {
    "scrolled": true
   },
   "outputs": [
    {
     "name": "stdout",
     "output_type": "stream",
     "text": [
      "[ 6 12 13  9 10 12  6 16  1 17  2 13]\n"
     ]
    }
   ],
   "source": [
    "# 데이터 랜덤하게 형성 (seed 부여)\n",
    "\n",
    "np.random.seed(1)\n",
    "\n",
    "# 12개월 동안 발생한 특정 지역 A의 범죄 건수라고 가정\n",
    "\n",
    "X = np.random.randint(1,20,12)\n",
    "print(X)"
   ]
  },
  {
   "cell_type": "markdown",
   "id": "89ccc876",
   "metadata": {},
   "source": [
    "## 데이터 시각화"
   ]
  },
  {
   "cell_type": "code",
   "execution_count": 48,
   "id": "9e9544cd",
   "metadata": {},
   "outputs": [
    {
     "data": {
      "image/png": "[encoded data removed]",
      "text/plain": [
       "<Figure size 640x480 with 1 Axes>"
      ]
     },
     "metadata": {},
     "output_type": "display_data"
    }
   ],
   "source": [
    "# 데이터 보기 (시각화로 각 원소별 개수를 출력)\n",
    "\n",
    "sns.barplot(x= list(map(lambda x: x , range(1,13))), y=X)\n",
    "plt.title('월별 범죄 건수')\n",
    "plt.xlabel('월')\n",
    "plt.ylabel('범죄건수')\n",
    "plt.grid(axis='y')\n",
    "plt.show()"
   ]
  },
  {
   "cell_type": "markdown",
   "id": "a8711cd7",
   "metadata": {},
   "source": [
    "## 범죄데이터 실습"
   ]
  },
  {
   "cell_type": "code",
   "execution_count": 49,
   "id": "fc639028",
   "metadata": {},
   "outputs": [],
   "source": [
    "# #출처 (URL) https://www.data.go.kr/data/15070037/fileData.do\n",
    "# 2.1  설명\n",
    "# 강원도내에서 발생한 5대범죄 발생 및 검거 현황을 연도별로 제공하는 데이터\n",
    "# 살인/강도/강간/절도/폭력 사건에 대해 발생건수와 검거건수를 제공"
   ]
  },
  {
   "cell_type": "markdown",
   "id": "cb7a0cca",
   "metadata": {},
   "source": [
    "### CSV 파일로 불러오기"
   ]
  },
  {
   "cell_type": "code",
   "execution_count": 50,
   "id": "788023d4",
   "metadata": {},
   "outputs": [],
   "source": [
    "# 깃허브 : 경찰청 강원도경찰청_5대범죄 발생 및 검거 현황_20211231.csv"
   ]
  },
  {
   "cell_type": "code",
   "execution_count": 51,
   "id": "d8ca42e5",
   "metadata": {},
   "outputs": [
    {
     "data": {
      "text/html": [
       "<div>\n",
       "<style scoped>\n",
       "    .dataframe tbody tr th:only-of-type {\n",
       "        vertical-align: middle;\n",
       "    }\n",
       "\n",
       "    .dataframe tbody tr th {\n",
       "        vertical-align: top;\n",
       "    }\n",
       "\n",
       "    .dataframe thead th {\n",
       "        text-align: right;\n",
       "    }\n",
       "</style>\n",
       "<table border=\"1\" class=\"dataframe\">\n",
       "  <thead>\n",
       "    <tr style=\"text-align: right;\">\n",
       "      <th></th>\n",
       "      <th>연도</th>\n",
       "      <th>발생</th>\n",
       "      <th>검거</th>\n",
       "      <th>검거율</th>\n",
       "      <th>살인 발생</th>\n",
       "      <th>살인 검거</th>\n",
       "      <th>강도 발생</th>\n",
       "      <th>강도 검거</th>\n",
       "      <th>강간 발생</th>\n",
       "      <th>강간 검거</th>\n",
       "      <th>절도 발생</th>\n",
       "      <th>절도 검거</th>\n",
       "      <th>폭력 발생</th>\n",
       "      <th>폭력 검거</th>\n",
       "    </tr>\n",
       "  </thead>\n",
       "  <tbody>\n",
       "    <tr>\n",
       "      <th>0</th>\n",
       "      <td>2021</td>\n",
       "      <td>11833</td>\n",
       "      <td>9693</td>\n",
       "      <td>81.9</td>\n",
       "      <td>15</td>\n",
       "      <td>16</td>\n",
       "      <td>11</td>\n",
       "      <td>10</td>\n",
       "      <td>562</td>\n",
       "      <td>518</td>\n",
       "      <td>4194</td>\n",
       "      <td>2837</td>\n",
       "      <td>7051</td>\n",
       "      <td>6312</td>\n",
       "    </tr>\n",
       "    <tr>\n",
       "      <th>1</th>\n",
       "      <td>2020</td>\n",
       "      <td>12774</td>\n",
       "      <td>10847</td>\n",
       "      <td>84.9</td>\n",
       "      <td>35</td>\n",
       "      <td>37</td>\n",
       "      <td>21</td>\n",
       "      <td>21</td>\n",
       "      <td>585</td>\n",
       "      <td>565</td>\n",
       "      <td>4327</td>\n",
       "      <td>3091</td>\n",
       "      <td>7806</td>\n",
       "      <td>7133</td>\n",
       "    </tr>\n",
       "    <tr>\n",
       "      <th>2</th>\n",
       "      <td>2019</td>\n",
       "      <td>13859</td>\n",
       "      <td>11597</td>\n",
       "      <td>83.7</td>\n",
       "      <td>22</td>\n",
       "      <td>21</td>\n",
       "      <td>25</td>\n",
       "      <td>26</td>\n",
       "      <td>689</td>\n",
       "      <td>650</td>\n",
       "      <td>4675</td>\n",
       "      <td>3155</td>\n",
       "      <td>8448</td>\n",
       "      <td>7745</td>\n",
       "    </tr>\n",
       "    <tr>\n",
       "      <th>3</th>\n",
       "      <td>2018</td>\n",
       "      <td>14094</td>\n",
       "      <td>11980</td>\n",
       "      <td>85.0</td>\n",
       "      <td>25</td>\n",
       "      <td>24</td>\n",
       "      <td>16</td>\n",
       "      <td>16</td>\n",
       "      <td>699</td>\n",
       "      <td>665</td>\n",
       "      <td>4300</td>\n",
       "      <td>3048</td>\n",
       "      <td>9054</td>\n",
       "      <td>8227</td>\n",
       "    </tr>\n",
       "    <tr>\n",
       "      <th>4</th>\n",
       "      <td>2017</td>\n",
       "      <td>16187</td>\n",
       "      <td>13540</td>\n",
       "      <td>83.6</td>\n",
       "      <td>32</td>\n",
       "      <td>32</td>\n",
       "      <td>27</td>\n",
       "      <td>26</td>\n",
       "      <td>627</td>\n",
       "      <td>591</td>\n",
       "      <td>5248</td>\n",
       "      <td>3628</td>\n",
       "      <td>10253</td>\n",
       "      <td>9263</td>\n",
       "    </tr>\n",
       "    <tr>\n",
       "      <th>5</th>\n",
       "      <td>2016</td>\n",
       "      <td>16678</td>\n",
       "      <td>14037</td>\n",
       "      <td>84.2</td>\n",
       "      <td>28</td>\n",
       "      <td>29</td>\n",
       "      <td>28</td>\n",
       "      <td>29</td>\n",
       "      <td>603</td>\n",
       "      <td>570</td>\n",
       "      <td>5166</td>\n",
       "      <td>3568</td>\n",
       "      <td>10853</td>\n",
       "      <td>9841</td>\n",
       "    </tr>\n",
       "    <tr>\n",
       "      <th>6</th>\n",
       "      <td>2015</td>\n",
       "      <td>16441</td>\n",
       "      <td>13020</td>\n",
       "      <td>79.2</td>\n",
       "      <td>33</td>\n",
       "      <td>31</td>\n",
       "      <td>35</td>\n",
       "      <td>35</td>\n",
       "      <td>577</td>\n",
       "      <td>544</td>\n",
       "      <td>5966</td>\n",
       "      <td>3740</td>\n",
       "      <td>9830</td>\n",
       "      <td>8670</td>\n",
       "    </tr>\n",
       "    <tr>\n",
       "      <th>7</th>\n",
       "      <td>2014</td>\n",
       "      <td>16487</td>\n",
       "      <td>12004</td>\n",
       "      <td>72.8</td>\n",
       "      <td>25</td>\n",
       "      <td>24</td>\n",
       "      <td>56</td>\n",
       "      <td>55</td>\n",
       "      <td>582</td>\n",
       "      <td>560</td>\n",
       "      <td>6203</td>\n",
       "      <td>2988</td>\n",
       "      <td>9621</td>\n",
       "      <td>8377</td>\n",
       "    </tr>\n",
       "  </tbody>\n",
       "</table>\n",
       "</div>"
      ],
      "text/plain": [
       "     연도     발생     검거   검거율  살인 발생  살인 검거  강도 발생  강도 검거  강간 발생  강간 검거  절도 발생  \\\n",
       "0  2021  11833   9693  81.9     15     16     11     10    562    518   4194   \n",
       "1  2020  12774  10847  84.9     35     37     21     21    585    565   4327   \n",
       "2  2019  13859  11597  83.7     22     21     25     26    689    650   4675   \n",
       "3  2018  14094  11980  85.0     25     24     16     16    699    665   4300   \n",
       "4  2017  16187  13540  83.6     32     32     27     26    627    591   5248   \n",
       "5  2016  16678  14037  84.2     28     29     28     29    603    570   5166   \n",
       "6  2015  16441  13020  79.2     33     31     35     35    577    544   5966   \n",
       "7  2014  16487  12004  72.8     25     24     56     55    582    560   6203   \n",
       "\n",
       "   절도 검거  폭력 발생  폭력 검거  \n",
       "0   2837   7051   6312  \n",
       "1   3091   7806   7133  \n",
       "2   3155   8448   7745  \n",
       "3   3048   9054   8227  \n",
       "4   3628  10253   9263  \n",
       "5   3568  10853   9841  \n",
       "6   3740   9830   8670  \n",
       "7   2988   9621   8377  "
      ]
     },
     "execution_count": 51,
     "metadata": {},
     "output_type": "execute_result"
    }
   ],
   "source": [
    "# CSV 파일로 불러오기\n",
    "# csv 파일 판다스로 불러 올때 오류 방지 : encoding='cp949\n",
    "\n",
    "data = pd.read_csv('경찰청 강원도경찰청_5대범죄 발생 및 검거 현황_20211231.csv', encoding='cp949')\n",
    "data"
   ]
  },
  {
   "cell_type": "code",
   "execution_count": 52,
   "id": "7d9cf00a",
   "metadata": {},
   "outputs": [
    {
     "data": {
      "text/html": [
       "<div>\n",
       "<style scoped>\n",
       "    .dataframe tbody tr th:only-of-type {\n",
       "        vertical-align: middle;\n",
       "    }\n",
       "\n",
       "    .dataframe tbody tr th {\n",
       "        vertical-align: top;\n",
       "    }\n",
       "\n",
       "    .dataframe thead th {\n",
       "        text-align: right;\n",
       "    }\n",
       "</style>\n",
       "<table border=\"1\" class=\"dataframe\">\n",
       "  <thead>\n",
       "    <tr style=\"text-align: right;\">\n",
       "      <th></th>\n",
       "      <th>연도</th>\n",
       "      <th>발생</th>\n",
       "      <th>검거</th>\n",
       "      <th>검거율</th>\n",
       "      <th>살인 발생</th>\n",
       "      <th>살인 검거</th>\n",
       "      <th>강도 발생</th>\n",
       "      <th>강도 검거</th>\n",
       "      <th>강간 발생</th>\n",
       "      <th>강간 검거</th>\n",
       "      <th>절도 발생</th>\n",
       "      <th>절도 검거</th>\n",
       "      <th>폭력 발생</th>\n",
       "      <th>폭력 검거</th>\n",
       "    </tr>\n",
       "  </thead>\n",
       "  <tbody>\n",
       "    <tr>\n",
       "      <th>count</th>\n",
       "      <td>8.00000</td>\n",
       "      <td>8.000000</td>\n",
       "      <td>8.000000</td>\n",
       "      <td>8.000000</td>\n",
       "      <td>8.000000</td>\n",
       "      <td>8.00000</td>\n",
       "      <td>8.000000</td>\n",
       "      <td>8.000000</td>\n",
       "      <td>8.000000</td>\n",
       "      <td>8.000000</td>\n",
       "      <td>8.000000</td>\n",
       "      <td>8.000000</td>\n",
       "      <td>8.000000</td>\n",
       "      <td>8.000000</td>\n",
       "    </tr>\n",
       "    <tr>\n",
       "      <th>mean</th>\n",
       "      <td>2017.50000</td>\n",
       "      <td>14794.125000</td>\n",
       "      <td>12089.750000</td>\n",
       "      <td>81.912500</td>\n",
       "      <td>26.875000</td>\n",
       "      <td>26.75000</td>\n",
       "      <td>27.375000</td>\n",
       "      <td>27.250000</td>\n",
       "      <td>615.500000</td>\n",
       "      <td>582.875000</td>\n",
       "      <td>5009.875000</td>\n",
       "      <td>3256.875000</td>\n",
       "      <td>9114.500000</td>\n",
       "      <td>8196.000000</td>\n",
       "    </tr>\n",
       "    <tr>\n",
       "      <th>std</th>\n",
       "      <td>2.44949</td>\n",
       "      <td>1900.410064</td>\n",
       "      <td>1429.855712</td>\n",
       "      <td>4.142614</td>\n",
       "      <td>6.577831</td>\n",
       "      <td>6.75595</td>\n",
       "      <td>13.741881</td>\n",
       "      <td>13.625082</td>\n",
       "      <td>52.181004</td>\n",
       "      <td>50.772426</td>\n",
       "      <td>771.532323</td>\n",
       "      <td>337.650046</td>\n",
       "      <td>1282.025964</td>\n",
       "      <td>1132.994641</td>\n",
       "    </tr>\n",
       "    <tr>\n",
       "      <th>min</th>\n",
       "      <td>2014.00000</td>\n",
       "      <td>11833.000000</td>\n",
       "      <td>9693.000000</td>\n",
       "      <td>72.800000</td>\n",
       "      <td>15.000000</td>\n",
       "      <td>16.00000</td>\n",
       "      <td>11.000000</td>\n",
       "      <td>10.000000</td>\n",
       "      <td>562.000000</td>\n",
       "      <td>518.000000</td>\n",
       "      <td>4194.000000</td>\n",
       "      <td>2837.000000</td>\n",
       "      <td>7051.000000</td>\n",
       "      <td>6312.000000</td>\n",
       "    </tr>\n",
       "    <tr>\n",
       "      <th>25%</th>\n",
       "      <td>2015.75000</td>\n",
       "      <td>13587.750000</td>\n",
       "      <td>11409.500000</td>\n",
       "      <td>81.225000</td>\n",
       "      <td>24.250000</td>\n",
       "      <td>23.25000</td>\n",
       "      <td>19.750000</td>\n",
       "      <td>19.750000</td>\n",
       "      <td>580.750000</td>\n",
       "      <td>556.000000</td>\n",
       "      <td>4320.250000</td>\n",
       "      <td>3033.000000</td>\n",
       "      <td>8287.500000</td>\n",
       "      <td>7592.000000</td>\n",
       "    </tr>\n",
       "    <tr>\n",
       "      <th>50%</th>\n",
       "      <td>2017.50000</td>\n",
       "      <td>15140.500000</td>\n",
       "      <td>11992.000000</td>\n",
       "      <td>83.650000</td>\n",
       "      <td>26.500000</td>\n",
       "      <td>26.50000</td>\n",
       "      <td>26.000000</td>\n",
       "      <td>26.000000</td>\n",
       "      <td>594.000000</td>\n",
       "      <td>567.500000</td>\n",
       "      <td>4920.500000</td>\n",
       "      <td>3123.000000</td>\n",
       "      <td>9337.500000</td>\n",
       "      <td>8302.000000</td>\n",
       "    </tr>\n",
       "    <tr>\n",
       "      <th>75%</th>\n",
       "      <td>2019.25000</td>\n",
       "      <td>16452.500000</td>\n",
       "      <td>13150.000000</td>\n",
       "      <td>84.375000</td>\n",
       "      <td>32.250000</td>\n",
       "      <td>31.25000</td>\n",
       "      <td>29.750000</td>\n",
       "      <td>30.500000</td>\n",
       "      <td>642.500000</td>\n",
       "      <td>605.750000</td>\n",
       "      <td>5427.500000</td>\n",
       "      <td>3583.000000</td>\n",
       "      <td>9935.750000</td>\n",
       "      <td>8818.250000</td>\n",
       "    </tr>\n",
       "    <tr>\n",
       "      <th>max</th>\n",
       "      <td>2021.00000</td>\n",
       "      <td>16678.000000</td>\n",
       "      <td>14037.000000</td>\n",
       "      <td>85.000000</td>\n",
       "      <td>35.000000</td>\n",
       "      <td>37.00000</td>\n",
       "      <td>56.000000</td>\n",
       "      <td>55.000000</td>\n",
       "      <td>699.000000</td>\n",
       "      <td>665.000000</td>\n",
       "      <td>6203.000000</td>\n",
       "      <td>3740.000000</td>\n",
       "      <td>10853.000000</td>\n",
       "      <td>9841.000000</td>\n",
       "    </tr>\n",
       "  </tbody>\n",
       "</table>\n",
       "</div>"
      ],
      "text/plain": [
       "               연도            발생            검거        검거율      살인 발생     살인 검거  \\\n",
       "count     8.00000      8.000000      8.000000   8.000000   8.000000   8.00000   \n",
       "mean   2017.50000  14794.125000  12089.750000  81.912500  26.875000  26.75000   \n",
       "std       2.44949   1900.410064   1429.855712   4.142614   6.577831   6.75595   \n",
       "min    2014.00000  11833.000000   9693.000000  72.800000  15.000000  16.00000   \n",
       "25%    2015.75000  13587.750000  11409.500000  81.225000  24.250000  23.25000   \n",
       "50%    2017.50000  15140.500000  11992.000000  83.650000  26.500000  26.50000   \n",
       "75%    2019.25000  16452.500000  13150.000000  84.375000  32.250000  31.25000   \n",
       "max    2021.00000  16678.000000  14037.000000  85.000000  35.000000  37.00000   \n",
       "\n",
       "           강도 발생      강도 검거       강간 발생       강간 검거        절도 발생        절도 검거  \\\n",
       "count   8.000000   8.000000    8.000000    8.000000     8.000000     8.000000   \n",
       "mean   27.375000  27.250000  615.500000  582.875000  5009.875000  3256.875000   \n",
       "std    13.741881  13.625082   52.181004   50.772426   771.532323   337.650046   \n",
       "min    11.000000  10.000000  562.000000  518.000000  4194.000000  2837.000000   \n",
       "25%    19.750000  19.750000  580.750000  556.000000  4320.250000  3033.000000   \n",
       "50%    26.000000  26.000000  594.000000  567.500000  4920.500000  3123.000000   \n",
       "75%    29.750000  30.500000  642.500000  605.750000  5427.500000  3583.000000   \n",
       "max    56.000000  55.000000  699.000000  665.000000  6203.000000  3740.000000   \n",
       "\n",
       "              폭력 발생        폭력 검거  \n",
       "count      8.000000     8.000000  \n",
       "mean    9114.500000  8196.000000  \n",
       "std     1282.025964  1132.994641  \n",
       "min     7051.000000  6312.000000  \n",
       "25%     8287.500000  7592.000000  \n",
       "50%     9337.500000  8302.000000  \n",
       "75%     9935.750000  8818.250000  \n",
       "max    10853.000000  9841.000000  "
      ]
     },
     "execution_count": 52,
     "metadata": {},
     "output_type": "execute_result"
    }
   ],
   "source": [
    "# 데이터 셋 전체 요약 기술통계량\n",
    "data.describe()"
   ]
  },
  {
   "cell_type": "markdown",
   "id": "04ed3e9d",
   "metadata": {},
   "source": [
    "### 데이터셋 살펴보기"
   ]
  },
  {
   "cell_type": "code",
   "execution_count": 58,
   "id": "ec058456",
   "metadata": {
    "scrolled": true
   },
   "outputs": [
    {
     "name": "stdout",
     "output_type": "stream",
     "text": [
      "0    81.9\n",
      "1    84.9\n",
      "2    83.7\n",
      "3    85.0\n",
      "4    83.6\n",
      "5    84.2\n",
      "6    79.2\n",
      "7    72.8\n",
      "Name: 검거율, dtype: float64\n"
     ]
    },
    {
     "data": {
      "image/png": "[encoded data removed]",
      "text/plain": [
       "<Figure size 640x480 with 1 Axes>"
      ]
     },
     "metadata": {},
     "output_type": "display_data"
    }
   ],
   "source": [
    "# 데이터 보기\n",
    "\n",
    "print(data['검거율'])\n",
    "\n",
    "sns.barplot(x = data['연도'], y = data['검거율'])\n",
    "plt.ylim(0,100)\n",
    "plt.title('arrest rate (%)')\n",
    "plt.show()"
   ]
  },
  {
   "cell_type": "markdown",
   "id": "6f0252fa",
   "metadata": {},
   "source": [
    "### 평균값 구하기"
   ]
  },
  {
   "cell_type": "code",
   "execution_count": 59,
   "id": "5a0e0334",
   "metadata": {},
   "outputs": [],
   "source": [
    " # 산술평균"
   ]
  },
  {
   "cell_type": "code",
   "execution_count": 60,
   "id": "1055f1ed",
   "metadata": {},
   "outputs": [
    {
     "name": "stdout",
     "output_type": "stream",
     "text": [
      "81.9125\n"
     ]
    }
   ],
   "source": [
    "# 데이터의 평균값을 도출해보기 (전체 합 / 전체 데이터 개수)\n",
    "\n",
    "print(data['검거율'].sum()/len(data['검거율']))\n"
   ]
  },
  {
   "cell_type": "code",
   "execution_count": 61,
   "id": "ea93af6f",
   "metadata": {},
   "outputs": [
    {
     "name": "stdout",
     "output_type": "stream",
     "text": [
      "81.9125\n"
     ]
    }
   ],
   "source": [
    "print(data['검거율'].mean())"
   ]
  },
  {
   "cell_type": "code",
   "execution_count": 62,
   "id": "00a920a1",
   "metadata": {},
   "outputs": [
    {
     "name": "stdout",
     "output_type": "stream",
     "text": [
      "82\n"
     ]
    }
   ],
   "source": [
    "print(round(data['검거율'].mean()))\n",
    "\n"
   ]
  },
  {
   "cell_type": "code",
   "execution_count": 63,
   "id": "2de4b126",
   "metadata": {},
   "outputs": [
    {
     "name": "stdout",
     "output_type": "stream",
     "text": [
      "81.91\n"
     ]
    }
   ],
   "source": [
    "# 만약, 소수점 2째 자리까지만 출력하는 경우 (round 반올림 함수 이용)\n",
    "print(round(data['검거율'].mean(), 2))"
   ]
  },
  {
   "cell_type": "code",
   "execution_count": 64,
   "id": "a6098f48",
   "metadata": {},
   "outputs": [
    {
     "name": "stdout",
     "output_type": "stream",
     "text": [
      "해당 데이터의 컬럼 중 검거율의 평균값(mean)은 81.9125 입니다.\n"
     ]
    }
   ],
   "source": [
    "# 평균값 도출을 위한 함수\n",
    "\n",
    "def mean(data, column_name):\n",
    "    print(f'해당 데이터의 컬럼 중 {column_name}의 평균값(mean)은 {data[column_name].mean()} 입니다.')\n",
    "\n",
    "mean(data, '검거율')"
   ]
  },
  {
   "cell_type": "code",
   "execution_count": 65,
   "id": "9b4fb29d",
   "metadata": {},
   "outputs": [],
   "source": [
    " # 기하평균"
   ]
  },
  {
   "cell_type": "code",
   "execution_count": 66,
   "id": "12b6fc02",
   "metadata": {},
   "outputs": [
    {
     "name": "stdout",
     "output_type": "stream",
     "text": [
      "2014년 대비 2015년의 범죄건수 증가율은 약  103.66% 입니다.\n",
      "2015년 대비 2016년의 범죄건수 증가율은 약  98.59% 입니다.\n",
      "2016년 대비 2017년의 범죄건수 증가율은 약  101.55% 입니다.\n",
      "2017년 대비 2018년의 범죄건수 증가율은 약  98.35% 입니다.\n",
      "2018년 대비 2019년의 범죄건수 증가율은 약  100.72% 입니다.\n",
      "2019년 대비 2020년의 범죄건수 증가율은 약  94.06% 입니다.\n",
      "2020년 대비 2021년의 범죄건수 증가율은 약  91.92% 입니다.\n"
     ]
    }
   ],
   "source": [
    "# 증감률 도출하기 (월별 범죄 건수가 어떤 비율로 증감되었는지)\n",
    "rate = []\n",
    "for i in range(len(data['검거율'])-1):\n",
    "    rate.append((( (data['검거율'][i+1] ) / data['검거율'][i] )))\n",
    "\n",
    "\n",
    "for i in range(len(data['검거율'])-1):\n",
    "    print(f'{i+2014}년 대비 {i+2015}년의 범죄건수 증가율은 약 {rate[i]*100 : .2f}% 입니다.')"
   ]
  },
  {
   "cell_type": "code",
   "execution_count": 67,
   "id": "973678ef",
   "metadata": {},
   "outputs": [
    {
     "name": "stdout",
     "output_type": "stream",
     "text": [
      "[1.0366300366300367, 0.9858657243816255, 1.015531660692951, 0.9835294117647058, 1.0071770334928232, 0.9406175771971497, 0.9191919191919191] 내의 모든 값을 곱하면 0.888888888888889가 됩니다.\n",
      "해당 데이터의 기하평균 값은 0.9833146210374228 입니다.\n"
     ]
    }
   ],
   "source": [
    "# 변수 설정\n",
    "mulScores = 1 # 곱셈에 대한 항등원 1\n",
    "\n",
    "# 항목들로 반복 (tem_data의 모든 항목을 곱셈하기 위한 코드)\n",
    "for item in rate:\n",
    "    mulScores *= item\n",
    "print(f'{rate} 내의 모든 값을 곱하면 {mulScores}가 됩니다.')    \n",
    "\n",
    "# 제곱 연산자 '**'로 기하평균을 도츌합니다.\n",
    "geometricMean1 = mulScores ** (1/len(rate)) \n",
    "print(f'해당 데이터의 기하평균 값은 {geometricMean1} 입니다.')"
   ]
  },
  {
   "cell_type": "code",
   "execution_count": 68,
   "id": "a99d59ab",
   "metadata": {},
   "outputs": [],
   "source": [
    "# 가중평균"
   ]
  },
  {
   "cell_type": "code",
   "execution_count": 69,
   "id": "9a6f05e7",
   "metadata": {},
   "outputs": [
    {
     "name": "stdout",
     "output_type": "stream",
     "text": [
      "가중치 : [11833, 12774, 13859, 14094, 16187, 16678, 16441, 16487]\n",
      "검거율 : [81.9, 84.9, 83.7, 85.0, 83.6, 84.2, 79.2, 72.8]\n",
      "검거율의 범죄 발생에 대한 가중평균 값 : 81.7176176353789\n"
     ]
    }
   ],
   "source": [
    "# 가중치는 범죄 발생으로 설정하고 검거율의 가중평균을 시행해봅니다.\n",
    "\n",
    "print('가중치 :',data['발생'].tolist())\n",
    "print('검거율 :',data['검거율'].tolist())\n",
    "\n",
    "weight = data['발생']\n",
    "tem_data = data['검거율']\n",
    "\n",
    "print('검거율의 범죄 발생에 대한 가중평균 값 :', sum(tem_data * weight)/sum(weight))"
   ]
  },
  {
   "cell_type": "code",
   "execution_count": 70,
   "id": "6dd520e1",
   "metadata": {},
   "outputs": [],
   "source": [
    "#절사평균"
   ]
  },
  {
   "cell_type": "code",
   "execution_count": 71,
   "id": "69afe212",
   "metadata": {},
   "outputs": [
    {
     "name": "stdout",
     "output_type": "stream",
     "text": [
      "15.0% 비율로 절사한 후 data는 [84.9, 83.7, 85.0, 83.6, 84.2, 79.2]입니다.\n",
      "15.0% 비율로 절사한 후 data의 평균은 83.43333333333334입니다.\n"
     ]
    }
   ],
   "source": [
    "# 인덱스 슬라이싱을 적용하여 tem_data 내에서 절사 시행\n",
    "\n",
    "# 변수 설정\n",
    "cut = 0.15\n",
    "n = len(data)\n",
    "tem_data = data['검거율']\n",
    "cut_data = round(n * cut)\n",
    "\n",
    "# 인덱싱 데이터 출력\n",
    "print(f'{cut*100}% 비율로 절사한 후 data는 {tem_data[cut_data : -cut_data].tolist()}입니다.')\n",
    "\n",
    "# 인덱싱 후 데이터의 평균 출력\n",
    "print(f'{cut*100}% 비율로 절사한 후 data의 평균은 {tem_data[cut_data : -cut_data].mean()}입니다.')"
   ]
  },
  {
   "cell_type": "markdown",
   "id": "6a78fb78",
   "metadata": {},
   "source": [
    "### 중위값(중위수, 중앙값) 도출"
   ]
  },
  {
   "cell_type": "code",
   "execution_count": 72,
   "id": "f395a463",
   "metadata": {},
   "outputs": [
    {
     "name": "stdout",
     "output_type": "stream",
     "text": [
      "0    81.9\n",
      "1    84.9\n",
      "2    83.7\n",
      "3    85.0\n",
      "4    83.6\n",
      "5    84.2\n",
      "6    79.2\n",
      "7    72.8\n",
      "Name: 검거율, dtype: float64\n"
     ]
    }
   ],
   "source": [
    "# 데이터 보기\n",
    "\n",
    "print(data['검거율'])"
   ]
  },
  {
   "cell_type": "code",
   "execution_count": 73,
   "id": "bbdbc845",
   "metadata": {},
   "outputs": [
    {
     "name": "stdout",
     "output_type": "stream",
     "text": [
      "[72.8, 79.2, 81.9, 83.6, 83.7, 84.2, 84.9, 85.0]\n",
      "4\n",
      "83.65\n"
     ]
    }
   ],
   "source": [
    "# 하나씩 실행해보는 부분\n",
    "\n",
    "# 오름차순으로 정렬한 검거율 데이터를 따로 형성\n",
    "tem_data = sorted(data['검거율'])\n",
    "print(tem_data)\n",
    "\n",
    "# 검거율 데이터의 길이를 2로 나눈 몫을 출력\n",
    "center = len(tem_data) // 2\n",
    "print(center)\n",
    "\n",
    "# 인덱스로 접근하여 tem_data의 3번째 값과 -4번째 (= 2번째) 값을 더한 후 2로 나눠준다.\n",
    "# 참고로 인덱스는 0부터 시작한다.\n",
    "print((tem_data[center] + tem_data[-center - 1])/2)"
   ]
  },
  {
   "cell_type": "code",
   "execution_count": 74,
   "id": "2100e059",
   "metadata": {},
   "outputs": [
    {
     "name": "stdout",
     "output_type": "stream",
     "text": [
      "해당 데이터의 컬럼 중 검거율의 중위값(median)은 83.65 입니다.\n"
     ]
    }
   ],
   "source": [
    "# 중위값(median) 도출을 위한 함수. (파이썬 함수를 활용한 중위값 출력 부분)\n",
    "def mean(data = data, column_name = '발생'):\n",
    "    print(f'해당 데이터의 컬럼 중 {column_name}의 중위값(median)은 {data[column_name].median()} 입니다.')\n",
    "    \n",
    "mean(data, '검거율')"
   ]
  },
  {
   "cell_type": "markdown",
   "id": "9be22d59",
   "metadata": {},
   "source": [
    "### 분산도"
   ]
  },
  {
   "cell_type": "markdown",
   "id": "37bd7285",
   "metadata": {},
   "source": [
    "#### 범위"
   ]
  },
  {
   "cell_type": "code",
   "execution_count": 75,
   "id": "3ca6860e",
   "metadata": {},
   "outputs": [
    {
     "name": "stdout",
     "output_type": "stream",
     "text": [
      "오름차순 정렬한 값 : [72.8, 79.2, 81.9, 83.6, 83.7, 84.2, 84.9, 85.0]\n",
      "최소값 : 72.8\n",
      "최댓값 : 85.0\n"
     ]
    }
   ],
   "source": [
    "# 오름차순 정렬\n",
    "tmp_data = sorted(data['검거율'])\n",
    "print(f'오름차순 정렬한 값 : {tmp_data}')\n",
    "\n",
    "# 최솟값과 최댓값 출력\n",
    "print(f'최소값 : {tmp_data[0]}')\n",
    "print(f'최댓값 : {tmp_data[-1]}')"
   ]
  },
  {
   "cell_type": "code",
   "execution_count": 76,
   "id": "828d0dec",
   "metadata": {},
   "outputs": [
    {
     "name": "stdout",
     "output_type": "stream",
     "text": [
      "검거율 데이터 : [81.9, 84.9, 83.7, 85.0, 83.6, 84.2, 79.2, 72.8]\n",
      "최솟값 : 72.8\n",
      "최댓값 : 85.0\n",
      "검거율 데이터의 범위는 최소 72.8에서 최대 85.0로 12.2의 범위를 가지고 있습니다.\n"
     ]
    }
   ],
   "source": [
    "# max, min 매서드 활용\n",
    "print(f'검거율 데이터 : {data.검거율.tolist()}')\n",
    "\n",
    "print(f'최솟값 : {min(data.검거율)}')\n",
    "print(f'최댓값 : {max(data.검거율)}')\n",
    "\n",
    "# 따라서 범위는 최댓값 - 최솟값으로 출력할 수 있음.\n",
    "print(f'검거율 데이터의 범위는 최소 {min(data.검거율)}에서 최대 {max(data.검거율)}로 {round(max(data.검거율) - min(data.검거율),2)}의 범위를 가지고 있습니다.')\n"
   ]
  },
  {
   "cell_type": "code",
   "execution_count": 77,
   "id": "d07970b9",
   "metadata": {},
   "outputs": [
    {
     "name": "stdout",
     "output_type": "stream",
     "text": [
      "검거율 데이터 : [81.9, 84.9, 83.7, 85.0, 83.6, 84.2, 79.2, 72.8]\n",
      "최솟값 : 72.8\n",
      "최댓값 : 85.0\n",
      "'검거율' 데이터의 범위는 최소 72.8에서 최대 85.0로 12.2의 범위를 가지고 있습니다.\n"
     ]
    }
   ],
   "source": [
    "def min_max(data, columns):\n",
    "    print(f'검거율 데이터 : {data[columns].tolist()}')\n",
    "    print(f'최솟값 : {min(data[columns])}')\n",
    "    print(f'최댓값 : {max(data[columns])}')\n",
    "    print(f\"'{columns}' 데이터의 범위는 최소 {min(data[columns])}에서 최대 {max(data[columns])}로 {round(max(data[columns]) - min(data[columns]),2)}의 범위를 가지고 있습니다.\")\n",
    "\n",
    "min_max(data, '검거율')\n"
   ]
  },
  {
   "cell_type": "markdown",
   "id": "c6ec7e4a",
   "metadata": {},
   "source": [
    "#### 분산"
   ]
  },
  {
   "cell_type": "code",
   "execution_count": 78,
   "id": "7851474f",
   "metadata": {},
   "outputs": [
    {
     "name": "stdout",
     "output_type": "stream",
     "text": [
      "[1.56250000e-04 8.92515625e+00 3.19515625e+00 9.53265625e+00\n",
      " 2.84765625e+00 5.23265625e+00 7.35765625e+00 8.30376562e+01]\n",
      "편차의 제곱합의 평균, 즉 분산은 15.01609375000001입니다.\n"
     ]
    }
   ],
   "source": [
    "n = len(data)\n",
    "m = data['검거율'].mean()\n",
    "\n",
    "# 제곱을 해주는 매서드 pow를 활용하여 편차의 제곱 도출\n",
    "# 편차 = 변량 - 평균\n",
    "print(pow(data['검거율']-m, 2).values)\n",
    "resid = pow(data['검거율']-m, 2)\n",
    "\n",
    "# 제곱합을 한 후, 변량의 개수로 나눠주면 분산 도출\n",
    "print(f'편차의 제곱합의 평균, 즉 분산은 {sum(resid)/n}입니다.')"
   ]
  },
  {
   "cell_type": "code",
   "execution_count": 79,
   "id": "5ba569fb",
   "metadata": {},
   "outputs": [],
   "source": [
    "def varianve(data, columns):\n",
    "    n = len(data)\n",
    "    m = data[columns].mean()\n",
    "\n",
    "    # 제곱을 해주는 매서드 pow를 활용하여 편차의 제곱 도출\n",
    "    # 편차 = 변량 - 평균\n",
    "    print(pow(data[columns]-m, 2).values)\n",
    "    resid = pow(data[columns]-m, 2)\n",
    "\n",
    "    # 제곱합을 한 후, 변량의 개수로 나눠주면 분산 도출\n",
    "    print(f'편차의 제곱합의 평균, 즉 분산은 {sum(resid)/n}입니다.')"
   ]
  },
  {
   "cell_type": "code",
   "execution_count": 80,
   "id": "7efe99fc",
   "metadata": {},
   "outputs": [
    {
     "data": {
      "text/plain": [
       "15.016093750000008"
      ]
     },
     "execution_count": 80,
     "metadata": {},
     "output_type": "execute_result"
    }
   ],
   "source": [
    "# numpy의 var 매서드를 활용한 분산 도출\n",
    "\n",
    "np.var(data['검거율'])"
   ]
  },
  {
   "cell_type": "code",
   "execution_count": 81,
   "id": "fbbafd7b",
   "metadata": {},
   "outputs": [
    {
     "data": {
      "text/plain": [
       "37.859375"
      ]
     },
     "execution_count": 81,
     "metadata": {},
     "output_type": "execute_result"
    }
   ],
   "source": [
    "# numpy의 var 매서드를 활용한 분산 도출\n",
    "\n",
    "np.var(data['살인 발생'])"
   ]
  },
  {
   "cell_type": "markdown",
   "id": "9a86d5d6",
   "metadata": {},
   "source": [
    "#### 표준편차"
   ]
  },
  {
   "cell_type": "code",
   "execution_count": 82,
   "id": "b02ded33",
   "metadata": {},
   "outputs": [
    {
     "name": "stdout",
     "output_type": "stream",
     "text": [
      "3.8750604833989377\n",
      "3.8750604833989377\n"
     ]
    }
   ],
   "source": [
    "# 표준편차는 분산의 제곱근입니다.\n",
    "print(pow(np.var(data['검거율']),1/2))\n",
    "\n",
    "# numpy의 std 매서드를 활용한 표준편차 도출\n",
    "print(np.std((data['검거율'])))"
   ]
  },
  {
   "cell_type": "markdown",
   "id": "eddbfbc1",
   "metadata": {},
   "source": [
    "#### 왜도(skewness)"
   ]
  },
  {
   "cell_type": "code",
   "execution_count": 83,
   "id": "eca4e81b",
   "metadata": {},
   "outputs": [],
   "source": [
    "# 왜도(Skewness)\n",
    "# 왜도는 분포의 비대칭도를 나타내는 통계량\n",
    "# 정규분포, T분포와 같이 좌우대칭인 분포의 경우 왜도가 0\n",
    "# 왼쪽으로 긴 꼬리를 가지면(skewed to the left) 왜도는 음수(-)"
   ]
  },
  {
   "cell_type": "code",
   "execution_count": 84,
   "id": "100741db",
   "metadata": {},
   "outputs": [
    {
     "name": "stdout",
     "output_type": "stream",
     "text": [
      "편차/표쥰편차의 3제곱 : [-3.356561295699256e-08, 0.45823502927546855, 0.09815280036839755, 0.5058077067819933, 0.0825839949792859, 0.20570642265452407, -0.3429839392323381, -13.004006185418262]\n",
      "왜도 : -1.499563025519568\n"
     ]
    }
   ],
   "source": [
    "# 변수 설정\n",
    "n = len(data['검거율'])\n",
    "m = data['검거율'].mean()\n",
    "std = np.std(data['검거율'])\n",
    "\n",
    "# 편차/표쥰편차 값에 3제곱 시행 \n",
    "tmp_result = pow((data['검거율'] - m)/std, 3)\n",
    "print(f'편차/표쥰편차의 3제곱 : {tmp_result.tolist()}')\n",
    "\n",
    "# 3제곱 한 값을 더하고 데이터 개수만큼 나누면 왜도 도출\n",
    "result = sum(tmp_result)/n\n",
    "print(f'왜도 : {result}')"
   ]
  },
  {
   "cell_type": "code",
   "execution_count": 85,
   "id": "9c8df7ee",
   "metadata": {},
   "outputs": [
    {
     "data": {
      "text/plain": [
       "-1.499563025519568"
      ]
     },
     "execution_count": 85,
     "metadata": {},
     "output_type": "execute_result"
    }
   ],
   "source": [
    "# 함수화 작업\n",
    "def skewness(data):\n",
    "    n = len(data)\n",
    "    m = data.mean()\n",
    "    std = np.std(data)\n",
    "    \n",
    "    tmp_result = pow((data - m)/std, 3)\n",
    "    result = sum(tmp_result)/n\n",
    "    return result\n",
    "\n",
    "\n",
    "skewness(data['검거율'])"
   ]
  },
  {
   "cell_type": "code",
   "execution_count": 86,
   "id": "57f60993",
   "metadata": {},
   "outputs": [
    {
     "data": {
      "text/plain": [
       "-1.4995630255195682"
      ]
     },
     "execution_count": 86,
     "metadata": {},
     "output_type": "execute_result"
    }
   ],
   "source": [
    "# 라이브러리 import로 구한 skew\n",
    "\n",
    "from scipy.stats import skew\n",
    "\n",
    "skew(data['검거율'])"
   ]
  },
  {
   "cell_type": "markdown",
   "id": "bea2075c",
   "metadata": {},
   "source": [
    "#### 첨도(Kurtosis)"
   ]
  },
  {
   "cell_type": "code",
   "execution_count": 87,
   "id": "d3551ffe",
   "metadata": {},
   "outputs": [],
   "source": [
    "# 첨도는 분포의 꼬리부분의 길이와 중앙부분의 뾰족함에 대한 정보를 제공하는 통계량\n",
    "# 정규분포의 첨도 =  0\n",
    "# 첨도 > 0 : 정규분포보다 긴 꼬리를 갖고, 분포가 보다 중앙부분에 덜 집중되게 되므로 중앙부분이 뾰족한 모양을 가지게 된다.\n",
    "# 첨도< 0  : 정규분포보다 짧은 꼬리를 갖고 분포가 중앙부분에 더 집중되어 중앙부분이 보다 완만한 모양을 가지게 된다"
   ]
  },
  {
   "cell_type": "code",
   "execution_count": 88,
   "id": "fa8b2eee",
   "metadata": {},
   "outputs": [
    {
     "name": "stdout",
     "output_type": "stream",
     "text": [
      "편차/표쥰편차의 4제곱 : [1.0827448081378258e-10, 0.3532789116002893, 0.045276230244700684, 0.40300823725972074, 0.03596343647397923, 0.12143125090256356, 0.2400850100671668, 30.579911429068755]\n",
      "첨도 : 0.9723693132156814\n"
     ]
    }
   ],
   "source": [
    "# 변수 설정\n",
    "n = len(data['검거율'])\n",
    "m = data['검거율'].mean()\n",
    "std = np.std(data['검거율'])\n",
    "\n",
    "# 편차/표준편차의 4제곱 시행\n",
    "tmp_result = pow(((data['검거율'] - m) / std), 4)\n",
    "print(f'편차/표쥰편차의 4제곱 : {tmp_result.tolist()}')\n",
    "\n",
    "# 4제곱 한 값을 더하고 데이터 개수만큼 나누고 -3을 하면 첨도 도출\n",
    "result = sum(tmp_result)/n - 3\n",
    "print(f'첨도 : {result}')"
   ]
  },
  {
   "cell_type": "code",
   "execution_count": 89,
   "id": "85f5c63e",
   "metadata": {},
   "outputs": [
    {
     "data": {
      "text/plain": [
       "0.9723693132156814"
      ]
     },
     "execution_count": 89,
     "metadata": {},
     "output_type": "execute_result"
    }
   ],
   "source": [
    "# 함수화\n",
    "def kurtosis_self(data):\n",
    "    n = len(data)\n",
    "    m = data.mean()\n",
    "    std = np.std(data)\n",
    "    \n",
    "    tmp_result = pow(((data - m) / std), 4)\n",
    "    result = sum(tmp_result)/n - 3\n",
    "    return result\n",
    "\n",
    "kurtosis_self(data['검거율'])"
   ]
  },
  {
   "cell_type": "code",
   "execution_count": 90,
   "id": "ed2081a7",
   "metadata": {},
   "outputs": [
    {
     "data": {
      "text/plain": [
       "0.9723693132156828"
      ]
     },
     "execution_count": 90,
     "metadata": {},
     "output_type": "execute_result"
    }
   ],
   "source": [
    "# 라이브러리 import로 구한 kurtosis\n",
    "\n",
    "from scipy.stats import kurtosis\n",
    "\n",
    "kurtosis(data['검거율'])"
   ]
  },
  {
   "cell_type": "code",
   "execution_count": 91,
   "id": "6e673753",
   "metadata": {},
   "outputs": [],
   "source": [
    "# 종합"
   ]
  },
  {
   "cell_type": "code",
   "execution_count": 92,
   "id": "f86df303",
   "metadata": {},
   "outputs": [
    {
     "name": "stdout",
     "output_type": "stream",
     "text": [
      "데이터 컬럼 명 '검거율'의 count는             8.0입니다.\n",
      "데이터 컬럼 명 '검거율'의 mean는             81.91입니다.\n",
      "데이터 컬럼 명 '검거율'의 std는             4.14입니다.\n",
      "데이터 컬럼 명 '검거율'의 min는             72.8입니다.\n",
      "데이터 컬럼 명 '검거율'의 50%는             83.65입니다.\n",
      "데이터 컬럼 명 '검거율'의 max는             85.0입니다.\n"
     ]
    },
    {
     "name": "stderr",
     "output_type": "stream",
     "text": [
      "C:\\Users\\JYB\\AppData\\Local\\Temp\\ipykernel_16404\\4292070551.py:15: FutureWarning: Series.__getitem__ treating keys as positions is deprecated. In a future version, integer keys will always be treated as labels (consistent with DataFrame behavior). To access a value by position, use `ser.iloc[pos]`\n",
      "  {round(data[column].describe()[i],2)}입니다.\")\n",
      "C:\\Users\\JYB\\AppData\\Local\\Temp\\ipykernel_16404\\4292070551.py:15: FutureWarning: Series.__getitem__ treating keys as positions is deprecated. In a future version, integer keys will always be treated as labels (consistent with DataFrame behavior). To access a value by position, use `ser.iloc[pos]`\n",
      "  {round(data[column].describe()[i],2)}입니다.\")\n",
      "C:\\Users\\JYB\\AppData\\Local\\Temp\\ipykernel_16404\\4292070551.py:15: FutureWarning: Series.__getitem__ treating keys as positions is deprecated. In a future version, integer keys will always be treated as labels (consistent with DataFrame behavior). To access a value by position, use `ser.iloc[pos]`\n",
      "  {round(data[column].describe()[i],2)}입니다.\")\n",
      "C:\\Users\\JYB\\AppData\\Local\\Temp\\ipykernel_16404\\4292070551.py:15: FutureWarning: Series.__getitem__ treating keys as positions is deprecated. In a future version, integer keys will always be treated as labels (consistent with DataFrame behavior). To access a value by position, use `ser.iloc[pos]`\n",
      "  {round(data[column].describe()[i],2)}입니다.\")\n",
      "C:\\Users\\JYB\\AppData\\Local\\Temp\\ipykernel_16404\\4292070551.py:15: FutureWarning: Series.__getitem__ treating keys as positions is deprecated. In a future version, integer keys will always be treated as labels (consistent with DataFrame behavior). To access a value by position, use `ser.iloc[pos]`\n",
      "  {round(data[column].describe()[i],2)}입니다.\")\n",
      "C:\\Users\\JYB\\AppData\\Local\\Temp\\ipykernel_16404\\4292070551.py:15: FutureWarning: Series.__getitem__ treating keys as positions is deprecated. In a future version, integer keys will always be treated as labels (consistent with DataFrame behavior). To access a value by position, use `ser.iloc[pos]`\n",
      "  {round(data[column].describe()[i],2)}입니다.\")\n"
     ]
    }
   ],
   "source": [
    "def describe_data(data, column, returns = True):\n",
    "    \"\"\"[summary]\n",
    "\n",
    "    Args:\n",
    "        data ([dataframe]): [데이터프레임 이름을 입력합니다]\n",
    "        column ([string]): [컬럼명을 입력합니다]\n",
    "        returns (bool, optional): [describe()함수를 이용한 출력 결과를 표시하는지 여부입니다.]. 기본값은 True입니다.\n",
    "\n",
    "    Returns:\n",
    "        [type]: [describe()함수를 이용한 출력 결과를 표시]\n",
    "    \"\"\"\n",
    "    \n",
    "    for i in [0,1,2,3,5,7]:\n",
    "        print(f\"데이터 컬럼 명 '{column}'의 {data[column].describe().index[i]}는 \\\n",
    "            {round(data[column].describe()[i],2)}입니다.\")\n",
    "        \n",
    "    if returns == True:\n",
    "        return data[column].describe()\n",
    "    else :\n",
    "        return \n",
    "\n",
    "# describe_data(data, '검거율')\n",
    "describe_data(data, '검거율', returns = False)"
   ]
  },
  {
   "cell_type": "code",
   "execution_count": null,
   "id": "e00a63b6-0bef-4034-908d-27f4d4ef18db",
   "metadata": {},
   "outputs": [],
   "source": []
  }
 ],
 "metadata": {
  "kernelspec": {
   "display_name": "Python 3 (ipykernel)",
   "language": "python",
   "name": "python3"
  },
  "language_info": {
   "codemirror_mode": {
    "name": "ipython",
    "version": 3
   },
   "file_extension": ".py",
   "mimetype": "text/x-python",
   "name": "python",
   "nbconvert_exporter": "python",
   "pygments_lexer": "ipython3",
   "version": "3.9.11"
  },
  "toc": {
   "base_numbering": 1,
   "nav_menu": {},
   "number_sections": true,
   "sideBar": false,
   "skip_h1_title": false,
   "title_cell": "Table of Contents",
   "title_sidebar": "Contents",
   "toc_cell": false,
   "toc_position": {
    "height": "543.818px",
    "left": "21px",
    "top": "110.318px",
    "width": "222.409px"
   },
   "toc_section_display": true,
   "toc_window_display": true
  }
 },
 "nbformat": 4,
 "nbformat_minor": 5
}
