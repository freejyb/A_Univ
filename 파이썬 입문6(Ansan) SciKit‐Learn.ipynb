{
 "cells": [
  {
   "cell_type": "markdown",
   "id": "adee0784",
   "metadata": {},
   "source": [
    "## SciKit‐Learn\n",
    "#### https://scikit-learn.org/stable/tutorial/index.html"
   ]
  },
  {
   "cell_type": "code",
   "execution_count": 2,
   "id": "33445cbf",
   "metadata": {},
   "outputs": [],
   "source": [
    "# 머신러닝 알고리즘\n",
    "# classification, regression, clustering\n",
    "# 모형평가(model assessment) 등.\n",
    "# NumPy, SciPy, matplotlib기반으로 빌드"
   ]
  },
  {
   "cell_type": "code",
   "execution_count": null,
   "id": "e53731bf",
   "metadata": {},
   "outputs": [],
   "source": []
  }
 ],
 "metadata": {
  "kernelspec": {
   "display_name": "Python 3 (ipykernel)",
   "language": "python",
   "name": "python3"
  },
  "language_info": {
   "codemirror_mode": {
    "name": "ipython",
    "version": 3
   },
   "file_extension": ".py",
   "mimetype": "text/x-python",
   "name": "python",
   "nbconvert_exporter": "python",
   "pygments_lexer": "ipython3",
   "version": "3.9.6"
  }
 },
 "nbformat": 4,
 "nbformat_minor": 5
}
